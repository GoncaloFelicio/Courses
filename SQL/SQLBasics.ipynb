{
 "cells": [
  {
   "cell_type": "markdown",
   "id": "20affb6c-e778-4e97-bb5d-6bd3bc8e3f64",
   "metadata": {},
   "source": [
    "# Notes on SQL - Basic"
   ]
  },
  {
   "cell_type": "markdown",
   "id": "23ee3dc8-f58e-496c-9316-52959e8489eb",
   "metadata": {},
   "source": [
    "## Examples for reference, tips, Best Practices\n",
    "\n",
    "Based on the Courses: Introduction to SQL at Pluralsight\n",
    "\n",
    "Author: Gonçalo Felício  \n",
    "Date: 03/2022  \n",
    "Provided by: ISIWAY\n",
    "\n",
    "Something like a pocketbook to come to for quick references, examples, and tips of best practices, compiled with my own preferences.  \n",
    "Loosely divided by subject, and with some degree, by the respective modules.\n"
   ]
  },
  {
   "cell_type": "markdown",
   "id": "cb6041ce-d5fe-4cb3-bdf3-67b1ccced3f0",
   "metadata": {},
   "source": [
    "### Introduction"
   ]
  },
  {
   "cell_type": "markdown",
   "id": "fec6f457-1f4c-4d86-a71c-925fec6d8368",
   "metadata": {},
   "source": [
    "SQL is a declarative language ('translates' questions) used to manipulate sets of data from a relational database (a database that describes data and relations between data).  \n",
    "The point of SQL is to allow us to answer questions we make to the database.  \n",
    "Database design is very important because of this. Tables should be setup in a way that lets us ask the questions we need (normalized). This translates into having key columns equal between tables that relate the tables. In a general way, columns should be fixed, and rows incremented when new data is added."
   ]
  },
  {
   "cell_type": "markdown",
   "id": "737edab3-b086-47fa-a209-ba23c57b662c",
   "metadata": {},
   "source": [
    "### Basic Commands - CRUD\n",
    "Create (insert), Read (select), Update (update), Delete (delete)"
   ]
  },
  {
   "cell_type": "markdown",
   "id": "f08baa54-37c0-45fb-8e74-f3bcf7c31d2a",
   "metadata": {},
   "source": [
    "#### Insert Into \n",
    "add one or more rows into a __single tabel__  \n",
    "We don't need to specify the column with the primary key values, it automaticaly adds these values.  \n",
    "We also don't want our primary key column to have any meaningful data, only generic generated unique values."
   ]
  },
  {
   "cell_type": "code",
   "execution_count": null,
   "id": "e62fb700-7ce4-47fc-8c93-f603769b7b33",
   "metadata": {},
   "outputs": [],
   "source": [
    "\"\"\"\n",
    "    INSERT INTO table_name \n",
    "        (\n",
    "        column_name1, \n",
    "        column_name2,\n",
    "        column_name3\n",
    "        ) \n",
    "        VALUES \n",
    "        (\n",
    "        row1value1, \n",
    "        row1value2,\n",
    "        row1value3\n",
    "        ),\n",
    "        (\n",
    "        row2value1, \n",
    "        row2value2,\n",
    "        row2value3\n",
    "        );\n",
    "\"\"\""
   ]
  },
  {
   "cell_type": "markdown",
   "id": "20341d09-0ef3-4e82-9b10-c8a332f3f967",
   "metadata": {},
   "source": [
    "When inserting data the order doens't matter as long as it matches betwwen column list and values list.  \n",
    "The data in the values must also match the table definitions. Can't add a NULL to a non-nullable column.  \n",
    "We can also insert several rows in 2 ways. By using multiple values in the `VALUES` clause (seen above), or with a `SELECT` statement (seen below).  \n",
    "Naturally, the second table values must match the first table definitions."
   ]
  },
  {
   "cell_type": "code",
   "execution_count": null,
   "id": "e3a61679-6a62-485a-a387-ffd84aee0b1a",
   "metadata": {},
   "outputs": [],
   "source": [
    "\"\"\"\n",
    "    INSERT INTO table_name t\n",
    "        SELECT \n",
    "        *\n",
    "        FROM table_name2 t2\n",
    "        WHERE t2.keycolumn > 1;\n",
    "\"\"\""
   ]
  },
  {
   "cell_type": "markdown",
   "id": "5ed869cd-b634-429a-82b4-90cc16afc549",
   "metadata": {},
   "source": [
    "#### Select \n",
    "retrives one or more columns from one or more tables"
   ]
  },
  {
   "cell_type": "code",
   "execution_count": 1,
   "id": "49974061-77a6-42bd-ba98-425b7118f299",
   "metadata": {
    "collapsed": true,
    "jupyter": {
     "outputs_hidden": true
    },
    "tags": []
   },
   "outputs": [
    {
     "data": {
      "text/plain": [
       "'\\n    SELECT row1, row2, row3, etc \\n    FROM table_name\\n\\n'"
      ]
     },
     "execution_count": 1,
     "metadata": {},
     "output_type": "execute_result"
    }
   ],
   "source": [
    "\"\"\"\n",
    "    SELECT col1, col2, col3, etc \n",
    "    FROM table_name;\n",
    "\"\"\""
   ]
  },
  {
   "cell_type": "markdown",
   "id": "859854e6-4db4-4765-98c4-59553f8b072d",
   "metadata": {},
   "source": [
    "The column list is also called the 'Select list'.  \n",
    "Can use the `DISTINCT` command with `SELECT` to choose only unique values in the related column.\n",
    "Should always table qualify the column names on the select list and can also shorten these with aliases through the `AS` command, and in the `FROM` command."
   ]
  },
  {
   "cell_type": "code",
   "execution_count": null,
   "id": "c2f2b368-3121-41a8-a187-9023872e3b8d",
   "metadata": {},
   "outputs": [],
   "source": [
    "\"\"\"\n",
    "    SELECT DISTINCT t.col1, t.col2, t.col3 AS newcol1, newcol2, newcol3 \n",
    "    FROM table_name t;\n",
    "\"\"\""
   ]
  },
  {
   "cell_type": "markdown",
   "id": "8b3cbad1-5732-44a0-be43-1744cd4c77ef",
   "metadata": {},
   "source": [
    "We can also use `SELECT *` to choose all the columns in a table, this is a bad practice by itself, but very good to use in nested queries.  \n",
    "We should always specify the columns we want to see. Ex: in the innermost SELECT clause of a neste query type."
   ]
  },
  {
   "cell_type": "markdown",
   "id": "76170b01-d859-45a4-944c-380fae71be44",
   "metadata": {},
   "source": [
    "#### Update\n",
    "modifies one or more rows in a __single table__.  \n",
    "It's good to use a `WHERE` clause with the key values to specify which rows are we updating.  \n",
    "Otherwise the whole column is updated to `rowvalue`"
   ]
  },
  {
   "cell_type": "markdown",
   "id": "4bdf937d-7917-43a2-8c46-8edac0211ee2",
   "metadata": {},
   "source": [
    "Tip: start with the WHERE clause first"
   ]
  },
  {
   "cell_type": "code",
   "execution_count": null,
   "id": "8014a154-0feb-4046-b9cf-87d1887c3f50",
   "metadata": {},
   "outputs": [],
   "source": [
    "\"\"\"\n",
    "    UPDATE table_name\n",
    "        SET \n",
    "            column_name1 = rowvalue1,\n",
    "            column_name2 = rowvalue2,\n",
    "        WHERE keycolumn = 1;\n",
    "\"\"\""
   ]
  },
  {
   "cell_type": "markdown",
   "id": "37fd4519-50fd-481c-9561-3d499e17e8a3",
   "metadata": {},
   "source": [
    "#### Delete From \n",
    "deletes one or more rows from a __single table__ permenantly.  \n",
    "Also good practice to use a Where command to specify rows, otherwise all the rows are deleted.\n",
    "\n",
    "Tip: start with the where clause"
   ]
  },
  {
   "cell_type": "code",
   "execution_count": null,
   "id": "256f4563-e8a1-46fc-a6df-17eda2455ed8",
   "metadata": {},
   "outputs": [],
   "source": [
    "\"\"\"\n",
    "    DELETE FROM table_name\n",
    "        WHERE keycolumn > 10;\n",
    "\"\"\""
   ]
  },
  {
   "cell_type": "markdown",
   "id": "502f4cf4-b477-489f-9bd3-857b60ea506a",
   "metadata": {},
   "source": [
    "#### Where\n",
    "filter the rows with a boolean expression. Naturally can increase complexity of the expression with logical commands such as `AND` and `OR`.  \n",
    "Tip: `<>` is not equal to"
   ]
  },
  {
   "cell_type": "code",
   "execution_count": null,
   "id": "bb89e9c0-6c4d-43a9-b8c9-04bd9f9c0359",
   "metadata": {},
   "outputs": [],
   "source": [
    "\"\"\"\n",
    "    SELECT \n",
    "        DISTINCT t.col1, t.col2, t.col3 \n",
    "        AS newcol1, newcol2, newcol3 \n",
    "    FROM \n",
    "        table_name t\n",
    "    WHERE \n",
    "        newcol1 = 'value1' AND \n",
    "        t.col4 = 'value4';\n",
    "\"\"\""
   ]
  },
  {
   "cell_type": "markdown",
   "id": "54286d73-b802-4282-af52-a8f4f5ba130c",
   "metadata": {},
   "source": [
    "Alongside `WHERE` we can also use other commands such as:  \n",
    "\n",
    "#### Between\n",
    "inclusive range of values"
   ]
  },
  {
   "cell_type": "code",
   "execution_count": null,
   "id": "e69d4a4c-05b6-4aad-ae94-5f9adfef54a1",
   "metadata": {},
   "outputs": [],
   "source": [
    "\"\"\"\n",
    "    SELECT \n",
    "        DISTINCT t.col1, t.col2, t.col3 \n",
    "        AS newcol1, newcol2, newcol3 \n",
    "    FROM \n",
    "        table_name t\n",
    "    WHERE \n",
    "        newcol1 BETWEEN 1 AND 20;\n",
    "\"\"\""
   ]
  },
  {
   "cell_type": "markdown",
   "id": "df68d5ed-4572-4db4-889e-c32da205dbc2",
   "metadata": {},
   "source": [
    "#### Like\n",
    "find in string specific characters - using the wildcard symbol `%`"
   ]
  },
  {
   "cell_type": "code",
   "execution_count": null,
   "id": "0787870c-653a-41e6-a7d2-f97eac7d8443",
   "metadata": {},
   "outputs": [],
   "source": [
    "\"\"\"\n",
    "    SELECT \n",
    "        DISTINCT t.col1, t.col2, t.col3 \n",
    "        AS newcol1, newcol2, newcol3 \n",
    "    FROM \n",
    "        table_name t\n",
    "    WHERE \n",
    "        newcol2 LIKE '%domestic%';\n",
    "\"\"\""
   ]
  },
  {
   "cell_type": "markdown",
   "id": "ba350218-e86f-48d4-b207-6d25595465b8",
   "metadata": {},
   "source": [
    "#### In\n",
    "a boolean value that checks for belonging in a set. Returns rows where the expression is true.  \n",
    "Also works with the reverse `Not in`."
   ]
  },
  {
   "cell_type": "code",
   "execution_count": 2,
   "id": "2860cd6b-affc-46b0-9f58-1b90c1f0cedf",
   "metadata": {
    "collapsed": true,
    "jupyter": {
     "outputs_hidden": true
    },
    "tags": []
   },
   "outputs": [
    {
     "data": {
      "text/plain": [
       "\"\\n    SELECT \\n        DISTINCT t.col1, t.col2, t.col3 \\n        AS newcol1, newcol2, newcol3 \\n    FROM \\n        table_name t\\n    WHERE newcol2 \\n    IN ('val1','val2');\\n\""
      ]
     },
     "execution_count": 2,
     "metadata": {},
     "output_type": "execute_result"
    }
   ],
   "source": [
    "\"\"\"\n",
    "    SELECT \n",
    "        DISTINCT t.col1, t.col2, t.col3 \n",
    "        AS newcol1, newcol2, newcol3 \n",
    "    FROM \n",
    "        table_name t\n",
    "    WHERE newcol2 \n",
    "    IN ('val1','val2');\n",
    "\"\"\""
   ]
  },
  {
   "cell_type": "markdown",
   "id": "1a7be550-d646-4af2-a1d8-5d82e4499760",
   "metadata": {},
   "source": [
    "Can also use a subquery as the expression inside the IN clause.  \n",
    "Here query lists departments' id and name if they have a sale greater than 98"
   ]
  },
  {
   "cell_type": "code",
   "execution_count": null,
   "id": "d8fa113b-d1a7-40ea-abf2-1c07425461a6",
   "metadata": {},
   "outputs": [],
   "source": [
    "\"\"\"\n",
    "\n",
    "SELECT\n",
    "  d.id,\n",
    "  d.name\n",
    "FROM departments d\n",
    "WHERE id IN (SELECT department_id\n",
    "            FROM sales\n",
    "            WHERE price > 98)\n",
    "\"\"\""
   ]
  },
  {
   "cell_type": "markdown",
   "id": "94442055-bf3c-4c1d-b31a-04082ff34891",
   "metadata": {},
   "source": [
    "#### Is null/ is not null\n",
    "An equality operator for null values - returns rows with null values, or the reverse."
   ]
  },
  {
   "cell_type": "code",
   "execution_count": null,
   "id": "9f3e2449-3459-43ab-a9ef-8a243c9da884",
   "metadata": {},
   "outputs": [],
   "source": [
    "\"\"\"\n",
    "    SELECT \n",
    "        DISTINCT t.col1, t.col2, t.col3 \n",
    "        AS newcol1, newcol2, newcol3 \n",
    "    FROM \n",
    "        table_name t\n",
    "    WHERE newcol2 \n",
    "    IS NULL;\n",
    "\"\"\""
   ]
  },
  {
   "cell_type": "markdown",
   "id": "b8a08f3e-9738-4cf8-9499-c7960265cb1f",
   "metadata": {},
   "source": [
    "#### Order by\n",
    "Order the rows by the values in a column, eith ascending or descending.  \n",
    "Works with numbers and strings (alphabetic order)."
   ]
  },
  {
   "cell_type": "code",
   "execution_count": 3,
   "id": "1d5fb98c-98db-4ab3-bc7c-93f8e0192504",
   "metadata": {
    "collapsed": true,
    "jupyter": {
     "outputs_hidden": true
    },
    "tags": []
   },
   "outputs": [
    {
     "data": {
      "text/plain": [
       "'\\n    SELECT \\n        t.col1, t.col2, t.col3 \\n        AS newcol1, newcol2, newcol3 \\n    FROM \\n        table_name t\\n    ORDER BY newcol1 DESC\\n'"
      ]
     },
     "execution_count": 3,
     "metadata": {},
     "output_type": "execute_result"
    }
   ],
   "source": [
    "\"\"\"\n",
    "    SELECT \n",
    "        t.col1, t.col2, t.col3 \n",
    "        AS newcol1, newcol2, newcol3 \n",
    "    FROM \n",
    "        table_name t\n",
    "    ORDER BY newcol1 DESC;\n",
    "\"\"\""
   ]
  },
  {
   "cell_type": "markdown",
   "id": "5636dd3c-613d-434d-890f-c77f66db7a89",
   "metadata": {},
   "source": [
    "#### Set functions\n",
    "Often used with order by these are aggregate functions that return single values.  \n",
    "`COUNT()`,`MAX`,`MIN`,`SUM`,`AVG` all very self explanatory.  \n",
    "Count is most common as it counts the number of values in a column, very useful when grouping rows.  \n",
    "Tip: use with `DISTINCT` to count unique values in a group."
   ]
  },
  {
   "cell_type": "markdown",
   "id": "ec9c4303-9ed6-4ad2-8aba-963817c2ab27",
   "metadata": {},
   "source": [
    "#### COUNT"
   ]
  },
  {
   "cell_type": "code",
   "execution_count": null,
   "id": "c3e616be-c203-44bd-9f18-9ca8d7948c89",
   "metadata": {},
   "outputs": [],
   "source": [
    "\"\"\"\n",
    "    SELECT \n",
    "        t.col1, t.col2, COUNT(DISTINCT t.col3) \n",
    "        AS newcol1, newcol2, newcol3Count \n",
    "    FROM \n",
    "        table_name t\n",
    "    ORDER BY newcol3Count DESC;\n",
    "\"\"\""
   ]
  },
  {
   "cell_type": "markdown",
   "id": "097fc2e4-4124-4cab-b855-fe0738bd8efc",
   "metadata": {},
   "source": [
    "We can add a Conditional Set function with the use of CASE statements. For Count use Null, for SUM use 0."
   ]
  },
  {
   "cell_type": "code",
   "execution_count": null,
   "id": "58878eb1-1381-42b7-af6f-cd2bce5e2118",
   "metadata": {},
   "outputs": [],
   "source": [
    "\"\"\"\n",
    "SELECT\n",
    "  EXTRACT (MONTH FROM p.payment_date) as month,\n",
    "  COUNT(p.payment_id) as total_count,\n",
    "  SUM(p.amount) as total_amount,\n",
    "  COUNT(CASE \n",
    "        WHEN p.staff_id = 1 THEN p.payment_id else NULL END) as mike_count,\n",
    "  SUM(CASE \n",
    "      WHEN p.staff_id = 1 THEN p.amount else 0 END) as mike_amount,\n",
    "  COUNT(CASE \n",
    "        WHEN p.staff_id = 2 THEN p.payment_id else NULL END)  as jon_count,\n",
    "  SUM(CASE\n",
    "      WHEN p.staff_id = 2 THEN p.amount else 0 END) as jon_amount\n",
    "FROM payment p\n",
    "GROUP BY month\n",
    "ORDER BY month\n",
    ";\"\"\""
   ]
  },
  {
   "cell_type": "markdown",
   "id": "d57b98ff-6cf1-403d-a04b-d4cc1ca855ba",
   "metadata": {},
   "source": [
    "#### SUM"
   ]
  },
  {
   "cell_type": "markdown",
   "id": "6feada6b-f054-40b1-914f-df93d604e743",
   "metadata": {},
   "source": [
    "We can sum values in a column and even use OVER (ORDER BY..) to get a cumulative SUM.  \n",
    "Here we show a date, the number of counts of that date, and a cumulative sum of the counts, over all dates, ordered, meaning consecutively."
   ]
  },
  {
   "cell_type": "code",
   "execution_count": null,
   "id": "894d4f06-c99f-48b4-92d2-d776e27dc9b8",
   "metadata": {},
   "outputs": [],
   "source": [
    "\"\"\"\n",
    "SELECT \n",
    "  date, \n",
    "  count(date) as count, \n",
    "  CAST(SUM(count(date)) OVER (ORDER BY date) as integer) as total\n",
    "\n",
    "FROM(SELECT \n",
    "         CAST(created_at as date) as date \n",
    "     FROM posts) as cte\n",
    "GROUP BY date;\n",
    "\"\"\""
   ]
  },
  {
   "cell_type": "markdown",
   "id": "9f70ab18-c522-42cf-ac4f-604221d4787d",
   "metadata": {},
   "source": [
    "#### MIN, MAX AND MEDIAN\n",
    "If there is no median function, use expression below."
   ]
  },
  {
   "cell_type": "code",
   "execution_count": null,
   "id": "5fd6ef3b-6832-4651-9c99-3137c0e11c67",
   "metadata": {},
   "outputs": [],
   "source": [
    "\"\"\"\n",
    "SELECT\n",
    "  MIN(r.score) as min,\n",
    "  ROUND(PERCENTILE_CONT(0.50) WITHIN GROUP (ORDER BY score)::numeric, 2)::float as median,\n",
    "  MAX(r.score) as max\n",
    "\n",
    "FROM result r\n",
    "\"\"\""
   ]
  },
  {
   "cell_type": "markdown",
   "id": "c37f4290-a3cc-4e7d-9451-207cc9f57014",
   "metadata": {},
   "source": [
    "#### Group by\n",
    "aggregates values in a column with equal value.  \n",
    "Often used with `ORDER BY` and `HAVING`, that act on the groups.  \n",
    "`HAVING` is the same as `WHERE` but for groups."
   ]
  },
  {
   "cell_type": "code",
   "execution_count": null,
   "id": "0f0c8afb-7169-4272-a675-e609edbccc1a",
   "metadata": {},
   "outputs": [],
   "source": [
    "\"\"\"\n",
    "    SELECT \n",
    "        t.col1, t.col2, COUNT(t.col3), t.col3\n",
    "        AS newcol1, newcol2, newcol3Count \n",
    "    FROM \n",
    "        table_name t\n",
    "    GROUP BY t.col3\n",
    "    HAVING newcol3Count > 1\n",
    "\"\"\""
   ]
  },
  {
   "cell_type": "markdown",
   "id": "994dbc30-d4e2-4ea9-abe0-bca51c7b2cda",
   "metadata": {},
   "source": [
    "### Join Clauses"
   ]
  },
  {
   "cell_type": "markdown",
   "id": "de724ef7-3819-430a-880a-8509bf3b71b3",
   "metadata": {},
   "source": [
    "Join clauses allow us to join one or more tables by a key argument equal in both tables.  \n",
    "There are a few different Join types, which to use depends on the necessity.  \n",
    "Can also do multiple joins, see https://www.sqlshack.com/sql-multiple-joins-for-beginners-with-examples/"
   ]
  },
  {
   "cell_type": "markdown",
   "id": "f97cc2f3-aceb-4db5-91eb-20bffb642244",
   "metadata": {},
   "source": [
    "#### Inner Join\n",
    "Most used, returns rows that have matching values between the tables. Does not return NULL values."
   ]
  },
  {
   "cell_type": "code",
   "execution_count": null,
   "id": "6ad851a6-771f-4dbb-a941-9b3162d262a2",
   "metadata": {},
   "outputs": [],
   "source": [
    "\"\"\"\n",
    "    SELECT \n",
    "        t.col1, t.col2, t2.col1\n",
    "    FROM \n",
    "        table_name t\n",
    "    INNER JOIN table_name t2\n",
    "    ON t.col1 = t2.col1\n",
    "\"\"\""
   ]
  },
  {
   "cell_type": "markdown",
   "id": "c1ea0a63-25ed-4c7c-933f-cb17b6f9d20d",
   "metadata": {},
   "source": [
    "#### Left/Right Outer Join\n",
    "Can handle null values. Will return all the rows in the left-hand table, and those without matches from right-hand table are set to NULL.  \n",
    "The left-hand table is the one in the FROM statement."
   ]
  },
  {
   "cell_type": "code",
   "execution_count": null,
   "id": "cf714ada-2d0c-42bb-93ff-dab75d1d281f",
   "metadata": {},
   "outputs": [],
   "source": [
    "\"\"\"\n",
    "    SELECT \n",
    "        t.col1, t.col2, t2.col1\n",
    "    FROM \n",
    "        table_name t\n",
    "    LETFT OUTER JOIN table_name t2\n",
    "    ON t.col1 = t2.col1\n",
    "\"\"\""
   ]
  },
  {
   "cell_type": "markdown",
   "id": "7600b9ef-e968-4eda-9e88-475c4b59696b",
   "metadata": {},
   "source": [
    "#### Self Join\n",
    "Join a table to itself. This is useful when a table contains hierarchical data and we can relate columns to each other in a join statement.  \n",
    "Use the same table on left and right side."
   ]
  },
  {
   "cell_type": "markdown",
   "id": "cab0b8b5-54a1-46ca-a0a2-93014938432a",
   "metadata": {},
   "source": [
    "#### RANK\n",
    "It's common to RANK with joins. This is, rank the rows by some descriptor. Can do it like this:  \n",
    "Here we list id, name and count of sales, and a rank column, also by count of sales. Could also use Partition by to rank several groups as once. In this case, we use id, but that is a primary key, so doesnt change anything."
   ]
  },
  {
   "cell_type": "code",
   "execution_count": null,
   "id": "794b2c52-0522-424d-89bf-61a40c40e8f4",
   "metadata": {},
   "outputs": [],
   "source": [
    "\"\"\"\n",
    "SELECT\n",
    "  p.id,\n",
    "  p.name,\n",
    "  COUNT(s.sale) as sale_count,\n",
    "  RANK () OVER (PARTITION BY p.id ORDER BY COUNT(s.sale) DESC) as sale_rank\n",
    "FROM people p\n",
    "  INNER JOIN sales s\n",
    "  on p.id = s.people_id\n",
    "GROUP BY p.id\n",
    ";\n",
    "\"\"\""
   ]
  },
  {
   "cell_type": "markdown",
   "id": "dff22899-17a3-4bd8-bda8-3c4b91c23ac3",
   "metadata": {},
   "source": [
    "## Creating Database and Tables"
   ]
  },
  {
   "cell_type": "markdown",
   "id": "e8e8aa68-39a6-43a0-a082-15ff2088dc85",
   "metadata": {},
   "source": [
    "#### Create Database\n",
    "creates a new database. We can only have databases with unique names in the same server instance.  \n",
    "Curiosity - this command is not part of the SQL standard."
   ]
  },
  {
   "cell_type": "code",
   "execution_count": 5,
   "id": "4b2203b0-fd07-4eb6-a1cb-af92d649967c",
   "metadata": {
    "collapsed": true,
    "jupyter": {
     "outputs_hidden": true
    },
    "tags": []
   },
   "outputs": [
    {
     "data": {
      "text/plain": [
       "'\\nCREATE DATABASE database_name;\\n'"
      ]
     },
     "execution_count": 5,
     "metadata": {},
     "output_type": "execute_result"
    }
   ],
   "source": [
    "\"\"\"\n",
    "CREATE DATABASE database_name;\n",
    "\"\"\""
   ]
  },
  {
   "cell_type": "markdown",
   "id": "e97dbc01-c5c8-430f-be6b-034e9106a362",
   "metadata": {},
   "source": [
    "#### Create Table\n",
    "creates a new table. Must also have a unique name in the database, but can have the same name as other tables in other databases.\n",
    "When creating a database, be careful with choosing the space alocated to the table. Plan for the future, better to have excess space than to change the database after creation.  \n",
    "At this step we specify the column name, the type of data, and wether the column is nullable or not (default is nullable).  \n",
    "Defining the datatype of columns is one of the most important steps, take care!\n",
    "\n",
    "Tip: if you have a foreign key collumn (a column key that refers to other tables), make sure it is nullable."
   ]
  },
  {
   "cell_type": "code",
   "execution_count": null,
   "id": "6825c9d8-5a57-450a-98e8-11f54dbd17b7",
   "metadata": {},
   "outputs": [],
   "source": [
    "\"\"\"\n",
    "CREATE TABLE table_name\n",
    "(\n",
    "    column_name1 INTEGER NOT NULL,\n",
    "    column_name2 VARCHAR(256),\n",
    "    column_name3 DATE,\n",
    "    column_name4 TIME,\n",
    "    column_name5 TIMESTAMP,\n",
    "    column_name6 BOOLEAN NOT NULL,\n",
    "    column_name7 BINARY NOT NULL,\n",
    "    column_name7 FLOAT NOT NULL,\n",
    ");\n",
    "\"\"\""
   ]
  },
  {
   "cell_type": "markdown",
   "id": "06c7a550-2ac3-46eb-bb80-1d6903fa7158",
   "metadata": {},
   "source": [
    "#### Primary keys and Foreign Keys\n",
    "key columns are columns that we can use to refer to the rows.  \n",
    "They do not have significant data and have unique values. The primary key must always be NOT NULL. \n",
    "We can also declare these definitions with a `CONSTRAINT` statement.\n",
    "\n",
    "Tip: always declare the constraints as the last step in table creation."
   ]
  },
  {
   "cell_type": "code",
   "execution_count": null,
   "id": "bce695b8-0920-4197-aecb-d7fb87e8bc14",
   "metadata": {},
   "outputs": [],
   "source": [
    "\"\"\"\n",
    "CREATE TABLE table_name\n",
    "(\n",
    "    column_name1 INTEGER NOT NULL,\n",
    "    column_name2 VARCHAR(256),\n",
    "    column_name3 DATE,\n",
    "    column_name4 TIME,\n",
    "    column_name5 TIMESTAMP,\n",
    "    column_name6 BOOLEAN NOT NULL,\n",
    "    column_name7 BINARY NOT NULL,\n",
    "\n",
    "    CONSTRAINT PK_table_name # name of the constraint, standard for primary key declaration\n",
    "    PRIMARY KEY (column_name1)\n",
    ");\n",
    "\"\"\""
   ]
  },
  {
   "cell_type": "markdown",
   "id": "6ae07e23-cd81-46b7-b8d9-6d91a6463899",
   "metadata": {},
   "source": [
    "#### Alter Table\n",
    "changes an existing table.  \n",
    "Can add/remove columns, change data type, change constraints. Naturally, the changes must match the current table in the database."
   ]
  },
  {
   "cell_type": "code",
   "execution_count": null,
   "id": "987d7c0c-f290-45ac-941c-8024c1a1b443",
   "metadata": {},
   "outputs": [],
   "source": [
    "\"\"\"\n",
    "ALTER TABLE table_name2\n",
    "(\n",
    "    column_name2 INTEGER NULL,\n",
    "    column_name3 DATE NOT NULL,\n",
    "   \n",
    "    ADD CONSTRAINT FK_table_name2 # name of the constraint, standard for foreign key declaration\n",
    "    FOREIGN KEY (column_name2)\n",
    "    REFERENCES table_name (column_name1) # table and column that are referenced to this FK\n",
    ");\n",
    "\"\"\""
   ]
  },
  {
   "cell_type": "markdown",
   "id": "8f283df7-f202-4294-b245-e87b975a234b",
   "metadata": {},
   "source": [
    "#### Drop table\n",
    "permanently deletes an existing table. BE CAREFUL! removes all the data and the table.\n",
    "If there is a foreing key to another table, raises an ERROR. We need to delete that table first.\n",
    "\n",
    "Tip: comment out the Drop table statement and, to run it, highlight and execute just the command"
   ]
  },
  {
   "cell_type": "code",
   "execution_count": 6,
   "id": "b87ba155-4d21-4ef7-b9aa-eee36fb51813",
   "metadata": {
    "collapsed": true,
    "jupyter": {
     "outputs_hidden": true
    },
    "tags": []
   },
   "outputs": [
    {
     "data": {
      "text/plain": [
       "'\\nDROP TABLE table_name;\\n'"
      ]
     },
     "execution_count": 6,
     "metadata": {},
     "output_type": "execute_result"
    }
   ],
   "source": [
    "\"\"\"\n",
    "DROP TABLE table_name;\n",
    "\"\"\""
   ]
  },
  {
   "cell_type": "markdown",
   "id": "bb3c54c9-8ef5-4e59-9f29-85ee0181a534",
   "metadata": {},
   "source": [
    "#### CASE..When..Then..Else..End\n",
    "Case statements allow for conditional results. Can be used in SELECT statements or any other case where we are choosing a column to operate on and want a condition to affect it."
   ]
  },
  {
   "cell_type": "markdown",
   "id": "2e9248f9-14c0-4076-aa31-12dea3bed6c8",
   "metadata": {},
   "source": [
    "This examples uses two tables with number of heads, arms, legs and tails, and creates a new column of species based on conditions."
   ]
  },
  {
   "cell_type": "code",
   "execution_count": null,
   "id": "a9509def-5ba7-4a4f-ad01-81ec155813d3",
   "metadata": {},
   "outputs": [],
   "source": [
    "\"\"\"\n",
    "SELECT\n",
    "  th.id,\n",
    "  th.heads,\n",
    "  bh.legs,\n",
    "  th.arms,\n",
    "  bh.tails,\n",
    "  CASE\n",
    "    WHEN th.heads > th.arms THEN 'BEAST'\n",
    "    WHEN bh.tails > bh.legs THEN 'BEAST'\n",
    "    ELSE 'WEIRDO'\n",
    "  END as species\n",
    "FROM top_half as th\n",
    "INNER JOIN bottom_half as bh\n",
    "  on th.id = bh.id\n",
    "ORDER BY species\n",
    ";\n",
    "\"\"\""
   ]
  },
  {
   "cell_type": "markdown",
   "id": "e933aae7-f86b-44c0-9ded-3d8e39a1f56d",
   "metadata": {},
   "source": [
    "#### Union\n",
    "Union merges two tables by their rows. Naturally, the tables must have same number of columns and same data types.\n",
    "Union by default uses Distinct, to include duplicates between the tables must use `UNION ALL`"
   ]
  },
  {
   "cell_type": "code",
   "execution_count": 1,
   "id": "7af71552-fef0-49d9-9017-ac1059e8af41",
   "metadata": {
    "collapsed": true,
    "jupyter": {
     "outputs_hidden": true
    },
    "tags": []
   },
   "outputs": [
    {
     "data": {
      "text/plain": [
       "\"\\nSELECT City, Country FROM Customers\\nWHERE Country='Germany'\\nUNION ALL\\nSELECT City, Country FROM Suppliers\\nWHERE Country='Germany'\\nORDER BY City;\\n\""
      ]
     },
     "execution_count": 1,
     "metadata": {},
     "output_type": "execute_result"
    }
   ],
   "source": [
    "\"\"\"\n",
    "SELECT City, Country FROM Customers\n",
    "WHERE Country='Germany'\n",
    "UNION ALL\n",
    "SELECT City, Country FROM Suppliers\n",
    "WHERE Country='Germany'\n",
    "ORDER BY City;\n",
    "\"\"\""
   ]
  },
  {
   "cell_type": "markdown",
   "id": "88be55ed-403d-4964-9c95-62d061eb7fc3",
   "metadata": {},
   "source": [
    "#### Intersect\n",
    "Returns the common values between 2 tables (or the same table twice). Can add a WHERE statement to filter results. Must select columns with same data types to match.  \n",
    "Not as simple as it looks.  \n",
    "Here lists the film's names if the actor 105 and actor 102 both acted on the film."
   ]
  },
  {
   "cell_type": "code",
   "execution_count": null,
   "id": "8aadf19b-6cfa-4ef0-b139-e3b3556becde",
   "metadata": {},
   "outputs": [],
   "source": [
    "\"\"\"\n",
    "SELECT\n",
    "  F.title as title\n",
    "FROM (\n",
    "  SELECT F1.film_id\n",
    "  FROM film_actor F1\n",
    "  WHERE F1.actor_id = 105\n",
    "  INTERSECT\n",
    "  SELECT F2.film_id\n",
    "  FROM film_actor F2\n",
    "  WHERE F2.actor_id = 122) R, film F\n",
    "WHERE R.film_id = F.film_id\n",
    "ORDER BY title\n",
    "\"\"\""
   ]
  },
  {
   "cell_type": "markdown",
   "id": "500cd180-418c-44ef-b931-4e55066f6254",
   "metadata": {},
   "source": [
    "#### Exists\n",
    "Returns TRUE if a subquery returns one or more record.  \n",
    "Here lists id and name of table departments if those departments have a sale with price higher than 98."
   ]
  },
  {
   "cell_type": "code",
   "execution_count": null,
   "id": "d5539043-7ec1-4355-82a2-d643020bf3df",
   "metadata": {},
   "outputs": [],
   "source": [
    "\"\"\"\n",
    "SELECT \n",
    "  d.id,\n",
    "  d.name\n",
    "FROM departments d\n",
    "WHERE EXISTS(\n",
    "  SELECT s.name\n",
    "  FROM sales s\n",
    "  WHERE d.id = s.department_id\n",
    "  AND s.price > 98.00\n",
    ")\n",
    "\"\"\""
   ]
  }
 ],
 "metadata": {
  "kernelspec": {
   "display_name": "Python 3 (ipykernel)",
   "language": "python",
   "name": "python3"
  },
  "language_info": {
   "codemirror_mode": {
    "name": "ipython",
    "version": 3
   },
   "file_extension": ".py",
   "mimetype": "text/x-python",
   "name": "python",
   "nbconvert_exporter": "python",
   "pygments_lexer": "ipython3",
   "version": "3.9.12"
  }
 },
 "nbformat": 4,
 "nbformat_minor": 5
}
