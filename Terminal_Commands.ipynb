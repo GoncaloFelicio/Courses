{
 "cells": [
  {
   "cell_type": "markdown",
   "id": "08ebc55c-dd41-43c6-86d1-698353f5db8b",
   "metadata": {},
   "source": [
    "### Git "
   ]
  },
  {
   "cell_type": "markdown",
   "id": "d068713f-8bf9-4068-bcea-46d9006179ca",
   "metadata": {},
   "source": [
    "Never use this of any way, it can delete files from my directory and the repository :\n",
    "    \n",
    "    git rm\n",
    "\n",
    "Normal workflow before modifications:\n",
    "\t\n",
    "\tgit status\n",
    "\tgit pull\n",
    "\n",
    "Normal workflow of git after modifications:\n",
    "\t\n",
    "\tgit status\n",
    "\tgit add --all\n",
    "\tgit commit -m \"commit message\"\n",
    "\t(if error of user, try with user credentials of repo ->)\n",
    "        git config --global user.name \"Goncalo Felicio\"       \n",
    "\t\tgit config --global user.email goncalo.felicio@isiway.it\t\t\n",
    "\tgit push\t\n",
    "\n",
    "\n",
    "Clone repo and change branch:\n",
    "\n",
    "\tgit clone repo_url -b branch_name\n",
    "\t\t(if can't find branch try separate git clone and change to branch)\n",
    "\tgit fetch origin branch_name\n",
    "\tgit checkout branch_name\n",
    "        (to ignore changes in current branch)\n",
    "\tgit checkout -f branch_name \n",
    "    \n",
    "    git checkout <branch_name>\n",
    "    git pull\n",
    "(if 'There is no tracking information for the current branch')\n",
    "\n",
    "    git remote show origin\n",
    "    git branch --set-upstream-to=origin/<branch_name> <branch_name>\n",
    "    git pull\n",
    "    \n",
    "Force pull a repo:  \n",
    "(if having merging problems or diff versions, can save files i want to keep and force pull the current repo)\n",
    "\n",
    "    git fetch --all\n",
    "    git reset --hard origin/<branch-name>\n",
    "\n",
    "Merge branch to master:\n",
    "\n",
    "    git status (on branch)\n",
    "    git checkout master\n",
    "    git pull origin master\n",
    "    git merge feature-branch\n",
    "    \n",
    "(if there are merge conflicts, resolve them in the files directly)\n",
    "    \n",
    "    git add <resolved-file>\n",
    "    git commit\n",
    "\n",
    "finally)\n",
    "    \n",
    "    git push origin master"
   ]
  },
  {
   "cell_type": "markdown",
   "id": "356c6b2c-86a3-494e-8029-ecccd4bbdd19",
   "metadata": {},
   "source": [
    "### Kerberos "
   ]
  },
  {
   "cell_type": "markdown",
   "id": "5bc8a4cd-e5b9-49b5-a040-1b85b6fe5840",
   "metadata": {},
   "source": [
    "Creating a personl keytab:\n",
    "\n",
    "    Delete current keytab then run the following commands:\n",
    "\n",
    "    ktutil\n",
    "    ktutil:  addent -password -p g.felicio_ext@OCTO.LOCAL -k 1 -e aes256-cts\n",
    "    \n",
    "    Password [enter your password]\n",
    "    \n",
    "    ktutil:  wkt g_felicio_ext.keytab\n",
    "    \n",
    "    ktutil:  quit\n",
    " \n",
    "To use:\n",
    "    \n",
    "    kinit\n",
    "    (enter password)\n",
    "        or\n",
    "    kinit -k -t g_felicio_ext.keytab g.felicio_ext@OCTO.LOCAL\n",
    "\n",
    "To check if working:\n",
    "    \n",
    "    klist\t"
   ]
  },
  {
   "cell_type": "markdown",
   "id": "f6d21b75-ce98-4841-afea-b1b057ecb13d",
   "metadata": {},
   "source": [
    "### YARN and HDFS"
   ]
  },
  {
   "cell_type": "markdown",
   "id": "685411a1-9257-4c82-82fa-8197d6e01215",
   "metadata": {},
   "source": [
    "List and kill yarn apps running:\n",
    "\n",
    "    export HADOOP_USER_NAME=hdfs\n",
    "\tyarn application -list\n",
    "\tyarn application -kill <App ID>\n",
    "    \n",
    "Change HDFS permissions:\n",
    "\n",
    "For a group and many files:\n",
    "    \n",
    "    hdfs dfs -setfacl -m -R group:'group_name':rwx /'file_path'*.csv\n",
    "    \n",
    "for a user and folder:\n",
    "    \n",
    "    hdfs dfs -setfacl -R -m user:'user_name':rwx /'folder_path'"
   ]
  },
  {
   "cell_type": "markdown",
   "id": "b647e477",
   "metadata": {},
   "source": [
    "### PIP"
   ]
  },
  {
   "cell_type": "markdown",
   "id": "c322b2c0",
   "metadata": {},
   "source": [
    "Check Version of Package\n",
    "\n",
    "    pip show package_name\n",
    "\n",
    "List all packages installed and version\n",
    "\n",
    "    pip list\n",
    "\n",
    "Install new package using current user permissions\n",
    "\n",
    "    pip install package_name --user\n",
    "\n",
    "\n",
    "    "
   ]
  },
  {
   "cell_type": "markdown",
   "id": "af42565e",
   "metadata": {},
   "source": []
  }
 ],
 "metadata": {
  "kernelspec": {
   "display_name": "Python 3 (ipykernel)",
   "language": "python",
   "name": "python3"
  },
  "language_info": {
   "codemirror_mode": {
    "name": "ipython",
    "version": 3
   },
   "file_extension": ".py",
   "mimetype": "text/x-python",
   "name": "python",
   "nbconvert_exporter": "python",
   "pygments_lexer": "ipython3",
   "version": "3.9.12"
  }
 },
 "nbformat": 4,
 "nbformat_minor": 5
}
