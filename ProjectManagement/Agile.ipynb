{
 "cells": [
  {
   "cell_type": "markdown",
   "id": "3412962b-9463-42e1-b52e-109d4acf497d",
   "metadata": {},
   "source": [
    "# Notes on Project Management - Agile\n",
    "## Examples for reference, tips, Best Practices\n",
    "\n",
    "Based on the Courses: Agile Fundamentals at Pluralsight.\n",
    "\n",
    "Author: Gonçalo Felício  \n",
    "Date: 03/2022  \n",
    "Provided by: ISIWAY\n",
    "\n",
    "Something like a pocketbook to come to for quick references, examples, and tips of best practices, compiled with my own preferences  \n",
    "Loosely divided by subject, and with some degree, by the respective modules"
   ]
  },
  {
   "cell_type": "markdown",
   "id": "4d88852e-1dbe-4702-aa10-fb6140b44c2c",
   "metadata": {},
   "source": [
    "### Waterfall Method"
   ]
  },
  {
   "cell_type": "markdown",
   "id": "6b0ec821-8414-45ca-b9fa-447f4e440ae5",
   "metadata": {},
   "source": [
    "It's good to first understand the more traditional Waterfall method of project management, befor going into Agile.  \n",
    "\n",
    "The Waterfall method is a process in which each stage's output is the input of the next stage, hence the name, the workflow is meant to be one continuous line. We shouldn't proceed to the next stage until the current stage's deliverables and decisions are signed off.  \n",
    "\n",
    "The main stages of the Waterfall method are:\n",
    "\n",
    "- Requirements analysis. It's very  important to accurately describe all the requirements \n",
    "(the process does not take into account later changes)  -->  \n",
    "- System Desing  -->  \n",
    "- Implementation  -->  \n",
    "- Integration and Testing  -->  \n",
    "- Deployment  -->  \n",
    "- Maintenance"
   ]
  },
  {
   "cell_type": "markdown",
   "id": "87d8bee3-84dd-4d4b-9e17-6edd32f7a3e7",
   "metadata": {},
   "source": [
    "#### Pros:"
   ]
  },
  {
   "cell_type": "markdown",
   "id": "761d5d21",
   "metadata": {},
   "source": [
    "\n",
    "A clear and laid out process for the development process makes it very easy for the organization to handel __scheduling__ and __control__ of the project.  \n",
    "\n",
    "Works well for small projects and is easy to track progress at each stage and understand the milestones or OKR.  \n",
    "\n",
    "Clearly defined stages allows for clear roles definition and assigning.  \n",
    "\n",
    "This process fits very well in a GANTT chart and is easier to manage."
   ]
  },
  {
   "cell_type": "markdown",
   "id": "1e14766a",
   "metadata": {},
   "source": [
    "\n",
    "#### Cons:"
   ]
  },
  {
   "cell_type": "markdown",
   "id": "433167ef",
   "metadata": {},
   "source": [
    "\n",
    "There is __no working software__ until very late in the cycle. This means the end users don't interact with the product until it's too late to change it.  \n",
    "\n",
    "High risk and uncertainty for larger and longer projects, since there is a good chance for the requirements to change which forces the process to go back to earlier stages and loose progress.  \n",
    "\n",
    "Not good for volatile projects where changes are expected for the same reasons as it affects the predicted deadlines and can cause expensive costs or even the end of project"
   ]
  },
  {
   "cell_type": "markdown",
   "id": "f496751c-134a-43f6-80c9-306656ae1eec",
   "metadata": {},
   "source": [
    "#### Conclusion"
   ]
  },
  {
   "cell_type": "markdown",
   "id": "244a71cd-fe20-4a99-a1e7-7b3a8d6d1aa1",
   "metadata": {},
   "source": [
    "The Waterfall method is easy to implement and follow but only works with small projects where the requirements are well defined and fixed for the duration of the project."
   ]
  },
  {
   "cell_type": "markdown",
   "id": "a376db52-eeb6-43e4-9719-6b27f1af8de2",
   "metadata": {},
   "source": [
    "### Agile  "
   ]
  },
  {
   "cell_type": "markdown",
   "id": "5b1988d7-d9af-4060-9286-8f79d0e9db2e",
   "metadata": {},
   "source": [
    "The main  focus of Agile is the frequent delivery of working software in the form of business value  \n",
    "\n",
    "In a simple way, the objective is to make several deliveries of smaller chuncks of working sowftware, instead of an all-at-once delivery in the end of the project\n",
    "\n",
    "Agile is a way of thinking and specific methodologies have been developed with agile as their core  \n",
    "The most common are __Scrum__, __Extreme programming XP__, __Feature Drive Development FDD__, __Kanban__"
   ]
  },
  {
   "cell_type": "markdown",
   "id": "6736380f-978b-463c-a2d5-8089cd8be16e",
   "metadata": {},
   "source": [
    "#### Agile Manifesto\n",
    "The principles of the Agile thinking are:"
   ]
  },
  {
   "cell_type": "markdown",
   "id": "c3ef2587-e1ca-47c4-9bda-deb4f3ed1ad4",
   "metadata": {},
   "source": [
    "- Individuals and interaction over processes and tools  \n",
    "  Working applications are built by people and so good teamwork and communication is essential\n",
    "\n",
    "- Working Software over comprehensive documentation  \n",
    "  Documentation should be done as long as it fulfills its usefulness and does not affect functionality\n",
    "    \n",
    "- Customer collaboration over contract negotiation  \n",
    "Countinuous and close envolvement of the customer is crucial to trully answer their needs. (invite to stand-ups, demoing regularly and invite to design meetings)  \n",
    "\n",
    "- Responding to change over following a plan  \n",
    "Changes in requirements are common and should be expected. A flexible and adaptable plan accomodates for this and minimizes losses"
   ]
  },
  {
   "cell_type": "markdown",
   "id": "d111d840-9208-4827-b205-e10ca1634495",
   "metadata": {},
   "source": [
    "#### Common mistakes of new implementations"
   ]
  },
  {
   "cell_type": "markdown",
   "id": "b10fd13d",
   "metadata": {},
   "source": [
    "\n",
    "- Fear  \n",
    "Fear of a new methodology leads to bad decisions. Combat this with trust. Allow the team to miss and understand mistakes, so that successes can follow.\n",
    "\n",
    "- Poor communication. Team members should talk to eachother everyday.  \n",
    "Use stand-up meetings (each member stand up and talks) to convey the work of yesterday, work planned for today, and what issues may prevent it.\n",
    "- Poor team structure.  \n",
    "Teams should have all the necessary cross-functional skills and members are learning from eachother.  \n",
    "- Poor estimation.    \n",
    "Don't use work hours as estimation for size of work. Use abstract values such as colors or t-shirt values (shoe size?).  \n",
    "- Poor planning.  \n",
    "Spend 20% of work hours in planning tasks, such as scheduling back log prep, daily stand up, iteration sprint planning and release planning meetings. Make it consistent to foster habits.\n",
    "- Poor testing.  \n",
    "Deliver software fast, but with quality, test often and asap.\n",
    "-  Ignoring customer feedback.  \n",
    "Check the feedback of customer every iteration to avoid building something that doesn't meet customers needs.\n",
    "-  Lack of empowerement. Give and take power.  \n",
    "The team makes decisions that impact commitments. Return feedback to the organization when you think it's needed.\n",
    "- Lack of retrospective and demo meetings.  \n",
    "The stand-up meeting can have an aspect of retrospection. At the end of iteration have a demo meeting to showcase the work done, seek feedback and recognition of work. Also host a retrospective meeting to discuss what went well, what troubles cropped up, and what actions to take to prevent them in the next sprint.\n",
    "- No plan for change resistance.  \n",
    "Expect resistance and take proactive actions for it. "
   ]
  },
  {
   "cell_type": "markdown",
   "id": "7c7d0e70-5eb7-4e23-9e57-16e1fa6c3bcf",
   "metadata": {},
   "source": [
    "#### Pros:"
   ]
  },
  {
   "cell_type": "markdown",
   "id": "e422142f",
   "metadata": {},
   "source": [
    "- Customer satisfaction by delivering rapid, continuous delivery of useful software  \n",
    "Allow customers to see and feel the benefits of the applications being developed.\n",
    "\n",
    "- People and interactions are focused on because these is the ultimate cause for project success  \n",
    "Trusting team work and good custumer relation are essential.\n",
    "\n",
    "- Continuous attention to technical excelence and good design  \n",
    "Refactoring in the context of test-driven development. Simple and modular design to keep it maintainable and robust.  \n",
    "\n",
    "- Regular adaptation to changing circumstances  \n",
    "Allow changes to show themselves and improve the applications from them, don't regard them as an issue, but an opportunity. Feedback from real customers leads to this as well.\n",
    "\n",
    "- Continually deliver better product at each iteration  \n",
    "Continuous learning and improvement for the team and products (LEAN)."
   ]
  },
  {
   "cell_type": "markdown",
   "id": "04037e6d-7360-40a0-a847-0c4408db4650",
   "metadata": {},
   "source": [
    "#### Cons:"
   ]
  },
  {
   "cell_type": "markdown",
   "id": "f26f3762",
   "metadata": {},
   "source": [
    "- Hard to quantify the effort required at the beginning of software development  \n",
    "\n",
    "- Very demanding of the users time   \n",
    "The customer is required to have a greater envolvement and participation. Should clearly understand the benefits of it.\n",
    "\n",
    "- Scope creep  \n",
    "Associated with flexibility for change is everlasting projects and unclear goal and deliveries of the project at the initial phases.\n",
    "\n",
    "- Burnout  \n",
    "A sustainable pace must be found and maintained for the entire team.\n"
   ]
  },
  {
   "cell_type": "markdown",
   "id": "448f098b-7932-4ed9-9981-a94c353f5794",
   "metadata": {},
   "source": [
    "### Extreme Programming XP"
   ]
  },
  {
   "cell_type": "markdown",
   "id": "4faa6a4f-54d0-4065-abaa-40cad2a3f478",
   "metadata": {},
   "source": [
    "XP has 4 main activities:\n",
    " - Writing the application code\n",
    " - Testing the system\n",
    " - Listening to customer feedback\n",
    " - Desing the overall system to minimize coupling between units"
   ]
  },
  {
   "cell_type": "markdown",
   "id": "df4048da-e52a-4774-b7a7-80be5c5f000b",
   "metadata": {},
   "source": [
    "Practices:\n",
    " - Fine-Scale Feedback. This includes pair programming, planning game, test driven development and whole team.\n",
    " - Continuous Process. Continuous integration in the repository. Refactoring or design improvements. Small releases.  \n",
    " - Shared understanding. This includes coding standards. Collective code ownership. Simple design and System metaphor.  \n",
    " - Programmer Welfare. Guarantee a sustainble and productive pace."
   ]
  },
  {
   "cell_type": "markdown",
   "id": "2c07107d-a893-4bbb-92f3-bea698f350ae",
   "metadata": {},
   "source": [
    "Rules, divided in 5 main categories:\n",
    "\n",
    "Planning\n",
    "- User stories are written\n",
    "- Release planning meetings\n",
    "- Make frequente small releases, every week or two\n",
    "- Divide project into iterations\n",
    "- Iteration planning meeting at the start of each iteration\n",
    "\n",
    "Managing\n",
    "- Work in an open space suitable for pair programming\n",
    "- Set a sustainable pace to obtain quality functional code\n",
    "- Stand-up meeting every morning, every day\n",
    "- Measure the project velocity. Add the estimates for the user stories finished during iteration.\n",
    "- Move people around in a team. (Seems very important to have overall knowledge of coding)\n",
    "- Fix as soon as it breaks\n",
    "\n",
    "Design\n",
    "- Simplicity is key\n",
    "- Choose the system metaphor early\n",
    "- CRC cards for design sessions\n",
    "- Create spike solutions to reduce risk\n",
    "- No functionality is added early\n",
    "- Refactor whenever possible\n",
    "\n",
    "Coding\n",
    "- Customer always available\n",
    "- Code written in agreed standards, use automatic tools.\n",
    "- Always code the unit test first\n",
    "- Production code in pair programming. Two people side by side in same computer writting one at a time, both focused on the code\n",
    "- Only one pair should integrate at a time\n",
    "- Integrate and commit code every few hours or when a unit passed has been passed\n",
    "- Use dedicated integration machine\n",
    "- Use collective ownership of the the whole code\n",
    "\n",
    "Testing \n",
    "- All code must have unit tests\n",
    "- All code must pass all unit tests, if not, fix asap\n",
    "- When a bug is found tests are created for it\n",
    "- Acceptance tests are run often and the score published\n",
    " "
   ]
  },
  {
   "cell_type": "markdown",
   "id": "dcd1246b-ecf8-4abb-bebd-0b6f1f41d959",
   "metadata": {},
   "source": [
    "### SCRUM"
   ]
  },
  {
   "cell_type": "markdown",
   "id": "bdd032f4-a1a2-477e-8610-80050ad76f34",
   "metadata": {},
   "source": [
    "SCRUM is divided in 3 areas:\n",
    " \n",
    "Roles, Ceremonies and Artifacts\n",
    " \n",
    "Teams work in iterations of 2 weeks to 1 month long. Usually changes to the sprint are not allowed until they are finished.  \n",
    "Scrum is a much more lightweight management method that allows teams to work as preferred, and transfers a good deal of responsibility and trust to the team (the team decides the workload and commits itself to maintain it, only the delivery matters)"
   ]
  },
  {
   "cell_type": "markdown",
   "id": "55886aed",
   "metadata": {},
   "source": [
    "Roles\n",
    "- Product owerner  \n",
    "Key stakeholder of the product, business side of the project, has a good vision of the product and trends of the domain. Maintains the product backlog, does not dictate estimates for the work at each sprint.\n",
    "- SCRUM Master  \n",
    "Servant leader to the team that facilitates all the development. Smth like a SCRUM coach/personal trainer that makes sure the steam is as productive as possible and sticks to the SCRUM principles. Does not manage people or order directives, is an advising position.\n",
    "- SCRUM team  \n",
    "A cross disciplined team of 5-9 people that manages and performs all the remaining work."
   ]
  },
  {
   "cell_type": "markdown",
   "id": "e9140723-a72f-49ac-901b-2ada8d2ae87a",
   "metadata": {},
   "source": [
    "Ceremonies\n",
    "- Planning Meeting  \n",
    "Attended by the whole team. P/O describes the highest value items in the product backlog for 1 or 2 sprints.\n",
    "- Sprint Review  \n",
    "Performed at the end of the sprint with a demo of the work developed. The work is acessed against the sprint goal.\n",
    "- Sprint Retrospective  \n",
    "The last thing to be done on a sprint, should take around one hour. Dedicated to answer what the team should Start, Stop or Continue doing to improve the team performance.\n",
    "- Daily Scrum  \n",
    "A meeting everyday, in the morning for each person to briefly describe what they achieved the day before, what is planned for this day, and what may be blocking a person's work."
   ]
  },
  {
   "cell_type": "markdown",
   "id": "361580e1-5065-4820-a713-f575779669a4",
   "metadata": {},
   "source": [
    "Artifacts\n",
    "- Product Backlog  \n",
    "A prioritized list of desirable features in the application being developed. Expressed as user stories. The team determines which items to work on for the Sprint.\n",
    "- Sprint Backlog  \n",
    "Stories picked from the product backlog to be developed for the duration of the sprint. Determines the size of the sprint and usually is daily updated. A burndown chart is calculated to track progress and adjust the sprint the backlog. Helps detect over and under estimates"
   ]
  }
 ],
 "metadata": {
  "kernelspec": {
   "display_name": "Python 3 (ipykernel)",
   "language": "python",
   "name": "python3"
  },
  "language_info": {
   "codemirror_mode": {
    "name": "ipython",
    "version": 3
   },
   "file_extension": ".py",
   "mimetype": "text/x-python",
   "name": "python",
   "nbconvert_exporter": "python",
   "pygments_lexer": "ipython3",
   "version": "3.9.7"
  }
 },
 "nbformat": 4,
 "nbformat_minor": 5
}
