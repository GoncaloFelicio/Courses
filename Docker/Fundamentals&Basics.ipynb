{
 "cells": [
  {
   "cell_type": "markdown",
   "id": "c5299151-6f2c-4bcf-a035-21ee0056a078",
   "metadata": {},
   "source": [
    "## Examples for reference, tips, Best Practices\n",
    "\n",
    "Based on the Courses: at Pluralsight\n",
    "\n",
    "Author: Gonçalo Felício  \n",
    "Date: 07/2022  \n",
    "Provided by: ISIWAY\n",
    "\n",
    "Something like a pocketbook to come to for quick references, examples, and tips of best practices, compiled with my own preferences.  \n",
    "Loosely divided by subject, and with some degree, by the respective modules.\n"
   ]
  },
  {
   "cell_type": "markdown",
   "id": "56da602d-459e-43bc-9763-275aef5b6550",
   "metadata": {},
   "source": [
    "### Docker Basics\n",
    "\n",
    "Docker is a tool to containerize apps, making them deployable in any system that has docker installed  \n",
    "Docker containers are smaller, faster, have lighter weight, leading to better app density per hardware"
   ]
  },
  {
   "cell_type": "markdown",
   "id": "6004662b-5768-4f82-be87-aa19b8a8e96a",
   "metadata": {},
   "source": [
    "We can host containers on a repository like docker-hub, and run and manage containers from the docker desktop app. Additionally it is integrated with Kubernetes, Kubernetes (or K8s) is an open-source platform designed to automate the deployment, scaling, and management of containerized applications."
   ]
  },
  {
   "cell_type": "markdown",
   "id": "ca83b705-67d1-4626-b96e-e2bf73b1a601",
   "metadata": {},
   "source": [
    "### Quick and Dirty setup\n",
    "Build an image, push to repo and run in container"
   ]
  },
  {
   "cell_type": "markdown",
   "id": "97a1ab20-b980-4c27-9588-126a2b60d8ca",
   "metadata": {
    "tags": []
   },
   "source": [
    "#### Build an Image\n",
    "images are file systems with everything the app needs to run  \n",
    "Build an image directly with:\n",
    "> docker image build -t goncalofelicio/gsd:ctr --no-cache .\n",
    "\n",
    "option -t is tag = 'ctr', goncalofelicio/gsd is the docker hub id and the name of repo to build image in"
   ]
  },
  {
   "cell_type": "markdown",
   "id": "547b2b03-316d-4fd5-bfb6-f75b2e8592ca",
   "metadata": {},
   "source": [
    "#### Push to Repo\n",
    "share the images on docker hub or other repositories with:  \n",
    "> docker image push goncalofelicio/gsd:ctr\n",
    "\n",
    "have to identify the image by path and tag"
   ]
  },
  {
   "cell_type": "markdown",
   "id": "d238cc1a-e6f6-4bc1-9746-900388c5abb9",
   "metadata": {},
   "source": [
    "#### Run and Manage in Container\n",
    "run the app in a container and manage it with:  \n",
    "> docker container run -d --name web -p 8080:8080 goncalofelicio/gsd:ctr\n",
    "\n",
    "optiong -d is detached, to access terminal while docker builds the container, web is name of app to run, -p is port options and path to image with tag\n",
    "> docker container stop web\n",
    "\n",
    "gracefully shuts down the container with name web\n",
    "> docker container start web  \n",
    "\n",
    "if the container is in the repo but exited, can start it again\n",
    "\n",
    "> docker container rm web\n",
    "\n",
    "removes the container from local host"
   ]
  },
  {
   "cell_type": "markdown",
   "id": "ea41280a-2ea6-4600-97c9-a3e7fffc0a45",
   "metadata": {},
   "source": [
    "#### Extra stuff\n",
    "We can run a terminal inside a running container with options: \n",
    "> docker container run -it --name test alpine sh  \n",
    "\n",
    "> exit (while inside container)\n",
    "\n",
    "kills and exits the container\n",
    "\n",
    "> (pressing ctrl+p+q)\n",
    "\n",
    "exits the container while leaving it running\n"
   ]
  },
  {
   "cell_type": "markdown",
   "id": "464bdccd-10f6-4867-8632-65b321fbf509",
   "metadata": {},
   "source": [
    "### Dockerfile\n",
    "dockerfile is a file that describes the steps in the build process, has a very specific format and must be present in the directory where i call the docker build command (naturally)\n",
    "\n",
    "Dockerfile always starts with the FROM instruction defining the working node    \n",
    "LABEL - specifying metadata like author  \n",
    "ENV - defines environment variables that is part of the container  \n",
    "WORKDIR - default directory of the image  \n",
    "COPY - copy files or directories needed, example: \". .\" means copy all files from current directory \".\" to the working directory of the image \".\" \n",
    "RUN - runs commands like install dependencies before starting the app  \n",
    "EXPOSE - exposes ports to be used  \n",
    "ENTRYPOINT - the first command to run to start everything!"
   ]
  },
  {
   "cell_type": "markdown",
   "id": "b7e7b8b1-9d37-4e01-9e60-ab5192efa85d",
   "metadata": {},
   "source": [
    "### Cloud-native Microservices\n",
    "\n",
    "A microservice is a standalone feature of a bigger app that can be managed separately. This makes development much more flexible. "
   ]
  },
  {
   "cell_type": "markdown",
   "id": "32b9ff09-0bc5-46c9-9cca-3f2443426208",
   "metadata": {},
   "source": [
    "### Multi-container Apps with Docker Compose\n",
    "A multi-container app is, therefore, making each container a microservice and run the all containers simultaneously with docker compose"
   ]
  },
  {
   "cell_type": "markdown",
   "id": "ea4bf5b1-92ac-4868-b7bf-7138ac638895",
   "metadata": {},
   "source": [
    "To manage a multi-container app we use a yml file that declares the processes and configs of the services built"
   ]
  },
  {
   "cell_type": "markdown",
   "id": "6cc32655-11de-4f23-b74b-636b9d00bf4e",
   "metadata": {},
   "source": [
    "Run the docker compose yml file (from the directory with the yml file) with:\n",
    "> docker-compose up\n",
    "\n",
    "\n",
    "Shut down the app with:\n",
    "> docker-compose down"
   ]
  },
  {
   "cell_type": "markdown",
   "id": "67286deb-7ce2-4dbf-a9e6-ed6373a92b32",
   "metadata": {},
   "source": [
    "### Docker Swarm\n",
    "A swarm is cluster of managers and workers that host docker apps  \n",
    "\n",
    "A swarm mode is much closer to a production environment and unlocks docker services - the one to one match of microservices to docker services\n",
    "\n",
    "Tip: use an odd number of managers due to updates conflicts"
   ]
  },
  {
   "cell_type": "markdown",
   "id": "85a11b13-62ab-4bb1-b54d-117b29c07af0",
   "metadata": {},
   "source": [
    "Start a swarm with:\n",
    "> docker swarm init\n",
    "\n",
    "Add manager or worker with:\n",
    "> docker swarm join-token manager\n",
    "> docker swarm join-token worker\n",
    "\n",
    "and paste the instructions on new node"
   ]
  },
  {
   "cell_type": "markdown",
   "id": "faec083f-c5ec-4791-a549-f522a468cf64",
   "metadata": {},
   "source": [
    "### Docker Services\n",
    "Docker services are available in swarm mode and act as microservices that can be managed through docker commands\n",
    "\n",
    "Create a service with:\n",
    ">docker service create --name web -p 8080:8080 --replicas 3 goncalofelicio/gsd:first-ctr\n",
    "\n",
    "notice how we can scale the amount of services directly with the replicas option\n",
    "\n",
    "List the containers on the swarm with:\n",
    ">docker service ps web\n",
    "\n",
    "Scale up the service with:\n",
    ">docker service scale web=10\n",
    "\n",
    "Remove containers with:\n",
    ">docker container rm -f\n",
    "\n",
    "-f is force because cannot remove running containers gracefully\n",
    "\n",
    "However, because we said we wanted 10 services initially, it will actually try to fix and create 3 new containers to substitute the ones we removed!\n",
    "\n",
    "Remove a running service with:\n",
    ">docker service rm web\n",
    "\n",
    "All of these commands can be replicated with a declaretive yml file"
   ]
  },
  {
   "cell_type": "markdown",
   "id": "4a83d3df-fce6-4412-ac4e-144d46093ebe",
   "metadata": {},
   "source": [
    "#### Docker Stack\n",
    "Docker stack is a group of services built from the yml file onto a docker swarm\n",
    "\n",
    "\n",
    "Run a docker swarm with a yml file with:\n",
    "> docker stack deploy -c docker-compose.yml counter\n",
    "\n",
    "Get more info about the stack with:\n",
    ">docker stack ls  \n",
    "docker stack services counter  \n",
    "docker stack ps counter\n",
    "\n",
    "Update a stack by simply modifying the yml file and running the deploy command again!"
   ]
  },
  {
   "cell_type": "markdown",
   "id": "2cc1849b-5fc4-49b6-b978-062a95d3ce87",
   "metadata": {},
   "source": [
    "### Volumes\n",
    "Volumes are used to save files outside the container, so that these files are kept even if the container is removed  \n",
    "Volumes are used with:\n",
    "> docker run -v /host/logs:/var/www/logs 'image running'\n",
    "\n",
    "Write the files in image path on the right, to the local path on the left, reverse of normal syntax"
   ]
  },
  {
   "cell_type": "code",
   "execution_count": null,
   "id": "6c4eae0c-acf7-4591-82b0-baf4657e2937",
   "metadata": {},
   "outputs": [],
   "source": []
  }
 ],
 "metadata": {
  "kernelspec": {
   "display_name": "Python 3 (ipykernel)",
   "language": "python",
   "name": "python3"
  },
  "language_info": {
   "codemirror_mode": {
    "name": "ipython",
    "version": 3
   },
   "file_extension": ".py",
   "mimetype": "text/x-python",
   "name": "python",
   "nbconvert_exporter": "python",
   "pygments_lexer": "ipython3",
   "version": "3.9.12"
  }
 },
 "nbformat": 4,
 "nbformat_minor": 5
}
