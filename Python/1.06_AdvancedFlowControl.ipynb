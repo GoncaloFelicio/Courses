{
 "cells": [
  {
   "cell_type": "markdown",
   "id": "786027d1-1e74-42c3-8410-d5bb58828267",
   "metadata": {},
   "source": [
    "# Notes on Python\n",
    "## Examples for reference, tips, Best Practices\n",
    "\n",
    "Based on the Course: Core Python (Advanced Flow Control) at PluralSight\n",
    "\n",
    "Author: Gonçalo Felício  \n",
    "Date: 04/2022  \n",
    "Provided by: ISIWAY\n",
    "\n",
    "Something like a pocketbook to come to for quick references, examples, and tips of best practices, compiled with my own preferences  \n",
    "Loosely divided by subject, and with some degree, by the respective modules"
   ]
  },
  {
   "cell_type": "markdown",
   "id": "63cb856f-bf7b-427f-a3f5-cae7e2d1f277",
   "metadata": {},
   "source": [
    "#### While...else\n",
    "In *while-else* loops, the *else* clause is executed when the while condition becomes false  \n",
    "If the loop is exited via break or return, the else clause is **not** executed, so, usually, the else clause is used with a *break* in the while clause, and it executes when *no-break* happens\n",
    "\n",
    "#### For...else\n",
    "The *for-else* loop sees a similar use as the previous one, in regards to the *no-break* condition, for example, when searching a specific item in the iterable and breaking out of the loop when it is found    \n",
    "Additionaly, if the iterable is exhausted the *else* clause executes\n",
    "\n",
    "\n",
    "Tip: Many uses of loop-else clauses are better handled by refactoring to a separate function"
   ]
  },
  {
   "cell_type": "code",
   "execution_count": 2,
   "id": "ed390e40-158c-44af-bcb2-1248e4ac13e0",
   "metadata": {},
   "outputs": [
    {
     "name": "stdout",
     "output_type": "stream",
     "text": [
      "[2, 35, 9, 12] contains 12 which is a divisor of 12\n"
     ]
    }
   ],
   "source": [
    "items = [2, 35, 9]\n",
    "divisor = 12\n",
    "\n",
    "for item in items:\n",
    "    if item % divisor == 0:\n",
    "        found = item\n",
    "        break\n",
    "else: # no-break situation\n",
    "    items.append(divisor)\n",
    "    found = divisor\n",
    "    \n",
    "print(f'{items} contains {found} which is a divisor of {divisor}')"
   ]
  },
  {
   "cell_type": "markdown",
   "id": "129e20bf-9272-4c4a-a652-421dab2db55c",
   "metadata": {},
   "source": [
    "#### Try...else\n",
    "In this case the *else* clause executes if the *try* block completes without raising any exceptions  \n",
    "Try changing the code to raise exception instead"
   ]
  },
  {
   "cell_type": "code",
   "execution_count": 8,
   "id": "ec4448a2-abc0-4e94-84be-993fc5cdc8e4",
   "metadata": {},
   "outputs": [
    {
     "name": "stdout",
     "output_type": "stream",
     "text": [
      "potentialy raising op\n",
      "handle successful op\n",
      "always execute regardless\n",
      "potentialy raising op\n",
      "handle successful op\n",
      "always execute regardless\n",
      "potentialy raising op\n",
      "handle successful op\n",
      "always execute regardless\n",
      "potentialy raising op\n",
      "handle successful op\n",
      "always execute regardless\n",
      "potentialy raising op\n",
      "handle successful op\n",
      "always execute regardless\n",
      "potentialy raising op\n",
      "handle raised exception\n",
      "always execute regardless\n",
      "potentialy raising op\n",
      "handle successful op\n",
      "always execute regardless\n",
      "potentialy raising op\n",
      "handle successful op\n",
      "always execute regardless\n",
      "potentialy raising op\n",
      "handle successful op\n",
      "always execute regardless\n",
      "potentialy raising op\n",
      "handle successful op\n",
      "always execute regardless\n",
      "[0, 1, 2, 3, 4, 6, 7, 8, 9]\n"
     ]
    }
   ],
   "source": [
    "i_list = []\n",
    "for i in range(10):\n",
    "    try:\n",
    "        print('potentialy raising op')\n",
    "        if i == 5:\n",
    "            i/0\n",
    "        i_list.append(i)\n",
    "    except:\n",
    "        print('handle raised exception')\n",
    "        a = 2\n",
    "        continue\n",
    "    else: # no-exception\n",
    "        print('handle successful op')\n",
    "    finally:\n",
    "        print('always execute regardless')\n",
    "print(i_list)"
   ]
  },
  {
   "cell_type": "code",
   "execution_count": 18,
   "id": "948d14b4-b122-4661-a7e4-08f6c110adc6",
   "metadata": {
    "collapsed": true,
    "jupyter": {
     "outputs_hidden": true,
     "source_hidden": true
    },
    "tags": []
   },
   "outputs": [
    {
     "name": "stdout",
     "output_type": "stream",
     "text": [
      "potentialy raising op\n",
      "handle raised exception\n",
      "always execute regardless\n"
     ]
    },
    {
     "ename": "ZeroDivisionError",
     "evalue": "division by zero",
     "output_type": "error",
     "traceback": [
      "\u001b[1;31m---------------------------------------------------------------------------\u001b[0m",
      "\u001b[1;31mZeroDivisionError\u001b[0m                         Traceback (most recent call last)",
      "Input \u001b[1;32mIn [18]\u001b[0m, in \u001b[0;36m<cell line: 1>\u001b[1;34m()\u001b[0m\n\u001b[0;32m      1\u001b[0m \u001b[38;5;28;01mtry\u001b[39;00m:\n\u001b[0;32m      2\u001b[0m     \u001b[38;5;28mprint\u001b[39m(\u001b[38;5;124m'\u001b[39m\u001b[38;5;124mpotentialy raising op\u001b[39m\u001b[38;5;124m'\u001b[39m)\n\u001b[1;32m----> 3\u001b[0m     impossible \u001b[38;5;241m=\u001b[39m \u001b[38;5;241;43m10\u001b[39;49m\u001b[38;5;241;43m/\u001b[39;49m\u001b[38;5;241;43m0\u001b[39;49m\n\u001b[0;32m      4\u001b[0m \u001b[38;5;28;01mexcept\u001b[39;00m:\n\u001b[0;32m      5\u001b[0m     \u001b[38;5;28mprint\u001b[39m(\u001b[38;5;124m'\u001b[39m\u001b[38;5;124mhandle raised exception\u001b[39m\u001b[38;5;124m'\u001b[39m)\n",
      "\u001b[1;31mZeroDivisionError\u001b[0m: division by zero"
     ]
    }
   ],
   "source": [
    "try:\n",
    "    print('potentialy raising op')\n",
    "    impossible = 10/0\n",
    "except:\n",
    "    print('handle raised exception')\n",
    "    raise\n",
    "else: # no-exception\n",
    "    print('handle successful op')\n",
    "finally:\n",
    "    print('always execute regardless')"
   ]
  },
  {
   "cell_type": "markdown",
   "id": "c024f786-23d4-4b73-869b-1400518099b3",
   "metadata": {},
   "source": [
    "#### Switch/Case\n",
    "Python does not have a *Switch/Case* construct, but it can be substituted by many *if..elif* clauses or by dictionaries of callables. In this case should preffer the dictionary option as it is more explicit and consistent, example below"
   ]
  },
  {
   "cell_type": "code",
   "execution_count": null,
   "id": "2fa7d2a6-457b-4f1c-8751-f3bb14f9a782",
   "metadata": {},
   "outputs": [],
   "source": [
    "while position: # current position\n",
    "    \n",
    "    # this dictionary with functions in the form of lambda substitutes each possible Case \n",
    "    locations = {\n",
    "        (0, 0): lambda: print('start')\n",
    "        (0, 1): lambda: print('end')\n",
    "    }\n",
    "    \n",
    "    try: # try to find location action in the dictionary of positions and assing to new callable\n",
    "        location_action = location[position]\n",
    "    except KeyError:\n",
    "        print('Could not find location in dictionary')\n",
    "    else: # call the location action found in try block\n",
    "        location_action() \n",
    "\n",
    "# See game demo in module for more details"
   ]
  },
  {
   "cell_type": "markdown",
   "id": "29c8dd8f-9e52-4212-8f71-d7272d711ae5",
   "metadata": {},
   "source": [
    "#### Dispatching on Type\n",
    "We can overload functions using the `singledispatch` decorator to dispatch on type  \n",
    "To *overload* a function is to make different things happen depending on the type of argument given"
   ]
  },
  {
   "cell_type": "code",
   "execution_count": 20,
   "id": "f87d3c5d-9f5e-4aa2-8309-a225945eba6e",
   "metadata": {},
   "outputs": [],
   "source": [
    "class Rectangle:\n",
    "    pass\n",
    "\n",
    "class Circle:\n",
    "    pass"
   ]
  },
  {
   "cell_type": "code",
   "execution_count": 23,
   "id": "ffa38173-28c2-4a51-9541-db5a966034f4",
   "metadata": {},
   "outputs": [],
   "source": [
    "from functools import singledispatch\n",
    "\n",
    "@singledispatch # decorate 'draw' with the singledispatch decorator\n",
    "def draw(shape):\n",
    "    raise TypeError(f\"Can't draw shape {shape}\")\n",
    "\n",
    "@draw.register(Rectangle) # overload the 'draw' function with the type (class) 'Rectangle'\n",
    "def draw_rectangle(rect):\n",
    "    print('drawing the rectangle')\n",
    "    return\n",
    "@draw.register(Circle) # this time overload 'draw' with the type 'Circle'\n",
    "def _(circle): # this function is never called by its name, so it can be changed to '_'\n",
    "    print('drawing the circle')\n",
    "    return"
   ]
  },
  {
   "cell_type": "code",
   "execution_count": 24,
   "id": "c8371611-ff14-4a5b-afbc-b9a1af8dedff",
   "metadata": {},
   "outputs": [
    {
     "name": "stdout",
     "output_type": "stream",
     "text": [
      "drawing the rectangle\n",
      "drawing the circle\n"
     ]
    }
   ],
   "source": [
    "shape1 = Rectangle()\n",
    "shape2 = Circle()\n",
    "\n",
    "draw(shape1)\n",
    "draw(shape2)"
   ]
  },
  {
   "cell_type": "markdown",
   "id": "77ae5c06-176f-4823-ba24-6230f5bac690",
   "metadata": {},
   "source": [
    "#### Short-circuit Evaluation\n",
    "Logical operators are only evaluated when excplicitly required to evaluate the result. This can be used to guard expressions from runtime situations in which they would not make sense, or to coalesce nulls"
   ]
  },
  {
   "cell_type": "markdown",
   "id": "31c3e76a-3d01-4046-b401-39df8f0fec59",
   "metadata": {},
   "source": [
    "#### Coalesce Nulls - Or fallbacks\n",
    "To coalesce nulls is to use the behaviour of logical 'or' operations to check expressions before executing the right hand side"
   ]
  },
  {
   "cell_type": "code",
   "execution_count": 29,
   "id": "75e2f0df-071b-4c56-a31b-8a6e967a6b64",
   "metadata": {},
   "outputs": [],
   "source": [
    "def image_width(num_pixels=None):\n",
    "    return num_pixels or 1280\n",
    "# this function has default value o number of pixels of 1280, if no value is provided\n",
    "# the null is hidden(coalesced) by the logical or condition"
   ]
  },
  {
   "cell_type": "code",
   "execution_count": 30,
   "id": "ec0d2d7c-22a5-4546-a3f1-2a9147610784",
   "metadata": {},
   "outputs": [
    {
     "data": {
      "text/plain": [
       "1280"
      ]
     },
     "execution_count": 30,
     "metadata": {},
     "output_type": "execute_result"
    }
   ],
   "source": [
    "image_width()"
   ]
  },
  {
   "cell_type": "code",
   "execution_count": 31,
   "id": "fd84870f-6c81-4aca-a68f-2ca31bdbaaf2",
   "metadata": {},
   "outputs": [
    {
     "data": {
      "text/plain": [
       "10"
      ]
     },
     "execution_count": 31,
     "metadata": {},
     "output_type": "execute_result"
    }
   ],
   "source": [
    "image_width(num_pixels=10)"
   ]
  },
  {
   "cell_type": "markdown",
   "id": "68a7ebff-eaec-42b2-960d-3fc4f951c73a",
   "metadata": {},
   "source": [
    "#### Guard Expression\n",
    "Guard expressions can be made with this behaviour of logical conditions, making very concise code, on the downside, is not explicit or clear for common users"
   ]
  },
  {
   "cell_type": "code",
   "execution_count": 32,
   "id": "3b474c54-7a5d-41b3-84b0-cfc455013191",
   "metadata": {},
   "outputs": [],
   "source": [
    "# share loot by number of people, not possible when number of people is 0\n",
    "def share_loot(loot, num_people):\n",
    "    return num_people and loot/num_people"
   ]
  },
  {
   "cell_type": "code",
   "execution_count": 33,
   "id": "fef93e6c-5cea-415f-a157-2f1622592540",
   "metadata": {},
   "outputs": [
    {
     "data": {
      "text/plain": [
       "5.0"
      ]
     },
     "execution_count": 33,
     "metadata": {},
     "output_type": "execute_result"
    }
   ],
   "source": [
    "share_loot(15,3)"
   ]
  },
  {
   "cell_type": "code",
   "execution_count": 35,
   "id": "052d0805-bdb0-42d7-b59e-304f1fb1becd",
   "metadata": {},
   "outputs": [
    {
     "data": {
      "text/plain": [
       "0"
      ]
     },
     "execution_count": 35,
     "metadata": {},
     "output_type": "execute_result"
    }
   ],
   "source": [
    "share_loot(15,0)"
   ]
  },
  {
   "cell_type": "markdown",
   "id": "afc2ea7f-56c5-4551-a1e1-32c3504c7b55",
   "metadata": {},
   "source": [
    "This last result clearly shows that the right side of the logical condition is not evaluated, because the left side is '0', and '0 and anything else' is '0', otherwise a ZeroDivisionError would have been raised"
   ]
  },
  {
   "cell_type": "code",
   "execution_count": 36,
   "id": "6f91a2d3-1b0f-4739-a744-03d4f343490e",
   "metadata": {},
   "outputs": [],
   "source": [
    "# Clearer and more Readable way\n",
    "def dummie_share_loot(loot, num_people):\n",
    "    try:\n",
    "        return loot/num_people\n",
    "    \n",
    "    except ZeroDivisionError:\n",
    "        return 0"
   ]
  },
  {
   "cell_type": "code",
   "execution_count": 37,
   "id": "1346426c-be0c-4b12-9768-4a0350640797",
   "metadata": {},
   "outputs": [
    {
     "data": {
      "text/plain": [
       "5.0"
      ]
     },
     "execution_count": 37,
     "metadata": {},
     "output_type": "execute_result"
    }
   ],
   "source": [
    "share_loot(15,3)"
   ]
  },
  {
   "cell_type": "code",
   "execution_count": 38,
   "id": "2dfb1434-e2c6-4ce2-8690-7c61279d0b43",
   "metadata": {},
   "outputs": [
    {
     "data": {
      "text/plain": [
       "0"
      ]
     },
     "execution_count": 38,
     "metadata": {},
     "output_type": "execute_result"
    }
   ],
   "source": [
    "share_loot(15,0)"
   ]
  },
  {
   "cell_type": "code",
   "execution_count": null,
   "id": "b0e24f98-2fc4-4b48-94a7-4987307e194b",
   "metadata": {},
   "outputs": [],
   "source": []
  }
 ],
 "metadata": {
  "kernelspec": {
   "display_name": "Python 3 (ipykernel)",
   "language": "python",
   "name": "python3"
  },
  "language_info": {
   "codemirror_mode": {
    "name": "ipython",
    "version": 3
   },
   "file_extension": ".py",
   "mimetype": "text/x-python",
   "name": "python",
   "nbconvert_exporter": "python",
   "pygments_lexer": "ipython3",
   "version": "3.9.7"
  }
 },
 "nbformat": 4,
 "nbformat_minor": 5
}
