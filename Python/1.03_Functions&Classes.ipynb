{
 "cells": [
  {
   "cell_type": "markdown",
   "id": "405ce73c-d0ce-44e9-b995-c8e0a6c897e0",
   "metadata": {},
   "source": [
    "# Notes on Python\n",
    "## Examples for reference, tips, Best Practices\n",
    "\n",
    "Based on the Course: Core Python (Functions and Functional Programming | Classes and Object-Orientation) at PluralSight\n",
    "\n",
    "Author: Gonçalo Felício  \n",
    "Date: 04/2022  \n",
    "Provided by: ISIWAY\n",
    "\n",
    "Something like a pocketbook to come to for quick references, examples, and tips of best practices, compiled with my own preferences  \n",
    "Loosely divided by subject, and with some degree, by the respective modules\n"
   ]
  },
  {
   "cell_type": "markdown",
   "id": "1cde6c45-67eb-4280-ae1d-9dd9e4fd9239",
   "metadata": {},
   "source": [
    "#### Free Functions  \n",
    "Functions defined at module or global scope\n",
    "\n",
    "#### Methods\n",
    "Functions defined within a Class definition\n",
    "\n",
    "Positional arguments are the arguments matched by position, must be written in order  \n",
    "Keyword arguments are arguments matched by name"
   ]
  },
  {
   "cell_type": "markdown",
   "id": "335641cd-9cd9-4e36-9754-a5a8115f2d23",
   "metadata": {},
   "source": [
    "The `__call__()` method allows us to make any object callable, like functions  \n",
    "When calling an object with this method defined, a callable **instance** object is created\n",
    "\n",
    "To determine if an object is callable we can use the `callable()` method"
   ]
  },
  {
   "cell_type": "markdown",
   "id": "e926fd6e-2f9e-4476-b162-e8cffaa79649",
   "metadata": {},
   "source": [
    "### Lambdas\n",
    "Lambdas are unnamed callable objects  \n",
    "Can be well used in comprehensions and with iterables, when a simple expression is required to filter the iterable, but defining a new function for it is not really necessary  \n",
    "Lambdas are expressions that evaluate to a function object"
   ]
  },
  {
   "cell_type": "code",
   "execution_count": 8,
   "id": "fa04a22b-8aa7-4d49-a750-e7d8710c2153",
   "metadata": {},
   "outputs": [],
   "source": [
    "scientists = ['ab cd', 'de bc', 'cd ef', 'de fg']"
   ]
  },
  {
   "cell_type": "markdown",
   "id": "8c925248-8d45-460d-b3fc-9be22ad6b7b5",
   "metadata": {},
   "source": [
    "Sorts the scientists list by the last name of the scientist. The key argument is defined with a lambda function"
   ]
  },
  {
   "cell_type": "code",
   "execution_count": 9,
   "id": "f6989e85-f374-48e3-b9ff-bee6f10caa11",
   "metadata": {},
   "outputs": [
    {
     "data": {
      "text/plain": [
       "['de bc', 'ab cd', 'cd ef', 'de fg']"
      ]
     },
     "execution_count": 9,
     "metadata": {},
     "output_type": "execute_result"
    }
   ],
   "source": [
    "sorted(scientists, key=lambda name: name.split()[-1])"
   ]
  },
  {
   "cell_type": "markdown",
   "id": "23e2fc81-4b61-4381-8ab0-c0b79a726a22",
   "metadata": {},
   "source": [
    "### Extended Arguments and Call Syntax\n",
    "An extended argument syntax allows us to call an arbitrary number of positional and keyword arguments with the `*` key  "
   ]
  },
  {
   "cell_type": "code",
   "execution_count": 10,
   "id": "b767c429-84e8-418a-9ba8-ba600ef82fc0",
   "metadata": {},
   "outputs": [],
   "source": [
    "def hypervolume(*args):\n",
    "    print(args)\n",
    "    print(type(args))"
   ]
  },
  {
   "cell_type": "code",
   "execution_count": 11,
   "id": "03782b0e-57a6-4362-a167-a03db5feecc0",
   "metadata": {},
   "outputs": [
    {
     "name": "stdout",
     "output_type": "stream",
     "text": [
      "(3, 4)\n",
      "<class 'tuple'>\n"
     ]
    }
   ],
   "source": [
    "hypervolume(3,4)"
   ]
  },
  {
   "cell_type": "code",
   "execution_count": 12,
   "id": "cad8a9f4-9e27-46dc-be55-e12c4a6bcf7e",
   "metadata": {},
   "outputs": [
    {
     "name": "stdout",
     "output_type": "stream",
     "text": [
      "(3, 4, 5)\n",
      "<class 'tuple'>\n"
     ]
    }
   ],
   "source": [
    "hypervolume(3,4,5)"
   ]
  },
  {
   "cell_type": "markdown",
   "id": "b4188eaf-d5e4-4fc3-97ff-6a66f1c3543f",
   "metadata": {},
   "source": [
    "`*args` must come after normal positional arguments  \n",
    "After `*args`, only keyword arguments are accepted  \n",
    "To collect arbitrary keyword arguments, we use `**kwargs`  \n",
    "Like with positional arguments, `**kwargs` must come last  "
   ]
  },
  {
   "cell_type": "markdown",
   "id": "8bfac05b-1cc3-46c6-bab3-e408868ed87b",
   "metadata": {},
   "source": [
    "We can also specify only positional or keyword arguments.  \n",
    "\n",
    "By using the `/` as an argument. Arguments before the slash are positional only arguments."
   ]
  },
  {
   "cell_type": "markdown",
   "id": "6b09e67c-c0ca-45c4-bcae-254240ac0300",
   "metadata": {},
   "source": [
    "#### Extended Call Syntax\n",
    "\n",
    "This is when we call an object with the `*` in the call\n",
    "The function with this syntax unpacks the tuple or dict, for `*args` and `**kwargs` respectively, and assigns them to the arguments inside the function  \n",
    "In this case the dict is unpacked, the first two items are considered as positional args, and the following items are considered keyword args"
   ]
  },
  {
   "cell_type": "code",
   "execution_count": 2,
   "id": "79c67af4-bc64-4dc8-9628-d73501edb732",
   "metadata": {},
   "outputs": [],
   "source": [
    "def color(red, green, **kwargs):\n",
    "    print(red)\n",
    "    print(green)\n",
    "    print(kwargs)"
   ]
  },
  {
   "cell_type": "code",
   "execution_count": 3,
   "id": "bdec3603-253b-4d22-8e73-f2a992ba5392",
   "metadata": {},
   "outputs": [
    {
     "name": "stdout",
     "output_type": "stream",
     "text": [
      "21\n",
      "68\n",
      "{'alpha': 50, 'blue': 96}\n"
     ]
    }
   ],
   "source": [
    "k = {'red':21, 'green':68, 'alpha':50, 'blue': 96}\n",
    "color(**k)"
   ]
  },
  {
   "cell_type": "markdown",
   "id": "90333214-2829-4079-a0c7-1450823a0dee",
   "metadata": {},
   "source": [
    "#### Argument Forwarding\n",
    "Argument forwarding is when a funtion transfers arguments to another function  \n",
    "With extended arguments and call syntax we can do this for any number of arguments\n",
    "\n",
    "Careful that args and kwargs are a tuple and a dictionary with the values of the arguments in the call  \n",
    "Therefore, when calling f function, must use the **extended call syntax** to accept the tuple and dict correctly"
   ]
  },
  {
   "cell_type": "code",
   "execution_count": 23,
   "id": "3fa3cd90-d5bd-4e48-8779-9ce8c431c448",
   "metadata": {},
   "outputs": [],
   "source": [
    "def trace(f, *args, **kwargs):\n",
    "    print(args)\n",
    "    print(kwargs)\n",
    "    \n",
    "    result = f(*args, **kwargs)\n",
    "    print(result)\n",
    "    \n",
    "    return result"
   ]
  },
  {
   "cell_type": "code",
   "execution_count": 24,
   "id": "570e74ef-6d82-486c-b1e3-c26f6b0a4703",
   "metadata": {},
   "outputs": [
    {
     "name": "stdout",
     "output_type": "stream",
     "text": [
      "('ff',)\n",
      "{'base': 16}\n",
      "255\n"
     ]
    },
    {
     "data": {
      "text/plain": [
       "255"
      ]
     },
     "execution_count": 24,
     "metadata": {},
     "output_type": "execute_result"
    }
   ],
   "source": [
    "trace(int, 'ff', base=16)"
   ]
  },
  {
   "cell_type": "markdown",
   "id": "8302f606-013f-4dd0-bf5f-e5f0c44cb797",
   "metadata": {},
   "source": [
    "### Closures\n",
    "\n",
    "#### Local Funtions\n",
    "Functions that are defined inside other functions. These functions need the enclosing scope  \n",
    "Reminder:  \n",
    "Python names are looked up using the LEGB rule: Local, Enclosing, Global, Built-in  \n",
    "We can access global references and reassign them in the local scope with the `global` keyword  \n",
    "\n",
    "Local functions can be returned from a function, like any other object, this way we can implement factory functions  \n",
    "However, care must be taken so that the local and enclosing variables are well handled.\n",
    "The `nonlocal` lets us bind names from the enclosing scope, in the local scope. This way a local function can maintain it's state between invocations"
   ]
  },
  {
   "cell_type": "code",
   "execution_count": 35,
   "id": "5a54c61f-be0f-4e38-808b-192a0f1919ab",
   "metadata": {},
   "outputs": [],
   "source": [
    "message = 'at the global scope'\n",
    "\n",
    "\n",
    "def enclosing():\n",
    "    message = 'at the enclosing scope'\n",
    "    \n",
    "    def local():\n",
    "        message = 'at the local scope'\n",
    "        print(message)\n",
    "    \n",
    "    print(message)\n",
    "    local()\n",
    "    print(message)"
   ]
  },
  {
   "cell_type": "markdown",
   "id": "077b553b-fd3a-4e5e-bf50-0781fbffc917",
   "metadata": {},
   "source": [
    "With this example, we can see that `local` function does not change the message variable at the enclosing scope, only at the local scope"
   ]
  },
  {
   "cell_type": "code",
   "execution_count": 37,
   "id": "d553fc2b-e871-44e3-a7ea-0e8fcf50ca89",
   "metadata": {},
   "outputs": [
    {
     "name": "stdout",
     "output_type": "stream",
     "text": [
      "at the enclosing scope\n",
      "at the local scope\n",
      "at the enclosing scope\n"
     ]
    }
   ],
   "source": [
    "enclosing()"
   ]
  },
  {
   "cell_type": "code",
   "execution_count": 38,
   "id": "2eaa2df7-bd32-464e-a8d2-99abdacc9721",
   "metadata": {},
   "outputs": [
    {
     "name": "stdout",
     "output_type": "stream",
     "text": [
      "at the global scope\n"
     ]
    }
   ],
   "source": [
    "print(message)"
   ]
  },
  {
   "cell_type": "markdown",
   "id": "f1570172-66ec-44f3-8950-d8fd1d377e38",
   "metadata": {},
   "source": [
    "We can use the `global` keyword and the `nonlocal` keyword to affect variables from other scopes"
   ]
  },
  {
   "cell_type": "code",
   "execution_count": 55,
   "id": "182dbfc0-a29c-4bc9-a41c-25edb2812c99",
   "metadata": {},
   "outputs": [],
   "source": [
    "message = 'at the global scope'\n",
    "\n",
    "\n",
    "def enclosing():\n",
    "    message = 'at the enclosing scope'\n",
    "    \n",
    "    def local():\n",
    "        nonlocal message\n",
    "        message = 'at the local scope'\n",
    "        print(message)\n",
    "\n",
    "    \n",
    "    print(message)\n",
    "    local()\n",
    "    print(message)"
   ]
  },
  {
   "cell_type": "code",
   "execution_count": 56,
   "id": "9dad6421-2cc5-4b58-abd1-59eefadc0e72",
   "metadata": {},
   "outputs": [
    {
     "name": "stdout",
     "output_type": "stream",
     "text": [
      "at the enclosing scope\n",
      "at the local scope\n",
      "at the local scope\n"
     ]
    }
   ],
   "source": [
    "enclosing()\n",
    "# local() changed the enclosing variable message"
   ]
  },
  {
   "cell_type": "code",
   "execution_count": 57,
   "id": "685bfebe-1215-4fa0-8fcc-bf10bae8d835",
   "metadata": {},
   "outputs": [
    {
     "name": "stdout",
     "output_type": "stream",
     "text": [
      "at the global scope\n"
     ]
    }
   ],
   "source": [
    "print(message)\n",
    "# local() didnt change the global variable message"
   ]
  },
  {
   "cell_type": "markdown",
   "id": "28a044c4-84f2-4068-832c-2617fbc0a322",
   "metadata": {},
   "source": [
    "Cool function to measure elapsed time between invocations of the function"
   ]
  },
  {
   "cell_type": "code",
   "execution_count": 66,
   "id": "824122da-a570-4fcd-8c7c-a8714e63cfb0",
   "metadata": {},
   "outputs": [],
   "source": [
    "import time\n",
    "\n",
    "def make_timer():\n",
    "    last_called = None\n",
    "    \n",
    "    def elapsed():\n",
    "        nonlocal last_called\n",
    "        now = time.time()\n",
    "        #print(last_called)\n",
    "        #print(now)\n",
    "        \n",
    "        if last_called is None:\n",
    "            last_called = now\n",
    "            return\n",
    "        \n",
    "        result = now - last_called\n",
    "        last_called = now\n",
    "        #print(last_called)\n",
    "        \n",
    "        return result\n",
    "\n",
    "    return elapsed\n"
   ]
  },
  {
   "cell_type": "code",
   "execution_count": 67,
   "id": "49b0140e-26bb-43b2-84cd-b34a73dea2d0",
   "metadata": {},
   "outputs": [],
   "source": [
    "t = make_timer()"
   ]
  },
  {
   "cell_type": "code",
   "execution_count": 68,
   "id": "b119f4c9-8ad7-470e-a693-93443e7ffe84",
   "metadata": {},
   "outputs": [
    {
     "data": {
      "text/plain": [
       "<function __main__.make_timer.<locals>.elapsed()>"
      ]
     },
     "execution_count": 68,
     "metadata": {},
     "output_type": "execute_result"
    }
   ],
   "source": [
    "t"
   ]
  },
  {
   "cell_type": "code",
   "execution_count": 69,
   "id": "dd22b4f8-2014-4fdc-b87c-da24303bdb45",
   "metadata": {},
   "outputs": [],
   "source": [
    "t()"
   ]
  },
  {
   "cell_type": "code",
   "execution_count": 70,
   "id": "98413a79-8f9d-4300-8334-19d65fbc2cea",
   "metadata": {},
   "outputs": [
    {
     "data": {
      "text/plain": [
       "1.2630095481872559"
      ]
     },
     "execution_count": 70,
     "metadata": {},
     "output_type": "execute_result"
    }
   ],
   "source": [
    "t()"
   ]
  },
  {
   "cell_type": "code",
   "execution_count": 71,
   "id": "5d483f1c-ecd0-49e7-a66f-e8787ba79e78",
   "metadata": {},
   "outputs": [
    {
     "data": {
      "text/plain": [
       "1.4248881340026855"
      ]
     },
     "execution_count": 71,
     "metadata": {},
     "output_type": "execute_result"
    }
   ],
   "source": [
    "t()"
   ]
  },
  {
   "cell_type": "code",
   "execution_count": 72,
   "id": "405c2250-e33d-4dd4-9d04-436d3cfad6cb",
   "metadata": {},
   "outputs": [
    {
     "data": {
      "text/plain": [
       "2.352085590362549"
      ]
     },
     "execution_count": 72,
     "metadata": {},
     "output_type": "execute_result"
    }
   ],
   "source": [
    "t()"
   ]
  },
  {
   "cell_type": "code",
   "execution_count": 73,
   "id": "b0250293-6283-4f44-afce-985fd0ce3cb5",
   "metadata": {},
   "outputs": [
    {
     "data": {
      "text/plain": [
       "5.145913362503052"
      ]
     },
     "execution_count": 73,
     "metadata": {},
     "output_type": "execute_result"
    }
   ],
   "source": [
    "t()"
   ]
  },
  {
   "cell_type": "markdown",
   "id": "f2dc822a-25d3-4ae7-a1f9-c24f2bc9d969",
   "metadata": {},
   "source": [
    "### Decorators\n",
    "\n",
    "Decorators modify existing callables without changing the actual callable implementation  \n",
    "We apply a decorator with the `@` just before defining the callable  \n",
    "In a way, we can define decorators as callables that accept a callable, and return the callable modified  \n",
    "Therefore we can apply them to functions, classes and instances  \n",
    "More than one decorator can also be applied to a callable and it just works recursively, since decorators take and return the same object type, callables"
   ]
  },
  {
   "cell_type": "code",
   "execution_count": 78,
   "id": "91c491f1-0065-4f5b-8e17-8ac5efd105e7",
   "metadata": {},
   "outputs": [],
   "source": [
    "def hello():\n",
    "    \"\"\"Prints a 'hello world'\"\"\"\n",
    "    print('hello world')"
   ]
  },
  {
   "cell_type": "code",
   "execution_count": 77,
   "id": "627f3238-9567-4799-8a81-cbf6ef2b7dd0",
   "metadata": {},
   "outputs": [
    {
     "name": "stdout",
     "output_type": "stream",
     "text": [
      "hello world\n"
     ]
    }
   ],
   "source": [
    "hello()"
   ]
  },
  {
   "cell_type": "code",
   "execution_count": 76,
   "id": "409c0b32-7d33-40ca-9a7c-fbcc584093b0",
   "metadata": {},
   "outputs": [
    {
     "name": "stdout",
     "output_type": "stream",
     "text": [
      "Help on function hello in module __main__:\n",
      "\n",
      "hello()\n",
      "    Prints a 'hello world'\n",
      "\n"
     ]
    }
   ],
   "source": [
    "help(hello)"
   ]
  },
  {
   "cell_type": "markdown",
   "id": "0547c508-8134-48c9-b3b6-18764651ea1c",
   "metadata": {},
   "source": [
    "This decorator makes no modification"
   ]
  },
  {
   "cell_type": "code",
   "execution_count": 75,
   "id": "060618b6-727d-4f77-beca-a9f0fe2c48e6",
   "metadata": {},
   "outputs": [],
   "source": [
    "def decorator_noop(f):\n",
    "    def noop_wrapper():\n",
    "        return f()\n",
    "    return noop_wrapper"
   ]
  },
  {
   "cell_type": "code",
   "execution_count": 79,
   "id": "03357af1-b7f4-4d45-bea0-f231855bc819",
   "metadata": {},
   "outputs": [],
   "source": [
    "@decorator_noop\n",
    "def hello():\n",
    "    \"\"\"Prints a 'hello world'\"\"\"\n",
    "    print('hello world')"
   ]
  },
  {
   "cell_type": "code",
   "execution_count": 80,
   "id": "23ef2ba0-dca4-4223-b661-eeb030f2bbd7",
   "metadata": {},
   "outputs": [
    {
     "name": "stdout",
     "output_type": "stream",
     "text": [
      "hello world\n"
     ]
    }
   ],
   "source": [
    "hello()"
   ]
  },
  {
   "cell_type": "code",
   "execution_count": 81,
   "id": "c21afbb5-df45-4ba6-a177-ae49d6655423",
   "metadata": {},
   "outputs": [
    {
     "name": "stdout",
     "output_type": "stream",
     "text": [
      "Help on function noop_wrapper in module __main__:\n",
      "\n",
      "noop_wrapper()\n",
      "\n"
     ]
    }
   ],
   "source": [
    "help(hello)"
   ]
  },
  {
   "cell_type": "markdown",
   "id": "75f35d78-fc7b-472c-9e71-2fbb5474e8a6",
   "metadata": {},
   "source": [
    "The docstring of the original function is no longer accessible.  \n",
    "This can be fixed with `functools.wrap()`  "
   ]
  },
  {
   "cell_type": "code",
   "execution_count": 82,
   "id": "d0ea03c7-53df-4e61-a88c-ad5f06cc12f4",
   "metadata": {},
   "outputs": [],
   "source": [
    "import functools\n",
    "def decorator_noop(f):\n",
    "    @functools.wraps(f)\n",
    "    def noop_wrapper():\n",
    "        return f()\n",
    "    return noop_wrapper"
   ]
  },
  {
   "cell_type": "code",
   "execution_count": 83,
   "id": "1bdf5de2-dd75-4c05-bd15-2f18a53ddf14",
   "metadata": {},
   "outputs": [],
   "source": [
    "@decorator_noop\n",
    "def hello():\n",
    "    \"\"\"Prints a 'hello world'\"\"\"\n",
    "    print('hello world')"
   ]
  },
  {
   "cell_type": "code",
   "execution_count": 84,
   "id": "534b84e0-7a21-47ff-bfde-99df448a22ea",
   "metadata": {},
   "outputs": [
    {
     "name": "stdout",
     "output_type": "stream",
     "text": [
      "hello world\n"
     ]
    }
   ],
   "source": [
    "hello()"
   ]
  },
  {
   "cell_type": "code",
   "execution_count": 85,
   "id": "5bd0fc11-0ce2-47a9-b75e-cc6cd4e1b0da",
   "metadata": {},
   "outputs": [
    {
     "name": "stdout",
     "output_type": "stream",
     "text": [
      "Help on function hello in module __main__:\n",
      "\n",
      "hello()\n",
      "    Prints a 'hello world'\n",
      "\n"
     ]
    }
   ],
   "source": [
    "help(hello)"
   ]
  },
  {
   "cell_type": "markdown",
   "id": "ca724f05-98cc-4fbc-8c4a-31b2c6aa63f7",
   "metadata": {},
   "source": [
    "#### Parameterized decorators\n",
    "These are decorators that are not actually decorators, as they take in arguments, not functions, but can be used as decorators if they are called "
   ]
  },
  {
   "cell_type": "code",
   "execution_count": 87,
   "id": "a28eb70f-979c-4d27-8e21-ba8ad102f884",
   "metadata": {},
   "outputs": [],
   "source": [
    "def check_non_neg(index):\n",
    "    def validator(f):\n",
    "        def wrap(*args):\n",
    "            if args[index] < 0:\n",
    "                raise ValueError('Argument {} must be non negative.'.format(index))\n",
    "            return f(*args)\n",
    "        return wrap\n",
    "    return validator"
   ]
  },
  {
   "cell_type": "code",
   "execution_count": 89,
   "id": "f4d80e49-3b7d-45af-9dcd-6991c47bd19e",
   "metadata": {},
   "outputs": [],
   "source": [
    "@check_non_neg(1)\n",
    "def create_list(value, size):\n",
    "    return [value] * size"
   ]
  },
  {
   "cell_type": "code",
   "execution_count": 90,
   "id": "21b567ac-2ec1-46ac-ba72-ed3ed134e40f",
   "metadata": {},
   "outputs": [
    {
     "data": {
      "text/plain": [
       "['a', 'a', 'a']"
      ]
     },
     "execution_count": 90,
     "metadata": {},
     "output_type": "execute_result"
    }
   ],
   "source": [
    "create_list('a', 3)"
   ]
  },
  {
   "cell_type": "code",
   "execution_count": 91,
   "id": "6361df28-a1a0-43c6-8e68-cd823e6cc890",
   "metadata": {},
   "outputs": [
    {
     "ename": "ValueError",
     "evalue": "Argument 1 must be non negative.",
     "output_type": "error",
     "traceback": [
      "\u001b[1;31m---------------------------------------------------------------------------\u001b[0m",
      "\u001b[1;31mValueError\u001b[0m                                Traceback (most recent call last)",
      "Input \u001b[1;32mIn [91]\u001b[0m, in \u001b[0;36m<cell line: 1>\u001b[1;34m()\u001b[0m\n\u001b[1;32m----> 1\u001b[0m \u001b[43mcreate_list\u001b[49m\u001b[43m(\u001b[49m\u001b[38;5;124;43m'\u001b[39;49m\u001b[38;5;124;43mb\u001b[39;49m\u001b[38;5;124;43m'\u001b[39;49m\u001b[43m,\u001b[49m\u001b[43m \u001b[49m\u001b[38;5;241;43m-\u001b[39;49m\u001b[38;5;241;43m1\u001b[39;49m\u001b[43m)\u001b[49m\n",
      "Input \u001b[1;32mIn [87]\u001b[0m, in \u001b[0;36mcheck_non_neg.<locals>.validator.<locals>.wrap\u001b[1;34m(*args)\u001b[0m\n\u001b[0;32m      3\u001b[0m \u001b[38;5;28;01mdef\u001b[39;00m \u001b[38;5;21mwrap\u001b[39m(\u001b[38;5;241m*\u001b[39margs):\n\u001b[0;32m      4\u001b[0m     \u001b[38;5;28;01mif\u001b[39;00m args[index] \u001b[38;5;241m<\u001b[39m \u001b[38;5;241m0\u001b[39m:\n\u001b[1;32m----> 5\u001b[0m         \u001b[38;5;28;01mraise\u001b[39;00m \u001b[38;5;167;01mValueError\u001b[39;00m(\u001b[38;5;124m'\u001b[39m\u001b[38;5;124mArgument \u001b[39m\u001b[38;5;132;01m{}\u001b[39;00m\u001b[38;5;124m must be non negative.\u001b[39m\u001b[38;5;124m'\u001b[39m\u001b[38;5;241m.\u001b[39mformat(index))\n\u001b[0;32m      6\u001b[0m     \u001b[38;5;28;01mreturn\u001b[39;00m f(\u001b[38;5;241m*\u001b[39margs)\n",
      "\u001b[1;31mValueError\u001b[0m: Argument 1 must be non negative."
     ]
    }
   ],
   "source": [
    "create_list('b', -1)"
   ]
  },
  {
   "cell_type": "markdown",
   "id": "1652c744-81df-4286-8b43-a7b2c224dc2b",
   "metadata": {},
   "source": [
    "This 'decorator' works because validator, which is returned by `check_non_neg` is a callable and so `check_non_neg(1)` is a callable and returns a callable, satisfying the decorator conditions.  \n",
    "\n",
    "The function `check_non_neg(1)` takes in the index that must be checked and, if the value of the index is positive, returns the function create_list with no changes, if it's negative, raises an helpful error message."
   ]
  },
  {
   "cell_type": "markdown",
   "id": "c4ef645e-4f52-4987-a97d-3b8ef3c2a9a9",
   "metadata": {},
   "source": [
    "### Map\n",
    "A built-in function that applies a callable to the elements in a sequence. Returns a `map` object with the return values of the callable on each element.  \n",
    "It has a lazy evaluation, just like generators."
   ]
  },
  {
   "cell_type": "markdown",
   "id": "82bf6075-18b9-4d26-8e51-2cc517728d72",
   "metadata": {},
   "source": [
    "Trace Class to trace calls of the map function, to show the lazy evaluation in effect  \n",
    "Usually we call `list()` on the `map` to evaluate the full sequence at once  \n",
    "Also, `map` can take multiple sequences as input and will iterate over the elements of each sequence in order. This is a great tool to transpose matrices  \n",
    "It will continue to iterate over the sequences until any single iterable is exhausted, we can even use infinite sequences, just like with generators  \n",
    "The results of `map` are identical to a comprehension  "
   ]
  },
  {
   "cell_type": "code",
   "execution_count": 1,
   "id": "9fef213d-850e-43ee-b3a7-71c4329cf209",
   "metadata": {},
   "outputs": [],
   "source": [
    "class Trace:\n",
    "    def __init__(self):\n",
    "        self.enabled = True\n",
    "    def __call__(self, f):\n",
    "        def wrap(*args, **kwargs):\n",
    "            if self.enabled:\n",
    "                print(f'Calling {f}')\n",
    "            return f(*args, **kwargs)\n",
    "        return wrap"
   ]
  },
  {
   "cell_type": "code",
   "execution_count": 2,
   "id": "48b0c630-bb4b-4a0d-aa37-295cfedf16a8",
   "metadata": {},
   "outputs": [],
   "source": [
    "result = map(Trace()(ord), 'The brown fox')"
   ]
  },
  {
   "cell_type": "code",
   "execution_count": 3,
   "id": "5c5ad53b-b253-4298-bea3-de734df85a81",
   "metadata": {},
   "outputs": [
    {
     "data": {
      "text/plain": [
       "<map at 0x25d3f77bfd0>"
      ]
     },
     "execution_count": 3,
     "metadata": {},
     "output_type": "execute_result"
    }
   ],
   "source": [
    "result"
   ]
  },
  {
   "cell_type": "code",
   "execution_count": 4,
   "id": "fa6af6da-5514-4a98-9448-716aed5c1671",
   "metadata": {},
   "outputs": [
    {
     "name": "stdout",
     "output_type": "stream",
     "text": [
      "Calling <built-in function ord>\n"
     ]
    },
    {
     "data": {
      "text/plain": [
       "84"
      ]
     },
     "execution_count": 4,
     "metadata": {},
     "output_type": "execute_result"
    }
   ],
   "source": [
    "next(result)"
   ]
  },
  {
   "cell_type": "code",
   "execution_count": 5,
   "id": "90df59de-4328-48bc-9985-b92043bac78d",
   "metadata": {},
   "outputs": [
    {
     "name": "stdout",
     "output_type": "stream",
     "text": [
      "Calling <built-in function ord>\n"
     ]
    },
    {
     "data": {
      "text/plain": [
       "104"
      ]
     },
     "execution_count": 5,
     "metadata": {},
     "output_type": "execute_result"
    }
   ],
   "source": [
    "next(result)"
   ]
  },
  {
   "cell_type": "code",
   "execution_count": 6,
   "id": "6279d853-84d6-453e-95e2-beea1aba0eb5",
   "metadata": {},
   "outputs": [
    {
     "name": "stdout",
     "output_type": "stream",
     "text": [
      "Calling <built-in function ord>\n"
     ]
    },
    {
     "data": {
      "text/plain": [
       "101"
      ]
     },
     "execution_count": 6,
     "metadata": {},
     "output_type": "execute_result"
    }
   ],
   "source": [
    "next(result)"
   ]
  },
  {
   "cell_type": "code",
   "execution_count": 12,
   "id": "e2894042-49f8-4337-ab56-5246e2bcdb06",
   "metadata": {},
   "outputs": [
    {
     "data": {
      "text/plain": [
       "[116, 104, 101, 32, 98, 114, 111, 119, 110, 32, 102, 111, 120]"
      ]
     },
     "execution_count": 12,
     "metadata": {},
     "output_type": "execute_result"
    }
   ],
   "source": [
    "list(map(ord, 'the brown fox'))"
   ]
  },
  {
   "cell_type": "markdown",
   "id": "4cd1db20-39e0-46ed-a3a3-81a0c1b59ce8",
   "metadata": {},
   "source": [
    "### Filter\n",
    "Has many similarities with `map`, however can only take one function and one sequence that is the argument to the filter function  \n",
    "Similar to using the `lambda` comprehensions to filter a sequence  \n",
    "In the end returns the elements in the sequence that return `True` on the filter function  \n",
    "We can also use the `None` keyword as the function argument, and the elements that return `False` as booleans are removed"
   ]
  },
  {
   "cell_type": "code",
   "execution_count": 15,
   "id": "d8cfb3cd-489f-48c6-b412-0387bea6c31c",
   "metadata": {},
   "outputs": [
    {
     "data": {
      "text/plain": [
       "<filter at 0x25d3f7752b0>"
      ]
     },
     "execution_count": 15,
     "metadata": {},
     "output_type": "execute_result"
    }
   ],
   "source": [
    "trues = filter(None, [0, 1, [], [1,2,3,], '', 'a trueish string', True])\n",
    "trues"
   ]
  },
  {
   "cell_type": "code",
   "execution_count": 16,
   "id": "9cff4936-66dd-455d-981d-bd2e78947777",
   "metadata": {},
   "outputs": [
    {
     "data": {
      "text/plain": [
       "[1, [1, 2, 3], 'a trueish string', True]"
      ]
     },
     "execution_count": 16,
     "metadata": {},
     "output_type": "execute_result"
    }
   ],
   "source": [
    "list(trues)"
   ]
  },
  {
   "cell_type": "markdown",
   "id": "974a2595-559a-47a7-929e-25cf8fcbba5c",
   "metadata": {},
   "source": [
    "### Reduce\n",
    "Applies a 2 argument function that takes the `acummulated` arguments and the next element in the sequence  \n",
    "The final value of the `accumulated` value is returned, reducing a sequence to a single value  \n",
    "In a way, is a general case of the `sum` function  \n",
    "In other words it's the equivalent of an aggregator function  \n",
    "Can also, optionally, define the initial value"
   ]
  },
  {
   "cell_type": "code",
   "execution_count": 31,
   "id": "eaedae91-e4e5-4e85-badd-5f870ccbeff4",
   "metadata": {},
   "outputs": [
    {
     "data": {
      "text/plain": [
       "10"
      ]
     },
     "execution_count": 31,
     "metadata": {},
     "output_type": "execute_result"
    }
   ],
   "source": [
    "from functools import reduce\n",
    "import operator\n",
    "\n",
    "reduce(operator.add, [1,2,3,4,])"
   ]
  },
  {
   "cell_type": "code",
   "execution_count": 32,
   "id": "b2576186-a61b-47a8-b7bc-ce840fa79e91",
   "metadata": {},
   "outputs": [
    {
     "data": {
      "text/plain": [
       "10"
      ]
     },
     "execution_count": 32,
     "metadata": {},
     "output_type": "execute_result"
    }
   ],
   "source": [
    "sum([1,2,3,4])"
   ]
  },
  {
   "cell_type": "markdown",
   "id": "6dea8323-5fc9-4c3b-a9bd-126c27bb20ac",
   "metadata": {},
   "source": [
    "### Multi input and Nested Comprehensions\n",
    "Comprehensions can take in an arbitrary number of inputs and if conditions  \n",
    "They work just like nested for-loops, evaluating the inner loop, for each element of the outer loop  "
   ]
  },
  {
   "cell_type": "code",
   "execution_count": 34,
   "id": "05376d56-8f64-4f1c-82b8-6d852cf826bb",
   "metadata": {
    "collapsed": true,
    "jupyter": {
     "outputs_hidden": true
    },
    "tags": []
   },
   "outputs": [
    {
     "data": {
      "text/plain": [
       "[(0, 0, 0),\n",
       " (0, 0, 1),\n",
       " (0, 0, 2),\n",
       " (0, 0, 3),\n",
       " (0, 0, 4),\n",
       " (0, 1, 0),\n",
       " (0, 1, 1),\n",
       " (0, 1, 2),\n",
       " (0, 1, 3),\n",
       " (0, 1, 4),\n",
       " (0, 2, 0),\n",
       " (0, 2, 1),\n",
       " (0, 2, 2),\n",
       " (0, 2, 3),\n",
       " (0, 2, 4),\n",
       " (0, 3, 0),\n",
       " (0, 3, 1),\n",
       " (0, 3, 2),\n",
       " (0, 3, 3),\n",
       " (0, 3, 4),\n",
       " (0, 4, 0),\n",
       " (0, 4, 1),\n",
       " (0, 4, 2),\n",
       " (0, 4, 3),\n",
       " (0, 4, 4),\n",
       " (1, 0, 0),\n",
       " (1, 0, 1),\n",
       " (1, 0, 2),\n",
       " (1, 0, 3),\n",
       " (1, 0, 4),\n",
       " (1, 1, 0),\n",
       " (1, 1, 1),\n",
       " (1, 1, 2),\n",
       " (1, 1, 3),\n",
       " (1, 1, 4),\n",
       " (1, 2, 0),\n",
       " (1, 2, 1),\n",
       " (1, 2, 2),\n",
       " (1, 2, 3),\n",
       " (1, 2, 4),\n",
       " (1, 3, 0),\n",
       " (1, 3, 1),\n",
       " (1, 3, 2),\n",
       " (1, 3, 3),\n",
       " (1, 3, 4),\n",
       " (1, 4, 0),\n",
       " (1, 4, 1),\n",
       " (1, 4, 2),\n",
       " (1, 4, 3),\n",
       " (1, 4, 4),\n",
       " (2, 0, 0),\n",
       " (2, 0, 1),\n",
       " (2, 0, 2),\n",
       " (2, 0, 3),\n",
       " (2, 0, 4),\n",
       " (2, 1, 0),\n",
       " (2, 1, 1),\n",
       " (2, 1, 2),\n",
       " (2, 1, 3),\n",
       " (2, 1, 4),\n",
       " (2, 2, 0),\n",
       " (2, 2, 1),\n",
       " (2, 2, 2),\n",
       " (2, 2, 3),\n",
       " (2, 2, 4),\n",
       " (2, 3, 0),\n",
       " (2, 3, 1),\n",
       " (2, 3, 2),\n",
       " (2, 3, 3),\n",
       " (2, 3, 4),\n",
       " (2, 4, 0),\n",
       " (2, 4, 1),\n",
       " (2, 4, 2),\n",
       " (2, 4, 3),\n",
       " (2, 4, 4),\n",
       " (3, 0, 0),\n",
       " (3, 0, 1),\n",
       " (3, 0, 2),\n",
       " (3, 0, 3),\n",
       " (3, 0, 4),\n",
       " (3, 1, 0),\n",
       " (3, 1, 1),\n",
       " (3, 1, 2),\n",
       " (3, 1, 3),\n",
       " (3, 1, 4),\n",
       " (3, 2, 0),\n",
       " (3, 2, 1),\n",
       " (3, 2, 2),\n",
       " (3, 2, 3),\n",
       " (3, 2, 4),\n",
       " (3, 3, 0),\n",
       " (3, 3, 1),\n",
       " (3, 3, 2),\n",
       " (3, 3, 3),\n",
       " (3, 3, 4),\n",
       " (3, 4, 0),\n",
       " (3, 4, 1),\n",
       " (3, 4, 2),\n",
       " (3, 4, 3),\n",
       " (3, 4, 4),\n",
       " (4, 0, 0),\n",
       " (4, 0, 1),\n",
       " (4, 0, 2),\n",
       " (4, 0, 3),\n",
       " (4, 0, 4),\n",
       " (4, 1, 0),\n",
       " (4, 1, 1),\n",
       " (4, 1, 2),\n",
       " (4, 1, 3),\n",
       " (4, 1, 4),\n",
       " (4, 2, 0),\n",
       " (4, 2, 1),\n",
       " (4, 2, 2),\n",
       " (4, 2, 3),\n",
       " (4, 2, 4),\n",
       " (4, 3, 0),\n",
       " (4, 3, 1),\n",
       " (4, 3, 2),\n",
       " (4, 3, 3),\n",
       " (4, 3, 4),\n",
       " (4, 4, 0),\n",
       " (4, 4, 1),\n",
       " (4, 4, 2),\n",
       " (4, 4, 3),\n",
       " (4, 4, 4)]"
      ]
     },
     "execution_count": 34,
     "metadata": {},
     "output_type": "execute_result"
    }
   ],
   "source": [
    "[(x,y,z) for x in range(5) for y in range(5) for z in range (5)]"
   ]
  },
  {
   "cell_type": "markdown",
   "id": "f3689e67-6125-4780-9fe6-bc3b9ecd6662",
   "metadata": {},
   "source": [
    "Looking at the output we can see that the order of the loops starts from the end and evaluates backwards  \n",
    "Care must be taken when using multiple inputs and multiple if clauses, as the clarity and readability of the code can get out of hand  \n",
    "Implementing for-loops at this point is the recommended action "
   ]
  },
  {
   "cell_type": "markdown",
   "id": "376a1b52-0c48-4dad-9bee-489be4c0569b",
   "metadata": {},
   "source": [
    "#### Nested Comprehensions\n",
    "Nested comprehensions are different in the sense that they return a list of lists, but the logic is the same"
   ]
  },
  {
   "cell_type": "code",
   "execution_count": 36,
   "id": "63f7d361-0483-4c60-b101-d90ae231e13d",
   "metadata": {},
   "outputs": [
    {
     "data": {
      "text/plain": [
       "[[], [0], [0, 3], [0, 3, 6], [0, 3, 6, 9]]"
      ]
     },
     "execution_count": 36,
     "metadata": {},
     "output_type": "execute_result"
    }
   ],
   "source": [
    "vals = [[y*3 for y in range(x)] for x in range(5)]\n",
    "vals"
   ]
  },
  {
   "cell_type": "markdown",
   "id": "dcbe156a-ade0-4dc5-85c1-cf4c601794c1",
   "metadata": {},
   "source": [
    "## Classes\n",
    "\n",
    "**Class atributes** are variables assigned within the body of the class and are not associated with instances of the class  \n",
    "\n",
    "**Instance attributes** are prefixed with the `self.` keyword and are associated to each instance, meaning they can vary between instances. Often are defined in the `__init__` method of the class  \n",
    "This means that class attributes are shared between instances, but instance attributes are not  \n",
    "\n",
    "Navigate to class attributes by **fully qualifying them with the class name**, even inside the class. This is because the class attributes are not defined in a scope, as classes do not instatiate scope enclosures  \n",
    "\n",
    "Assigning to class attributes through the self always creates new instance attributes, not class attributes, this can lead to hiding the class attributes with instance attributes of the same name. For this reason it's allways better to use the class name prefix when handling class attributes  "
   ]
  },
  {
   "cell_type": "code",
   "execution_count": 5,
   "id": "16c9e721-0640-44da-9e8e-b3a4abffbd8f",
   "metadata": {},
   "outputs": [],
   "source": [
    "class MyClass:\n",
    "    b = 'class attr'\n",
    "\n",
    "    def __init__(self):\n",
    "        self.a = 'instance attr'\n",
    "        print(self.a)\n",
    "        print(MyClass.b)\n",
    "        print(self.b) # the class attribute b can be acessed via self. but cannot be assigned with self.\n",
    "        print(MyClass.a)\n"
   ]
  },
  {
   "cell_type": "code",
   "execution_count": 6,
   "id": "3c542396-a0fa-434e-96fd-ee2b9f48b793",
   "metadata": {},
   "outputs": [
    {
     "name": "stdout",
     "output_type": "stream",
     "text": [
      "instance attr\n",
      "class attr\n",
      "class attr\n"
     ]
    },
    {
     "ename": "AttributeError",
     "evalue": "type object 'MyClass' has no attribute 'a'",
     "output_type": "error",
     "traceback": [
      "\u001b[1;31m---------------------------------------------------------------------------\u001b[0m",
      "\u001b[1;31mAttributeError\u001b[0m                            Traceback (most recent call last)",
      "\u001b[1;32mC:\\Users\\GONCAL~1.FEL\\AppData\\Local\\Temp/ipykernel_5324/3677805092.py\u001b[0m in \u001b[0;36m<module>\u001b[1;34m\u001b[0m\n\u001b[1;32m----> 1\u001b[1;33m \u001b[0minstance1\u001b[0m \u001b[1;33m=\u001b[0m \u001b[0mMyClass\u001b[0m\u001b[1;33m(\u001b[0m\u001b[1;33m)\u001b[0m\u001b[1;33m\u001b[0m\u001b[1;33m\u001b[0m\u001b[0m\n\u001b[0m",
      "\u001b[1;32mC:\\Users\\GONCAL~1.FEL\\AppData\\Local\\Temp/ipykernel_5324/1352031682.py\u001b[0m in \u001b[0;36m__init__\u001b[1;34m(self)\u001b[0m\n\u001b[0;32m      7\u001b[0m         \u001b[0mprint\u001b[0m\u001b[1;33m(\u001b[0m\u001b[0mMyClass\u001b[0m\u001b[1;33m.\u001b[0m\u001b[0mb\u001b[0m\u001b[1;33m)\u001b[0m\u001b[1;33m\u001b[0m\u001b[1;33m\u001b[0m\u001b[0m\n\u001b[0;32m      8\u001b[0m         \u001b[0mprint\u001b[0m\u001b[1;33m(\u001b[0m\u001b[0mself\u001b[0m\u001b[1;33m.\u001b[0m\u001b[0mb\u001b[0m\u001b[1;33m)\u001b[0m \u001b[1;31m# the class attribute b can be acessed via self. but cannot be assigned with self.\u001b[0m\u001b[1;33m\u001b[0m\u001b[1;33m\u001b[0m\u001b[0m\n\u001b[1;32m----> 9\u001b[1;33m         \u001b[0mprint\u001b[0m\u001b[1;33m(\u001b[0m\u001b[0mMyClass\u001b[0m\u001b[1;33m.\u001b[0m\u001b[0ma\u001b[0m\u001b[1;33m)\u001b[0m\u001b[1;33m\u001b[0m\u001b[1;33m\u001b[0m\u001b[0m\n\u001b[0m",
      "\u001b[1;31mAttributeError\u001b[0m: type object 'MyClass' has no attribute 'a'"
     ]
    }
   ],
   "source": [
    "instance1 = MyClass()"
   ]
  },
  {
   "cell_type": "code",
   "execution_count": 7,
   "id": "7f083150-3eda-4a3f-b278-8fb673b272fb",
   "metadata": {},
   "outputs": [
    {
     "data": {
      "text/plain": [
       "'instance attr'"
      ]
     },
     "execution_count": 7,
     "metadata": {},
     "output_type": "execute_result"
    }
   ],
   "source": [
    "instance1.a"
   ]
  },
  {
   "cell_type": "code",
   "execution_count": 8,
   "id": "b69a6b73-7bd4-4e57-9e0a-0735d8c83b81",
   "metadata": {},
   "outputs": [
    {
     "data": {
      "text/plain": [
       "'class attr'"
      ]
     },
     "execution_count": 8,
     "metadata": {},
     "output_type": "execute_result"
    }
   ],
   "source": [
    "instance1.b"
   ]
  },
  {
   "cell_type": "markdown",
   "id": "f35e2189-0527-488e-8cd6-4983e42891e3",
   "metadata": {},
   "source": [
    "The decorator `@staticmethod` can be used to create methods inside the class that are independent of the class and of the instance of the class  \n",
    "Requires the `self` argument, but does not actually use it. These methods are usually implementation details of the class. Can also be substituted by Global functions\n",
    "The decorator `@classmethod` can be used for methods which need the class but not the instance  \n",
    "The `@classmethod` decorator requires the `cls` argument and this is the name of the class being referenced, which is then used in the implementation of the method  "
   ]
  },
  {
   "cell_type": "code",
   "execution_count": 21,
   "id": "8aaffabf-0ea3-43ce-a90a-f949e248746d",
   "metadata": {},
   "outputs": [],
   "source": [
    "class ShippingContainer_old:\n",
    "    \n",
    "    next_serial = 1337\n",
    "    \n",
    "    @classmethod\n",
    "    def _generate_serial(cls):\n",
    "        result = cls.next_serial\n",
    "        cls.next_serial += 1\n",
    "        return result\n",
    "    \n",
    "    \n",
    "    def __init__(self, owner_code, contents):\n",
    "        self.owner_code = owner_code\n",
    "        self.contents = contents\n",
    "        self.serial = ShippingContainer._generate_serial()\n",
    "        \n",
    "    \n",
    "    @classmethod\n",
    "    def create_empty(cls, owner_code):\n",
    "        return cls(owner_code, contents=[])"
   ]
  },
  {
   "cell_type": "code",
   "execution_count": 12,
   "id": "4f2f7267-2303-43d9-a7de-444211971080",
   "metadata": {},
   "outputs": [
    {
     "data": {
      "text/plain": [
       "1337"
      ]
     },
     "execution_count": 12,
     "metadata": {},
     "output_type": "execute_result"
    }
   ],
   "source": [
    "c1 = ShippingContainer_old('MAE','tools')\n",
    "c1.serial"
   ]
  },
  {
   "cell_type": "code",
   "execution_count": 13,
   "id": "ffce7643-a45d-4cb0-91a8-bbcf13168003",
   "metadata": {},
   "outputs": [
    {
     "data": {
      "text/plain": [
       "1338"
      ]
     },
     "execution_count": 13,
     "metadata": {},
     "output_type": "execute_result"
    }
   ],
   "source": [
    "c2 = ShippingContainer_old('MAE','tools2')\n",
    "c2.serial"
   ]
  },
  {
   "cell_type": "code",
   "execution_count": 14,
   "id": "e112721f-495d-4b9b-b1f2-adde2808f570",
   "metadata": {},
   "outputs": [
    {
     "data": {
      "text/plain": [
       "1339"
      ]
     },
     "execution_count": 14,
     "metadata": {},
     "output_type": "execute_result"
    }
   ],
   "source": [
    "c2.next_serial"
   ]
  },
  {
   "cell_type": "markdown",
   "id": "a04f8403-e02e-4dff-82f0-b87a2e89165b",
   "metadata": {},
   "source": [
    "#### Named-contructors\n",
    "Named constructors are factory methods that return an instance of a class  \n",
    "Give more flexibility to create instances  \n",
    "An example of a named constructor that creates instances of empty shipping containers from the ShippingContainer class"
   ]
  },
  {
   "cell_type": "code",
   "execution_count": 17,
   "id": "61e9f4d9-f865-4a0f-95f2-a21a23f9216c",
   "metadata": {},
   "outputs": [],
   "source": [
    "@classmethod\n",
    "def create_empty(cls):\n",
    "    return cls(owner_code, contents=[])"
   ]
  },
  {
   "cell_type": "code",
   "execution_count": 22,
   "id": "5d9a9750-3d24-40bf-825f-707bb410dedc",
   "metadata": {},
   "outputs": [
    {
     "data": {
      "text/plain": [
       "<__main__.ShippingContainer at 0x27480b08b80>"
      ]
     },
     "execution_count": 22,
     "metadata": {},
     "output_type": "execute_result"
    }
   ],
   "source": [
    "c3 = ShippingContainer_old.create_empty('MAE')\n",
    "c3"
   ]
  },
  {
   "cell_type": "markdown",
   "id": "5d588593-202b-482c-9013-f5c852dd5eb4",
   "metadata": {},
   "source": [
    "Static and class-methods can be overriden via inheritance.  \n",
    "Static and class-methods are polymorphic when invoked through an instance instead of through a class  \n",
    "This is, when we need a method to change behaviour based on the instance being called, we use the `self.` to propagate the differences between instances to the method, and not the class name, as it is independent of the instance and would return the default value, rather than the desired, alternate behaviour."
   ]
  },
  {
   "cell_type": "markdown",
   "id": "8210fe89-60d6-4b96-ba01-a77209905543",
   "metadata": {},
   "source": [
    "The `@property` decorator can be used to wrap attributes from getter and setter methods\n",
    "We can easily override properties by delegating to regular methods "
   ]
  },
  {
   "cell_type": "markdown",
   "id": "168f4735-baf2-459e-b0d8-3109bd0f5bf8",
   "metadata": {},
   "source": [
    "The demo class below contains examples of all these characteristics"
   ]
  },
  {
   "cell_type": "markdown",
   "id": "f02d28d4-be25-42cc-92c2-3d4d1bc99ae2",
   "metadata": {},
   "source": [
    "`ShippingContainer` is a class with static and classic methods  \n",
    "These methods accept and forward `**kwargs` to allow inheritance for the derived classes  \n",
    "`RefrigeratedShippingContainer` is a derived class that inherits from `ShippingContainer`. The main difference is in the keyword argument celsius (the * before the celsius argument makes it a keyword argument). The derived class also uses the `super().__init__` to allow for inheritance forwarding  \n",
    "The base class should have no knowledge of derived classes, this is why we should use the `**kwargs` to thread variables between them  "
   ]
  },
  {
   "cell_type": "code",
   "execution_count": 1,
   "id": "5263a742-cf8b-4fed-ae3c-29be4d2ce350",
   "metadata": {},
   "outputs": [],
   "source": [
    "import iso6346"
   ]
  },
  {
   "cell_type": "code",
   "execution_count": 6,
   "id": "3554db81-c802-48c2-bd62-5435553257b1",
   "metadata": {},
   "outputs": [
    {
     "data": {
      "text/plain": [
       "'\\nISO 6346 shipping container codes.\\n'"
      ]
     },
     "execution_count": 7,
     "metadata": {},
     "output_type": "execute_result"
    }
   ],
   "source": [
    "iso6346.__doc__()"
   ]
  },
  {
   "cell_type": "code",
   "execution_count": 12,
   "id": "bb16750c-f928-4530-a516-f75c62add128",
   "metadata": {},
   "outputs": [],
   "source": [
    "r3 = RefrigeratedShippingContainer.create_with_items('ESC', 10, ['fish', 'onions'], celsius=2)"
   ]
  },
  {
   "cell_type": "code",
   "execution_count": 13,
   "id": "695a397f-167d-4a59-ac3d-6a0fe11bba5b",
   "metadata": {},
   "outputs": [
    {
     "data": {
      "text/plain": [
       "<__main__.RefrigeratedShippingContainer at 0x1c4a13e1850>"
      ]
     },
     "execution_count": 13,
     "metadata": {},
     "output_type": "execute_result"
    }
   ],
   "source": [
    "r3"
   ]
  },
  {
   "cell_type": "code",
   "execution_count": 14,
   "id": "fe0836a7-9d59-47f5-820a-d9120f845338",
   "metadata": {},
   "outputs": [
    {
     "data": {
      "text/plain": [
       "['fish', 'onions']"
      ]
     },
     "execution_count": 14,
     "metadata": {},
     "output_type": "execute_result"
    }
   ],
   "source": [
    "r3.contents"
   ]
  },
  {
   "cell_type": "code",
   "execution_count": 15,
   "id": "6ac6406a-87ed-4442-b913-1c53592e0ab8",
   "metadata": {},
   "outputs": [
    {
     "data": {
      "text/plain": [
       "'ESCR0013370'"
      ]
     },
     "execution_count": 15,
     "metadata": {},
     "output_type": "execute_result"
    }
   ],
   "source": [
    "r3.bic"
   ]
  },
  {
   "cell_type": "code",
   "execution_count": 16,
   "id": "bed8b5f1-01b5-4daf-af98-8e6397274649",
   "metadata": {},
   "outputs": [
    {
     "data": {
      "text/plain": [
       "2"
      ]
     },
     "execution_count": 16,
     "metadata": {},
     "output_type": "execute_result"
    }
   ],
   "source": [
    "r3.celsius"
   ]
  },
  {
   "cell_type": "markdown",
   "id": "6593a684-7198-4781-8778-37ac05f5d58f",
   "metadata": {},
   "source": [
    "The `celsius` method is a getter method that returns the value of `celsius`. This means the method behaves like an attribute of the class  \n",
    "This also makes it a read only attribute, we cannot set it from the repl without the `setter` method  \n",
    "The decorator `setter` does the assigning and can even check conditions such as temperature threshold  \n",
    "The farhneit property uses static methods to convert from celsius to f and also makes use of the same celsius setter to guaranteee temperature thresholds. The property itself does not need to check the temperature.  \n",
    "\n",
    "This is in line with DRY type programming, Dont Repeat Yourself  \n",
    "\n",
    "The property decorator is very powerful to maintain class invariants, but it can lead to over-coupling of the methods in the class if overused.\n",
    "\n",
    "It's allways better to design code where the client **Tells** the program what to do, **not ask** the program its state and then do the actions themselves\n",
    "\n"
   ]
  },
  {
   "cell_type": "code",
   "execution_count": 17,
   "id": "dc63e9cb-5525-4fc5-9f1a-3a7b97e3906a",
   "metadata": {},
   "outputs": [
    {
     "ename": "ValueError",
     "evalue": "Temperature too hot!",
     "output_type": "error",
     "traceback": [
      "\u001b[1;31m---------------------------------------------------------------------------\u001b[0m",
      "\u001b[1;31mValueError\u001b[0m                                Traceback (most recent call last)",
      "\u001b[1;32mC:\\Users\\GONCAL~1.FEL\\AppData\\Local\\Temp/ipykernel_4476/3919584066.py\u001b[0m in \u001b[0;36m<module>\u001b[1;34m\u001b[0m\n\u001b[1;32m----> 1\u001b[1;33m \u001b[0mr3\u001b[0m\u001b[1;33m.\u001b[0m\u001b[0mcelsius\u001b[0m \u001b[1;33m=\u001b[0m \u001b[1;36m6\u001b[0m\u001b[1;33m\u001b[0m\u001b[1;33m\u001b[0m\u001b[0m\n\u001b[0m",
      "\u001b[1;32mC:\\Users\\GONCAL~1.FEL\\AppData\\Local\\Temp/ipykernel_4476/1598316361.py\u001b[0m in \u001b[0;36mcelsius\u001b[1;34m(self, value)\u001b[0m\n\u001b[0;32m     67\u001b[0m     \u001b[1;33m@\u001b[0m\u001b[0mcelsius\u001b[0m\u001b[1;33m.\u001b[0m\u001b[0msetter\u001b[0m\u001b[1;33m\u001b[0m\u001b[1;33m\u001b[0m\u001b[0m\n\u001b[0;32m     68\u001b[0m     \u001b[1;32mdef\u001b[0m \u001b[0mcelsius\u001b[0m\u001b[1;33m(\u001b[0m\u001b[0mself\u001b[0m\u001b[1;33m,\u001b[0m \u001b[0mvalue\u001b[0m\u001b[1;33m)\u001b[0m\u001b[1;33m:\u001b[0m\u001b[1;33m\u001b[0m\u001b[1;33m\u001b[0m\u001b[0m\n\u001b[1;32m---> 69\u001b[1;33m         \u001b[0mself\u001b[0m\u001b[1;33m.\u001b[0m\u001b[0m_set_celsius\u001b[0m\u001b[1;33m(\u001b[0m\u001b[0mvalue\u001b[0m\u001b[1;33m)\u001b[0m\u001b[1;33m\u001b[0m\u001b[1;33m\u001b[0m\u001b[0m\n\u001b[0m\u001b[0;32m     70\u001b[0m \u001b[1;33m\u001b[0m\u001b[0m\n\u001b[0;32m     71\u001b[0m     \u001b[1;32mdef\u001b[0m \u001b[0m_set_celsius\u001b[0m\u001b[1;33m(\u001b[0m\u001b[0mself\u001b[0m\u001b[1;33m,\u001b[0m \u001b[0mvalue\u001b[0m\u001b[1;33m)\u001b[0m\u001b[1;33m:\u001b[0m\u001b[1;33m\u001b[0m\u001b[1;33m\u001b[0m\u001b[0m\n",
      "\u001b[1;32mC:\\Users\\GONCAL~1.FEL\\AppData\\Local\\Temp/ipykernel_4476/1598316361.py\u001b[0m in \u001b[0;36m_set_celsius\u001b[1;34m(self, value)\u001b[0m\n\u001b[0;32m     71\u001b[0m     \u001b[1;32mdef\u001b[0m \u001b[0m_set_celsius\u001b[0m\u001b[1;33m(\u001b[0m\u001b[0mself\u001b[0m\u001b[1;33m,\u001b[0m \u001b[0mvalue\u001b[0m\u001b[1;33m)\u001b[0m\u001b[1;33m:\u001b[0m\u001b[1;33m\u001b[0m\u001b[1;33m\u001b[0m\u001b[0m\n\u001b[0;32m     72\u001b[0m         \u001b[1;32mif\u001b[0m \u001b[0mvalue\u001b[0m \u001b[1;33m>\u001b[0m \u001b[0mRefrigeratedShippingContainer\u001b[0m\u001b[1;33m.\u001b[0m\u001b[0mMAX_CELSIUS\u001b[0m\u001b[1;33m:\u001b[0m\u001b[1;33m\u001b[0m\u001b[1;33m\u001b[0m\u001b[0m\n\u001b[1;32m---> 73\u001b[1;33m             \u001b[1;32mraise\u001b[0m \u001b[0mValueError\u001b[0m\u001b[1;33m(\u001b[0m\u001b[1;34m\"Temperature too hot!\"\u001b[0m\u001b[1;33m)\u001b[0m\u001b[1;33m\u001b[0m\u001b[1;33m\u001b[0m\u001b[0m\n\u001b[0m\u001b[0;32m     74\u001b[0m         \u001b[0mself\u001b[0m\u001b[1;33m.\u001b[0m\u001b[0m_celsius\u001b[0m \u001b[1;33m=\u001b[0m \u001b[0mvalue\u001b[0m\u001b[1;33m\u001b[0m\u001b[1;33m\u001b[0m\u001b[0m\n\u001b[0;32m     75\u001b[0m \u001b[1;33m\u001b[0m\u001b[0m\n",
      "\u001b[1;31mValueError\u001b[0m: Temperature too hot!"
     ]
    }
   ],
   "source": [
    "r3.celsius = 6"
   ]
  },
  {
   "cell_type": "code",
   "execution_count": 8,
   "id": "694c5efd-cda1-42a9-9d09-544ed089032d",
   "metadata": {},
   "outputs": [],
   "source": [
    "class ShippingContainer:\n",
    "\n",
    "    HEIGHT_FT = 8.5\n",
    "    WIDTH_FT = 8.0\n",
    "\n",
    "    next_serial = 1337\n",
    "\n",
    "    @classmethod\n",
    "    def _generate_serial(cls):\n",
    "        result = cls.next_serial\n",
    "        cls.next_serial += 1\n",
    "        return result\n",
    "\n",
    "    @staticmethod\n",
    "    def _make_bic_code(owner_code, serial):\n",
    "        return iso6346.create(\n",
    "            owner_code=owner_code,\n",
    "            serial=str(serial).zfill(6)\n",
    "        )\n",
    "\n",
    "    @classmethod\n",
    "    def create_empty(cls, owner_code, length_ft, **kwargs):\n",
    "        return cls(owner_code, length_ft, contents=[], **kwargs)\n",
    "\n",
    "    @classmethod\n",
    "    def create_with_items(cls, owner_code, length_ft, items, **kwargs):\n",
    "        return cls(owner_code, length_ft, contents=list(items), **kwargs)\n",
    "\n",
    "    def __init__(self, owner_code, length_ft, contents, **kwargs):\n",
    "        self.owner_code = owner_code\n",
    "        self.length_ft = length_ft\n",
    "        self.contents = contents\n",
    "        self.bic = self._make_bic_code(\n",
    "            owner_code=owner_code,\n",
    "            serial=ShippingContainer._generate_serial()\n",
    "        )\n",
    "\n",
    "    @property\n",
    "    def volume_ft3(self):\n",
    "        return self._calc_volume()\n",
    "\n",
    "    def _calc_volume(self):\n",
    "        return ShippingContainer.HEIGHT_FT * ShippingContainer.WIDTH_FT * self.length_ft\n",
    "\n",
    "\n",
    "class RefrigeratedShippingContainer(ShippingContainer):\n",
    "\n",
    "    MAX_CELSIUS = 4.0\n",
    "    FRIDGE_VOLUME_FT3 = 100\n",
    "\n",
    "    def __init__(self, owner_code, length_ft, contents, *, celsius, **kwargs):\n",
    "        super().__init__(owner_code, length_ft, contents, **kwargs)\n",
    "        self.celsius = celsius\n",
    "\n",
    "    @staticmethod\n",
    "    def _c_to_f(celsius):\n",
    "        return celsius * 9/5 + 32\n",
    "\n",
    "    @staticmethod\n",
    "    def _f_to_c(fahrenheit):\n",
    "        return (fahrenheit - 32) * 5/9\n",
    "\n",
    "    @property\n",
    "    def celsius(self):\n",
    "        return self._celsius\n",
    "\n",
    "    @celsius.setter\n",
    "    def celsius(self, value):\n",
    "        self._set_celsius(value)\n",
    "\n",
    "    def _set_celsius(self, value):\n",
    "        if value > RefrigeratedShippingContainer.MAX_CELSIUS:\n",
    "            raise ValueError(\"Temperature too hot!\")\n",
    "        self._celsius = value\n",
    "\n",
    "    @property\n",
    "    def fahrenheit(self):\n",
    "        return RefrigeratedShippingContainer._c_to_f(self.celsius)\n",
    "\n",
    "    @fahrenheit.setter\n",
    "    def fahrenheit(self, value):\n",
    "        self.celsius = RefrigeratedShippingContainer._f_to_c(value)\n",
    "\n",
    "    def _calc_volume(self):\n",
    "        return (\n",
    "            super()._calc_volume()\n",
    "            - RefrigeratedShippingContainer.FRIDGE_VOLUME_FT3\n",
    "        )\n",
    "\n",
    "    @staticmethod\n",
    "    def _make_bic_code(owner_code, serial):\n",
    "        return iso6346.create(\n",
    "            owner_code=owner_code,\n",
    "            serial=str(serial).zfill(6),\n",
    "            category=\"R\"\n",
    "        )\n",
    "\n",
    "\n",
    "class HeatedRefrigeratedShippingContainer(RefrigeratedShippingContainer):\n",
    "\n",
    "    MIN_CELSIUS = -20\n",
    "\n",
    "    def _set_celsius(self, value):\n",
    "        if value < HeatedRefrigeratedShippingContainer.MIN_CELSIUS:\n",
    "            raise ValueError(\"Temperature too cold!\")\n",
    "        super()._set_celsius(value)\n"
   ]
  },
  {
   "cell_type": "markdown",
   "id": "69c4e70d-20d3-48c4-a722-26719826e7dc",
   "metadata": {},
   "source": [
    "The HeatedRefrigeratedShippingContainer class is an example of overriding properties of the base class with derived classes  \n",
    "This is done by turning the getter and setter mehtod to template regular methods that are then overriden in the derived classes, like the `_set_celsius` and `_calc_volume`\n"
   ]
  },
  {
   "cell_type": "code",
   "execution_count": 21,
   "id": "03a2e239-c106-46a7-899e-64c2a3d90bd5",
   "metadata": {},
   "outputs": [
    {
     "data": {
      "text/plain": [
       "-18"
      ]
     },
     "execution_count": 21,
     "metadata": {},
     "output_type": "execute_result"
    }
   ],
   "source": [
    "h1 = HeatedRefrigeratedShippingContainer('ESC', 40, ['dogs'], celsius = -18)\n",
    "h1.celsius"
   ]
  },
  {
   "cell_type": "code",
   "execution_count": 22,
   "id": "50c2e325-da5d-40a0-adc3-a72f201d87c1",
   "metadata": {},
   "outputs": [
    {
     "ename": "ValueError",
     "evalue": "Temperature too cold!",
     "output_type": "error",
     "traceback": [
      "\u001b[1;31m---------------------------------------------------------------------------\u001b[0m",
      "\u001b[1;31mValueError\u001b[0m                                Traceback (most recent call last)",
      "\u001b[1;32mC:\\Users\\GONCAL~1.FEL\\AppData\\Local\\Temp/ipykernel_4476/4128793474.py\u001b[0m in \u001b[0;36m<module>\u001b[1;34m\u001b[0m\n\u001b[1;32m----> 1\u001b[1;33m \u001b[0mh1\u001b[0m\u001b[1;33m.\u001b[0m\u001b[0mcelsius\u001b[0m \u001b[1;33m=\u001b[0m \u001b[1;33m-\u001b[0m\u001b[1;36m23\u001b[0m\u001b[1;33m\u001b[0m\u001b[1;33m\u001b[0m\u001b[0m\n\u001b[0m",
      "\u001b[1;32mC:\\Users\\GONCAL~1.FEL\\AppData\\Local\\Temp/ipykernel_4476/1598316361.py\u001b[0m in \u001b[0;36mcelsius\u001b[1;34m(self, value)\u001b[0m\n\u001b[0;32m     67\u001b[0m     \u001b[1;33m@\u001b[0m\u001b[0mcelsius\u001b[0m\u001b[1;33m.\u001b[0m\u001b[0msetter\u001b[0m\u001b[1;33m\u001b[0m\u001b[1;33m\u001b[0m\u001b[0m\n\u001b[0;32m     68\u001b[0m     \u001b[1;32mdef\u001b[0m \u001b[0mcelsius\u001b[0m\u001b[1;33m(\u001b[0m\u001b[0mself\u001b[0m\u001b[1;33m,\u001b[0m \u001b[0mvalue\u001b[0m\u001b[1;33m)\u001b[0m\u001b[1;33m:\u001b[0m\u001b[1;33m\u001b[0m\u001b[1;33m\u001b[0m\u001b[0m\n\u001b[1;32m---> 69\u001b[1;33m         \u001b[0mself\u001b[0m\u001b[1;33m.\u001b[0m\u001b[0m_set_celsius\u001b[0m\u001b[1;33m(\u001b[0m\u001b[0mvalue\u001b[0m\u001b[1;33m)\u001b[0m\u001b[1;33m\u001b[0m\u001b[1;33m\u001b[0m\u001b[0m\n\u001b[0m\u001b[0;32m     70\u001b[0m \u001b[1;33m\u001b[0m\u001b[0m\n\u001b[0;32m     71\u001b[0m     \u001b[1;32mdef\u001b[0m \u001b[0m_set_celsius\u001b[0m\u001b[1;33m(\u001b[0m\u001b[0mself\u001b[0m\u001b[1;33m,\u001b[0m \u001b[0mvalue\u001b[0m\u001b[1;33m)\u001b[0m\u001b[1;33m:\u001b[0m\u001b[1;33m\u001b[0m\u001b[1;33m\u001b[0m\u001b[0m\n",
      "\u001b[1;32mC:\\Users\\GONCAL~1.FEL\\AppData\\Local\\Temp/ipykernel_4476/1598316361.py\u001b[0m in \u001b[0;36m_set_celsius\u001b[1;34m(self, value)\u001b[0m\n\u001b[0;32m    103\u001b[0m     \u001b[1;32mdef\u001b[0m \u001b[0m_set_celsius\u001b[0m\u001b[1;33m(\u001b[0m\u001b[0mself\u001b[0m\u001b[1;33m,\u001b[0m \u001b[0mvalue\u001b[0m\u001b[1;33m)\u001b[0m\u001b[1;33m:\u001b[0m\u001b[1;33m\u001b[0m\u001b[1;33m\u001b[0m\u001b[0m\n\u001b[0;32m    104\u001b[0m         \u001b[1;32mif\u001b[0m \u001b[0mvalue\u001b[0m \u001b[1;33m<\u001b[0m \u001b[0mHeatedRefrigeratedShippingContainer\u001b[0m\u001b[1;33m.\u001b[0m\u001b[0mMIN_CELSIUS\u001b[0m\u001b[1;33m:\u001b[0m\u001b[1;33m\u001b[0m\u001b[1;33m\u001b[0m\u001b[0m\n\u001b[1;32m--> 105\u001b[1;33m             \u001b[1;32mraise\u001b[0m \u001b[0mValueError\u001b[0m\u001b[1;33m(\u001b[0m\u001b[1;34m\"Temperature too cold!\"\u001b[0m\u001b[1;33m)\u001b[0m\u001b[1;33m\u001b[0m\u001b[1;33m\u001b[0m\u001b[0m\n\u001b[0m\u001b[0;32m    106\u001b[0m         \u001b[0msuper\u001b[0m\u001b[1;33m(\u001b[0m\u001b[1;33m)\u001b[0m\u001b[1;33m.\u001b[0m\u001b[0m_set_celsius\u001b[0m\u001b[1;33m(\u001b[0m\u001b[0mvalue\u001b[0m\u001b[1;33m)\u001b[0m\u001b[1;33m\u001b[0m\u001b[1;33m\u001b[0m\u001b[0m\n",
      "\u001b[1;31mValueError\u001b[0m: Temperature too cold!"
     ]
    }
   ],
   "source": [
    "h1.celsius = -23"
   ]
  },
  {
   "cell_type": "code",
   "execution_count": 23,
   "id": "acecb26e-0001-4b2b-ac38-6397bb8e9179",
   "metadata": {},
   "outputs": [
    {
     "ename": "ValueError",
     "evalue": "Temperature too hot!",
     "output_type": "error",
     "traceback": [
      "\u001b[1;31m---------------------------------------------------------------------------\u001b[0m",
      "\u001b[1;31mValueError\u001b[0m                                Traceback (most recent call last)",
      "\u001b[1;32mC:\\Users\\GONCAL~1.FEL\\AppData\\Local\\Temp/ipykernel_4476/2651647147.py\u001b[0m in \u001b[0;36m<module>\u001b[1;34m\u001b[0m\n\u001b[1;32m----> 1\u001b[1;33m \u001b[0mh1\u001b[0m\u001b[1;33m.\u001b[0m\u001b[0mcelsius\u001b[0m \u001b[1;33m=\u001b[0m \u001b[1;36m40\u001b[0m\u001b[1;33m\u001b[0m\u001b[1;33m\u001b[0m\u001b[0m\n\u001b[0m",
      "\u001b[1;32mC:\\Users\\GONCAL~1.FEL\\AppData\\Local\\Temp/ipykernel_4476/1598316361.py\u001b[0m in \u001b[0;36mcelsius\u001b[1;34m(self, value)\u001b[0m\n\u001b[0;32m     67\u001b[0m     \u001b[1;33m@\u001b[0m\u001b[0mcelsius\u001b[0m\u001b[1;33m.\u001b[0m\u001b[0msetter\u001b[0m\u001b[1;33m\u001b[0m\u001b[1;33m\u001b[0m\u001b[0m\n\u001b[0;32m     68\u001b[0m     \u001b[1;32mdef\u001b[0m \u001b[0mcelsius\u001b[0m\u001b[1;33m(\u001b[0m\u001b[0mself\u001b[0m\u001b[1;33m,\u001b[0m \u001b[0mvalue\u001b[0m\u001b[1;33m)\u001b[0m\u001b[1;33m:\u001b[0m\u001b[1;33m\u001b[0m\u001b[1;33m\u001b[0m\u001b[0m\n\u001b[1;32m---> 69\u001b[1;33m         \u001b[0mself\u001b[0m\u001b[1;33m.\u001b[0m\u001b[0m_set_celsius\u001b[0m\u001b[1;33m(\u001b[0m\u001b[0mvalue\u001b[0m\u001b[1;33m)\u001b[0m\u001b[1;33m\u001b[0m\u001b[1;33m\u001b[0m\u001b[0m\n\u001b[0m\u001b[0;32m     70\u001b[0m \u001b[1;33m\u001b[0m\u001b[0m\n\u001b[0;32m     71\u001b[0m     \u001b[1;32mdef\u001b[0m \u001b[0m_set_celsius\u001b[0m\u001b[1;33m(\u001b[0m\u001b[0mself\u001b[0m\u001b[1;33m,\u001b[0m \u001b[0mvalue\u001b[0m\u001b[1;33m)\u001b[0m\u001b[1;33m:\u001b[0m\u001b[1;33m\u001b[0m\u001b[1;33m\u001b[0m\u001b[0m\n",
      "\u001b[1;32mC:\\Users\\GONCAL~1.FEL\\AppData\\Local\\Temp/ipykernel_4476/1598316361.py\u001b[0m in \u001b[0;36m_set_celsius\u001b[1;34m(self, value)\u001b[0m\n\u001b[0;32m    104\u001b[0m         \u001b[1;32mif\u001b[0m \u001b[0mvalue\u001b[0m \u001b[1;33m<\u001b[0m \u001b[0mHeatedRefrigeratedShippingContainer\u001b[0m\u001b[1;33m.\u001b[0m\u001b[0mMIN_CELSIUS\u001b[0m\u001b[1;33m:\u001b[0m\u001b[1;33m\u001b[0m\u001b[1;33m\u001b[0m\u001b[0m\n\u001b[0;32m    105\u001b[0m             \u001b[1;32mraise\u001b[0m \u001b[0mValueError\u001b[0m\u001b[1;33m(\u001b[0m\u001b[1;34m\"Temperature too cold!\"\u001b[0m\u001b[1;33m)\u001b[0m\u001b[1;33m\u001b[0m\u001b[1;33m\u001b[0m\u001b[0m\n\u001b[1;32m--> 106\u001b[1;33m         \u001b[0msuper\u001b[0m\u001b[1;33m(\u001b[0m\u001b[1;33m)\u001b[0m\u001b[1;33m.\u001b[0m\u001b[0m_set_celsius\u001b[0m\u001b[1;33m(\u001b[0m\u001b[0mvalue\u001b[0m\u001b[1;33m)\u001b[0m\u001b[1;33m\u001b[0m\u001b[1;33m\u001b[0m\u001b[0m\n\u001b[0m",
      "\u001b[1;32mC:\\Users\\GONCAL~1.FEL\\AppData\\Local\\Temp/ipykernel_4476/1598316361.py\u001b[0m in \u001b[0;36m_set_celsius\u001b[1;34m(self, value)\u001b[0m\n\u001b[0;32m     71\u001b[0m     \u001b[1;32mdef\u001b[0m \u001b[0m_set_celsius\u001b[0m\u001b[1;33m(\u001b[0m\u001b[0mself\u001b[0m\u001b[1;33m,\u001b[0m \u001b[0mvalue\u001b[0m\u001b[1;33m)\u001b[0m\u001b[1;33m:\u001b[0m\u001b[1;33m\u001b[0m\u001b[1;33m\u001b[0m\u001b[0m\n\u001b[0;32m     72\u001b[0m         \u001b[1;32mif\u001b[0m \u001b[0mvalue\u001b[0m \u001b[1;33m>\u001b[0m \u001b[0mRefrigeratedShippingContainer\u001b[0m\u001b[1;33m.\u001b[0m\u001b[0mMAX_CELSIUS\u001b[0m\u001b[1;33m:\u001b[0m\u001b[1;33m\u001b[0m\u001b[1;33m\u001b[0m\u001b[0m\n\u001b[1;32m---> 73\u001b[1;33m             \u001b[1;32mraise\u001b[0m \u001b[0mValueError\u001b[0m\u001b[1;33m(\u001b[0m\u001b[1;34m\"Temperature too hot!\"\u001b[0m\u001b[1;33m)\u001b[0m\u001b[1;33m\u001b[0m\u001b[1;33m\u001b[0m\u001b[0m\n\u001b[0m\u001b[0;32m     74\u001b[0m         \u001b[0mself\u001b[0m\u001b[1;33m.\u001b[0m\u001b[0m_celsius\u001b[0m \u001b[1;33m=\u001b[0m \u001b[0mvalue\u001b[0m\u001b[1;33m\u001b[0m\u001b[1;33m\u001b[0m\u001b[0m\n\u001b[0;32m     75\u001b[0m \u001b[1;33m\u001b[0m\u001b[0m\n",
      "\u001b[1;31mValueError\u001b[0m: Temperature too hot!"
     ]
    }
   ],
   "source": [
    "h1.celsius = 40"
   ]
  },
  {
   "cell_type": "markdown",
   "id": "ba9981ff-deba-429f-bed3-53a324b87f75",
   "metadata": {},
   "source": [
    "### String Representation\n",
    "3 built in functions can be used to produce string representations of objects:\n",
    "\n",
    "#### repre() \n",
    "is used for developers and gives the response of the REPL\n",
    "#### str()\n",
    "gives the default of string conversion and print, used for end-users\n",
    "#### format()\n",
    "is also used for users, but gives more flexibitlity and control of the details printed\n",
    "\n",
    "All these functions delegate to the special dunder methods of the same name\n",
    "\n",
    "Usaully __repr__() is not very useful and should be overriden iside the class to display more useful info to developers"
   ]
  },
  {
   "cell_type": "code",
   "execution_count": 25,
   "id": "b572ca47-f6f7-4e86-9b61-de81aa3d4d1f",
   "metadata": {},
   "outputs": [],
   "source": [
    "#Template of __repre__() implementation\n",
    "def __repr__(self):\n",
    "    return f'{typename(self)}(argument 1 = {self.arg1_name}, argument 2 = {self.arg2_name} )'"
   ]
  },
  {
   "cell_type": "markdown",
   "id": "b9a2012b-4838-4d5c-862e-8e1212dde590",
   "metadata": {},
   "source": [
    "Can also see the repr result and the variable name using `=` in the f string"
   ]
  },
  {
   "cell_type": "code",
   "execution_count": 28,
   "id": "4f45c1ed-b07e-4225-bcf9-4a4b01691404",
   "metadata": {},
   "outputs": [
    {
     "data": {
      "text/plain": [
       "\"variable_name='the repr result'\""
      ]
     },
     "execution_count": 28,
     "metadata": {},
     "output_type": "execute_result"
    }
   ],
   "source": [
    "variable_name = 'the repr result'\n",
    "f'{variable_name=}'"
   ]
  },
  {
   "cell_type": "markdown",
   "id": "c777004f-a4d0-40d4-880e-130bbfd9ab3e",
   "metadata": {},
   "source": [
    "### Multiple Inheritance\n",
    "Because Python is a **duck typing** language, there is no need to satisfy a static type system through the use of inheritance between objects.\n",
    "\n",
    "It's best to use inheritance to share implementation!\n",
    "\n",
    "To declare multiple classes to inherit, use a comma separated sequence of class names  \n",
    "A class can have an arbitrary number of base classes  \n",
    "Generally its better to initialize base classes by calling the `__init__` from the subclasses initializer  \n",
    "If no base class is initialized, when multiple base classes are present, the first base class is initialized  \n",
    "If a class with no init and a single base class, the base class init is automatically called on contruction"
   ]
  },
  {
   "cell_type": "code",
   "execution_count": 40,
   "id": "68b5ee31-291a-4f8f-83f5-7582e1296f33",
   "metadata": {},
   "outputs": [],
   "source": [
    "class Base:\n",
    "    def __init__(self):\n",
    "        print('Base class init')\n",
    "    \n",
    "    def f(self):\n",
    "        print('Base.f()')\n",
    "        \n",
    "class SubClass(Base):\n",
    "    def __init__(self):\n",
    "        super().__init__()\n",
    "        print('Subclass init')\n",
    "    \n",
    "    def f(self):\n",
    "        print('Subclass f()')\n",
    "        super().f()"
   ]
  },
  {
   "cell_type": "code",
   "execution_count": 41,
   "id": "3f99fb84-181e-445d-ad68-df5ae38bbf73",
   "metadata": {},
   "outputs": [
    {
     "name": "stdout",
     "output_type": "stream",
     "text": [
      "Base class init\n",
      "Subclass init\n"
     ]
    }
   ],
   "source": [
    "s = SubClass()"
   ]
  },
  {
   "cell_type": "code",
   "execution_count": 42,
   "id": "f77680bb-33ed-4c5e-84a1-589c327eb8eb",
   "metadata": {},
   "outputs": [
    {
     "name": "stdout",
     "output_type": "stream",
     "text": [
      "Subclass f()\n",
      "Base.f()\n"
     ]
    }
   ],
   "source": [
    "# overrides base class f, BUT can still call base class f() with super()\n",
    "s.f()"
   ]
  },
  {
   "cell_type": "markdown",
   "id": "476a350e-df93-4d62-b60c-d1b9901890a4",
   "metadata": {},
   "source": [
    "Type checking can be done by using `isinstance` and `issubclass` to make use of inheritances"
   ]
  },
  {
   "cell_type": "code",
   "execution_count": 43,
   "id": "f8418fe9-ba9b-4361-8d3f-13e2ed57b7eb",
   "metadata": {},
   "outputs": [
    {
     "data": {
      "text/plain": [
       "True"
      ]
     },
     "execution_count": 43,
     "metadata": {},
     "output_type": "execute_result"
    }
   ],
   "source": [
    "isinstance(6, int)"
   ]
  },
  {
   "cell_type": "code",
   "execution_count": 44,
   "id": "4d162f70-ade0-4778-9471-628573fbd7c0",
   "metadata": {},
   "outputs": [
    {
     "data": {
      "text/plain": [
       "True"
      ]
     },
     "execution_count": 44,
     "metadata": {},
     "output_type": "execute_result"
    }
   ],
   "source": [
    "issubclass(SubClass, Base)"
   ]
  },
  {
   "cell_type": "markdown",
   "id": "d2a2e776-d1ea-4b7f-b648-5a015dbc1e7c",
   "metadata": {},
   "source": [
    "`__bases__` is a tuple with the base classes of a class, in the same order as the class definition  \n",
    "\n",
    "MRO, or method resolution order defines the order in which Python searches an inheritance graph  \n",
    "`__mro__` returns a tuple of types and Python chooses the first entry which has a method of the name called  \n",
    "\n",
    "`super()` uses the elements in MRO after some specified type\n",
    "It returns a proxy object which forwards calls to the correct object\n",
    "A super proxy takes the MRO of its second argument for name resolution  \n",
    "Because `super` works on MRO and not just a classes's base classes it can be used to cooperate between classes without any knowledge of one another\n",
    "\n",
    "`object` is the ultimate base object of all other classes, this is also the default base class of any class without base classes"
   ]
  },
  {
   "cell_type": "markdown",
   "id": "192a7a56-0fa7-4fd0-b4c1-41b0831cdd8d",
   "metadata": {},
   "source": [
    "Animal is th base class, bird is a subclass that uses `super()` to override description of Animal  \n"
   ]
  },
  {
   "cell_type": "code",
   "execution_count": 45,
   "id": "144be23f-422c-416c-bb41-e3fbee5407ab",
   "metadata": {},
   "outputs": [],
   "source": [
    "class Animal:\n",
    "    @classmethod\n",
    "    def description(cls):\n",
    "        return \"An animal\"\n",
    "\n",
    "\n",
    "class Bird(Animal):\n",
    "    @classmethod\n",
    "    def description(cls):\n",
    "        s = super()\n",
    "        print(s)\n",
    "        print(s.description)\n",
    "        return s.description() + \" with wings\"\n",
    "\n",
    "\n",
    "class Flamingo(Bird):\n",
    "    @classmethod\n",
    "    def description(cls):\n",
    "        return super().description() + \" and fabulous pink feathers\"\n"
   ]
  },
  {
   "cell_type": "code",
   "execution_count": 50,
   "id": "1a45fb28-ea52-4446-aeff-2a3ae041c0ca",
   "metadata": {},
   "outputs": [
    {
     "data": {
      "text/plain": [
       "'An animal'"
      ]
     },
     "execution_count": 50,
     "metadata": {},
     "output_type": "execute_result"
    }
   ],
   "source": [
    "a = Animal()\n",
    "a.description()"
   ]
  },
  {
   "cell_type": "code",
   "execution_count": 51,
   "id": "7c6659ff-05b3-4d6c-92f7-9b4082b40904",
   "metadata": {},
   "outputs": [
    {
     "name": "stdout",
     "output_type": "stream",
     "text": [
      "<super: <class 'Bird'>, <Bird object>>\n",
      "<bound method Animal.description of <class '__main__.Bird'>>\n"
     ]
    },
    {
     "data": {
      "text/plain": [
       "'An animal with wings'"
      ]
     },
     "execution_count": 51,
     "metadata": {},
     "output_type": "execute_result"
    }
   ],
   "source": [
    "Bird.description()"
   ]
  },
  {
   "cell_type": "code",
   "execution_count": 49,
   "id": "db4e41ac-47ce-4ea6-8df6-535af0dde5ba",
   "metadata": {},
   "outputs": [
    {
     "name": "stdout",
     "output_type": "stream",
     "text": [
      "<super: <class 'Bird'>, <Flamingo object>>\n",
      "<bound method Animal.description of <class '__main__.Flamingo'>>\n"
     ]
    },
    {
     "data": {
      "text/plain": [
       "'An animal with wings and fabulous pink feathers'"
      ]
     },
     "execution_count": 49,
     "metadata": {},
     "output_type": "execute_result"
    }
   ],
   "source": [
    "Flamingo.description()"
   ]
  },
  {
   "cell_type": "code",
   "execution_count": 52,
   "id": "4cd7cace-642b-4160-8754-d5ef48e84812",
   "metadata": {},
   "outputs": [
    {
     "data": {
      "text/plain": [
       "(__main__.Flamingo, __main__.Bird, __main__.Animal, object)"
      ]
     },
     "execution_count": 52,
     "metadata": {},
     "output_type": "execute_result"
    }
   ],
   "source": [
    "Flamingo.__mro__"
   ]
  },
  {
   "cell_type": "code",
   "execution_count": 53,
   "id": "e3244a08-43f8-4d6d-90a6-33ba1c72f4ea",
   "metadata": {},
   "outputs": [
    {
     "data": {
      "image/png": "[encoded data removed]",
      "text/plain": [
       "<IPython.core.display.Image object>"
      ]
     },
     "execution_count": 53,
     "metadata": {},
     "output_type": "execute_result"
    }
   ],
   "source": [
    "from IPython.display import Image\n",
    "Image(filename='Super_mistery.png') "
   ]
  },
  {
   "cell_type": "markdown",
   "id": "cff55e82-179c-4409-9a56-12d8197a8be9",
   "metadata": {},
   "source": [
    "The combined subclass works this way because Super() uses the MRO of SortedIntList, which has IntList and SortedList, so the 'first' add looks at IntList(because of order), and the super in IntList looks at the classes after IntList, which is SortedList  \n",
    "Super() does not simple access the base class, it accesses the full MRO that contains the class where it is called\n",
    "\n",
    "This property combines both validations without automatically, whithout need for further changes"
   ]
  },
  {
   "cell_type": "markdown",
   "id": "b31a2aad-928f-46ab-a215-f95f4283f71d",
   "metadata": {},
   "source": [
    "### Class Decorators\n",
    "Work the same way as function decorators, but the argument is conventionally, `cls`\n",
    "Class decorators factories is the best way to parameterize decorators\n",
    "Many interest class decorators are already built in, like `property, staticmethod, classmethod` and others, similalr to how it is with function decorators "
   ]
  },
  {
   "cell_type": "markdown",
   "id": "1190a2b8-c13d-4cfe-ab26-6e6484016c5d",
   "metadata": {},
   "source": [
    "### Data Classes\n",
    "The dataclass decorator is a way include metadata of a class, and then sintethize __repr__ and __str__ methods  \n",
    "The best way to use Data classes is to use only for immutable attributes and to be declared frozen  \n",
    "This solves many problems with hashability\n",
    "To enforce invariants use `__post_init__` inside the class\n",
    "\n",
    "It's best to keep data classes very simple, avoid inheritance, and keep immutability  "
   ]
  },
  {
   "cell_type": "code",
   "execution_count": 55,
   "id": "d11bafeb-e65f-4f2e-801e-f74aa5c25007",
   "metadata": {
    "collapsed": true,
    "jupyter": {
     "outputs_hidden": true
    },
    "tags": []
   },
   "outputs": [
    {
     "ename": "NameError",
     "evalue": "name 'dataclass' is not defined",
     "output_type": "error",
     "traceback": [
      "\u001b[1;31m---------------------------------------------------------------------------\u001b[0m",
      "\u001b[1;31mNameError\u001b[0m                                 Traceback (most recent call last)",
      "\u001b[1;32mC:\\Users\\GONCAL~1.FEL\\AppData\\Local\\Temp/ipykernel_4476/1134786746.py\u001b[0m in \u001b[0;36m<module>\u001b[1;34m\u001b[0m\n\u001b[1;32m----> 1\u001b[1;33m \u001b[1;33m@\u001b[0m\u001b[0mdataclass\u001b[0m\u001b[1;33m(\u001b[0m\u001b[0meq\u001b[0m\u001b[1;33m=\u001b[0m\u001b[1;32mTrue\u001b[0m\u001b[1;33m,\u001b[0m \u001b[0mfrozen\u001b[0m\u001b[1;33m=\u001b[0m\u001b[1;32mTrue\u001b[0m\u001b[1;33m)\u001b[0m\u001b[1;33m\u001b[0m\u001b[1;33m\u001b[0m\u001b[0m\n\u001b[0m\u001b[0;32m      2\u001b[0m \u001b[1;32mclass\u001b[0m \u001b[0mDataClass\u001b[0m\u001b[1;33m:\u001b[0m\u001b[1;33m\u001b[0m\u001b[1;33m\u001b[0m\u001b[0m\n\u001b[0;32m      3\u001b[0m     \u001b[0marg1\u001b[0m \u001b[1;33m=\u001b[0m \u001b[0mstr\u001b[0m\u001b[1;33m\u001b[0m\u001b[1;33m\u001b[0m\u001b[0m\n\u001b[0;32m      4\u001b[0m     \u001b[0marg2\u001b[0m \u001b[1;33m=\u001b[0m \u001b[0mSomeOtherClass\u001b[0m\u001b[1;33m\u001b[0m\u001b[1;33m\u001b[0m\u001b[0m\n\u001b[0;32m      5\u001b[0m \u001b[1;33m\u001b[0m\u001b[0m\n",
      "\u001b[1;31mNameError\u001b[0m: name 'dataclass' is not defined"
     ]
    }
   ],
   "source": [
    "@dataclass(eq=True, frozen=True)\n",
    "class DataClass:\n",
    "    arg1 = str\n",
    "    arg2 = SomeOtherClass\n",
    "\n",
    "    def __post_init__(self):\n",
    "        if self.arg1 == None:\n",
    "            raise ValueError('Does not accept empty argument')"
   ]
  },
  {
   "cell_type": "markdown",
   "id": "6badf94f-a91a-4252-87ca-bd35f5919bfd",
   "metadata": {},
   "source": [
    "## Encapsulation\n",
    "## Abstraction\n",
    "## Inheritance\n",
    "## Polymorphism"
   ]
  }
 ],
 "metadata": {
  "kernelspec": {
   "display_name": "Python 3 (ipykernel)",
   "language": "python",
   "name": "python3"
  },
  "language_info": {
   "codemirror_mode": {
    "name": "ipython",
    "version": 3
   },
   "file_extension": ".py",
   "mimetype": "text/x-python",
   "name": "python",
   "nbconvert_exporter": "python",
   "pygments_lexer": "ipython3",
   "version": "3.9.7"
  }
 },
 "nbformat": 4,
 "nbformat_minor": 5
}
