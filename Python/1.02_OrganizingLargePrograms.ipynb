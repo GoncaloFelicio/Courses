{
 "cells": [
  {
   "cell_type": "markdown",
   "id": "f1e23306-c23f-4f21-bebb-5fff3e4d531e",
   "metadata": {},
   "source": [
    "# Notes on Python\n",
    "## Examples for reference, tips, Best Practices\n",
    "\n",
    "Based on the Course: Core Python (Organizing Larger Programs and Managing Python Packages and Virtual Environments) at PluralSight\n",
    "\n",
    "Author: Gonçalo Felício  \n",
    "Date: 04/2022  \n",
    "Provided by: ISIWAY\n",
    "\n",
    "Something like a pocketbook to come to for quick references, examples, and tips of best practices, compiled with my own preferences.  \n",
    "Loosely divided by subject, and with some degree, by the respective modules.\n"
   ]
  },
  {
   "cell_type": "markdown",
   "id": "c7c6b32b-fb9a-4f1f-8ac6-842cfd0d18d5",
   "metadata": {},
   "source": [
    "---\n",
    "## Nesting Modules with Packages\n",
    "\n",
    "Modules are the most basic tool to organize code. Usually consist of a single .py file that perform a specific job.  \n",
    "We can make use of modules by importing them with the `import` keyword.  \n",
    "Modules are nested in **packages**.  \n",
    "Packages, in a way, are modules that contain other modules, and can even contain other packages.\n",
    "\n",
    "It's very important to know the proper hierarchy of the modules to import them correctly. Otherwise, an import error will be raised.  \n",
    "Packages are usually represented as a directory in the file system and the package object contains a `.__path__` method, while a module does not.\n",
    "\n",
    "When a ModuleNotFoundError is raised, means that the path of the package that contains the module in not in the `sys.path` list."
   ]
  },
  {
   "cell_type": "code",
   "execution_count": 1,
   "id": "5af7d445-f153-40cd-aafd-c8339f43ef5e",
   "metadata": {},
   "outputs": [
    {
     "data": {
      "text/plain": [
       "['C:\\\\Users\\\\Goncalo\\\\Documents\\\\Humanativa_ISIWAY\\\\GitRepo_Courses\\\\JourneyToDataEngineer\\\\Python',\n",
       " 'C:\\\\Users\\\\Goncalo\\\\anaconda3\\\\python38.zip',\n",
       " 'C:\\\\Users\\\\Goncalo\\\\anaconda3\\\\DLLs',\n",
       " 'C:\\\\Users\\\\Goncalo\\\\anaconda3\\\\lib',\n",
       " 'C:\\\\Users\\\\Goncalo\\\\anaconda3',\n",
       " '',\n",
       " 'C:\\\\Users\\\\Goncalo\\\\AppData\\\\Roaming\\\\Python\\\\Python38\\\\site-packages',\n",
       " 'C:\\\\Users\\\\Goncalo\\\\anaconda3\\\\lib\\\\site-packages',\n",
       " 'C:\\\\Users\\\\Goncalo\\\\anaconda3\\\\lib\\\\site-packages\\\\win32',\n",
       " 'C:\\\\Users\\\\Goncalo\\\\anaconda3\\\\lib\\\\site-packages\\\\win32\\\\lib',\n",
       " 'C:\\\\Users\\\\Goncalo\\\\anaconda3\\\\lib\\\\site-packages\\\\Pythonwin']"
      ]
     },
     "execution_count": 1,
     "metadata": {},
     "output_type": "execute_result"
    }
   ],
   "source": [
    "import sys\n",
    "sys.path"
   ]
  },
  {
   "cell_type": "code",
   "execution_count": 2,
   "id": "10944b78-f7f0-4db2-b4d2-90ab2c746900",
   "metadata": {},
   "outputs": [
    {
     "ename": "ModuleNotFoundError",
     "evalue": "No module named 'pathing_test'",
     "output_type": "error",
     "traceback": [
      "\u001b[1;31m---------------------------------------------------------------------------\u001b[0m",
      "\u001b[1;31mModuleNotFoundError\u001b[0m                       Traceback (most recent call last)",
      "Input \u001b[1;32mIn [2]\u001b[0m, in \u001b[0;36m<cell line: 1>\u001b[1;34m()\u001b[0m\n\u001b[1;32m----> 1\u001b[0m \u001b[38;5;28;01mimport\u001b[39;00m \u001b[38;5;21;01mpathing_test\u001b[39;00m\n",
      "\u001b[1;31mModuleNotFoundError\u001b[0m: No module named 'pathing_test'"
     ]
    }
   ],
   "source": [
    "import pathing_test"
   ]
  },
  {
   "cell_type": "code",
   "execution_count": 3,
   "id": "1a530bf5-934c-4865-ad2e-f0c84d7ee464",
   "metadata": {},
   "outputs": [],
   "source": [
    "sys.path.append('test_dir')"
   ]
  },
  {
   "cell_type": "code",
   "execution_count": 4,
   "id": "b398e082-759d-4d5a-8fed-55cb6f261578",
   "metadata": {},
   "outputs": [
    {
     "data": {
      "text/plain": [
       "['C:\\\\Users\\\\Goncalo\\\\Documents\\\\Humanativa_ISIWAY\\\\GitRepo_Courses\\\\JourneyToDataEngineer\\\\Python',\n",
       " 'C:\\\\Users\\\\Goncalo\\\\anaconda3\\\\python38.zip',\n",
       " 'C:\\\\Users\\\\Goncalo\\\\anaconda3\\\\DLLs',\n",
       " 'C:\\\\Users\\\\Goncalo\\\\anaconda3\\\\lib',\n",
       " 'C:\\\\Users\\\\Goncalo\\\\anaconda3',\n",
       " '',\n",
       " 'C:\\\\Users\\\\Goncalo\\\\AppData\\\\Roaming\\\\Python\\\\Python38\\\\site-packages',\n",
       " 'C:\\\\Users\\\\Goncalo\\\\anaconda3\\\\lib\\\\site-packages',\n",
       " 'C:\\\\Users\\\\Goncalo\\\\anaconda3\\\\lib\\\\site-packages\\\\win32',\n",
       " 'C:\\\\Users\\\\Goncalo\\\\anaconda3\\\\lib\\\\site-packages\\\\win32\\\\lib',\n",
       " 'C:\\\\Users\\\\Goncalo\\\\anaconda3\\\\lib\\\\site-packages\\\\Pythonwin',\n",
       " 'test_dir']"
      ]
     },
     "execution_count": 4,
     "metadata": {},
     "output_type": "execute_result"
    }
   ],
   "source": [
    "sys.path"
   ]
  },
  {
   "cell_type": "code",
   "execution_count": 5,
   "id": "6d1243e7-180c-4111-9a7b-8098af4bf82d",
   "metadata": {},
   "outputs": [
    {
     "name": "stdout",
     "output_type": "stream",
     "text": [
      "Python found me!\n"
     ]
    }
   ],
   "source": [
    "import pathing_test"
   ]
  },
  {
   "cell_type": "markdown",
   "id": "2faf96e6-7997-48de-9d1d-37320f2fdc38",
   "metadata": {},
   "source": [
    "When importing modules from a package, only the first name is bound in the local namespace, this means, to use the module inside the package we must fully qualify the name of the module"
   ]
  },
  {
   "cell_type": "code",
   "execution_count": 7,
   "id": "9bb1867c-3aa9-450e-bac6-740837189412",
   "metadata": {},
   "outputs": [],
   "source": [
    "# to use request, must also write urllib\n",
    "import urllib.request"
   ]
  },
  {
   "cell_type": "code",
   "execution_count": 8,
   "id": "cd04a3a5-2e4a-468c-8260-49642e97003a",
   "metadata": {},
   "outputs": [
    {
     "data": {
      "text/plain": [
       "<module 'urllib' from 'C:\\\\Users\\\\Goncalo\\\\anaconda3\\\\lib\\\\urllib\\\\__init__.py'>"
      ]
     },
     "execution_count": 8,
     "metadata": {},
     "output_type": "execute_result"
    }
   ],
   "source": [
    "urllib"
   ]
  },
  {
   "cell_type": "code",
   "execution_count": 9,
   "id": "1f308360-408c-42ea-b468-72f6bf6cf25e",
   "metadata": {},
   "outputs": [
    {
     "ename": "NameError",
     "evalue": "name 'request' is not defined",
     "output_type": "error",
     "traceback": [
      "\u001b[1;31m---------------------------------------------------------------------------\u001b[0m",
      "\u001b[1;31mNameError\u001b[0m                                 Traceback (most recent call last)",
      "Input \u001b[1;32mIn [9]\u001b[0m, in \u001b[0;36m<cell line: 1>\u001b[1;34m()\u001b[0m\n\u001b[1;32m----> 1\u001b[0m \u001b[43mrequest\u001b[49m\n",
      "\u001b[1;31mNameError\u001b[0m: name 'request' is not defined"
     ]
    }
   ],
   "source": [
    "request"
   ]
  },
  {
   "cell_type": "markdown",
   "id": "b7b49796-2ae4-4fab-bd2e-ae131ea74877",
   "metadata": {},
   "source": [
    "Python recognizes a package if it has a directory has a file inside named `__init__.py`. Usually this file is empty!  \n",
    "A package inside a package will also contain this file.  \n",
    "\n",
    "#### Relative Imports\n",
    "We can use relative import when the module being important is inside the same top-level package, as the module doing the import.  \n",
    "Each `.` in the `from ..module_name import name` referes to a parent directory. 2 dots means that the module with module_name is inside the grandparent directory of the current module doing the import.  \n",
    "\n",
    "Tip: if possible, use absolute imports as `Explicit is better than implicit`"
   ]
  },
  {
   "cell_type": "markdown",
   "id": "25b8b60f-a11f-4b3e-b229-2ea89f4255b3",
   "metadata": {},
   "source": [
    "Inside the `__init__.py` we can define the `__all__` variable to match specific name functions inside our modules. This way only the fucntions with the same names will be imported after a `from module_name import *`"
   ]
  },
  {
   "cell_type": "code",
   "execution_count": 10,
   "id": "91ebe449-8c56-4b19-a0fd-34bcaa83d141",
   "metadata": {},
   "outputs": [],
   "source": [
    "__all__ = ['function1', 'fucntion2']"
   ]
  },
  {
   "cell_type": "markdown",
   "id": "2ffbf498-af6f-4260-8bdd-d15261baf07d",
   "metadata": {},
   "source": [
    "### Executable packages\n",
    "\n",
    "A package can be directly executed from the terminal if it contains a file named `__main__.py` and if it is invoked as `python -m package_name module_name`. It needs the `-m` flag to consider the directory as a package and execute `__main__.py`."
   ]
  },
  {
   "cell_type": "markdown",
   "id": "1001d493-2719-4caf-aed5-baf5e1b8e10b",
   "metadata": {},
   "source": [
    "### Namespace Package\n",
    "\n",
    "A package is a namespace package if it does not contain the `__init__.py` file, but contains the modules being imported inside it. More than one directory can be added to the namespace path of a single import, as long as the sub-package has the same name in both directories."
   ]
  },
  {
   "cell_type": "markdown",
   "id": "03d7b1fe-e604-4ce4-8f0b-7bb2e19aeb18",
   "metadata": {},
   "source": [
    "## Python Project Structure\n",
    "\n",
    "A project should be structured in the following form.  \n",
    "First a root directory with the project_name - not a package.\n",
    ">A 'README' file with an overview  of the project, what is it for and how to use it.  \n",
    "\n",
    ">A 'docs' directory that should contain all the documentation relevant to the project.  \n",
    "\n",
    ">A 'src' directory that contains the actual package directory (should have the same name as the project)\n",
    ">> Contains all the modules and sub-packages of the production code.  \n",
    "\n",
    ">A 'tests' package directory that contains all the test modules\n",
    "\n",
    ">A 'data' directory with the data used in the project"
   ]
  },
  {
   "cell_type": "markdown",
   "id": "f8b6e974-599a-4e75-a18e-6bf089bc9958",
   "metadata": {},
   "source": [
    "### Package Distribution\n",
    "\n",
    "An archive of the projects contents that others can easily install and use.  \n",
    "There are 2 types of pkg dist: Built and Sorce.\n",
    "\n",
    "Built: placed directly in the installation directory and ready to use. Can be platform specific.\n",
    "\n",
    "Source: Contains all the resources needed to build the package. It is necessary to run a command to build the package before installing it.\n",
    "\n",
    "To use the Build mode we can use the `wheel` format and for the Source mode we use the `sdist` command."
   ]
  },
  {
   "cell_type": "markdown",
   "id": "f569345d-0386-4601-8751-bb4e292082f3",
   "metadata": {},
   "source": [
    "---\n",
    "Testings for the PluralSight Quizz"
   ]
  },
  {
   "cell_type": "code",
   "execution_count": 13,
   "id": "c8338f8d-0ae1-47cc-80d4-fab818975b26",
   "metadata": {},
   "outputs": [
    {
     "data": {
      "text/plain": [
       "'C:\\\\Users\\\\Goncalo\\\\AppData\\\\Roaming\\\\Python'"
      ]
     },
     "execution_count": 13,
     "metadata": {},
     "output_type": "execute_result"
    }
   ],
   "source": [
    "import site\n",
    "\n",
    "site.USER_BASE"
   ]
  },
  {
   "cell_type": "code",
   "execution_count": 15,
   "id": "681fc160-c07b-4ee2-b0ef-6b99f93df491",
   "metadata": {},
   "outputs": [
    {
     "data": {
      "text/plain": [
       "['C:\\\\Users\\\\Goncalo\\\\anaconda3',\n",
       " 'C:\\\\Users\\\\Goncalo\\\\anaconda3\\\\lib\\\\site-packages']"
      ]
     },
     "execution_count": 15,
     "metadata": {},
     "output_type": "execute_result"
    }
   ],
   "source": [
    "site.getsitepackages()"
   ]
  },
  {
   "cell_type": "code",
   "execution_count": 17,
   "id": "498d6fe7-4d19-4ecb-9c83-ac473b0d9e79",
   "metadata": {},
   "outputs": [
    {
     "data": {
      "text/plain": [
       "'C:\\\\Users\\\\Goncalo\\\\AppData\\\\Roaming\\\\Python'"
      ]
     },
     "execution_count": 17,
     "metadata": {},
     "output_type": "execute_result"
    }
   ],
   "source": [
    "site.getuserbase()"
   ]
  },
  {
   "cell_type": "code",
   "execution_count": 19,
   "id": "64861138-7edb-4c65-8e53-655e0bf2f61b",
   "metadata": {
    "collapsed": true,
    "jupyter": {
     "outputs_hidden": true
    },
    "tags": []
   },
   "outputs": [
    {
     "name": "stdout",
     "output_type": "stream",
     "text": [
      "Help on module site:\n",
      "\n",
      "NAME\n",
      "    site - Append module search paths for third-party packages to sys.path.\n",
      "\n",
      "MODULE REFERENCE\n",
      "    https://docs.python.org/3.8/library/site\n",
      "    \n",
      "    The following documentation is automatically generated from the Python\n",
      "    source files.  It may be incomplete, incorrect or include features that\n",
      "    are considered implementation detail and may vary between Python\n",
      "    implementations.  When in doubt, consult the module reference at the\n",
      "    location listed above.\n",
      "\n",
      "DESCRIPTION\n",
      "    ****************************************************************\n",
      "    * This module is automatically imported during initialization. *\n",
      "    ****************************************************************\n",
      "    \n",
      "    This will append site-specific paths to the module search path.  On\n",
      "    Unix (including Mac OSX), it starts with sys.prefix and\n",
      "    sys.exec_prefix (if different) and appends\n",
      "    lib/python<version>/site-packages.\n",
      "    On other platforms (such as Windows), it tries each of the\n",
      "    prefixes directly, as well as with lib/site-packages appended.  The\n",
      "    resulting directories, if they exist, are appended to sys.path, and\n",
      "    also inspected for path configuration files.\n",
      "    \n",
      "    If a file named \"pyvenv.cfg\" exists one directory above sys.executable,\n",
      "    sys.prefix and sys.exec_prefix are set to that directory and\n",
      "    it is also checked for site-packages (sys.base_prefix and\n",
      "    sys.base_exec_prefix will always be the \"real\" prefixes of the Python\n",
      "    installation). If \"pyvenv.cfg\" (a bootstrap configuration file) contains\n",
      "    the key \"include-system-site-packages\" set to anything other than \"false\"\n",
      "    (case-insensitive), the system-level prefixes will still also be\n",
      "    searched for site-packages; otherwise they won't.\n",
      "    \n",
      "    All of the resulting site-specific directories, if they exist, are\n",
      "    appended to sys.path, and also inspected for path configuration\n",
      "    files.\n",
      "    \n",
      "    A path configuration file is a file whose name has the form\n",
      "    <package>.pth; its contents are additional directories (one per line)\n",
      "    to be added to sys.path.  Non-existing directories (or\n",
      "    non-directories) are never added to sys.path; no directory is added to\n",
      "    sys.path more than once.  Blank lines and lines beginning with\n",
      "    '#' are skipped. Lines starting with 'import' are executed.\n",
      "    \n",
      "    For example, suppose sys.prefix and sys.exec_prefix are set to\n",
      "    /usr/local and there is a directory /usr/local/lib/python2.5/site-packages\n",
      "    with three subdirectories, foo, bar and spam, and two path\n",
      "    configuration files, foo.pth and bar.pth.  Assume foo.pth contains the\n",
      "    following:\n",
      "    \n",
      "      # foo package configuration\n",
      "      foo\n",
      "      bar\n",
      "      bletch\n",
      "    \n",
      "    and bar.pth contains:\n",
      "    \n",
      "      # bar package configuration\n",
      "      bar\n",
      "    \n",
      "    Then the following directories are added to sys.path, in this order:\n",
      "    \n",
      "      /usr/local/lib/python2.5/site-packages/bar\n",
      "      /usr/local/lib/python2.5/site-packages/foo\n",
      "    \n",
      "    Note that bletch is omitted because it doesn't exist; bar precedes foo\n",
      "    because bar.pth comes alphabetically before foo.pth; and spam is\n",
      "    omitted because it is not mentioned in either path configuration file.\n",
      "    \n",
      "    The readline module is also automatically configured to enable\n",
      "    completion for systems that support it.  This can be overridden in\n",
      "    sitecustomize, usercustomize or PYTHONSTARTUP.  Starting Python in\n",
      "    isolated mode (-I) disables automatic readline configuration.\n",
      "    \n",
      "    After these operations, an attempt is made to import a module\n",
      "    named sitecustomize, which can perform arbitrary additional\n",
      "    site-specific customizations.  If this import fails with an\n",
      "    ImportError exception, it is silently ignored.\n",
      "\n",
      "FUNCTIONS\n",
      "    abs_paths()\n",
      "        Set all module __file__ and __cached__ attributes to an absolute path\n",
      "    \n",
      "    addpackage(sitedir, name, known_paths)\n",
      "        Process a .pth file within the site-packages directory:\n",
      "        For each line in the file, either combine it with sitedir to a path\n",
      "        and add that to known_paths, or execute it if it starts with 'import '.\n",
      "    \n",
      "    addsitedir(sitedir, known_paths=None)\n",
      "        Add 'sitedir' argument to sys.path if missing and handle .pth files in\n",
      "        'sitedir'\n",
      "    \n",
      "    addsitepackages(known_paths, prefixes=None)\n",
      "        Add site-packages to sys.path\n",
      "    \n",
      "    addusersitepackages(known_paths)\n",
      "        Add a per user site-package to sys.path\n",
      "        \n",
      "        Each user has its own python directory with site-packages in the\n",
      "        home directory.\n",
      "    \n",
      "    check_enableusersite()\n",
      "        Check if user site directory is safe for inclusion\n",
      "        \n",
      "        The function tests for the command line flag (including environment var),\n",
      "        process uid/gid equal to effective uid/gid.\n",
      "        \n",
      "        None: Disabled for security reasons\n",
      "        False: Disabled by user (command line option)\n",
      "        True: Safe and enabled\n",
      "    \n",
      "    enablerlcompleter()\n",
      "        Enable default readline configuration on interactive prompts, by\n",
      "        registering a sys.__interactivehook__.\n",
      "        \n",
      "        If the readline module can be imported, the hook will set the Tab key\n",
      "        as completion key and register ~/.python_history as history file.\n",
      "        This can be overridden in the sitecustomize or usercustomize module,\n",
      "        or in a PYTHONSTARTUP file.\n",
      "    \n",
      "    execsitecustomize()\n",
      "        Run custom site specific code, if available.\n",
      "    \n",
      "    execusercustomize()\n",
      "        Run custom user specific code, if available.\n",
      "    \n",
      "    getsitepackages(prefixes=None)\n",
      "        Returns a list containing all global site-packages directories.\n",
      "        \n",
      "        For each directory present in ``prefixes`` (or the global ``PREFIXES``),\n",
      "        this function will find its `site-packages` subdirectory depending on the\n",
      "        system environment, and will return a list of full paths.\n",
      "    \n",
      "    getuserbase()\n",
      "        Returns the `user base` directory path.\n",
      "        \n",
      "        The `user base` directory can be used to store data. If the global\n",
      "        variable ``USER_BASE`` is not initialized yet, this function will also set\n",
      "        it.\n",
      "    \n",
      "    getusersitepackages()\n",
      "        Returns the user-specific site-packages directory path.\n",
      "        \n",
      "        If the global variable ``USER_SITE`` is not initialized yet, this\n",
      "        function will also set it.\n",
      "    \n",
      "    main()\n",
      "        Add standard site-specific directories to the module search path.\n",
      "        \n",
      "        This function is called automatically when this module is imported,\n",
      "        unless the python interpreter was started with the -S flag.\n",
      "    \n",
      "    makepath(*paths)\n",
      "    \n",
      "    removeduppaths()\n",
      "        Remove duplicate entries from sys.path along with making them\n",
      "        absolute\n",
      "    \n",
      "    setcopyright()\n",
      "        Set 'copyright' and 'credits' in builtins\n",
      "    \n",
      "    sethelper()\n",
      "    \n",
      "    setquit()\n",
      "        Define new builtins 'quit' and 'exit'.\n",
      "        \n",
      "        These are objects which make the interpreter exit when called.\n",
      "        The repr of each object contains a hint at how it works.\n",
      "    \n",
      "    venv(known_paths)\n",
      "\n",
      "DATA\n",
      "    ENABLE_USER_SITE = True\n",
      "    PREFIXES = [r'C:\\Users\\Goncalo\\anaconda3', r'C:\\Users\\Goncalo\\anaconda...\n",
      "    USER_BASE = r'C:\\Users\\Goncalo\\AppData\\Roaming\\Python'\n",
      "    USER_SITE = r'C:\\Users\\Goncalo\\AppData\\Roaming\\Python\\Python38\\site-pa...\n",
      "\n",
      "FILE\n",
      "    c:\\users\\goncalo\\anaconda3\\lib\\site.py\n",
      "\n",
      "\n"
     ]
    }
   ],
   "source": [
    "help(site)"
   ]
  },
  {
   "cell_type": "code",
   "execution_count": 2,
   "id": "bac845be-4a2a-41e9-b2ec-3c999f737580",
   "metadata": {},
   "outputs": [
    {
     "data": {
      "text/plain": [
       "<module 'site' from 'C:\\\\Users\\\\Goncalo\\\\anaconda3\\\\lib\\\\site.py'>"
      ]
     },
     "execution_count": 2,
     "metadata": {},
     "output_type": "execute_result"
    }
   ],
   "source": [
    "site"
   ]
  },
  {
   "cell_type": "markdown",
   "id": "6d118d19-d970-4e41-8dee-c67adf5d8e78",
   "metadata": {},
   "source": [
    "### PIP - Python Packages  \n",
    "PIP is the standard package installer for python libraries  \n",
    "The best way to call pip is:"
   ]
  },
  {
   "cell_type": "code",
   "execution_count": null,
   "id": "a8d39c53-0056-4cde-a288-89346693e586",
   "metadata": {},
   "outputs": [],
   "source": [
    "python -m pip install package1 package2 \n",
    "python -m pip uninstall package1 package2 "
   ]
  },
  {
   "cell_type": "markdown",
   "id": "857c276d-98a5-4453-a40d-1b693ee853e6",
   "metadata": {},
   "source": [
    "This installs the packages and their dependancies through the python version of the current environment, guaranteeing the best compatibility  \n",
    "The second line unninstalls the packages, but not the dependencies!"
   ]
  },
  {
   "cell_type": "markdown",
   "id": "affd0799-bfad-40bc-bb2c-14f898655daa",
   "metadata": {},
   "source": [
    "Upgrading a package is also possible with:"
   ]
  },
  {
   "cell_type": "code",
   "execution_count": null,
   "id": "8ddd1262-c9e0-46c4-9614-a50d22586303",
   "metadata": {},
   "outputs": [],
   "source": [
    "python -m pip install -U package1"
   ]
  },
  {
   "cell_type": "markdown",
   "id": "fe443b33-ffe9-45ec-ae00-88388e101f52",
   "metadata": {},
   "source": [
    "We can also see all the packages and additional information with:"
   ]
  },
  {
   "cell_type": "code",
   "execution_count": null,
   "id": "8387f153-3d3e-427d-8544-c235ce03bc08",
   "metadata": {},
   "outputs": [],
   "source": [
    "pip list\n",
    "pip show"
   ]
  },
  {
   "cell_type": "markdown",
   "id": "6768fa1b-d33b-4fc6-b1b5-b3f06eb70b48",
   "metadata": {},
   "source": [
    "However, if we are using Anaconda, we can manage all the packages as well as environments through the Anaconda Navigator"
   ]
  },
  {
   "cell_type": "markdown",
   "id": "f6db97c7-af1a-4135-9b07-48d409d7dcc3",
   "metadata": {},
   "source": [
    "### Virtual Environments\n",
    "Virtual environments are isolated context to install specific packages  \n",
    "The advantages of this are many. It solves pacakges and package dependencies conflicts between different projects/users/systems\n",
    "It allows us to only have the packages we actually need and to easily share all the requirements to others\n",
    "A niche feature is that it allows us to test code against different python and library versions\n",
    "\n",
    "A normal workflow would include:\n",
    "> git clone a project from a *ProjectURL*\n",
    "\n",
    "> cd to the root project folder and create a new virtual environment\n",
    "\n",
    "> cd to the requirements folder (if it exits) and install with pip the packages from the relevant .txt file\n",
    "\n",
    "> start working with the code\n",
    "\n",
    "Tip: Always work on a virtual environment, never install packages globaly! Each project requires its own virtual environment"
   ]
  },
  {
   "cell_type": "markdown",
   "id": "a42e157f-fadf-4155-af40-f38d64a94bfa",
   "metadata": {},
   "source": [
    "#### virtualenv module\n",
    "virtualenv or more commonly known as venv is a built in module that allows us to use virtual environments\n",
    "\n",
    "Creates a new virtual environment named env_name"
   ]
  },
  {
   "cell_type": "code",
   "execution_count": null,
   "id": "a7acad88-578a-4263-8cb5-af4eec8cf2ec",
   "metadata": {},
   "outputs": [],
   "source": [
    "python -m venv env_name "
   ]
  },
  {
   "cell_type": "markdown",
   "id": "4ea5dbc5-0226-4a66-b668-3694817a47fd",
   "metadata": {},
   "source": [
    "Activate a virtual environment to use it, may differ dependent on the system, for Windows:"
   ]
  },
  {
   "cell_type": "code",
   "execution_count": null,
   "id": "9373a863-60df-46b9-818d-7619ca6dd322",
   "metadata": {},
   "outputs": [],
   "source": [
    "env_name\\Scripts\\activate.bat"
   ]
  },
  {
   "cell_type": "markdown",
   "id": "341cc942-d3c4-4d7e-bc10-af7e19961658",
   "metadata": {},
   "source": [
    "### Requirements.txt\n",
    "Requirements.txt is the standard file that contains the dependencies of a project  \n",
    "An easy way to create this file is to run the following commands, inside the desired environment:"
   ]
  },
  {
   "cell_type": "code",
   "execution_count": null,
   "id": "5f68c431-26f1-4d82-8a63-6476c4105024",
   "metadata": {},
   "outputs": [],
   "source": [
    "python -m pip freeze > requirements.txt\n",
    "# lists all the installed packages and their dependencies and saves them to a new file named requirements.txt"
   ]
  },
  {
   "cell_type": "markdown",
   "id": "4bdeebaa-a226-4370-b19a-bab652b1e367",
   "metadata": {},
   "source": [
    "Next, to install the packags, in a new environemnt simply run:"
   ]
  },
  {
   "cell_type": "code",
   "execution_count": null,
   "id": "266c2183-d833-40e8-a2cf-469fc46c53f7",
   "metadata": {},
   "outputs": [],
   "source": [
    "python -m pip install -r requirements.txt\n",
    "# reads and installs all the packages in the requirements.txt file"
   ]
  },
  {
   "cell_type": "markdown",
   "id": "08a1591a-f452-478b-84c8-a9f8b40f1e0a",
   "metadata": {
    "jp-MarkdownHeadingCollapsed": true,
    "tags": []
   },
   "source": [
    "### Other (possibly useful) tools\n",
    "Other tools that are commonly used for these tasks include:\n",
    "> virtualenvwrapper\n",
    "\n",
    "> pipenv\n",
    "\n",
    "> poetry\n",
    "\n",
    "> Anaconda"
   ]
  }
 ],
 "metadata": {
  "kernelspec": {
   "display_name": "Python 3 (ipykernel)",
   "language": "python",
   "name": "python3"
  },
  "language_info": {
   "codemirror_mode": {
    "name": "ipython",
    "version": 3
   },
   "file_extension": ".py",
   "mimetype": "text/x-python",
   "name": "python",
   "nbconvert_exporter": "python",
   "pygments_lexer": "ipython3",
   "version": "3.9.12"
  }
 },
 "nbformat": 4,
 "nbformat_minor": 5
}
