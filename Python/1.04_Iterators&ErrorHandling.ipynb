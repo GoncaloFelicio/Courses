{
 "cells": [
  {
   "cell_type": "markdown",
   "id": "a667e49a-ae8a-41c9-b390-4e474738a013",
   "metadata": {},
   "source": [
    "# Notes on Python\n",
    "## Examples for reference, tips, Best Practices\n",
    "\n",
    "Based on the Course: Core Python (Implementing Iterators, Iterables and Collections) at PluralSight\n",
    "\n",
    "Author: Gonçalo Felício  \n",
    "Date: 04/2022  \n",
    "Provided by: ISIWAY\n",
    "\n",
    "Something like a pocketbook to come to for quick references, examples, and tips of best practices, compiled with my own preferences  \n",
    "Loosely divided by subject, and with some degree, by the respective modules"
   ]
  },
  {
   "cell_type": "markdown",
   "id": "438c747b-155f-438d-b6a0-8ecf0336eb2d",
   "metadata": {},
   "source": [
    "Implementing custom iterators and iterables is very useful when handling specific data structures  \n",
    "Much of the theory on this module is put in practice with the exercise module `Build a Personal Budget Report with Python Collections and Iterables`  \n",
    "Can check the exercise on https://github.com/GoncaloFelicio/python-collections-budget, in specific the modules developed in the budget folder"
   ]
  },
  {
   "cell_type": "markdown",
   "id": "daaee6d4-c905-4e14-9ec4-9642983660db",
   "metadata": {},
   "source": [
    "`next(iterator)` delegates to `iterator.__next__()` which can be customized  \n",
    "Iterators must support `__next__()`  \n",
    "`__next__()` should return the next item in the series or raise a *StopIteration* if it's exhausted  \n",
    "\n",
    "`iter(iterator)` delegates to `iterator.__iter__()` which can be customized  \n",
    "Iterators must support `__iter__()`  \n",
    "`__iter__()` should return an iterator for the given series\n",
    "\n",
    "\n",
    "Iterators must be both support `__iter__()` and `__next__()`"
   ]
  },
  {
   "cell_type": "code",
   "execution_count": 1,
   "id": "32d10de7-bdf8-49ea-9170-6968540fec6d",
   "metadata": {},
   "outputs": [],
   "source": [
    "# example of iterator from Budget exercise\n",
    "class BudgetList():\n",
    "    def __init__(self, budget):\n",
    "        self.budget = budget\n",
    "        self.sum_expenses = 0\n",
    "        self.expenses = []\n",
    "        self.sum_overages = 0\n",
    "        self.overages = []\n",
    "\n",
    "\n",
    "    def append(self, item):\n",
    "        if (self.sum_expenses + item) < self.budget:\n",
    "            self.expenses.append(item)\n",
    "            self.sum_expenses += item\n",
    "        else:\n",
    "            self.overages.append(item)\n",
    "            self.sum_overages += item\n",
    "\n",
    "\n",
    "    def __len__(self):\n",
    "        return sum([len(self.expenses), len(self.overages)])\n",
    "\n",
    "\n",
    "    def __iter__(self):\n",
    "        self.iter_e = iter(self.expenses)\n",
    "        self.iter_o = iter(self.overages)\n",
    "        return self\n",
    "\n",
    "\n",
    "    def __next__(self):\n",
    "        try:\n",
    "            return self.iter_e.__next__()\n",
    "        except StopIteration as stop:\n",
    "            return self.iter_o.__next__()\n"
   ]
  },
  {
   "cell_type": "markdown",
   "id": "34e365fb-46d3-437d-ad55-bd9bc147ca06",
   "metadata": {},
   "source": [
    "Objects with a `__getitem__()` that accept consecutive integers starting from 0 are also iterables  \n",
    "Iterables with this method raise a *IndexError* when exhausted  \n",
    "\n",
    "Iterables can be called with the extended syntax that accepts 2 arguments: a *callable* to iterate over, and a *sentinel* that when returned from the callble stops the iteration"
   ]
  },
  {
   "cell_type": "markdown",
   "id": "bf294e17-8a50-49f5-9ba0-827a7cb104b8",
   "metadata": {},
   "source": [
    "### Collection Protocols\n",
    "`container` checks for membership\n",
    "\n",
    "`sized` for length determination\n",
    "\n",
    "`iterable` and `iterator` for collection traversal\n",
    "\n",
    "`sequence` for random-access by index\n",
    "\n",
    "`set` for managing collections of distinct elements"
   ]
  },
  {
   "cell_type": "markdown",
   "id": "50e8d5d7-69cc-435d-8606-df4c67962316",
   "metadata": {},
   "source": [
    "### Refactoring\n",
    "Refactoring are transformations of the code that preserves correctness of the code and increases maintainability, readability and performance\n",
    "\n",
    "For details we can check the relevant module to see `bisect` module applied to improve performance from O(n) to log(n), as well as an example of a `Test-Driven Development` in action"
   ]
  },
  {
   "cell_type": "markdown",
   "id": "d770e821-3892-4b7f-b0bb-6c294513283b",
   "metadata": {},
   "source": [
    "## Error Handling"
   ]
  },
  {
   "cell_type": "markdown",
   "id": "430a4769-6947-403a-bc75-58a7ef8dfde7",
   "metadata": {},
   "source": [
    "You should always specify an exception type in an except statement otherwise you will hide exceptions that you do not intend"
   ]
  },
  {
   "cell_type": "code",
   "execution_count": 5,
   "id": "f39a7a50-4d45-4306-94e4-d42bf8496857",
   "metadata": {},
   "outputs": [
    {
     "name": "stdin",
     "output_type": "stream",
     "text": [
      "?  123\n",
      "?  12\n",
      "?  54\n",
      "?  87\n",
      "?  53\n",
      "?  12\n"
     ]
    },
    {
     "ename": "KeyboardInterrupt",
     "evalue": "Interrupted by user",
     "output_type": "error",
     "traceback": [
      "\u001b[1;31m---------------------------------------------------------------------------\u001b[0m",
      "\u001b[1;31mKeyboardInterrupt\u001b[0m                         Traceback (most recent call last)",
      "\u001b[1;32m~\\AppData\\Local\\Temp\\ipykernel_14104\\2228550923.py\u001b[0m in \u001b[0;36m<module>\u001b[1;34m\u001b[0m\n\u001b[0;32m     13\u001b[0m             \u001b[1;32mbreak\u001b[0m\u001b[1;33m\u001b[0m\u001b[1;33m\u001b[0m\u001b[0m\n\u001b[0;32m     14\u001b[0m \u001b[1;32mif\u001b[0m \u001b[0m__name__\u001b[0m \u001b[1;33m==\u001b[0m \u001b[1;34m'__main__'\u001b[0m\u001b[1;33m:\u001b[0m\u001b[1;33m\u001b[0m\u001b[1;33m\u001b[0m\u001b[0m\n\u001b[1;32m---> 15\u001b[1;33m     \u001b[0mmain\u001b[0m\u001b[1;33m(\u001b[0m\u001b[1;33m)\u001b[0m\u001b[1;33m\u001b[0m\u001b[1;33m\u001b[0m\u001b[0m\n\u001b[0m",
      "\u001b[1;32m~\\AppData\\Local\\Temp\\ipykernel_14104\\2228550923.py\u001b[0m in \u001b[0;36mmain\u001b[1;34m()\u001b[0m\n\u001b[0;32m      6\u001b[0m     \u001b[1;32mwhile\u001b[0m \u001b[1;32mTrue\u001b[0m\u001b[1;33m:\u001b[0m\u001b[1;33m\u001b[0m\u001b[1;33m\u001b[0m\u001b[0m\n\u001b[0;32m      7\u001b[0m         \u001b[1;32mtry\u001b[0m\u001b[1;33m:\u001b[0m\u001b[1;33m\u001b[0m\u001b[1;33m\u001b[0m\u001b[0m\n\u001b[1;32m----> 8\u001b[1;33m             \u001b[0mguess\u001b[0m \u001b[1;33m=\u001b[0m \u001b[0mint\u001b[0m\u001b[1;33m(\u001b[0m\u001b[0minput\u001b[0m\u001b[1;33m(\u001b[0m\u001b[1;34m'? '\u001b[0m\u001b[1;33m)\u001b[0m\u001b[1;33m)\u001b[0m\u001b[1;33m\u001b[0m\u001b[1;33m\u001b[0m\u001b[0m\n\u001b[0m\u001b[0;32m      9\u001b[0m         \u001b[1;32mexcept\u001b[0m \u001b[0mValueError\u001b[0m\u001b[1;33m:\u001b[0m\u001b[1;33m\u001b[0m\u001b[1;33m\u001b[0m\u001b[0m\n\u001b[0;32m     10\u001b[0m             \u001b[1;32mcontinue\u001b[0m\u001b[1;33m\u001b[0m\u001b[1;33m\u001b[0m\u001b[0m\n",
      "\u001b[1;32m~\\anaconda3\\envs\\PluralsightCourse\\lib\\site-packages\\ipykernel\\kernelbase.py\u001b[0m in \u001b[0;36mraw_input\u001b[1;34m(self, prompt)\u001b[0m\n\u001b[0;32m   1077\u001b[0m             \u001b[0mself\u001b[0m\u001b[1;33m.\u001b[0m\u001b[0m_parent_ident\u001b[0m\u001b[1;33m[\u001b[0m\u001b[1;34m\"shell\"\u001b[0m\u001b[1;33m]\u001b[0m\u001b[1;33m,\u001b[0m\u001b[1;33m\u001b[0m\u001b[1;33m\u001b[0m\u001b[0m\n\u001b[0;32m   1078\u001b[0m             \u001b[0mself\u001b[0m\u001b[1;33m.\u001b[0m\u001b[0mget_parent\u001b[0m\u001b[1;33m(\u001b[0m\u001b[1;34m\"shell\"\u001b[0m\u001b[1;33m)\u001b[0m\u001b[1;33m,\u001b[0m\u001b[1;33m\u001b[0m\u001b[1;33m\u001b[0m\u001b[0m\n\u001b[1;32m-> 1079\u001b[1;33m             \u001b[0mpassword\u001b[0m\u001b[1;33m=\u001b[0m\u001b[1;32mFalse\u001b[0m\u001b[1;33m,\u001b[0m\u001b[1;33m\u001b[0m\u001b[1;33m\u001b[0m\u001b[0m\n\u001b[0m\u001b[0;32m   1080\u001b[0m         )\n\u001b[0;32m   1081\u001b[0m \u001b[1;33m\u001b[0m\u001b[0m\n",
      "\u001b[1;32m~\\anaconda3\\envs\\PluralsightCourse\\lib\\site-packages\\ipykernel\\kernelbase.py\u001b[0m in \u001b[0;36m_input_request\u001b[1;34m(self, prompt, ident, parent, password)\u001b[0m\n\u001b[0;32m   1118\u001b[0m             \u001b[1;32mexcept\u001b[0m \u001b[0mKeyboardInterrupt\u001b[0m\u001b[1;33m:\u001b[0m\u001b[1;33m\u001b[0m\u001b[1;33m\u001b[0m\u001b[0m\n\u001b[0;32m   1119\u001b[0m                 \u001b[1;31m# re-raise KeyboardInterrupt, to truncate traceback\u001b[0m\u001b[1;33m\u001b[0m\u001b[1;33m\u001b[0m\u001b[1;33m\u001b[0m\u001b[0m\n\u001b[1;32m-> 1120\u001b[1;33m                 \u001b[1;32mraise\u001b[0m \u001b[0mKeyboardInterrupt\u001b[0m\u001b[1;33m(\u001b[0m\u001b[1;34m\"Interrupted by user\"\u001b[0m\u001b[1;33m)\u001b[0m \u001b[1;32mfrom\u001b[0m \u001b[1;32mNone\u001b[0m\u001b[1;33m\u001b[0m\u001b[1;33m\u001b[0m\u001b[0m\n\u001b[0m\u001b[0;32m   1121\u001b[0m             \u001b[1;32mexcept\u001b[0m \u001b[0mException\u001b[0m\u001b[1;33m:\u001b[0m\u001b[1;33m\u001b[0m\u001b[1;33m\u001b[0m\u001b[0m\n\u001b[0;32m   1122\u001b[0m                 \u001b[0mself\u001b[0m\u001b[1;33m.\u001b[0m\u001b[0mlog\u001b[0m\u001b[1;33m.\u001b[0m\u001b[0mwarning\u001b[0m\u001b[1;33m(\u001b[0m\u001b[1;34m\"Invalid Message:\"\u001b[0m\u001b[1;33m,\u001b[0m \u001b[0mexc_info\u001b[0m\u001b[1;33m=\u001b[0m\u001b[1;32mTrue\u001b[0m\u001b[1;33m)\u001b[0m\u001b[1;33m\u001b[0m\u001b[1;33m\u001b[0m\u001b[0m\n",
      "\u001b[1;31mKeyboardInterrupt\u001b[0m: Interrupted by user"
     ]
    },
    {
     "name": "stdin",
     "output_type": "stream",
     "text": [
      "?  2\n"
     ]
    }
   ],
   "source": [
    "from random import randrange\n",
    "\n",
    "def main():\n",
    "    number = randrange(100)\n",
    "    \n",
    "    while True:\n",
    "        try:\n",
    "            guess = int(input('? '))\n",
    "        except ValueError:\n",
    "            continue\n",
    "        if guess == number:\n",
    "            print('Guessed right!')\n",
    "            break\n",
    "if __name__ == '__main__':\n",
    "    main()"
   ]
  },
  {
   "cell_type": "markdown",
   "id": "03b8a5c8-9552-4a53-8d6a-83fcd6e62f4b",
   "metadata": {},
   "source": [
    "In the previous exception, not specifying the error type would make the function impossible to stop with the *KeyboardInterrupt*"
   ]
  },
  {
   "cell_type": "markdown",
   "id": "11454aef-fbee-4a75-b56b-2ba6103eb575",
   "metadata": {},
   "source": [
    "Exceptions are organized in hierarchies  \n",
    "It is useful to know the hierarchy as we can catch an exception by its base class:\n",
    "> for example *LookupError* includes both *IndexErro* and *KeyError*\n",
    "\n",
    "On the downside, this method of error handling won't let us know exactly what went wrong, as it is ambiguous to which Error was raised exactly  \n",
    "For this reason, in general, we want to be as specific as possible when catching exceptions, except when it's not important to know the exact error, as with the *OSError*, for example"
   ]
  },
  {
   "cell_type": "markdown",
   "id": "4c195c11-7d87-4a29-8d75-c31e00cc633f",
   "metadata": {},
   "source": [
    "Python Execptions carry a payload with more detailed on the condition that caused the exception  \n",
    "Most built-in exceptions accept a string argument in the constructor which is stored as the payload  \n",
    "Exceptions can also store data on a tuple argument called *args*, in practice, this argument should only have a single string "
   ]
  },
  {
   "cell_type": "code",
   "execution_count": 10,
   "id": "677a3b98-33b0-4dca-b960-b3c51c6030df",
   "metadata": {},
   "outputs": [
    {
     "name": "stdout",
     "output_type": "stream",
     "text": [
      "Payload repr: ValueError('median() arg is an empty series, this is the custom string')\n",
      "Payload str: median() arg is an empty series, this is the custom string\n"
     ]
    }
   ],
   "source": [
    "def median(iterable):\n",
    "    items = sorted(iterable)\n",
    "    if len(items) == 0:\n",
    "        raise ValueError('median() arg is an empty series, this is the custom string')\n",
    "    \n",
    "    median_index = (len(items) - 1) // 2\n",
    "    if len(items) % 2 != 0:\n",
    "        return items[median_index]\n",
    "    return (items[median_index] + items[median_index + 1]) / 2\n",
    "\n",
    "def main():\n",
    "    try:\n",
    "        median([])\n",
    "    except ValueError as e:\n",
    "        print('Payload repr:', repr(e))\n",
    "        print('Payload str:', str(e))\n",
    "\n",
    "    \n",
    "if __name__ == '__main__':\n",
    "    main()"
   ]
  },
  {
   "cell_type": "markdown",
   "id": "faa45653-90f1-41b8-9b86-3b862578f016",
   "metadata": {},
   "source": [
    "We can inherit from `Exception` to define a custom exception  \n",
    "We can improve the custom exception by having it carry domain-relevant information to help diagnose problems  \n",
    "We can then use the custom exception in calling code"
   ]
  },
  {
   "cell_type": "code",
   "execution_count": 47,
   "id": "202c2ddd-54eb-4505-8ecb-8e8973b6a3af",
   "metadata": {},
   "outputs": [],
   "source": [
    "import math\n",
    "\n",
    "def triangle_area(a, b, c):\n",
    "    sides = sorted((a, b, c))\n",
    "    if sides[2] > sides[0] + sides[1]:\n",
    "        raise TriangleException('Illegal Triangle', sides)\n",
    "    \n",
    "    p = (a + b + c) / 2\n",
    "    a = math.sqrt(p * (p-a) * (p-b) * (p-c))\n",
    "    return a"
   ]
  },
  {
   "cell_type": "code",
   "execution_count": 45,
   "id": "889c71e3-ce9c-46c1-8d82-566c6efe0d87",
   "metadata": {},
   "outputs": [],
   "source": [
    "class TriangleException(Exception):\n",
    "    \n",
    "    def __init__(self, text, sides):\n",
    "        super().__init__(text)\n",
    "        self._sides = tuple(sides)\n",
    "    \n",
    "    @property\n",
    "    def sides(self):\n",
    "        return self._sides\n",
    "    \n",
    "    def __str__(self):\n",
    "        return \"'{}' for sides {}\".format(self.args[0], self._sides)\n",
    "    \n",
    "    def __repr__(self):\n",
    "        return \"TriangleError({!r}, {!r})\".format(self.args[0], self._sides)"
   ]
  },
  {
   "cell_type": "code",
   "execution_count": 46,
   "id": "cb0623ff-44f3-4b19-8f54-37b7f307cec5",
   "metadata": {},
   "outputs": [
    {
     "ename": "TypeError",
     "evalue": "exceptions must derive from BaseException",
     "output_type": "error",
     "traceback": [
      "\u001b[1;31m---------------------------------------------------------------------------\u001b[0m",
      "\u001b[1;31mTypeError\u001b[0m                                 Traceback (most recent call last)",
      "\u001b[1;32m~\\AppData\\Local\\Temp\\ipykernel_14104\\2092568456.py\u001b[0m in \u001b[0;36m<module>\u001b[1;34m\u001b[0m\n\u001b[1;32m----> 1\u001b[1;33m \u001b[0mtriangle_area\u001b[0m\u001b[1;33m(\u001b[0m\u001b[1;36m3\u001b[0m\u001b[1;33m,\u001b[0m\u001b[1;36m4\u001b[0m\u001b[1;33m,\u001b[0m\u001b[1;36m10\u001b[0m\u001b[1;33m)\u001b[0m\u001b[1;33m\u001b[0m\u001b[1;33m\u001b[0m\u001b[0m\n\u001b[0m",
      "\u001b[1;32m~\\AppData\\Local\\Temp\\ipykernel_14104\\842446759.py\u001b[0m in \u001b[0;36mtriangle_area\u001b[1;34m(a, b, c)\u001b[0m\n\u001b[0;32m      4\u001b[0m     \u001b[0msides\u001b[0m \u001b[1;33m=\u001b[0m \u001b[0msorted\u001b[0m\u001b[1;33m(\u001b[0m\u001b[1;33m(\u001b[0m\u001b[0ma\u001b[0m\u001b[1;33m,\u001b[0m \u001b[0mb\u001b[0m\u001b[1;33m,\u001b[0m \u001b[0mc\u001b[0m\u001b[1;33m)\u001b[0m\u001b[1;33m)\u001b[0m\u001b[1;33m\u001b[0m\u001b[1;33m\u001b[0m\u001b[0m\n\u001b[0;32m      5\u001b[0m     \u001b[1;32mif\u001b[0m \u001b[0msides\u001b[0m\u001b[1;33m[\u001b[0m\u001b[1;36m2\u001b[0m\u001b[1;33m]\u001b[0m \u001b[1;33m>\u001b[0m \u001b[0msides\u001b[0m\u001b[1;33m[\u001b[0m\u001b[1;36m0\u001b[0m\u001b[1;33m]\u001b[0m \u001b[1;33m+\u001b[0m \u001b[0msides\u001b[0m\u001b[1;33m[\u001b[0m\u001b[1;36m1\u001b[0m\u001b[1;33m]\u001b[0m\u001b[1;33m:\u001b[0m\u001b[1;33m\u001b[0m\u001b[1;33m\u001b[0m\u001b[0m\n\u001b[1;32m----> 6\u001b[1;33m         \u001b[1;32mraise\u001b[0m \u001b[0mTriangleException\u001b[0m\u001b[1;33m(\u001b[0m\u001b[1;34m'Illegal Triangle'\u001b[0m\u001b[1;33m,\u001b[0m \u001b[0msides\u001b[0m\u001b[1;33m)\u001b[0m\u001b[1;33m.\u001b[0m\u001b[0m__str__\u001b[0m\u001b[1;33m(\u001b[0m\u001b[1;33m)\u001b[0m\u001b[1;33m\u001b[0m\u001b[1;33m\u001b[0m\u001b[0m\n\u001b[0m\u001b[0;32m      7\u001b[0m \u001b[1;33m\u001b[0m\u001b[0m\n\u001b[0;32m      8\u001b[0m     \u001b[0mp\u001b[0m \u001b[1;33m=\u001b[0m \u001b[1;33m(\u001b[0m\u001b[0ma\u001b[0m \u001b[1;33m+\u001b[0m \u001b[0mb\u001b[0m \u001b[1;33m+\u001b[0m \u001b[0mc\u001b[0m\u001b[1;33m)\u001b[0m \u001b[1;33m/\u001b[0m \u001b[1;36m2\u001b[0m\u001b[1;33m\u001b[0m\u001b[1;33m\u001b[0m\u001b[0m\n",
      "\u001b[1;31mTypeError\u001b[0m: exceptions must derive from BaseException"
     ]
    }
   ],
   "source": [
    "triangle_area(3,4,10)"
   ]
  },
  {
   "cell_type": "markdown",
   "id": "aa673110-985b-4c60-920d-188fbb4cd14a",
   "metadata": {},
   "source": [
    "Exception chaining can be implicit or explicit:\n",
    "\n",
    "Explicit chaining is when we use the statement `raise ..... from ..`  \n",
    "Explicit chaining stores the original exception on `__cause__`\n",
    "\n",
    "Implicit chaining is when an exception is raised during the handling of another exception  \n",
    "Implicit chaining stores the original exception on `__context__`"
   ]
  },
  {
   "cell_type": "markdown",
   "id": "fee73fb1-6210-43a3-89b3-4df33fb1f1ed",
   "metadata": {},
   "source": [
    "#### Tracebacks\n",
    "Tracebacks are objects like any other and can be interacted with  \n",
    "They are stored on `__traceback__` on exceptions  \n",
    "The `traceback` module provides fucntions to work with tracebacks\n",
    "Storing tracebacks for too long is not good as it requires a large chunck of memory"
   ]
  },
  {
   "cell_type": "code",
   "execution_count": 51,
   "id": "b11415c9-fb6f-43ba-ae42-581d4596ba71",
   "metadata": {},
   "outputs": [
    {
     "name": "stdout",
     "output_type": "stream",
     "text": [
      "<traceback object at 0x000002156B0A8548>\n"
     ]
    },
    {
     "name": "stderr",
     "output_type": "stream",
     "text": [
      "  File \"C:\\Users\\Goncalo\\AppData\\Local\\Temp\\ipykernel_14104\\1340511165.py\", line 5, in main\n",
      "    median([])\n",
      "  File \"C:\\Users\\Goncalo\\AppData\\Local\\Temp\\ipykernel_14104\\88029039.py\", line 4, in median\n",
      "    raise ValueError('median() arg is an empty series, this is the custom string')\n"
     ]
    }
   ],
   "source": [
    "from traceback import print_tb\n",
    "\n",
    "def main():\n",
    "    try:\n",
    "        median([])\n",
    "    except ValueError as e:\n",
    "#         print('Payload repr:', repr(e))\n",
    "#         print('Payload str:', str(e))\n",
    "        \n",
    "        print(e.__traceback__)\n",
    "        print_tb(e.__traceback__)\n",
    "\n",
    "if __name__ == '__main__':\n",
    "    main()"
   ]
  },
  {
   "cell_type": "markdown",
   "id": "d6b59b9c-bd52-4d6b-8fb9-549cdf98fe04",
   "metadata": {},
   "source": [
    "Handling the traceback with the `print_tb` method we see that it prints the argument that causes the Exception and the raise statemetn as well"
   ]
  },
  {
   "cell_type": "markdown",
   "id": "b090f732-6121-4c89-8b92-41d140f3d12e",
   "metadata": {},
   "source": [
    "#### Assertions\n",
    "Assertions can be used to guarantee that a function is returning what we think it's returning (Postconditions)  \n",
    "Assertions are meant to detect errors in implementation, not user errors  \n",
    "Therefore we need to careful not to raise an Assertion when the user is at fault, a raise an Exception instead  \n",
    "Add guards to check input arguments and assertions to check implementation"
   ]
  },
  {
   "cell_type": "markdown",
   "id": "e01812a9-104b-4f35-bb67-69eafb088032",
   "metadata": {},
   "source": [
    "#### Context Managers\n",
    "The main use of context managers is for properly managing resources  \n",
    "Context managers have `__enter__` and `__exit__` methods  \n",
    "A `with` statement calls the `__enter__` before entering the block and the expression must evaluate to a context manager object  \n",
    "The return value of `__enter__` is bound to the `as` variable, if defined  \n",
    "The `__exit__` method is called after the block is complete  \n",
    "If the with-block exits with an Exception, the information of the exception is still passed to the `__exit__` method  \n",
    "By default the `__exit__` propagates exceptions, but we can hide it by returning `True`\n",
    "\n",
    "Try switching True to False in the return of `__exit__`"
   ]
  },
  {
   "cell_type": "code",
   "execution_count": 69,
   "id": "5689c739-bbeb-4676-8630-0d0b7875e402",
   "metadata": {},
   "outputs": [],
   "source": [
    "class LoggingCM:\n",
    "    def __enter__(self):\n",
    "        print('Logging stuff from __enter__')\n",
    "        return 'You have entered the with-block!'\n",
    "    \n",
    "    def __exit__(self, exc_type, exc_val, exc_tb):\n",
    "        if exc_type is None:\n",
    "            print('Logging stuff from __exit__\\n'\n",
    "                 'Exit succeeded')\n",
    "        else:\n",
    "            print('Logging stuff from __exit__\\n'\n",
    "                 'Exit succee... WAIT! Exception detected.\\n'\n",
    "                 'type={}, value={}, traceback={}'.format(exc_type, exc_val, exc_tb))\n",
    "        return True"
   ]
  },
  {
   "cell_type": "code",
   "execution_count": 70,
   "id": "7a4d18a4-0c9e-4b5f-b223-80fb6c179aa4",
   "metadata": {},
   "outputs": [
    {
     "name": "stdout",
     "output_type": "stream",
     "text": [
      "Logging stuff from __enter__\n",
      "Logging stuff from __exit__\n",
      "Exit succeeded\n"
     ]
    }
   ],
   "source": [
    "with LoggingCM():\n",
    "    pass"
   ]
  },
  {
   "cell_type": "code",
   "execution_count": 71,
   "id": "fb142d0a-3add-47c6-85f4-fd1598b5b8b6",
   "metadata": {},
   "outputs": [
    {
     "name": "stdout",
     "output_type": "stream",
     "text": [
      "Logging stuff from __enter__\n",
      "Logging stuff from __exit__\n",
      "Exit succee... WAIT! Exception detected.\n",
      "type=<class 'ValueError'>, value=, traceback=<traceback object at 0x000002156B0DC588>\n"
     ]
    }
   ],
   "source": [
    "with LoggingCM():\n",
    "    raise ValueError()"
   ]
  },
  {
   "cell_type": "markdown",
   "id": "8a31381d-d657-46c9-b3d9-ed29a4a10b5f",
   "metadata": {},
   "source": [
    "#### Nested Context Managers\n",
    "We can use multiple context managers by nesting them in the `with` statement separated by comma  \n",
    "Careful not to pass a list to the expression of the with statement, and pass context managers!"
   ]
  },
  {
   "cell_type": "code",
   "execution_count": 75,
   "id": "c3a047ce-7792-4c72-bcb5-0e5d79232aab",
   "metadata": {},
   "outputs": [],
   "source": [
    "import contextlib\n",
    "\n",
    "@contextlib.contextmanager\n",
    "def cm1(name):\n",
    "    print(f'I am the {name}, a context manager')\n",
    "    yield\n",
    "    print(f'Exiting {name}')\n",
    "\n",
    "@contextlib.contextmanager\n",
    "def cm2(name):\n",
    "    print(f'I am the {name}, a context manager too!')\n",
    "    yield\n",
    "    print(f'Exiting {name}')"
   ]
  },
  {
   "cell_type": "code",
   "execution_count": 76,
   "id": "e7f29f2c-538e-4f91-8553-872590322c44",
   "metadata": {},
   "outputs": [
    {
     "name": "stdout",
     "output_type": "stream",
     "text": [
      "I am the outer cm, a context manager\n",
      "I am the inner cm, a context manager too!\n",
      "Body\n",
      "Exiting inner cm\n",
      "Exiting outer cm\n"
     ]
    }
   ],
   "source": [
    "with cm1('outer cm'), cm2('inner cm'):\n",
    "    print('Body')"
   ]
  },
  {
   "cell_type": "code",
   "execution_count": null,
   "id": "d2238f3e-7e26-466f-bcde-f29cd5692af8",
   "metadata": {},
   "outputs": [],
   "source": []
  }
 ],
 "metadata": {
  "kernelspec": {
   "display_name": "Python 3 (ipykernel)",
   "language": "python",
   "name": "python3"
  },
  "language_info": {
   "codemirror_mode": {
    "name": "ipython",
    "version": 3
   },
   "file_extension": ".py",
   "mimetype": "text/x-python",
   "name": "python",
   "nbconvert_exporter": "python",
   "pygments_lexer": "ipython3",
   "version": "3.8.13"
  }
 },
 "nbformat": 4,
 "nbformat_minor": 5
}
