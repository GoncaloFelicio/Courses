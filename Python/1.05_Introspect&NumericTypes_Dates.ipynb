{
 "cells": [
  {
   "cell_type": "markdown",
   "id": "4c405223-1300-4b9b-9084-900312d6a235",
   "metadata": {},
   "source": [
    "# Notes on Python\n",
    "## Examples for reference, tips, Best Practices\n",
    "\n",
    "Based on the Course: Core Python (Introspection and Numeric Types, Times and Dates) at PluralSight\n",
    "\n",
    "Author: Gonçalo Felício  \n",
    "Date: 04/2022  \n",
    "Provided by: ISIWAY\n",
    "\n",
    "Something like a pocketbook to come to for quick references, examples, and tips of best practices, compiled with my own preferences  \n",
    "Loosely divided by subject, and with some degree, by the respective modules"
   ]
  },
  {
   "cell_type": "markdown",
   "id": "90799b1a-e74a-457e-91d2-71cc2a5d07e6",
   "metadata": {},
   "source": [
    "## Introspection\n",
    "\n",
    "#### Types\n",
    "Introspection regards inspecting objects to better understand how they work, and how to use them, in specific their atributes\n",
    "\n",
    "`type()` is the built in function that returns the type of its argument  \n",
    "Types of objects are usually expressed in terms of `class`  \n",
    "\n",
    "`issubclass()` reports wether one type is a class of another  \n",
    "`isinstance()` reports wether an object is an instance of a type  \n",
    "When type check is necessary, it's better to use these functions rather than equality checks\n",
    "\n",
    "`dir()` lists all the attributes of an object, this includes methods, if querying a class  \n",
    "Usually, a type will have attributes that are not immediately clear why this type would include them. For example `int` includes attributes that allow us to use objects of this type as rational or complex numbers  \n",
    "`getattr()` allows us to access attributes directly by string name, if an attribute of this name does not exist a `AttributeError` is raised  \n",
    "`callable()` determines if an object can be called like a function  \n",
    "The `__name__` and `__class__` contain the name of the class object and the type information respectively\n",
    "`hasattr()` checks wether an object contains an atribute with the argument string name\n",
    "\n",
    "Tip: Even though introspection is a powerfull tool for development, it's better to use a EAFP style of programming, as it is often faster and cleaner"
   ]
  },
  {
   "cell_type": "markdown",
   "id": "017b799e-d6ee-4c86-bc8e-5a3d4012781b",
   "metadata": {},
   "source": [
    "This example uses the attributes `numerator` and `denominator` of int and fraction objects to return mixed numerals  \n",
    "Notice how we could check if the argument has the attributes necessary, but instead, it's cleaner and faster to simply try the implementation and catch the `AttributeError` if the argument does lack the attributes  \n",
    "At this point we change the unclear `AttributeError` into the more common `TypeError` and return a helpful message using the Exception syntax `except Error as e: raise ChainedError ... from e` for chained exceptions"
   ]
  },
  {
   "cell_type": "code",
   "execution_count": 2,
   "id": "4b70b22e-ad17-4d91-869a-f2a3c8b7c3a9",
   "metadata": {},
   "outputs": [],
   "source": [
    "from fractions import Fraction\n",
    "\n",
    "\n",
    "def mixed_numeral(vulgar):\n",
    "    try:\n",
    "        integer = vulgar.numerator // vulgar.denominator\n",
    "        fraction = Fraction(vulgar.numerator - (integer * vulgar.denominator), vulgar.denominator)\n",
    "        \n",
    "        return integer, fraction\n",
    "    except AttributeError as e:\n",
    "        raise TypeError(f\"{vulgar} is not a rational number\") from e"
   ]
  },
  {
   "cell_type": "code",
   "execution_count": 4,
   "id": "6d1df8ba-b138-4ed6-8080-cda9195fc471",
   "metadata": {},
   "outputs": [
    {
     "data": {
      "text/plain": [
       "(1, Fraction(1, 10))"
      ]
     },
     "execution_count": 4,
     "metadata": {},
     "output_type": "execute_result"
    }
   ],
   "source": [
    "mixed_numeral(Fraction('11/10'))"
   ]
  },
  {
   "cell_type": "code",
   "execution_count": 6,
   "id": "847398fe-d43d-4b81-9f17-3cf34c12ef7f",
   "metadata": {},
   "outputs": [
    {
     "data": {
      "text/plain": [
       "(15, Fraction(0, 1))"
      ]
     },
     "execution_count": 6,
     "metadata": {},
     "output_type": "execute_result"
    }
   ],
   "source": [
    "mixed_numeral(15)"
   ]
  },
  {
   "cell_type": "code",
   "execution_count": 5,
   "id": "e1e889dd-e183-4f99-96d0-1b11ea38e6e0",
   "metadata": {},
   "outputs": [
    {
     "ename": "TypeError",
     "evalue": "1.1 is not a rational number",
     "output_type": "error",
     "traceback": [
      "\u001b[1;31m---------------------------------------------------------------------------\u001b[0m",
      "\u001b[1;31mAttributeError\u001b[0m                            Traceback (most recent call last)",
      "Input \u001b[1;32mIn [2]\u001b[0m, in \u001b[0;36mmixed_numeral\u001b[1;34m(vulgar)\u001b[0m\n\u001b[0;32m      5\u001b[0m \u001b[38;5;28;01mtry\u001b[39;00m:\n\u001b[1;32m----> 6\u001b[0m     integer \u001b[38;5;241m=\u001b[39m \u001b[43mvulgar\u001b[49m\u001b[38;5;241;43m.\u001b[39;49m\u001b[43mnumerator\u001b[49m \u001b[38;5;241m/\u001b[39m\u001b[38;5;241m/\u001b[39m vulgar\u001b[38;5;241m.\u001b[39mdenominator\n\u001b[0;32m      7\u001b[0m     fraction \u001b[38;5;241m=\u001b[39m Fraction(vulgar\u001b[38;5;241m.\u001b[39mnumerator \u001b[38;5;241m-\u001b[39m (integer \u001b[38;5;241m*\u001b[39m vulgar\u001b[38;5;241m.\u001b[39mdenominator), vulgar\u001b[38;5;241m.\u001b[39mdenominator)\n",
      "\u001b[1;31mAttributeError\u001b[0m: 'float' object has no attribute 'numerator'",
      "\nThe above exception was the direct cause of the following exception:\n",
      "\u001b[1;31mTypeError\u001b[0m                                 Traceback (most recent call last)",
      "Input \u001b[1;32mIn [5]\u001b[0m, in \u001b[0;36m<cell line: 1>\u001b[1;34m()\u001b[0m\n\u001b[1;32m----> 1\u001b[0m \u001b[43mmixed_numeral\u001b[49m\u001b[43m(\u001b[49m\u001b[38;5;241;43m1.1\u001b[39;49m\u001b[43m)\u001b[49m\n",
      "Input \u001b[1;32mIn [2]\u001b[0m, in \u001b[0;36mmixed_numeral\u001b[1;34m(vulgar)\u001b[0m\n\u001b[0;32m      9\u001b[0m     \u001b[38;5;28;01mreturn\u001b[39;00m integer, fraction\n\u001b[0;32m     10\u001b[0m \u001b[38;5;28;01mexcept\u001b[39;00m \u001b[38;5;167;01mAttributeError\u001b[39;00m \u001b[38;5;28;01mas\u001b[39;00m e:\n\u001b[1;32m---> 11\u001b[0m     \u001b[38;5;28;01mraise\u001b[39;00m \u001b[38;5;167;01mTypeError\u001b[39;00m(\u001b[38;5;124mf\u001b[39m\u001b[38;5;124m\"\u001b[39m\u001b[38;5;132;01m{\u001b[39;00mvulgar\u001b[38;5;132;01m}\u001b[39;00m\u001b[38;5;124m is not a rational number\u001b[39m\u001b[38;5;124m\"\u001b[39m) \u001b[38;5;28;01mfrom\u001b[39;00m \u001b[38;5;21;01me\u001b[39;00m\n",
      "\u001b[1;31mTypeError\u001b[0m: 1.1 is not a rational number"
     ]
    }
   ],
   "source": [
    "mixed_numeral(1.1)"
   ]
  },
  {
   "cell_type": "markdown",
   "id": "732c1c82-91ea-4bda-8ddd-2aa5337f43ae",
   "metadata": {},
   "source": [
    "#### Scopes\n",
    "`globals()` is a dictionay mapping names to objects in the global namespace, so, in other words, the dictionary returned is the actual global namespace  \n",
    "`locals()` is the same but for the local scope  \n",
    "\n",
    "Tip: it's generally better to use f-strings to access the local or global namespace variables directly\n"
   ]
  },
  {
   "cell_type": "markdown",
   "id": "af1b9969-1839-43f7-9a8a-ecd985878365",
   "metadata": {},
   "source": [
    "#### Inspect Module\n",
    "The inspect module provides many useful tools for advanced introspection  \n",
    "`inspect.ismodule()` checks if an object is a module  \n",
    "`inspect.getmembers()` returns the members of an object and can accept arguments for filtering the results  \n",
    "`inspect.signature()` returns information on a function's signature or metadata, if this information is not accessible it raises a `ValueError`  \n",
    "`inspect.getdoc()` returns nicely formatted docstrings of an object\n",
    "\n",
    "Importing a module binds the module's namespace into the current namespace, this means we can actually import modules that are imported in other modules directly from the latter"
   ]
  },
  {
   "cell_type": "code",
   "execution_count": null,
   "id": "da2e091c-b8c3-42d8-8958-9315abefc3e8",
   "metadata": {},
   "outputs": [],
   "source": [
    "import inspect\n",
    "\n",
    "inspect.getmembers(batch, inspect.isclass) # returns all the classes inside the module batch"
   ]
  },
  {
   "cell_type": "code",
   "execution_count": null,
   "id": "e20c7030-a29c-489d-98d0-3d6ae5b8c253",
   "metadata": {},
   "outputs": [],
   "source": [
    "inspect.getmembers(batch.Batch, inspect.isfunction) # returns all the functions inside the class Batch of module batch"
   ]
  },
  {
   "cell_type": "code",
   "execution_count": null,
   "id": "40265007-52f3-4963-960e-6175a6f104eb",
   "metadata": {},
   "outputs": [],
   "source": [
    "init_sig = inspect.signature(batch.Batch.__init__) # returns the signature of the funtion __init__ of class Batch"
   ]
  },
  {
   "cell_type": "code",
   "execution_count": null,
   "id": "96d2e968-9004-44e9-b00e-fc5771162a1b",
   "metadata": {},
   "outputs": [],
   "source": [
    "str(init_sig) # returns a nice consice view of the information"
   ]
  },
  {
   "cell_type": "markdown",
   "id": "9f277f38-26d1-4d9a-8565-8fb576c2649b",
   "metadata": {},
   "source": [
    "A common guideline for docstrings is that the first line is a short summary  \n",
    "`set` objects can be used to work with relationships between groups of objects as in handling the names of the attributes of an object wether they are attributes or methods  \n",
    "When deciding between using the `map` function or a comprehension, choose the one that increases clarity and readability  \n",
    "Format specifiers in `.format()` can be nested inside the string like so `'widths: {{:{w}}}'` and the results is `'widths: {:3} {:6} {:9}...'`\n",
    "\n"
   ]
  },
  {
   "cell_type": "markdown",
   "id": "dc5fe205-15b3-4f73-8a41-0d14c6aac3c7",
   "metadata": {},
   "source": [
    "## Numeric Types, Dates and Time\n",
    "Sometimes the usual numeric types like `int` and `float` are not suitable for an implementation and can lead to errors. At this point special numeric types should be adopted\n",
    "\n",
    "`float` uses 64 bits to store its value, 1 bit for the sign, 11 bits for the exponent and 52 bits for the mantissa\n",
    "`float` can't exactly represent every floating-point number, as seen in simple example below. These imprecisions can accumulate and lead to significant errors in implementations\n",
    "\n"
   ]
  },
  {
   "cell_type": "code",
   "execution_count": 8,
   "id": "efa379ef-d8e6-45e3-8d5d-ddd5078c71b7",
   "metadata": {},
   "outputs": [
    {
     "data": {
      "text/plain": [
       "0.10000000000000009"
      ]
     },
     "execution_count": 8,
     "metadata": {},
     "output_type": "execute_result"
    }
   ],
   "source": [
    "0.8-0.7 # notice the imprecision at the last value"
   ]
  },
  {
   "cell_type": "markdown",
   "id": "f45962f8-676d-4ae2-829b-1c98eacf0a98",
   "metadata": {},
   "source": [
    "### Decimal\n",
    "The Decimal type can be used to exactly represent decimal values, it uses a base-10 floating-point number representation  \n",
    "Decimal can be safely constructed with strings and integers  \n",
    "Constructing Decimal from float can lead to loss of data  \n",
    "Decimal preserves precision between computations and the precision can be specified in the context of Decimal, it also supports 'infinity' and 'not-a-number'  \n",
    "Functions in `math` don't work with Decimal"
   ]
  },
  {
   "cell_type": "code",
   "execution_count": 13,
   "id": "728bae0a-106c-446e-81b0-d39b2f45349c",
   "metadata": {},
   "outputs": [
    {
     "data": {
      "text/plain": [
       "Decimal('0.1')"
      ]
     },
     "execution_count": 13,
     "metadata": {},
     "output_type": "execute_result"
    }
   ],
   "source": [
    "from decimal import Decimal, getcontext\n",
    "Decimal('0.8')-Decimal('0.7')"
   ]
  },
  {
   "cell_type": "code",
   "execution_count": 14,
   "id": "936fcfd2-4382-4fc7-8c5f-189ab5a23601",
   "metadata": {},
   "outputs": [
    {
     "data": {
      "text/plain": [
       "Decimal('1.2345678')"
      ]
     },
     "execution_count": 14,
     "metadata": {},
     "output_type": "execute_result"
    }
   ],
   "source": [
    "getcontext().prec = 6\n",
    "D = Decimal('1.2345678')\n",
    "D"
   ]
  },
  {
   "cell_type": "code",
   "execution_count": 17,
   "id": "0634ff8c-77db-431a-9865-7f7b2d98ef8b",
   "metadata": {},
   "outputs": [
    {
     "data": {
      "text/plain": [
       "Decimal('3.23457')"
      ]
     },
     "execution_count": 17,
     "metadata": {},
     "output_type": "execute_result"
    }
   ],
   "source": [
    "D + Decimal(2) # precision is maintained at the specified level"
   ]
  },
  {
   "cell_type": "markdown",
   "id": "7e53c2be-df05-4979-8255-d70206b27e93",
   "metadata": {},
   "source": [
    "### Fraction\n",
    "Fraction allows for precise representation of rational numbers \n",
    "It can be constructed in the following ways  \n",
    "Take care when using floats as it can carry over it's inexact nature  \n",
    "Supports standard arithmetic, and the `ceil()` and `floor()` functions, but not `sqrt()` as it could lead to irrational numbers"
   ]
  },
  {
   "cell_type": "code",
   "execution_count": 21,
   "id": "c36414f0-4a99-4014-9bed-954f2abc334d",
   "metadata": {},
   "outputs": [
    {
     "name": "stdout",
     "output_type": "stream",
     "text": [
      "1/2\n",
      "1/2\n",
      "3602879701896397/36028797018963968\n",
      "1/10\n",
      "3/5 11/2\n"
     ]
    }
   ],
   "source": [
    "from fractions import Fraction\n",
    "\n",
    "print(Fraction(1,2))\n",
    "print(Fraction(0.5))\n",
    "print(Fraction(0.1))\n",
    "print(Fraction(Decimal('0.1')))\n",
    "print(Fraction('0.6'), Fraction('22/4'))"
   ]
  },
  {
   "cell_type": "markdown",
   "id": "eac19d41-eea1-46bf-8788-35cd382b12a3",
   "metadata": {},
   "source": [
    "### Complex\n",
    "complex is the way to model numbers with imaginary parts  \n",
    "It can be constructed from other numeric types and stores the components as floats  \n",
    "Functions from `math` module do not work but there are alternatives in the `cmath` module that substitue"
   ]
  },
  {
   "cell_type": "code",
   "execution_count": 23,
   "id": "6f81a8d9-f7c8-4b90-b307-35bc73f9e84d",
   "metadata": {},
   "outputs": [
    {
     "data": {
      "text/plain": [
       "complex"
      ]
     },
     "execution_count": 23,
     "metadata": {},
     "output_type": "execute_result"
    }
   ],
   "source": [
    "type(2j)"
   ]
  },
  {
   "cell_type": "code",
   "execution_count": 27,
   "id": "b08094cc-3d65-4c02-9374-e96560c0a24e",
   "metadata": {},
   "outputs": [
    {
     "name": "stdout",
     "output_type": "stream",
     "text": [
      "(3+5j)\n",
      "3.0\n",
      "(3-5j)\n"
     ]
    }
   ],
   "source": [
    "c = 3+5j\n",
    "print(c)\n",
    "print(c.real)\n",
    "print(c.conjugate())"
   ]
  },
  {
   "cell_type": "code",
   "execution_count": 28,
   "id": "3fa3eb52-bd1b-4d4d-a35c-b69c968f4af1",
   "metadata": {},
   "outputs": [
    {
     "data": {
      "text/plain": [
       "1j"
      ]
     },
     "execution_count": 28,
     "metadata": {},
     "output_type": "execute_result"
    }
   ],
   "source": [
    "import cmath\n",
    "cmath.sqrt(-1)"
   ]
  },
  {
   "cell_type": "markdown",
   "id": "aef5005e-3d8d-47f1-811e-72f8fc1e243c",
   "metadata": {},
   "source": [
    "`round()` does not work for complex numbers and can give suprising results for floats"
   ]
  },
  {
   "cell_type": "code",
   "execution_count": 32,
   "id": "0128b8f1-f7ee-4397-be53-fd0109df890b",
   "metadata": {},
   "outputs": [
    {
     "name": "stdout",
     "output_type": "stream",
     "text": [
      "2\n",
      "2\n",
      "2.67\n"
     ]
    }
   ],
   "source": [
    "print(round(1.5))\n",
    "print(round(2.5))\n",
    "print(round(2.675, 2))\n",
    "# The way it works is that it rounds to the even number as seen by 1.5 and 2.5\n",
    "# Still it may work differently as we were expecting 2.68 and got 2.67, meaning it was closer to 2.67 than to 2.68"
   ]
  },
  {
   "cell_type": "markdown",
   "id": "176002fa-2408-4c02-b232-ff0e57a4e4fc",
   "metadata": {},
   "source": [
    "Pyhton has the literal forms for *binary* *octal* and *hexadecimal* using `bin()`, `oct()`, `hex()`  \n",
    "`int()` accepts the optional base argument to use when interpreting the given string, taking any value from 2 to 36. The default is to use the string prefix, if given or decimal"
   ]
  },
  {
   "cell_type": "code",
   "execution_count": 42,
   "id": "c00aa061-e45a-433c-9d24-4ebe895576b9",
   "metadata": {},
   "outputs": [
    {
     "data": {
      "text/plain": [
       "60466176"
      ]
     },
     "execution_count": 42,
     "metadata": {},
     "output_type": "execute_result"
    }
   ],
   "source": [
    "int('100000', base=36)"
   ]
  },
  {
   "cell_type": "markdown",
   "id": "ef90bdd4-2bb3-4a4f-91d9-6050f66acc2a",
   "metadata": {},
   "source": [
    "### Datas and Times\n",
    "`datetime` module provides support to working with dates and times  \n",
    "`datetime.date` represents calendar dates  \n",
    "`datetime.time` represents time of day  \n",
    "`datetime.datetime` represents both  \n",
    "`datetime.timedelta` represents durations between 2 given times  \n",
    "`datetime.tzinfo` provides an abstract class to work with timezones  \n",
    "We can add a timedelta to a datetime to get the new datetime, but we cannot perform basic arithmetics on datetimes   \n",
    "Tip: Python does not include much support for handling timezones, given its volatility, search for 3rd-party packages for this like `pytz` or `dateutil`"
   ]
  },
  {
   "cell_type": "code",
   "execution_count": 54,
   "id": "f1497efd-593d-430e-a31d-bab039bee7dd",
   "metadata": {},
   "outputs": [
    {
     "data": {
      "text/plain": [
       "datetime.timedelta(days=24, seconds=10803, microseconds=3)"
      ]
     },
     "execution_count": 54,
     "metadata": {},
     "output_type": "execute_result"
    }
   ],
   "source": [
    "import datetime\n",
    "td = datetime.timedelta(weeks=3, days=3, hours=3, seconds=3, microseconds=3)\n",
    "td # curiously only representes days, seconds and microseconds by default"
   ]
  },
  {
   "cell_type": "code",
   "execution_count": 47,
   "id": "bf3ec4a0-fa5c-4e3e-9b16-9e2f3f2892b9",
   "metadata": {},
   "outputs": [
    {
     "data": {
      "text/plain": [
       "'24 days, 3:00:03.000003'"
      ]
     },
     "execution_count": 47,
     "metadata": {},
     "output_type": "execute_result"
    }
   ],
   "source": [
    "str(td) # a nicely formatted representation of timedelta"
   ]
  },
  {
   "cell_type": "code",
   "execution_count": 53,
   "id": "a3fa03b8-d345-457f-9953-74d1b5452900",
   "metadata": {},
   "outputs": [
    {
     "data": {
      "text/plain": [
       "'2022-04-12'"
      ]
     },
     "execution_count": 53,
     "metadata": {},
     "output_type": "execute_result"
    }
   ],
   "source": [
    "str(datetime.date.today())"
   ]
  },
  {
   "cell_type": "markdown",
   "id": "9e09b222-9972-496f-81b0-43f7670a6eb0",
   "metadata": {},
   "source": [
    "#### Computational Geometry\n",
    "Computational geometry is an area where the inexactness of floats can lead to major implementation errors"
   ]
  },
  {
   "cell_type": "markdown",
   "id": "8fd03d94-8b67-4dd6-a06a-ad6186ccfba8",
   "metadata": {},
   "source": [
    "This function is rather slick, it takes advatage of the results from boolean aritmetics, as True == 0 and False == -1"
   ]
  },
  {
   "cell_type": "code",
   "execution_count": 68,
   "id": "9e51f7fa-2399-4ea3-ac54-9dcddbc79d82",
   "metadata": {},
   "outputs": [
    {
     "name": "stdout",
     "output_type": "stream",
     "text": [
      "1\n",
      "-1\n",
      "0\n",
      "0\n"
     ]
    }
   ],
   "source": [
    "print(\n",
    "    (True - False),\n",
    "    (False - True),\n",
    "    (True - True),\n",
    "    (False - False), sep='\\n')"
   ]
  },
  {
   "cell_type": "code",
   "execution_count": 55,
   "id": "40f4c6da-9c9d-49dd-861c-728f8c2e7692",
   "metadata": {},
   "outputs": [],
   "source": [
    "# Returns the sing of a number\n",
    "def sign(x):\n",
    "    return  (x > 0) - (x < 0)"
   ]
  },
  {
   "cell_type": "code",
   "execution_count": 70,
   "id": "f39d225a-7bb1-4d64-a16f-33f1a4cfd1e2",
   "metadata": {},
   "outputs": [
    {
     "name": "stdout",
     "output_type": "stream",
     "text": [
      "1\n",
      "-1\n",
      "0\n"
     ]
    }
   ],
   "source": [
    "print(sign(2), sign(-3), sign(0), sep='\\n')"
   ]
  },
  {
   "cell_type": "code",
   "execution_count": null,
   "id": "3550582e-b814-4bc6-b7db-18f18dfe7c86",
   "metadata": {},
   "outputs": [],
   "source": []
  }
 ],
 "metadata": {
  "kernelspec": {
   "display_name": "Python 3 (ipykernel)",
   "language": "python",
   "name": "python3"
  },
  "language_info": {
   "codemirror_mode": {
    "name": "ipython",
    "version": 3
   },
   "file_extension": ".py",
   "mimetype": "text/x-python",
   "name": "python",
   "nbconvert_exporter": "python",
   "pygments_lexer": "ipython3",
   "version": "3.9.7"
  }
 },
 "nbformat": 4,
 "nbformat_minor": 5
}
