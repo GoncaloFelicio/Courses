{
 "cells": [
  {
   "cell_type": "markdown",
   "id": "721c073c-f2b5-4807-9ab8-4a9788d4bb1c",
   "metadata": {},
   "source": [
    "# Notes on Python\n",
    "## Examples for reference, tips, Best Practices\n",
    "\n",
    "Based on the Course: Core Python (Numeric Tower, Conversions and Operators | Hashing and More Collections) at PluralSight\n",
    "\n",
    "Author: Gonçalo Felício  \n",
    "Date: 04/2022  \n",
    "Provided by: ISIWAY\n",
    "\n",
    "Something like a pocketbook to come to for quick references, examples, and tips of best practices, compiled with my own preferences  \n",
    "Loosely divided by subject, and with some degree, by the respective modules"
   ]
  },
  {
   "cell_type": "markdown",
   "id": "56ee10ce-2e9c-4c3d-a4c3-8e26d1f1e118",
   "metadata": {},
   "source": [
    "This module covers more application-oriented example to the theory in the previous Notes and small Tips"
   ]
  },
  {
   "cell_type": "markdown",
   "id": "8896d361-4fbb-4b92-8174-d6dfcec3669a",
   "metadata": {},
   "source": [
    "### Numeric Tower\n",
    "The idea that when you combine numeric types you get the type below, with the order being:\n",
    "> Integer - int\n",
    "\n",
    "> Rational - fraction.Fraction\n",
    "\n",
    "> Real - float, decimal.Decimal\n",
    "\n",
    "> Complex - complex"
   ]
  },
  {
   "cell_type": "markdown",
   "id": "871208f6-ab72-4f9a-94c8-958151fda9a7",
   "metadata": {},
   "source": [
    "Both these numbers are type 'int', but with diferent base represantations!  \n",
    "To be more exact, these are not 'numbers' but integer *literals*, this is, the argument passed to the *int* contructor"
   ]
  },
  {
   "cell_type": "code",
   "execution_count": 4,
   "id": "9912bcce-f71c-4d5c-bff3-d95c8bc1bcbc",
   "metadata": {},
   "outputs": [
    {
     "name": "stdout",
     "output_type": "stream",
     "text": [
      "2\n",
      "<class 'int'>\n",
      "2\n",
      "<class 'int'>\n"
     ]
    }
   ],
   "source": [
    "print(0b10, type(0b10), 2, type(2), sep='\\n')"
   ]
  },
  {
   "cell_type": "code",
   "execution_count": 6,
   "id": "252ae5f1-cb06-4170-8a91-c97736629a9c",
   "metadata": {},
   "outputs": [
    {
     "ename": "ValueError",
     "evalue": "invalid literal for int() with base 10: '3.1'",
     "output_type": "error",
     "traceback": [
      "\u001b[1;31m---------------------------------------------------------------------------\u001b[0m",
      "\u001b[1;31mValueError\u001b[0m                                Traceback (most recent call last)",
      "Input \u001b[1;32mIn [6]\u001b[0m, in \u001b[0;36m<cell line: 1>\u001b[1;34m()\u001b[0m\n\u001b[1;32m----> 1\u001b[0m \u001b[38;5;28;43mint\u001b[39;49m\u001b[43m(\u001b[49m\u001b[38;5;124;43m'\u001b[39;49m\u001b[38;5;124;43m3.1\u001b[39;49m\u001b[38;5;124;43m'\u001b[39;49m\u001b[43m)\u001b[49m\n",
      "\u001b[1;31mValueError\u001b[0m: invalid literal for int() with base 10: '3.1'"
     ]
    }
   ],
   "source": [
    "int('3.1') # notice the mention of 'literal'"
   ]
  },
  {
   "cell_type": "markdown",
   "id": "71aa3e49-638b-4a72-aa12-3392eec1fedf",
   "metadata": {},
   "source": [
    "Literals are built in to Python, we cannot create new literals"
   ]
  },
  {
   "cell_type": "markdown",
   "id": "22894d14-16d1-49e5-8fca-6934259af480",
   "metadata": {},
   "source": [
    "Representations of numbers completely ignore the _ symbol. So we can use _ to make large numbers more readable"
   ]
  },
  {
   "cell_type": "code",
   "execution_count": 8,
   "id": "ea20f7bb-d02e-4fe1-b30a-ae8247d4b225",
   "metadata": {},
   "outputs": [
    {
     "data": {
      "text/plain": [
       "Decimal('37140.21131468271825303843460')"
      ]
     },
     "execution_count": 8,
     "metadata": {},
     "output_type": "execute_result"
    }
   ],
   "source": [
    "from decimal import Decimal\n",
    "\n",
    "Decimal('20_000') ** Decimal('1.0625') # default precision is 28 significant numbers"
   ]
  },
  {
   "cell_type": "markdown",
   "id": "71c7fc1f-98f8-43b8-b0c0-88908ae91262",
   "metadata": {},
   "source": [
    "Examples of the Tower"
   ]
  },
  {
   "cell_type": "code",
   "execution_count": 10,
   "id": "75089a84-6b62-4eb7-9c33-7bbd2df6db8c",
   "metadata": {},
   "outputs": [
    {
     "data": {
      "text/plain": [
       "0.7"
      ]
     },
     "execution_count": 10,
     "metadata": {},
     "output_type": "execute_result"
    }
   ],
   "source": [
    "from fractions import Fraction\n",
    "\n",
    "Fraction(2,5) + 0.3 # float is below fraction so expect a float"
   ]
  },
  {
   "cell_type": "code",
   "execution_count": 13,
   "id": "2626a4e2-ce6d-41ce-9f04-5c3f8fff1814",
   "metadata": {},
   "outputs": [
    {
     "data": {
      "text/plain": [
       "-8.333333333333334j"
      ]
     },
     "execution_count": 13,
     "metadata": {},
     "output_type": "execute_result"
    }
   ],
   "source": [
    "Fraction(25,3) / 1j # expect a complex"
   ]
  },
  {
   "cell_type": "code",
   "execution_count": 17,
   "id": "8f23feef-811f-4e2b-8b83-804e5627c3b6",
   "metadata": {},
   "outputs": [
    {
     "name": "stdout",
     "output_type": "stream",
     "text": [
      "3602879701896397/36028797018963968\n",
      "1/10\n"
     ]
    }
   ],
   "source": [
    "print(Fraction(0.1), Fraction.from_float(0.1).limit_denominator(10), sep='\\n')\n",
    "# with this method we can force denomitor to a certain range"
   ]
  },
  {
   "cell_type": "markdown",
   "id": "532ee723-c64f-4bb3-bec2-c7673454b1b8",
   "metadata": {},
   "source": [
    "In general, the order in the tower is respected, there are some exceptions though  \n",
    "The most simple exception"
   ]
  },
  {
   "cell_type": "code",
   "execution_count": 20,
   "id": "974ddd88-c010-42b2-a3e3-ff4b712e9e8c",
   "metadata": {},
   "outputs": [
    {
     "name": "stdout",
     "output_type": "stream",
     "text": [
      "0.5\n",
      "<class 'float'>\n"
     ]
    }
   ],
   "source": [
    "print(1/2, type(1/2), sep='\\n') # two ints return a float"
   ]
  },
  {
   "cell_type": "code",
   "execution_count": 23,
   "id": "2ae3662b-13fa-4f93-a87c-8859c05c9c63",
   "metadata": {},
   "outputs": [
    {
     "data": {
      "text/plain": [
       "True"
      ]
     },
     "execution_count": 23,
     "metadata": {},
     "output_type": "execute_result"
    }
   ],
   "source": [
    "import math\n",
    "# an alternative to equality checks that ignores the imprecision of floats\n",
    "math.isclose(1, sum([0.1]*10))"
   ]
  },
  {
   "cell_type": "code",
   "execution_count": 24,
   "id": "fdf7da91-ce32-41dd-a034-ed119784c39b",
   "metadata": {},
   "outputs": [
    {
     "data": {
      "text/plain": [
       "False"
      ]
     },
     "execution_count": 24,
     "metadata": {},
     "output_type": "execute_result"
    }
   ],
   "source": [
    "1 == sum([0.1]*10)"
   ]
  },
  {
   "cell_type": "markdown",
   "id": "38b47556-a2c4-48f9-8c51-7edd0c5f527b",
   "metadata": {},
   "source": [
    "## Tip\n",
    "when working in notebook mode, can quickly write to a file with"
   ]
  },
  {
   "cell_type": "code",
   "execution_count": 25,
   "id": "20e2ca72-6dec-4a90-a355-3b5af473332e",
   "metadata": {},
   "outputs": [
    {
     "name": "stdout",
     "output_type": "stream",
     "text": [
      "Writing vectors.py\n"
     ]
    }
   ],
   "source": [
    "%%writefile vectors.py\n",
    "class Vector:\n",
    "    print('File created!')"
   ]
  },
  {
   "cell_type": "code",
   "execution_count": 26,
   "id": "a1c45ada-b89c-4bea-bb38-05224e27388a",
   "metadata": {},
   "outputs": [
    {
     "name": "stdout",
     "output_type": "stream",
     "text": [
      "File created!\n"
     ]
    }
   ],
   "source": [
    "import vectors"
   ]
  },
  {
   "cell_type": "markdown",
   "id": "12afa2ab-a196-4702-977c-7a51dfa86e78",
   "metadata": {},
   "source": [
    "## Hashing and Collections"
   ]
  },
  {
   "cell_type": "markdown",
   "id": "8ec93976-62b8-4ed1-9842-1b6bb4db3a10",
   "metadata": {},
   "source": [
    "Hashing is converting the value of an object of unknown size, to a value of a fixed, immutable size, which facilitates comparison between objects  \n",
    "Collections are objects that contain other objects, and can be retrieved at any time"
   ]
  },
  {
   "cell_type": "markdown",
   "id": "a6bb106f-5890-41af-9475-d1a9873c71ef",
   "metadata": {},
   "source": [
    "To create custom collections we can inherit from the module `collections.abc`"
   ]
  },
  {
   "cell_type": "code",
   "execution_count": 2,
   "id": "176e616d-d2f4-4308-8d97-fb263e648839",
   "metadata": {},
   "outputs": [
    {
     "data": {
      "text/plain": [
       "['AsyncGenerator',\n",
       " 'AsyncIterable',\n",
       " 'AsyncIterator',\n",
       " 'Awaitable',\n",
       " 'ByteString',\n",
       " 'Callable',\n",
       " 'Collection',\n",
       " 'Container',\n",
       " 'Coroutine',\n",
       " 'Generator',\n",
       " 'Hashable',\n",
       " 'ItemsView',\n",
       " 'Iterable',\n",
       " 'Iterator',\n",
       " 'KeysView',\n",
       " 'Mapping',\n",
       " 'MappingView',\n",
       " 'MutableMapping',\n",
       " 'MutableSequence',\n",
       " 'MutableSet',\n",
       " 'Reversible',\n",
       " 'Sequence',\n",
       " 'Set',\n",
       " 'Sized',\n",
       " 'ValuesView',\n",
       " '__all__',\n",
       " '__builtins__',\n",
       " '__cached__',\n",
       " '__doc__',\n",
       " '__file__',\n",
       " '__loader__',\n",
       " '__name__',\n",
       " '__package__',\n",
       " '__spec__']"
      ]
     },
     "execution_count": 2,
     "metadata": {},
     "output_type": "execute_result"
    }
   ],
   "source": [
    "import collections.abc\n",
    "dir(collections.abc)"
   ]
  },
  {
   "cell_type": "markdown",
   "id": "c37909a0-a4d3-4be1-b50c-23686a2db23c",
   "metadata": {},
   "source": [
    "These are all the colection base types, for example, *MutableSequence* is the base class of *list* and *MutableMapping* is the base class of *dict*"
   ]
  },
  {
   "cell_type": "markdown",
   "id": "3d5b4119-acf1-4406-8647-00997c89b39b",
   "metadata": {},
   "source": [
    "Hashing is essential to efficiently handle immutable items, reducing a search of an object from O(n) - when we search each item in the n sequence, to O(1), using the hashability to directly find the object"
   ]
  },
  {
   "cell_type": "code",
   "execution_count": 8,
   "id": "4791f6ab-91f3-41e6-85c7-13c35a7e0bf3",
   "metadata": {},
   "outputs": [
    {
     "data": {
      "text/plain": [
       "42"
      ]
     },
     "execution_count": 8,
     "metadata": {},
     "output_type": "execute_result"
    }
   ],
   "source": [
    "i = 42\n",
    "hash(42) # the value of int and it's hash are the same"
   ]
  },
  {
   "cell_type": "code",
   "execution_count": 10,
   "id": "e36ea335-af36-4b17-8571-0ad92af3d763",
   "metadata": {},
   "outputs": [
    {
     "data": {
      "text/plain": [
       "-275628021890154833"
      ]
     },
     "execution_count": 10,
     "metadata": {},
     "output_type": "execute_result"
    }
   ],
   "source": [
    "string = 'I am hashable'\n",
    "hash(string) # the hash value of a string"
   ]
  },
  {
   "cell_type": "markdown",
   "id": "82b37569-29e8-446d-903f-afa36d07e965",
   "metadata": {},
   "source": [
    "Implementing `__hash__` in a class must be done carefully as it can lead to many errors. Should always implement `__eq__` with `__hash__` and should only use immutable objects, to generate the hash values  \n",
    "An alternative is to use *dataclass* decorators, as described in 1.3_Functions&Classes"
   ]
  },
  {
   "cell_type": "markdown",
   "id": "dabc6e32-df60-4ab2-8f88-9608a28957e5",
   "metadata": {},
   "source": [
    "#### Default Dictionary\n",
    "Every value in the dictionary has the same default type\n",
    "`defaultdict` type is useful when aggregating data in another sequence\n"
   ]
  },
  {
   "cell_type": "code",
   "execution_count": 13,
   "id": "9fda4077-3441-4f11-bfb2-4fe76a4ccb75",
   "metadata": {},
   "outputs": [
    {
     "data": {
      "text/plain": [
       "\u001b[1;31mInit signature:\u001b[0m \u001b[0mdefaultdict\u001b[0m\u001b[1;33m(\u001b[0m\u001b[0mself\u001b[0m\u001b[1;33m,\u001b[0m \u001b[1;33m/\u001b[0m\u001b[1;33m,\u001b[0m \u001b[1;33m*\u001b[0m\u001b[0margs\u001b[0m\u001b[1;33m,\u001b[0m \u001b[1;33m**\u001b[0m\u001b[0mkwargs\u001b[0m\u001b[1;33m)\u001b[0m\u001b[1;33m\u001b[0m\u001b[1;33m\u001b[0m\u001b[0m\n",
       "\u001b[1;31mDocstring:\u001b[0m     \n",
       "defaultdict(default_factory[, ...]) --> dict with default factory\n",
       "\n",
       "The default factory is called without arguments to produce\n",
       "a new value when a key is not present, in __getitem__ only.\n",
       "A defaultdict compares equal to a dict with the same items.\n",
       "All remaining arguments are treated the same as if they were\n",
       "passed to the dict constructor, including keyword arguments.\n",
       "\u001b[1;31mFile:\u001b[0m           c:\\users\\goncalo\\anaconda3\\lib\\collections\\__init__.py\n",
       "\u001b[1;31mType:\u001b[0m           type\n",
       "\u001b[1;31mSubclasses:\u001b[0m     Quoter\n"
      ]
     },
     "metadata": {},
     "output_type": "display_data"
    }
   ],
   "source": [
    "from collections import defaultdict\n",
    "defaultdict?"
   ]
  },
  {
   "cell_type": "markdown",
   "id": "3e309252-7e51-49e4-9e53-af75f29bd689",
   "metadata": {},
   "source": [
    "#### Counter\n",
    "Counter automatically creates a count for a sequence and all the keys are of type 'int'  \n",
    "Even though it represents items in order, it an unordered collection"
   ]
  },
  {
   "cell_type": "code",
   "execution_count": 14,
   "id": "8c3dfff0-f28b-41e2-801c-040c537a0fe8",
   "metadata": {},
   "outputs": [
    {
     "data": {
      "text/plain": [
       "\u001b[1;31mInit signature:\u001b[0m \u001b[0mCounter\u001b[0m\u001b[1;33m(\u001b[0m\u001b[0miterable\u001b[0m\u001b[1;33m=\u001b[0m\u001b[1;32mNone\u001b[0m\u001b[1;33m,\u001b[0m \u001b[1;33m/\u001b[0m\u001b[1;33m,\u001b[0m \u001b[1;33m**\u001b[0m\u001b[0mkwds\u001b[0m\u001b[1;33m)\u001b[0m\u001b[1;33m\u001b[0m\u001b[1;33m\u001b[0m\u001b[0m\n",
       "\u001b[1;31mDocstring:\u001b[0m     \n",
       "Dict subclass for counting hashable items.  Sometimes called a bag\n",
       "or multiset.  Elements are stored as dictionary keys and their counts\n",
       "are stored as dictionary values.\n",
       "\n",
       ">>> c = Counter('abcdeabcdabcaba')  # count elements from a string\n",
       "\n",
       ">>> c.most_common(3)                # three most common elements\n",
       "[('a', 5), ('b', 4), ('c', 3)]\n",
       ">>> sorted(c)                       # list all unique elements\n",
       "['a', 'b', 'c', 'd', 'e']\n",
       ">>> ''.join(sorted(c.elements()))   # list elements with repetitions\n",
       "'aaaaabbbbcccdde'\n",
       ">>> sum(c.values())                 # total of all counts\n",
       "15\n",
       "\n",
       ">>> c['a']                          # count of letter 'a'\n",
       "5\n",
       ">>> for elem in 'shazam':           # update counts from an iterable\n",
       "...     c[elem] += 1                # by adding 1 to each element's count\n",
       ">>> c['a']                          # now there are seven 'a'\n",
       "7\n",
       ">>> del c['b']                      # remove all 'b'\n",
       ">>> c['b']                          # now there are zero 'b'\n",
       "0\n",
       "\n",
       ">>> d = Counter('simsalabim')       # make another counter\n",
       ">>> c.update(d)                     # add in the second counter\n",
       ">>> c['a']                          # now there are nine 'a'\n",
       "9\n",
       "\n",
       ">>> c.clear()                       # empty the counter\n",
       ">>> c\n",
       "Counter()\n",
       "\n",
       "Note:  If a count is set to zero or reduced to zero, it will remain\n",
       "in the counter until the entry is deleted or the counter is cleared:\n",
       "\n",
       ">>> c = Counter('aaabbc')\n",
       ">>> c['b'] -= 2                     # reduce the count of 'b' by two\n",
       ">>> c.most_common()                 # 'b' is still in, but its count is zero\n",
       "[('a', 3), ('c', 1), ('b', 0)]\n",
       "\u001b[1;31mInit docstring:\u001b[0m\n",
       "Create a new, empty Counter object.  And if given, count elements\n",
       "from an input iterable.  Or, initialize the count from another mapping\n",
       "of elements to their counts.\n",
       "\n",
       ">>> c = Counter()                           # a new, empty counter\n",
       ">>> c = Counter('gallahad')                 # a new counter from an iterable\n",
       ">>> c = Counter({'a': 4, 'b': 2})           # a new counter from a mapping\n",
       ">>> c = Counter(a=4, b=2)                   # a new counter from keyword args\n",
       "\u001b[1;31mFile:\u001b[0m           c:\\users\\goncalo\\anaconda3\\lib\\collections\\__init__.py\n",
       "\u001b[1;31mType:\u001b[0m           type\n",
       "\u001b[1;31mSubclasses:\u001b[0m     \n"
      ]
     },
     "metadata": {},
     "output_type": "display_data"
    }
   ],
   "source": [
    "from collections import Counter\n",
    "Counter?"
   ]
  },
  {
   "cell_type": "code",
   "execution_count": 17,
   "id": "33eb84ef-7643-441a-94a0-84d95eca6013",
   "metadata": {},
   "outputs": [
    {
     "data": {
      "text/plain": [
       "Counter({'s': 2, 'i': 2, 'm': 2, 'a': 2, 'l': 1, 'b': 1})"
      ]
     },
     "execution_count": 17,
     "metadata": {},
     "output_type": "execute_result"
    }
   ],
   "source": [
    "d = Counter('simsalabim')\n",
    "d"
   ]
  },
  {
   "cell_type": "code",
   "execution_count": 18,
   "id": "eb081cd8-3364-473a-b798-7b1e553549da",
   "metadata": {},
   "outputs": [
    {
     "data": {
      "text/plain": [
       "Counter({'a': 5, 'b': 4, 'c': 3, 'd': 2, 'e': 1})"
      ]
     },
     "execution_count": 18,
     "metadata": {},
     "output_type": "execute_result"
    }
   ],
   "source": [
    "c = Counter('abcdeabcdabcaba')\n",
    "c"
   ]
  },
  {
   "cell_type": "code",
   "execution_count": 19,
   "id": "2777ea49-f879-4c9e-a053-bc0cafc848d4",
   "metadata": {},
   "outputs": [],
   "source": [
    "c.update(d)"
   ]
  },
  {
   "cell_type": "code",
   "execution_count": 20,
   "id": "28adfee0-37c8-4601-bab5-6a0eeab950c9",
   "metadata": {},
   "outputs": [
    {
     "data": {
      "text/plain": [
       "7"
      ]
     },
     "execution_count": 20,
     "metadata": {},
     "output_type": "execute_result"
    }
   ],
   "source": [
    "c['a']"
   ]
  },
  {
   "cell_type": "markdown",
   "id": "6330f352-c3ac-4cf9-ae4b-c3bc460dd335",
   "metadata": {},
   "source": [
    "#### Ordered Dictionary\n",
    "This dictionary collection keeps the order of items as they are added, however we should use OrderedDict if we want ordered semantics, and treat it as such, by adding the items to the dictionary in the order we desire"
   ]
  },
  {
   "cell_type": "markdown",
   "id": "ea52e1f3-6700-451e-9de4-10c1c787ab10",
   "metadata": {},
   "source": [
    "from collections import OrderedDict"
   ]
  },
  {
   "cell_type": "code",
   "execution_count": 22,
   "id": "59c61986-eae4-473e-80f7-e8ad3352c775",
   "metadata": {},
   "outputs": [
    {
     "data": {
      "text/plain": [
       "\u001b[1;31mInit signature:\u001b[0m \u001b[0mOrderedDict\u001b[0m\u001b[1;33m(\u001b[0m\u001b[0mself\u001b[0m\u001b[1;33m,\u001b[0m \u001b[1;33m/\u001b[0m\u001b[1;33m,\u001b[0m \u001b[1;33m*\u001b[0m\u001b[0margs\u001b[0m\u001b[1;33m,\u001b[0m \u001b[1;33m**\u001b[0m\u001b[0mkwargs\u001b[0m\u001b[1;33m)\u001b[0m\u001b[1;33m\u001b[0m\u001b[1;33m\u001b[0m\u001b[0m\n",
       "\u001b[1;31mDocstring:\u001b[0m      Dictionary that remembers insertion order\n",
       "\u001b[1;31mFile:\u001b[0m           c:\\users\\goncalo\\anaconda3\\lib\\collections\\__init__.py\n",
       "\u001b[1;31mType:\u001b[0m           type\n",
       "\u001b[1;31mSubclasses:\u001b[0m     \n"
      ]
     },
     "metadata": {},
     "output_type": "display_data"
    }
   ],
   "source": [
    "OrderedDict?"
   ]
  },
  {
   "cell_type": "markdown",
   "id": "f3421aa6-b1c6-45ca-8622-9f55a0dd2525",
   "metadata": {},
   "source": [
    "#### NamedTuple\n",
    "`namedtuple` is hashable and imuutable by default  \n",
    "implicit implements equal, iter, sorted and inheritable  \n",
    "Easy to load and save structured data to `namedtuple`  \n",
    "A common substitute to *dataclasses*  \n",
    "Useful when we want many of funcitalities of a class without creating a new custom class"
   ]
  },
  {
   "cell_type": "code",
   "execution_count": 25,
   "id": "a2d5c6a6-5f2a-417b-9432-eff4e03a8730",
   "metadata": {},
   "outputs": [],
   "source": [
    "from collections import namedtuple"
   ]
  },
  {
   "cell_type": "code",
   "execution_count": 26,
   "id": "003cb738-2cfd-44b3-885d-649851943943",
   "metadata": {},
   "outputs": [
    {
     "data": {
      "text/plain": [
       "\u001b[1;31mSignature:\u001b[0m\n",
       "\u001b[0mnamedtuple\u001b[0m\u001b[1;33m(\u001b[0m\u001b[1;33m\n",
       "\u001b[0m    \u001b[0mtypename\u001b[0m\u001b[1;33m,\u001b[0m\u001b[1;33m\n",
       "\u001b[0m    \u001b[0mfield_names\u001b[0m\u001b[1;33m,\u001b[0m\u001b[1;33m\n",
       "\u001b[0m    \u001b[1;33m*\u001b[0m\u001b[1;33m,\u001b[0m\u001b[1;33m\n",
       "\u001b[0m    \u001b[0mrename\u001b[0m\u001b[1;33m=\u001b[0m\u001b[1;32mFalse\u001b[0m\u001b[1;33m,\u001b[0m\u001b[1;33m\n",
       "\u001b[0m    \u001b[0mdefaults\u001b[0m\u001b[1;33m=\u001b[0m\u001b[1;32mNone\u001b[0m\u001b[1;33m,\u001b[0m\u001b[1;33m\n",
       "\u001b[0m    \u001b[0mmodule\u001b[0m\u001b[1;33m=\u001b[0m\u001b[1;32mNone\u001b[0m\u001b[1;33m,\u001b[0m\u001b[1;33m\n",
       "\u001b[0m\u001b[1;33m)\u001b[0m\u001b[1;33m\u001b[0m\u001b[1;33m\u001b[0m\u001b[0m\n",
       "\u001b[1;31mDocstring:\u001b[0m\n",
       "Returns a new subclass of tuple with named fields.\n",
       "\n",
       ">>> Point = namedtuple('Point', ['x', 'y'])\n",
       ">>> Point.__doc__                   # docstring for the new class\n",
       "'Point(x, y)'\n",
       ">>> p = Point(11, y=22)             # instantiate with positional args or keywords\n",
       ">>> p[0] + p[1]                     # indexable like a plain tuple\n",
       "33\n",
       ">>> x, y = p                        # unpack like a regular tuple\n",
       ">>> x, y\n",
       "(11, 22)\n",
       ">>> p.x + p.y                       # fields also accessible by name\n",
       "33\n",
       ">>> d = p._asdict()                 # convert to a dictionary\n",
       ">>> d['x']\n",
       "11\n",
       ">>> Point(**d)                      # convert from a dictionary\n",
       "Point(x=11, y=22)\n",
       ">>> p._replace(x=100)               # _replace() is like str.replace() but targets named fields\n",
       "Point(x=100, y=22)\n",
       "\u001b[1;31mFile:\u001b[0m      c:\\users\\goncalo\\anaconda3\\lib\\collections\\__init__.py\n",
       "\u001b[1;31mType:\u001b[0m      function\n"
      ]
     },
     "metadata": {},
     "output_type": "display_data"
    }
   ],
   "source": [
    "namedtuple?"
   ]
  },
  {
   "cell_type": "markdown",
   "id": "0abc6c19-5de5-445d-8782-ddf02e832cf8",
   "metadata": {},
   "source": [
    "#### Deque\n",
    "This type can be used just like queues or stacks structures, depending on wich side of the deque is used  \n",
    "Items are added with `append` or `appendleft` and are removed with `pop` or `popleft`, being very flexible and capable of both queue and stack behaviour\n"
   ]
  },
  {
   "cell_type": "code",
   "execution_count": 27,
   "id": "9f4aed6b-e3bb-4c47-aab7-28583c4e81f1",
   "metadata": {},
   "outputs": [],
   "source": [
    "from collections import deque"
   ]
  },
  {
   "cell_type": "code",
   "execution_count": 28,
   "id": "b75d6a36-b2f9-41e9-8ee7-6b788b54f342",
   "metadata": {},
   "outputs": [
    {
     "data": {
      "text/plain": [
       "\u001b[1;31mInit signature:\u001b[0m \u001b[0mdeque\u001b[0m\u001b[1;33m(\u001b[0m\u001b[0mself\u001b[0m\u001b[1;33m,\u001b[0m \u001b[1;33m/\u001b[0m\u001b[1;33m,\u001b[0m \u001b[1;33m*\u001b[0m\u001b[0margs\u001b[0m\u001b[1;33m,\u001b[0m \u001b[1;33m**\u001b[0m\u001b[0mkwargs\u001b[0m\u001b[1;33m)\u001b[0m\u001b[1;33m\u001b[0m\u001b[1;33m\u001b[0m\u001b[0m\n",
       "\u001b[1;31mDocstring:\u001b[0m     \n",
       "deque([iterable[, maxlen]]) --> deque object\n",
       "\n",
       "A list-like sequence optimized for data accesses near its endpoints.\n",
       "\u001b[1;31mFile:\u001b[0m           c:\\users\\goncalo\\anaconda3\\lib\\collections\\__init__.py\n",
       "\u001b[1;31mType:\u001b[0m           type\n",
       "\u001b[1;31mSubclasses:\u001b[0m     \n"
      ]
     },
     "metadata": {},
     "output_type": "display_data"
    }
   ],
   "source": [
    "deque?"
   ]
  },
  {
   "cell_type": "code",
   "execution_count": 72,
   "id": "e027749e-ed7c-46f7-8627-1c4b7fe259df",
   "metadata": {},
   "outputs": [],
   "source": [
    "d = deque()"
   ]
  },
  {
   "cell_type": "code",
   "execution_count": 73,
   "id": "f257ac32-8dba-4eab-8b0e-62bc9c0d895d",
   "metadata": {},
   "outputs": [],
   "source": [
    "d.append(1)\n",
    "d.append(2)\n",
    "d.append([3,4])"
   ]
  },
  {
   "cell_type": "code",
   "execution_count": 74,
   "id": "340a91cc-cf04-4360-8e48-c105600398ea",
   "metadata": {},
   "outputs": [
    {
     "data": {
      "text/plain": [
       "deque([1, 2, [3, 4]])"
      ]
     },
     "execution_count": 74,
     "metadata": {},
     "output_type": "execute_result"
    }
   ],
   "source": [
    "d # items are added from the 'right'"
   ]
  },
  {
   "cell_type": "code",
   "execution_count": 75,
   "id": "9c0eb60c-b0b9-4809-8678-14ce2199aa1a",
   "metadata": {},
   "outputs": [
    {
     "data": {
      "text/plain": [
       "2"
      ]
     },
     "execution_count": 75,
     "metadata": {},
     "output_type": "execute_result"
    }
   ],
   "source": [
    "d.pop()\n",
    "d.pop() "
   ]
  },
  {
   "cell_type": "code",
   "execution_count": 76,
   "id": "a31968aa-604a-4d16-a419-f0769e8860f8",
   "metadata": {},
   "outputs": [
    {
     "data": {
      "text/plain": [
       "deque([1])"
      ]
     },
     "execution_count": 76,
     "metadata": {},
     "output_type": "execute_result"
    }
   ],
   "source": [
    "d # items are removed from the right - stack behaviour"
   ]
  },
  {
   "cell_type": "code",
   "execution_count": 77,
   "id": "0a139de3-c64a-491d-906d-26a2f1c2888e",
   "metadata": {},
   "outputs": [],
   "source": [
    "d.appendleft([2,3])\n",
    "d.appendleft(4)"
   ]
  },
  {
   "cell_type": "code",
   "execution_count": 78,
   "id": "ed62cf5c-827f-48f2-b37d-47d2dcc8dce3",
   "metadata": {},
   "outputs": [
    {
     "data": {
      "text/plain": [
       "deque([4, [2, 3], 1])"
      ]
     },
     "execution_count": 78,
     "metadata": {},
     "output_type": "execute_result"
    }
   ],
   "source": [
    "d # items added from the left"
   ]
  },
  {
   "cell_type": "code",
   "execution_count": 79,
   "id": "f052f723-612e-46aa-98cd-9666e42d2c03",
   "metadata": {},
   "outputs": [
    {
     "data": {
      "text/plain": [
       "[2, 3]"
      ]
     },
     "execution_count": 79,
     "metadata": {},
     "output_type": "execute_result"
    }
   ],
   "source": [
    "d.pop()\n",
    "d.pop() "
   ]
  },
  {
   "cell_type": "code",
   "execution_count": 80,
   "id": "398396dd-d804-4810-880d-49ae75bc4768",
   "metadata": {},
   "outputs": [
    {
     "data": {
      "text/plain": [
       "deque([4])"
      ]
     },
     "execution_count": 80,
     "metadata": {},
     "output_type": "execute_result"
    }
   ],
   "source": [
    "d # items are removed from the  right - queue behaviour"
   ]
  }
 ],
 "metadata": {
  "kernelspec": {
   "display_name": "Python 3 (ipykernel)",
   "language": "python",
   "name": "python3"
  },
  "language_info": {
   "codemirror_mode": {
    "name": "ipython",
    "version": 3
   },
   "file_extension": ".py",
   "mimetype": "text/x-python",
   "name": "python",
   "nbconvert_exporter": "python",
   "pygments_lexer": "ipython3",
   "version": "3.8.13"
  }
 },
 "nbformat": 4,
 "nbformat_minor": 5
}
