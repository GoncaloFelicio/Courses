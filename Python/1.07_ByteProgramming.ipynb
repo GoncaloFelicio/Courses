{
 "cells": [
  {
   "cell_type": "markdown",
   "id": "d9eb8c49-ae96-4fdd-ab10-8d7d8dd67a84",
   "metadata": {},
   "source": [
    "# Notes on Python\n",
    "## Examples for reference, tips, Best Practices\n",
    "\n",
    "Based on the Course: Core Python (Byte Oriented Programming) at PluralSight\n",
    "\n",
    "Author: Gonçalo Felício  \n",
    "Date: 04/2022  \n",
    "Provided by: ISIWAY\n",
    "\n",
    "Something like a pocketbook to come to for quick references, examples, and tips of best practices, compiled with my own preferences  \n",
    "Loosely divided by subject, and with some degree, by the respective modules"
   ]
  },
  {
   "cell_type": "code",
   "execution_count": 3,
   "id": "f18dfa9b-675f-4f6b-a66e-d34fc34ce395",
   "metadata": {},
   "outputs": [
    {
     "data": {
      "text/plain": [
       "'0b11110000'"
      ]
     },
     "execution_count": 3,
     "metadata": {},
     "output_type": "execute_result"
    }
   ],
   "source": [
    "# We can specify binary data with:\n",
    "binary_literal = 0b1110000\n",
    "# or\n",
    "bin(240)"
   ]
  },
  {
   "cell_type": "markdown",
   "id": "96d230cc-65ad-42a1-a7f1-1e182426d715",
   "metadata": {},
   "source": [
    "### Bitwise Operators\n",
    "Bitwise operators have an underlying logic similar to logical operators, but in effect are different and are used in diifferent situations  \n",
    "Bitwise Operators are essential when manipulating the bits in a byte "
   ]
  },
  {
   "cell_type": "markdown",
   "id": "05b8d364-2a10-4289-a534-f7d6e1010f36",
   "metadata": {},
   "source": [
    "#### & Operator\n",
    "compares each bit respectively of 2 bytes numbers, the result is 1 if both previous bits is 1, otherwise, is set to 0  \n",
    "Can be used to **clear** Flags"
   ]
  },
  {
   "cell_type": "code",
   "execution_count": 4,
   "id": "7a42fe3b-0fc8-484e-b5ee-65c37f56896b",
   "metadata": {},
   "outputs": [
    {
     "data": {
      "text/plain": [
       "'0b1000'"
      ]
     },
     "execution_count": 4,
     "metadata": {},
     "output_type": "execute_result"
    }
   ],
   "source": [
    "bin(0b1100 & 0b1010)"
   ]
  },
  {
   "cell_type": "markdown",
   "id": "2646ca93-5992-4cd2-991f-842b5aaf7e2e",
   "metadata": {},
   "source": [
    "#### Right/Left Shift Operator `>>  <<`\n",
    "Shifts the binary number an x number of places to the right or left  \n",
    "Useful to extract a single part of a large binary number"
   ]
  },
  {
   "cell_type": "code",
   "execution_count": 9,
   "id": "35e664a4-5f0b-499b-8679-aaeccb8c2940",
   "metadata": {},
   "outputs": [
    {
     "data": {
      "text/plain": [
       "'0b11011100'"
      ]
     },
     "execution_count": 9,
     "metadata": {},
     "output_type": "execute_result"
    }
   ],
   "source": [
    "# Extracting the first 8 bits of the first number\n",
    "\n",
    "bin((0b110111000001010000111100 &\n",
    "    0b111111110000000000000000) >> 16)\n"
   ]
  },
  {
   "cell_type": "markdown",
   "id": "6c68370e-27c1-4081-a2ef-abb267d9603b",
   "metadata": {},
   "source": [
    "Reading bits is hard for humans, we can convert to hexadecimal to more easily see the effects of the operations"
   ]
  },
  {
   "cell_type": "code",
   "execution_count": 10,
   "id": "d57e2e18-da33-4895-b571-cd7bf8f79bc1",
   "metadata": {},
   "outputs": [
    {
     "data": {
      "text/plain": [
       "'0xdc143c'"
      ]
     },
     "execution_count": 10,
     "metadata": {},
     "output_type": "execute_result"
    }
   ],
   "source": [
    "hex(0b110111000001010000111100)"
   ]
  },
  {
   "cell_type": "code",
   "execution_count": 11,
   "id": "f52af300-fd2e-40b3-b478-096fa0e96386",
   "metadata": {},
   "outputs": [
    {
     "data": {
      "text/plain": [
       "'0xff0000'"
      ]
     },
     "execution_count": 11,
     "metadata": {},
     "output_type": "execute_result"
    }
   ],
   "source": [
    "hex(0b111111110000000000000000)"
   ]
  },
  {
   "cell_type": "code",
   "execution_count": 12,
   "id": "e865fbfa-e3d2-430d-baa3-de1d7f3343e7",
   "metadata": {},
   "outputs": [
    {
     "data": {
      "text/plain": [
       "'0xdc'"
      ]
     },
     "execution_count": 12,
     "metadata": {},
     "output_type": "execute_result"
    }
   ],
   "source": [
    "hex(0b11011100)"
   ]
  },
  {
   "cell_type": "code",
   "execution_count": 1,
   "id": "0bd55fa2-7a44-4add-b5aa-1ffe529f76de",
   "metadata": {},
   "outputs": [
    {
     "data": {
      "text/plain": [
       "'0x1400'"
      ]
     },
     "execution_count": 1,
     "metadata": {},
     "output_type": "execute_result"
    }
   ],
   "source": [
    "hex(0xdc143c & 0xff00)"
   ]
  },
  {
   "cell_type": "code",
   "execution_count": 15,
   "id": "653b5b99-a33f-4f23-9514-2e4545ba57c3",
   "metadata": {},
   "outputs": [
    {
     "data": {
      "text/plain": [
       "'0x14'"
      ]
     },
     "execution_count": 15,
     "metadata": {},
     "output_type": "execute_result"
    }
   ],
   "source": [
    "# Extracting the middle bytes\n",
    "hex((0xdc143c & 0xff00) >> 8)"
   ]
  },
  {
   "cell_type": "markdown",
   "id": "5e401f0b-045d-4851-910f-d14efd25134b",
   "metadata": {},
   "source": [
    "Function that extracts the 0th, first and second bytes"
   ]
  },
  {
   "cell_type": "code",
   "execution_count": 17,
   "id": "b5398dea-f96d-4a25-a222-1f126ef37aa4",
   "metadata": {},
   "outputs": [],
   "source": [
    "def byte_at(v, n):\n",
    "    s = n * 8\n",
    "    return (v & (0xff << s)) >> s"
   ]
  },
  {
   "cell_type": "code",
   "execution_count": 19,
   "id": "89aa558a-7977-45e1-b047-875e702740aa",
   "metadata": {},
   "outputs": [
    {
     "data": {
      "text/plain": [
       "'0x3c'"
      ]
     },
     "execution_count": 19,
     "metadata": {},
     "output_type": "execute_result"
    }
   ],
   "source": [
    "hex(byte_at(0xdc143c, 0))"
   ]
  },
  {
   "cell_type": "code",
   "execution_count": 20,
   "id": "116bc881-365a-4e1b-942e-44d4833ed77d",
   "metadata": {},
   "outputs": [
    {
     "data": {
      "text/plain": [
       "'0x14'"
      ]
     },
     "execution_count": 20,
     "metadata": {},
     "output_type": "execute_result"
    }
   ],
   "source": [
    "hex(byte_at(0xdc143c, 1))"
   ]
  },
  {
   "cell_type": "code",
   "execution_count": 21,
   "id": "ec1a33f0-21c2-49e8-b32a-562e6aa6d8e8",
   "metadata": {},
   "outputs": [
    {
     "data": {
      "text/plain": [
       "'0xdc'"
      ]
     },
     "execution_count": 21,
     "metadata": {},
     "output_type": "execute_result"
    }
   ],
   "source": [
    "hex(byte_at(0xdc143c, 2))"
   ]
  },
  {
   "cell_type": "markdown",
   "id": "816580bc-c0ce-495f-b7b8-b9ad15f39b94",
   "metadata": {},
   "source": [
    "### Bitfield\n",
    "A binary number where the bits represent flag states  \n",
    "Bitfields consume much less memory than lists of True and False\n",
    "We can also apply the flags to other bytes and check the falg directly for each bit using the bitwise operators"
   ]
  },
  {
   "cell_type": "markdown",
   "id": "0d2274be-d349-4abb-9f20-0754b4d149ab",
   "metadata": {},
   "source": [
    "#### | (Or) Operator\n",
    "This operator returns 1 if either of the previous bits is 1 and 0 otherwise  \n",
    "Can be used to **set** Flags"
   ]
  },
  {
   "cell_type": "code",
   "execution_count": 24,
   "id": "ea22b662-b87d-4b30-b357-afb60c699a60",
   "metadata": {},
   "outputs": [],
   "source": [
    "# Example of setting a bitfield with an OR operator\n",
    "# Sets the second bit to True, if it was not True already"
   ]
  },
  {
   "cell_type": "code",
   "execution_count": 23,
   "id": "818f310e-adfd-40aa-87ab-a343c15fb512",
   "metadata": {},
   "outputs": [
    {
     "data": {
      "text/plain": [
       "'0b1110'"
      ]
     },
     "execution_count": 23,
     "metadata": {},
     "output_type": "execute_result"
    }
   ],
   "source": [
    "bin(0b1010 | 0b0100)"
   ]
  },
  {
   "cell_type": "markdown",
   "id": "cbb74b04-85fb-48ff-9bb5-601619636cce",
   "metadata": {},
   "source": [
    "#### ^ (Exclusive Or) Operator\n",
    "If the previous bits are equal, the operator returns 0, if either one, or the other bit is 1, returns 1  \n",
    "Can be thought as a bit Flipper, that flips the switch"
   ]
  },
  {
   "cell_type": "code",
   "execution_count": 111,
   "id": "c8f7a356-c05a-4b01-b2e3-e6fad505cefe",
   "metadata": {},
   "outputs": [
    {
     "data": {
      "text/plain": [
       "'0b1111'"
      ]
     },
     "execution_count": 111,
     "metadata": {},
     "output_type": "execute_result"
    }
   ],
   "source": [
    "bin(0b1010 ^ 0b0101)"
   ]
  },
  {
   "cell_type": "code",
   "execution_count": 28,
   "id": "f0e292aa-acc2-4a17-9e90-b40b2ce4b0df",
   "metadata": {},
   "outputs": [
    {
     "data": {
      "text/plain": [
       "'0b1010'"
      ]
     },
     "execution_count": 28,
     "metadata": {},
     "output_type": "execute_result"
    }
   ],
   "source": [
    "# Flipping twice returns the original value, as expected\n",
    "bin(0b1010 ^ 0b0101 ^ 0b0101)"
   ]
  },
  {
   "cell_type": "markdown",
   "id": "462aa898-b0fa-46b1-b8f3-caf45fad137b",
   "metadata": {},
   "source": [
    "#### ~ (Complement) Operator\n",
    "Returns the complement, meaning the negative ofr single binary numbers  \n",
    "However best used in  sets given that negative representations of binary numbers are ratehr tricky\n",
    "This cannot be used directly to invert bytes, as can be seen"
   ]
  },
  {
   "cell_type": "code",
   "execution_count": 31,
   "id": "04f14f43-5e6c-4345-984a-83960443a5bc",
   "metadata": {},
   "outputs": [
    {
     "data": {
      "text/plain": [
       "'-0b1011'"
      ]
     },
     "execution_count": 31,
     "metadata": {},
     "output_type": "execute_result"
    }
   ],
   "source": [
    "bin(~0b1010)"
   ]
  },
  {
   "cell_type": "code",
   "execution_count": 43,
   "id": "739e8e88-c83e-4d34-9815-3373f707b5f4",
   "metadata": {},
   "outputs": [
    {
     "data": {
      "text/plain": [
       "'0b1111'"
      ]
     },
     "execution_count": 43,
     "metadata": {},
     "output_type": "execute_result"
    }
   ],
   "source": [
    "# a way to truly invert bytes\n",
    "bin((~0b11110000).to_bytes(2, byteorder='little', signed=True)[0])"
   ]
  },
  {
   "cell_type": "markdown",
   "id": "661299dd-a9d1-4137-a526-cfede8a6b33e",
   "metadata": {},
   "source": [
    "#### Bit Sets"
   ]
  },
  {
   "cell_type": "markdown",
   "id": "5ae57206-36ff-4a7e-a826-30ee56a50ea8",
   "metadata": {},
   "source": [
    "Below we create a mask for each name, this is, a colection of bits, that give one for each name when invoked"
   ]
  },
  {
   "cell_type": "code",
   "execution_count": 44,
   "id": "8cc7e1ef-b7a0-4779-8341-3d51d41d7c19",
   "metadata": {},
   "outputs": [],
   "source": [
    "(albert, betty, charles, daphne, edward, freya, george, hanna) = (1 << n for n in range(8))"
   ]
  },
  {
   "cell_type": "code",
   "execution_count": 45,
   "id": "294f6cbc-0c6f-42a9-94fd-e3b80f574a80",
   "metadata": {},
   "outputs": [
    {
     "data": {
      "text/plain": [
       "'0b1'"
      ]
     },
     "execution_count": 45,
     "metadata": {},
     "output_type": "execute_result"
    }
   ],
   "source": [
    "bin(albert)"
   ]
  },
  {
   "cell_type": "code",
   "execution_count": 46,
   "id": "8c6146ec-0fc4-404d-b7de-352a7cd4fb9c",
   "metadata": {},
   "outputs": [
    {
     "data": {
      "text/plain": [
       "'0b100'"
      ]
     },
     "execution_count": 46,
     "metadata": {},
     "output_type": "execute_result"
    }
   ],
   "source": [
    "bin(charles)"
   ]
  },
  {
   "cell_type": "code",
   "execution_count": 54,
   "id": "76b88450-5d32-48da-84d1-be5728f9e7a1",
   "metadata": {},
   "outputs": [],
   "source": [
    "car_owner = albert | charles | hanna"
   ]
  },
  {
   "cell_type": "code",
   "execution_count": 55,
   "id": "59927993-ffaa-4648-a51e-692f96028a98",
   "metadata": {},
   "outputs": [
    {
     "data": {
      "text/plain": [
       "'0b10000101'"
      ]
     },
     "execution_count": 55,
     "metadata": {},
     "output_type": "execute_result"
    }
   ],
   "source": [
    "bin(car_owners)"
   ]
  },
  {
   "cell_type": "code",
   "execution_count": 56,
   "id": "962327f2-7de3-4857-bd06-a18771724751",
   "metadata": {},
   "outputs": [
    {
     "data": {
      "text/plain": [
       "0"
      ]
     },
     "execution_count": 56,
     "metadata": {},
     "output_type": "execute_result"
    }
   ],
   "source": [
    "# as expected, betty is not a car owner\n",
    "car_owners & betty"
   ]
  },
  {
   "cell_type": "code",
   "execution_count": 57,
   "id": "85b35cda-b681-4438-b805-051b1dc90984",
   "metadata": {},
   "outputs": [],
   "source": [
    "bycicle_owner = daphne | edward | hanna"
   ]
  },
  {
   "cell_type": "code",
   "execution_count": 59,
   "id": "c91de114-74f0-4048-a00a-cfdd8d71ba54",
   "metadata": {},
   "outputs": [
    {
     "data": {
      "text/plain": [
       "'0b10000000'"
      ]
     },
     "execution_count": 59,
     "metadata": {},
     "output_type": "execute_result"
    }
   ],
   "source": [
    "bin(car_owner & bycicle_owner)"
   ]
  },
  {
   "cell_type": "markdown",
   "id": "abf3eb72-e171-41fa-8938-f28099f13fc3",
   "metadata": {},
   "source": [
    "This result tells us that only the last person, hanna, owns both a car and a bike"
   ]
  },
  {
   "cell_type": "code",
   "execution_count": 60,
   "id": "cb16b9be-aefa-4787-afd0-102d58036039",
   "metadata": {},
   "outputs": [],
   "source": [
    "car_xor_bike_owners = car_owner ^ bycicle_owner"
   ]
  },
  {
   "cell_type": "code",
   "execution_count": 61,
   "id": "36886e2f-f8e3-4dd9-9a72-a791bd2749b7",
   "metadata": {},
   "outputs": [
    {
     "data": {
      "text/plain": [
       "'0b11101'"
      ]
     },
     "execution_count": 61,
     "metadata": {},
     "output_type": "execute_result"
    }
   ],
   "source": [
    "bin(car_xor_bike_owners)"
   ]
  },
  {
   "cell_type": "markdown",
   "id": "d288d8a0-ab8e-4591-b132-c0da4602f965",
   "metadata": {},
   "source": [
    "4 people own a car or a bicycle, exclusively"
   ]
  },
  {
   "cell_type": "code",
   "execution_count": 62,
   "id": "6fb9c462-3135-4c37-bd56-225e19f505a0",
   "metadata": {},
   "outputs": [],
   "source": [
    "car_but_not_bycicle = car_owner & ~bycicle_owner"
   ]
  },
  {
   "cell_type": "code",
   "execution_count": 63,
   "id": "29762cc4-aad9-4a8d-9a18-1bdda8d74923",
   "metadata": {},
   "outputs": [
    {
     "data": {
      "text/plain": [
       "'0b101'"
      ]
     },
     "execution_count": 63,
     "metadata": {},
     "output_type": "execute_result"
    }
   ],
   "source": [
    "bin(car_but_not_bycicle)"
   ]
  },
  {
   "cell_type": "markdown",
   "id": "7518ac7f-9b6d-45e5-8692-e12eb6c49924",
   "metadata": {},
   "source": [
    "Only two people, the first and third person, which are albert and charles"
   ]
  },
  {
   "cell_type": "code",
   "execution_count": 73,
   "id": "f8701b54-0a6a-4b5c-bf76-511befec8b9e",
   "metadata": {},
   "outputs": [
    {
     "data": {
      "text/plain": [
       "1"
      ]
     },
     "execution_count": 73,
     "metadata": {},
     "output_type": "execute_result"
    }
   ],
   "source": [
    "car_but_not_bycicle & albert"
   ]
  },
  {
   "cell_type": "code",
   "execution_count": 74,
   "id": "3b4833c2-fd4b-43d6-83de-e9a3323a2adf",
   "metadata": {},
   "outputs": [
    {
     "data": {
      "text/plain": [
       "4"
      ]
     },
     "execution_count": 74,
     "metadata": {},
     "output_type": "execute_result"
    }
   ],
   "source": [
    "car_but_not_bycicle & charles"
   ]
  },
  {
   "cell_type": "markdown",
   "id": "e42773fe-e620-4bb3-a050-db559bfda614",
   "metadata": {},
   "source": [
    "The bitwise operators and the operators for Set collections are the same, as they perform the exact same way"
   ]
  },
  {
   "cell_type": "markdown",
   "id": "6647e28b-a93f-4779-b412-d4cdb33603ae",
   "metadata": {},
   "source": [
    "Some bytes operations"
   ]
  },
  {
   "cell_type": "code",
   "execution_count": 75,
   "id": "3403d7c8-0170-45fd-8881-53813559c6f0",
   "metadata": {},
   "outputs": [
    {
     "data": {
      "text/plain": [
       "b''"
      ]
     },
     "execution_count": 75,
     "metadata": {},
     "output_type": "execute_result"
    }
   ],
   "source": [
    "bytes()"
   ]
  },
  {
   "cell_type": "code",
   "execution_count": 76,
   "id": "d9a3d13d-566a-4d36-b518-92c432209e24",
   "metadata": {},
   "outputs": [
    {
     "data": {
      "text/plain": [
       "b'this is a bytes sequence'"
      ]
     },
     "execution_count": 76,
     "metadata": {},
     "output_type": "execute_result"
    }
   ],
   "source": [
    "b'this is a bytes sequence'"
   ]
  },
  {
   "cell_type": "code",
   "execution_count": 78,
   "id": "edf0b9c0-6546-442f-bd9d-559331a18e26",
   "metadata": {},
   "outputs": [
    {
     "data": {
      "text/plain": [
       "116"
      ]
     },
     "execution_count": 78,
     "metadata": {},
     "output_type": "execute_result"
    }
   ],
   "source": [
    "b_seq = b'this is a bytes sequence'\n",
    "# indexing gives an int number\n",
    "b_seq[0]"
   ]
  },
  {
   "cell_type": "code",
   "execution_count": 88,
   "id": "9e0d2550-ef6b-46d2-895b-7b2f2fd6a63f",
   "metadata": {},
   "outputs": [
    {
     "data": {
      "text/plain": [
       "b'this is a '"
      ]
     },
     "execution_count": 88,
     "metadata": {},
     "output_type": "execute_result"
    }
   ],
   "source": [
    "# slicing gives a new byte sequence\n",
    "b_seq[0:10]"
   ]
  },
  {
   "cell_type": "markdown",
   "id": "f520b052-bd1a-4a92-9673-d16edb79e097",
   "metadata": {},
   "source": [
    "#### Bitearray type\n",
    "Allows many list like operations on bytes sequences  \n",
    "Is mutable, unlike bytes type"
   ]
  },
  {
   "cell_type": "code",
   "execution_count": 102,
   "id": "d74fb0f9-792c-4fc2-9464-80883637dfe3",
   "metadata": {},
   "outputs": [],
   "source": [
    "seq = bytearray(b'the quick fox')"
   ]
  },
  {
   "cell_type": "code",
   "execution_count": 103,
   "id": "70a6f54b-b1f1-44ac-8a18-b0176e5b51b6",
   "metadata": {},
   "outputs": [],
   "source": [
    "seq.extend(b' jumps over the dog')"
   ]
  },
  {
   "cell_type": "code",
   "execution_count": 104,
   "id": "611af058-6983-4a29-b230-ce56247d194f",
   "metadata": {},
   "outputs": [
    {
     "data": {
      "text/plain": [
       "bytearray(b'the quick fox jumps over the dog')"
      ]
     },
     "execution_count": 104,
     "metadata": {},
     "output_type": "execute_result"
    }
   ],
   "source": [
    "seq"
   ]
  },
  {
   "cell_type": "code",
   "execution_count": 105,
   "id": "af214705-603d-45f7-9679-5a44086ccf69",
   "metadata": {},
   "outputs": [
    {
     "data": {
      "text/plain": [
       "32"
      ]
     },
     "execution_count": 105,
     "metadata": {},
     "output_type": "execute_result"
    }
   ],
   "source": [
    "len(seq)"
   ]
  },
  {
   "cell_type": "code",
   "execution_count": 106,
   "id": "93d323ca-26af-4b4d-852b-427e8db08939",
   "metadata": {},
   "outputs": [],
   "source": [
    "seq[29:] = b'god'"
   ]
  },
  {
   "cell_type": "code",
   "execution_count": 107,
   "id": "95389f60-a76a-4501-a8fa-042a055712a9",
   "metadata": {},
   "outputs": [
    {
     "data": {
      "text/plain": [
       "bytearray(b'the quick fox jumps over the god')"
      ]
     },
     "execution_count": 107,
     "metadata": {},
     "output_type": "execute_result"
    }
   ],
   "source": [
    "seq"
   ]
  },
  {
   "cell_type": "code",
   "execution_count": 108,
   "id": "780a6a77-06e8-4412-839b-2b1e13a4d030",
   "metadata": {},
   "outputs": [
    {
     "data": {
      "text/plain": [
       "[bytearray(b'the'),\n",
       " bytearray(b'quick'),\n",
       " bytearray(b'fox'),\n",
       " bytearray(b'jumps'),\n",
       " bytearray(b'over'),\n",
       " bytearray(b'the'),\n",
       " bytearray(b'god')]"
      ]
     },
     "execution_count": 108,
     "metadata": {},
     "output_type": "execute_result"
    }
   ],
   "source": [
    "words = seq.split()\n",
    "words"
   ]
  },
  {
   "cell_type": "markdown",
   "id": "bc7ac707-b554-4797-934b-29b75d267db1",
   "metadata": {},
   "source": [
    "Neat way to diagnose binary data"
   ]
  },
  {
   "cell_type": "code",
   "execution_count": null,
   "id": "c7a7a1e6-1563-4429-8fb1-f98d475650eb",
   "metadata": {},
   "outputs": [],
   "source": [
    "# given a buffer variable with binary data read from a binary file\n",
    "from binascii import hexlify\n",
    "\n",
    "#indeces of each pair of hexa bytes\n",
    "indexes = ' '.join(str(n).zfill(2) for n in range(len(buffer)))\n",
    "\n",
    "#converts the binary bytes to hexadecimal\n",
    "hex_buffer = helify(buffer).decode('ascii')\n",
    "# separates the hexa bytes into pairs\n",
    "hexa_pairs = ' '.join(hex_buffer[i:i+2] for i in range(0, len(hex_buffer), 2))\n",
    "\n",
    "print(indexes)\n",
    "print(hexa_pairs)"
   ]
  },
  {
   "cell_type": "markdown",
   "id": "e4f4cba1-a263-4343-b59f-7a44da685f29",
   "metadata": {},
   "source": [
    "`memeryview` and `mmap` method from mmap module allow us to avoid copies pf bytes streams and increase eficiency when reading from files!"
   ]
  },
  {
   "cell_type": "code",
   "execution_count": null,
   "id": "e07c984c-2ec0-472b-912e-fbaf6bba07c8",
   "metadata": {},
   "outputs": [],
   "source": []
  }
 ],
 "metadata": {
  "kernelspec": {
   "display_name": "Python 3 (ipykernel)",
   "language": "python",
   "name": "python3"
  },
  "language_info": {
   "codemirror_mode": {
    "name": "ipython",
    "version": 3
   },
   "file_extension": ".py",
   "mimetype": "text/x-python",
   "name": "python",
   "nbconvert_exporter": "python",
   "pygments_lexer": "ipython3",
   "version": "3.9.7"
  }
 },
 "nbformat": 4,
 "nbformat_minor": 5
}
