{
 "cells": [
  {
   "cell_type": "markdown",
   "id": "51c1ced7-5e72-4c5d-94ae-d9e3bb9f14fa",
   "metadata": {},
   "source": [
    "# Notes on Python\n",
    "## Examples for reference, tips, Best Practices\n",
    "\n",
    "Based on the Course: Core Python (Metaclasses and Allocation) at PluralSight\n",
    "\n",
    "Author: Gonçalo Felício  \n",
    "Date: 04/2022  \n",
    "Provided by: ISIWAY\n",
    "\n",
    "Something like a pocketbook to come to for quick references, examples, and tips of best practices, compiled with my own preferences  \n",
    "Loosely divided by subject, and with some degree, by the respective modules"
   ]
  },
  {
   "cell_type": "markdown",
   "id": "0d5c3b5c-a226-4be1-b04f-e16f26684c38",
   "metadata": {},
   "source": [
    "### Allocation\n",
    "\n",
    "The special method `__new__` allocates and returns a new instance  \n",
    "This new instance is passed as the *self* argument to `__init__`  \n",
    "Ultimately, it is `object.__new__(cls)` that is responsible for allocating new instances  \n",
    "`__new__` is implicitly a static method, not requiring the static or class method decorators  \n",
    "One use of implementing `__new__` is to support *Interning*. Interning is reusing existing objects of equal value, to vastly reduce memory consumption  \n",
    "Interning should only be used with *imutable* objects!\n"
   ]
  },
  {
   "cell_type": "code",
   "execution_count": 2,
   "id": "49b2fd94-1c34-4a37-b17f-9b75f7d5e1d1",
   "metadata": {},
   "outputs": [
    {
     "name": "stdout",
     "output_type": "stream",
     "text": [
      "Class allocated = ChessBoard\n",
      "Arguments = ()\n",
      "Key Arguments = {}\n",
      "Id of object = 2561445709472\n",
      "Id of self = 2561445709472\n",
      "Clearly object and self are the same!\n"
     ]
    }
   ],
   "source": [
    "class ChessBoard:\n",
    "\n",
    "    def __new__(cls, *args, **kwargs): # just like a class method\n",
    "        obj = object.__new__(cls)\n",
    "        # to see info on __new__\n",
    "        print(f'Class allocated = {cls.__name__}')\n",
    "        print(f'Arguments = {args!r}')\n",
    "        print(f'Key Arguments = {kwargs!r}')\n",
    "        print(f'Id of object = {id(obj)}')\n",
    "        return obj\n",
    "    \n",
    "    def __init__(self):\n",
    "        \n",
    "        print(f'Id of self = {id(self)}')\n",
    "        \n",
    "def main():\n",
    "    test_class = ChessBoard()\n",
    "    print('Clearly object and self are the same!')\n",
    "\n",
    "if __name__ == '__main__':\n",
    "    main()"
   ]
  },
  {
   "cell_type": "code",
   "execution_count": 3,
   "id": "872894ff-ba45-4c1d-a77b-a7a2127a6fba",
   "metadata": {},
   "outputs": [
    {
     "name": "stdout",
     "output_type": "stream",
     "text": [
      "Peak Kb = 12706\n"
     ]
    }
   ],
   "source": [
    "# tracing memory allocation\n",
    "import tracemalloc\n",
    "tracemalloc.start()\n",
    "boards = [ChessBoard for _ in range(10000)]\n",
    "_, peak = tracemalloc.get_traced_memory()\n",
    "tracemalloc.stop()\n",
    "peak_kb = peak / 10**3\n",
    "print(f'Peak Kb = {peak_kb:.0f}')"
   ]
  },
  {
   "cell_type": "markdown",
   "id": "1f946d37-12c4-4c9a-8cbf-d1283c08395c",
   "metadata": {},
   "source": [
    "### Metaclasses\n",
    "Metaclasses are the classes of classes  \n",
    "In practice, the `type(class)` of a class is it's metaclass, and the default metaclass is `type`  \n",
    "The metaclass is responsible for processing the class definition obtained by passing the source code, into a class object  \n",
    "The `__prepare__` method must return a *namespace mapping* that is populated at runtime with namespace items collected from passing and executing the class definition  \n",
    "The `__new__` method must allocate and return a class object that can be configured using the contents of the class namespace, the list of base classes and any aditional keyword arguments passed to its definition  \n",
    "The `__init__` method can be used to configure a class object and must have the same signature as `__new__`  \n",
    "The `__call__` method is the  true constructor for instances and is invoked when we construct instances  "
   ]
  },
  {
   "cell_type": "code",
   "execution_count": 15,
   "id": "b4795e65-1c1e-46e4-a273-f741c0798886",
   "metadata": {},
   "outputs": [],
   "source": [
    "class TracingMeta(type): #custom metaclasses should inherit from the base metaclass 'type'\n",
    "    \n",
    "    # mcs is the equivalent of cls in classes for metaclass methods, needs the decorator\n",
    "    @classmethod\n",
    "    def __prepare__(mcs, name, bases, **kwargs):\n",
    "        print('TracingMeta.__prepare__(name, bases, **kwargs)')\n",
    "        print(f' {mcs = }')\n",
    "        print(f' {name = }')\n",
    "        print(f' {bases = }')\n",
    "        print(f' {kwargs = }')\n",
    "        namespace = super().__prepare__(name, bases)\n",
    "        print(f'-> {namespace = }')\n",
    "        print()\n",
    "        return namespace\n",
    "    \n",
    "    # __new__ is already, implicitly a classmethod, no decorator necessary\n",
    "    def __new__(mcs, name, bases, namespace, **kwargs): \n",
    "        print('TracingMeta.__new__(name, bases, namespace, **kwargs)')\n",
    "        print(f' {mcs = }')\n",
    "        print(f' {name = }')\n",
    "        print(f' {bases = }')\n",
    "        print(f' {namespace = }')\n",
    "        print(f' {kwargs = }')\n",
    "        cls = super().__new__(mcs, name, bases, namespace)\n",
    "        print(f'-> {cls = }')\n",
    "        print()\n",
    "        return cls\n",
    "\n",
    "    def __init__(cls, name, bases, namespace, **kwargs):\n",
    "        print('TracingMeta.__init__(cls, name, bases, namespace, kwargs)')\n",
    "        print(f' {cls = }')\n",
    "        print(f' {name = }')\n",
    "        print(f' {bases = }')\n",
    "        print(f' {namespace = }')\n",
    "        print(f' {kwargs = }')\n",
    "        super().__init__(name, bases, namespace)\n",
    "        print()\n",
    "    \n",
    "    def __call__(cls, *args, **kwargs):\n",
    "        print('TracingMeta.__call__(cls, args, kwargs)')\n",
    "        print(f' {cls = }')\n",
    "        print(f' {args = }')\n",
    "        print('About to call type.__call__()')\n",
    "        obj = super().__call__(*args, **kwargs)\n",
    "        print('Returned from type.__call__()')\n",
    "        print(f'-> {obj = }')\n",
    "        print()\n",
    "        return obj\n"
   ]
  },
  {
   "cell_type": "code",
   "execution_count": 16,
   "id": "c53f0b49-01dd-4ff4-933b-131cafab8167",
   "metadata": {},
   "outputs": [
    {
     "name": "stdout",
     "output_type": "stream",
     "text": [
      "TracingMeta.__prepare__(name, bases, **kwargs)\n",
      " mcs = <class '__main__.TracingMeta'>\n",
      " name = 'TracingClass'\n",
      " bases = ()\n",
      " kwargs = {}\n",
      "-> namespace = {}\n",
      "\n",
      "TracingMeta.__new__(name, bases, namespace, **kwargs)\n",
      " mcs = <class '__main__.TracingMeta'>\n",
      " name = 'TracingClass'\n",
      " bases = ()\n",
      " namespace = {'__module__': '__main__', '__qualname__': 'TracingClass', 'the_answer': 42, 'action': <function TracingClass.action at 0x0000025463B09F70>, '__new__': <function TracingClass.__new__ at 0x0000025463B09670>, '__init__': <function TracingClass.__init__ at 0x0000025463B095E0>, '__classcell__': <cell at 0x0000025463B26AF0: empty>}\n",
      " kwargs = {}\n",
      "-> cls = <class '__main__.TracingClass'>\n",
      "\n",
      "TracingMeta.__init__(cls, name, bases, namespace, kwargs)\n",
      " cls = <class '__main__.TracingClass'>\n",
      " name = 'TracingClass'\n",
      " bases = ()\n",
      " namespace = {'__module__': '__main__', '__qualname__': 'TracingClass', 'the_answer': 42, 'action': <function TracingClass.action at 0x0000025463B09F70>, '__new__': <function TracingClass.__new__ at 0x0000025463B09670>, '__init__': <function TracingClass.__init__ at 0x0000025463B095E0>, '__classcell__': <cell at 0x0000025463B26AF0: TracingMeta object at 0x00000254611F5160>}\n",
      " kwargs = {}\n",
      "\n"
     ]
    }
   ],
   "source": [
    "class TracingClass(metaclass=TracingMeta):\n",
    "    the_answer = 42\n",
    "    def action(self, message):\n",
    "        print(message)\n",
    "    \n",
    "    def __new__(cls, *args, **kwargs): \n",
    "        print('TracingClass.__new__(cls, *args **kwargs)')\n",
    "        print(f' {cls = }')\n",
    "        print(f' {args = }')\n",
    "        print(f' {kwargs = }')\n",
    "        obj = super().__new__(cls)\n",
    "        print(f'-> {obj = }')\n",
    "        print()\n",
    "        return obj\n",
    "\n",
    "    def __init__(self, *args, **kwargs):\n",
    "        print('TracingClass.__init__(self, *args **kwargs)')\n",
    "        print(f' {self = }')\n",
    "        print(f' {args = }')\n",
    "        print(f' {kwargs = }')\n",
    "        print()"
   ]
  },
  {
   "cell_type": "code",
   "execution_count": 17,
   "id": "3897e390-7e29-4655-813e-dfa5083c17c3",
   "metadata": {},
   "outputs": [
    {
     "name": "stdout",
     "output_type": "stream",
     "text": [
      "TracingMeta.__call__(cls, args, kwargs)\n",
      " cls = <class '__main__.TracingClass'>\n",
      " args = (42,)\n",
      "About to call type.__call__()\n",
      "TracingClass.__new__(cls, *args **kwargs)\n",
      " cls = <class '__main__.TracingClass'>\n",
      " args = (42,)\n",
      " kwargs = {'keyword': 'answer'}\n",
      "-> obj = <__main__.TracingClass object at 0x000002546405F670>\n",
      "\n",
      "TracingClass.__init__(self, *args **kwargs)\n",
      " self = <__main__.TracingClass object at 0x000002546405F670>\n",
      " args = (42,)\n",
      " kwargs = {'keyword': 'answer'}\n",
      "\n",
      "Returned from type.__call__()\n",
      "-> obj = <__main__.TracingClass object at 0x000002546405F670>\n",
      "\n"
     ]
    }
   ],
   "source": [
    "t = TracingClass(42, keyword='answer')"
   ]
  },
  {
   "cell_type": "markdown",
   "id": "88d0deb1-3d27-4f7c-9ed2-56e77d5e7d50",
   "metadata": {},
   "source": [
    "Subclass registration can be done by using the special method `__init__subclass`  \n",
    "Metaclasses are inherited and there can only be *one* metaclass per class. This does not mean that a class can inherit from only one metaclass object. A new metaclass object can be constructed that it, itself, inherits directly from multiple metaclasses  "
   ]
  },
  {
   "cell_type": "code",
   "execution_count": 19,
   "id": "cd649019-f3f3-4ecd-b7c4-a2976662f506",
   "metadata": {},
   "outputs": [],
   "source": [
    "# check details of decoder example in module\n",
    "\n",
    "from io import StringIO\n",
    "\n",
    "class TableDecoder:\n",
    "    _registry = {}\n",
    "    \n",
    "    @classmethod\n",
    "    def __init_subclass__(cls, *, extension, **kwargs):\n",
    "        super().__init_subclass(**kwargs)\n",
    "        cls._registry[extension] = cls\n",
    "    \n",
    "    @classmethod\n",
    "    def create(cls, name):\n",
    "        decoder_class = cls._registry[name]\n",
    "        return decoder_class()\n",
    "    \n",
    "    @classmethod\n",
    "    def decoders(cls):\n",
    "        return list(cls._registry.keys())\n",
    "    \n",
    "    def decode(self, text):\n",
    "        raise NotImplementedError"
   ]
  },
  {
   "cell_type": "markdown",
   "id": "2964aa0b-6f5e-4150-8468-37167d3fbfc2",
   "metadata": {},
   "source": [
    "Strict rules control how there multiple metaclasses inherited interact and care must be taken if they override the same methods. A safe course of action is to diligently apply the `super()` method.  Recall that the `super()` does not simlpy delegate to the Base class, but via the MRO, which contains all the subclasses related, allowing for metaclasses that compose correctly"
   ]
  },
  {
   "cell_type": "code",
   "execution_count": 21,
   "id": "7a558e33-c10b-44eb-9932-150082aed2e3",
   "metadata": {},
   "outputs": [],
   "source": [
    "class MetaA(type):\n",
    "    pass\n",
    "\n",
    "class MetaB(type):\n",
    "    pass\n",
    "\n",
    "class A(metaclass=MetaA):\n",
    "    pass\n",
    "\n",
    "class B(metaclass=MetaB):\n",
    "    pass\n",
    "\n",
    "class D(A):\n",
    "    pass\n"
   ]
  },
  {
   "cell_type": "code",
   "execution_count": 22,
   "id": "8ceef406-0e92-4c5a-ab09-583648edabe8",
   "metadata": {},
   "outputs": [
    {
     "data": {
      "text/plain": [
       "__main__.MetaA"
      ]
     },
     "execution_count": 22,
     "metadata": {},
     "output_type": "execute_result"
    }
   ],
   "source": [
    "type(D)"
   ]
  },
  {
   "cell_type": "code",
   "execution_count": 23,
   "id": "c795bc97-581b-4f6f-a76d-d3793e640a3b",
   "metadata": {},
   "outputs": [
    {
     "ename": "TypeError",
     "evalue": "metaclass conflict: the metaclass of a derived class must be a (non-strict) subclass of the metaclasses of all its bases",
     "output_type": "error",
     "traceback": [
      "\u001b[1;31m---------------------------------------------------------------------------\u001b[0m",
      "\u001b[1;31mTypeError\u001b[0m                                 Traceback (most recent call last)",
      "Input \u001b[1;32mIn [23]\u001b[0m, in \u001b[0;36m<cell line: 1>\u001b[1;34m()\u001b[0m\n\u001b[1;32m----> 1\u001b[0m \u001b[38;5;28;01mclass\u001b[39;00m \u001b[38;5;21;01mC\u001b[39;00m(A, B):\n\u001b[0;32m      2\u001b[0m     \u001b[38;5;28;01mpass\u001b[39;00m\n",
      "\u001b[1;31mTypeError\u001b[0m: metaclass conflict: the metaclass of a derived class must be a (non-strict) subclass of the metaclasses of all its bases"
     ]
    }
   ],
   "source": [
    "class C(A, B):\n",
    "    pass"
   ]
  },
  {
   "cell_type": "code",
   "execution_count": 24,
   "id": "fcb15613-60ab-4128-9471-e82b45c4a27d",
   "metadata": {},
   "outputs": [],
   "source": [
    "class MetaC(MetaA, MetaB):\n",
    "    pass\n",
    "\n",
    "class C(A, B, metaclass=MetaC):\n",
    "    pass"
   ]
  },
  {
   "cell_type": "code",
   "execution_count": 25,
   "id": "669e5181-0fd9-47b0-8a6a-04f5caa24e1f",
   "metadata": {},
   "outputs": [
    {
     "data": {
      "text/plain": [
       "__main__.MetaC"
      ]
     },
     "execution_count": 25,
     "metadata": {},
     "output_type": "execute_result"
    }
   ],
   "source": [
    "type(C)"
   ]
  }
 ],
 "metadata": {
  "kernelspec": {
   "display_name": "Python 3 (ipykernel)",
   "language": "python",
   "name": "python3"
  },
  "language_info": {
   "codemirror_mode": {
    "name": "ipython",
    "version": 3
   },
   "file_extension": ".py",
   "mimetype": "text/x-python",
   "name": "python",
   "nbconvert_exporter": "python",
   "pygments_lexer": "ipython3",
   "version": "3.9.7"
  }
 },
 "nbformat": 4,
 "nbformat_minor": 5
}
