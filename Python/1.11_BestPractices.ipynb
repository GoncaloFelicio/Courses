{
 "cells": [
  {
   "cell_type": "markdown",
   "id": "d26f94d4-75d5-4543-b5a6-0248fe40dd43",
   "metadata": {},
   "source": [
    "# Notes on Python\n",
    "## Examples for reference, tips, Best Practices\n",
    "\n",
    "Based on the Course: Core Python (Python Best Practices for Code Quality) at PluralSight\n",
    "\n",
    "Author: Gonçalo Felício  \n",
    "Date: 04/2022  \n",
    "Provided by: ISIWAY\n",
    "\n",
    "Something like a pocketbook to come to for quick references, examples, and tips of best practices, compiled with my own preferences  \n",
    "Loosely divided by subject, and with some degree, by the respective modules"
   ]
  },
  {
   "cell_type": "markdown",
   "id": "138e04c8-da24-4fa0-9948-865bdb4c30b9",
   "metadata": {
    "tags": []
   },
   "source": [
    "### PEP 8\n",
    "PEP stands for Python Enhancement Proposal  \n",
    "PEP 8 is the PEP regarding python style and guidelines generally agreed upon for improved readability and consistency  \n",
    "Consistency within a style -> within a project -> within a module or funtion  \n",
    "However, be inconsisten when your judgement demands it  \n",
    "\n",
    "Use of an IDE can directly help in maintaing a consistent style guide as it alerts to deviations from the PEP 8 automatically\n",
    "\n",
    "General Rules:\n",
    "> Use 4 spaces per identation level (NOT tab)  \n",
    "Align with open delimiters  "
   ]
  },
  {
   "cell_type": "code",
   "execution_count": null,
   "id": "bb70ec50-a6e9-48f6-87e2-97dd5224a5b6",
   "metadata": {
    "tags": []
   },
   "outputs": [],
   "source": [
    "foo = long_function_name(var_one, var_two,\n",
    "                         var_three, var_four)"
   ]
  },
  {
   "cell_type": "markdown",
   "id": "ec05a956-a071-4232-b9eb-62ee99994761",
   "metadata": {
    "tags": []
   },
   "source": [
    ">Close delimiters on next line when multiple line arguments"
   ]
  },
  {
   "cell_type": "code",
   "execution_count": null,
   "id": "7a76d0f1-2b1d-423d-ae8b-3437fa750190",
   "metadata": {},
   "outputs": [],
   "source": [
    "my_list = [\n",
    "    1, 2, 3,\n",
    "    4, 5, 6,\n",
    "    ]"
   ]
  },
  {
   "cell_type": "markdown",
   "id": "1b02c616-b1fb-483d-a741-dc78eb7001cf",
   "metadata": {},
   "source": [
    "> Maximum line length of 79 characters  \n",
    "Use backspace for line continuation"
   ]
  },
  {
   "cell_type": "code",
   "execution_count": null,
   "id": "f17b103b-e72b-447b-ac11-5afd9cf4d5e6",
   "metadata": {},
   "outputs": [],
   "source": [
    "with open('/path/to/some/file/you/want/to/read') as file_1, \\\n",
    "     open('/path/to/some/file/being/written', 'w') as file_2:\n",
    "    file_2.write(file_1.read())"
   ]
  },
  {
   "cell_type": "markdown",
   "id": "1aea3f3f-e3e6-41cc-a7ed-5e4506b0790f",
   "metadata": {},
   "source": [
    "> Break statements before conditional and binary operands"
   ]
  },
  {
   "cell_type": "code",
   "execution_count": null,
   "id": "c3038991-ea5a-4352-8011-1f2bdbb48f99",
   "metadata": {},
   "outputs": [],
   "source": [
    "income = (gross_wages\n",
    "          + taxable_interest\n",
    "          + (dividends - qualified_dividends)\n",
    "          - ira_deduction\n",
    "          - student_loan_interest)"
   ]
  },
  {
   "cell_type": "code",
   "execution_count": null,
   "id": "bdec9242-a52b-4f43-8267-53393cbd57fe",
   "metadata": {},
   "outputs": [],
   "source": [
    "if (this_is_one_thing \n",
    "    and that_is_another_thing \n",
    "    or that_thing_is_smth_else):\n",
    "    do_something()"
   ]
  },
  {
   "cell_type": "markdown",
   "id": "514473f0-2656-4d04-9102-1942e4dff599",
   "metadata": {},
   "source": [
    "> Blank Lines and Whitespaces \n",
    "Surround top-level functions and classes with 2 blank lines  \n",
    "1 line between methods inside a class  \n",
    "Sparingly use extra blank lines inside a function to separate logical sections, or to separate groups of related functions  \n",
    "Use whitespace inside delimeters after commas, colons, semicolons and operand signs! Except with equal signs in keyword arguments"
   ]
  },
  {
   "cell_type": "code",
   "execution_count": null,
   "id": "bafe5d3e-444a-4c57-a4a8-a87ab856e553",
   "metadata": {},
   "outputs": [],
   "source": [
    "if x == 4: print(x, y); x, y = y, x\n",
    "\n",
    "ham[1:9], ham[1:9:3], ham[:9:3], ham[1::3], ham[1:9:]\n",
    "ham[lower:upper], ham[lower:upper:], ham[lower::step]\n",
    "ham[lower+offset : upper+offset]"
   ]
  },
  {
   "cell_type": "code",
   "execution_count": null,
   "id": "c8bc1029-6ac0-4f03-af85-c5d7acb81cad",
   "metadata": {},
   "outputs": [],
   "source": [
    "def complex(real, imag=0.0):\n",
    "    return magic(r=real, i=imag)"
   ]
  },
  {
   "cell_type": "markdown",
   "id": "c7046397-d7cc-4ebf-aa7d-24b9a8d4f321",
   "metadata": {},
   "source": [
    "> Use Doctrings for all public modules, fucntions, classes and methods  \n",
    "Use normal comments to describe non_public methods  \n",
    "Use inline comments SPARINGLY to describe non-obvious operations, usually to shed light on inner workings of an algorithm  \n",
    "If multiple lines of docstring, like this:"
   ]
  },
  {
   "cell_type": "code",
   "execution_count": null,
   "id": "e8f3f769-97de-481a-a10d-f716336e2bc3",
   "metadata": {},
   "outputs": [],
   "source": [
    "\"\"\"Return a foobang\n",
    "\n",
    "Optional plotz says to frobnicate the bizbaz first.\n",
    "\"\"\""
   ]
  },
  {
   "cell_type": "markdown",
   "id": "4c6c4f3f-eaa9-4943-a953-1c7dffcf0055",
   "metadata": {},
   "source": [
    "> If one liners, like this:"
   ]
  },
  {
   "cell_type": "code",
   "execution_count": null,
   "id": "8265239c-adbf-4d2e-8e85-162339bac030",
   "metadata": {
    "tags": []
   },
   "outputs": [],
   "source": [
    "\"\"\"Return an ex-parrot.\"\"\""
   ]
  },
  {
   "cell_type": "markdown",
   "id": "c4460b14-e457-4ced-b1ae-ce203b5e46d4",
   "metadata": {},
   "source": [
    "> Naming Styles:  \n",
    "CamelCase for class names  \n",
    "lower_case_with_underscores for method and function names\n",
    "UPPERCASE_WITH_UNDERSCORE for constants  \n",
    "\\_single_leading_underscore for internal use  \n",
    "single_trailing_underscore to avoid conflict with Python keywords like list  \n"
   ]
  },
  {
   "cell_type": "markdown",
   "id": "f710fb28-d70c-4795-8de9-59967b511289",
   "metadata": {},
   "source": [
    "Other Recomendations:\n",
    "\n",
    "Concatenate strings with `''.join()` not with operands  \n",
    "Comparison to singletons always with ` is ` not equality signs  \n",
    "Never assing a variable name to a lambda, use def statement instead\n"
   ]
  },
  {
   "cell_type": "markdown",
   "id": "be766a3b-b4c2-41b7-b02d-35eba8ddeb9a",
   "metadata": {},
   "source": [
    "### Pylint \n",
    "pylint is a module that scans code for you and raises warnings for PEP 8 and other coding recommendations\n",
    "Not really necessary when using an IDE, as it already does this for you  \n",
    "Also recommended to run only at the end of the project to make sure everything is pretty and consistent  \n",
    "Run in the command line like so:"
   ]
  },
  {
   "cell_type": "code",
   "execution_count": null,
   "id": "1be4ba44-6a4c-42f3-880e-b7b4ec50d504",
   "metadata": {},
   "outputs": [],
   "source": [
    "pylint projectfolder/                # checks the entire package\n",
    "pyling projectfolter/specificfile.py # check only a single file"
   ]
  },
  {
   "cell_type": "markdown",
   "id": "5b77206f-44c3-44fa-ab62-62e1b316aad4",
   "metadata": {},
   "source": [
    "### Sphynx \n",
    "Sphynx is a module that allows us to generate an HTML page with the documentation of our code's docstrings  \n",
    "This requires that we use some specific syntaxes to reference modules, methods and other features in the docstrings \n"
   ]
  },
  {
   "cell_type": "markdown",
   "id": "49257e29-ab77-496a-8df7-f6b89ed5cb5f",
   "metadata": {},
   "source": [
    "### Type Hints\n",
    "Even though python is a type-dynamic language we can use annotations to indicate type hints if we want  \n",
    "This makes it easier for other to understand new code, specially people that come from static type languages\n",
    "\n",
    "Type hints don't raise errors, but present warning in the IDE that alert to errors in type matching"
   ]
  },
  {
   "cell_type": "markdown",
   "id": "2d1866fe-06ee-463e-b5b3-c68a42086dcb",
   "metadata": {},
   "source": [
    "This syntax tells us that the input arguments are of type int and return value is of type float"
   ]
  },
  {
   "cell_type": "code",
   "execution_count": 3,
   "id": "b464a5ae-b38f-49bf-abf2-8c34859b5616",
   "metadata": {},
   "outputs": [],
   "source": [
    "def average(a: int, b:int, c:int) -> float:\n",
    "    return (a + b + c) / 3"
   ]
  },
  {
   "cell_type": "markdown",
   "id": "508dc061-313b-4936-b33e-aa9fdebd50f8",
   "metadata": {},
   "source": [
    "This syntax tells us this variable should store only int type and immediatly assings the value 1"
   ]
  },
  {
   "cell_type": "code",
   "execution_count": 6,
   "id": "ae1a2ddc-746f-49f6-b663-35274d70a757",
   "metadata": {},
   "outputs": [],
   "source": [
    "age: int = 1"
   ]
  },
  {
   "cell_type": "markdown",
   "id": "cac6fdb1-3c9b-42fc-9310-8d6c88a4f0b9",
   "metadata": {},
   "source": [
    "Type hints are useful to check our code before runtime  \n",
    "It is best used in business critical programs, not really for unnimportant or prototype programs"
   ]
  },
  {
   "cell_type": "code",
   "execution_count": null,
   "id": "fa8bf241-b035-471a-b40f-3e01c8bba9ae",
   "metadata": {},
   "outputs": [],
   "source": []
  },
  {
   "cell_type": "code",
   "execution_count": null,
   "id": "4e9a501d-f997-4ec5-a6fa-030f104e38b6",
   "metadata": {},
   "outputs": [],
   "source": []
  }
 ],
 "metadata": {
  "kernelspec": {
   "display_name": "Python 3 (ipykernel)",
   "language": "python",
   "name": "python3"
  },
  "language_info": {
   "codemirror_mode": {
    "name": "ipython",
    "version": 3
   },
   "file_extension": ".py",
   "mimetype": "text/x-python",
   "name": "python",
   "nbconvert_exporter": "python",
   "pygments_lexer": "ipython3",
   "version": "3.9.12"
  }
 },
 "nbformat": 4,
 "nbformat_minor": 5
}
