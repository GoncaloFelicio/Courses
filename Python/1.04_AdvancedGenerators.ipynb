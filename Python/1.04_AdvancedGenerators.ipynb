{
 "cells": [
  {
   "cell_type": "markdown",
   "id": "c4f4e8e6-d2af-4345-b2ed-8e20969fac42",
   "metadata": {},
   "source": [
    "# Notes on Python\n",
    "## Examples for reference, tips, Best Practices\n",
    "\n",
    "Based on the Course: Core Python (Advanced Generators and Coroutines) at PluralSight\n",
    "\n",
    "Author: Gonçalo Felício  \n",
    "Date: 04/2022  \n",
    "Provided by: ISIWAY\n",
    "\n",
    "Something like a pocketbook to come to for quick references, examples, and tips of best practices, compiled with my own preferences  \n",
    "Loosely divided by subject, and with some degree, by the respective modules\n"
   ]
  },
  {
   "cell_type": "markdown",
   "id": "e9ad4752-cc52-4b17-9d2f-ba9d1a9a0722",
   "metadata": {},
   "source": [
    "### Iterators and Iterables Review\n",
    "Iterators are objects where I can call `__next__` to return the next item in the sequence  \n",
    "Iterables are objects that, using the `__iter__` method, return an Iterator  \n",
    "\n",
    "\n",
    "### Generators\n",
    "Generators are iterables that are Lazy, Performant and Asynchronous, best way to iterate over a sequence  \n",
    "Usually will be better performers for less lines of code and readable, as long as the reader understandes generators  \n",
    "Generators offer a way to suspend execution of a function\n",
    "\n",
    "Tip: Use 'dict' instead of 'list' with iterables, lookups are faster and memory is much more compact"
   ]
  },
  {
   "cell_type": "markdown",
   "id": "5a27f89e-5409-48e8-a730-f97d2c5224ce",
   "metadata": {},
   "source": [
    "Generators are great for pipelines as they are lazy, and only actually execute when necessary! This saves a lot of time and memory as nothing is stored, since the execution of the code is decoupled from the definition of the code\n",
    "\n",
    "In short: Generators produce data for iteration"
   ]
  },
  {
   "cell_type": "code",
   "execution_count": 4,
   "id": "64bd5c6e-95d7-4fe8-9865-e0347bf2987d",
   "metadata": {},
   "outputs": [],
   "source": [
    "# nothing is executed until the function is actually called\n",
    "# this function is a generator factory, because of range, but its not a generator, as it does not contain yield\n",
    "def pipeline(number):\n",
    "    data = (i for i in range(number))\n",
    "    squared = (i**2 for i in data)\n",
    "    negated = (-i for i in squared)\n",
    "    return (n + 1 for n in negated)\n",
    "\n",
    "p = pipeline(10)\n"
   ]
  },
  {
   "cell_type": "code",
   "execution_count": 5,
   "id": "43ac7e2a-c2cf-4df4-b207-5876e337377d",
   "metadata": {},
   "outputs": [
    {
     "data": {
      "text/plain": [
       "[1, 0, -3, -8, -15, -24, -35, -48, -63, -80]"
      ]
     },
     "execution_count": 5,
     "metadata": {},
     "output_type": "execute_result"
    }
   ],
   "source": [
    "list(p)"
   ]
  },
  {
   "cell_type": "markdown",
   "id": "f82d7e6d-0f62-4010-88e6-8d1d90997758",
   "metadata": {},
   "source": [
    "Tip: We don't need to always define generators as `itertools` most likely already has all the generators we might require!\n",
    "Example of all 3 aproaches"
   ]
  },
  {
   "cell_type": "code",
   "execution_count": 1,
   "id": "820925db-0515-49f8-8556-660bc6ea165e",
   "metadata": {},
   "outputs": [],
   "source": [
    "import numpy as np\n",
    "sample = np.random.random(10_000)"
   ]
  },
  {
   "cell_type": "code",
   "execution_count": 2,
   "id": "1ef92679-7b11-4d32-8eb9-a204e78efd04",
   "metadata": {},
   "outputs": [],
   "source": [
    "def old_style_avg(iterable):\n",
    "    total_sum = 0\n",
    "    total_elem = 0\n",
    "    avg = []\n",
    "    for number in iterable:\n",
    "        total_sum += number\n",
    "        total_elem += 1\n",
    "        avg.append(total_sum / total_elem)\n",
    "    return avg"
   ]
  },
  {
   "cell_type": "code",
   "execution_count": 3,
   "id": "ba32a93c-b019-496e-a889-e4f6fd3ffcff",
   "metadata": {},
   "outputs": [
    {
     "name": "stdout",
     "output_type": "stream",
     "text": [
      "6.78 ms ± 36.3 µs per loop (mean ± std. dev. of 7 runs, 100 loops each)\n"
     ]
    }
   ],
   "source": [
    "%timeit old_style_avg(sample)"
   ]
  },
  {
   "cell_type": "code",
   "execution_count": 4,
   "id": "0f84fc48-eac5-4287-866e-0c20e06f568d",
   "metadata": {},
   "outputs": [
    {
     "name": "stdout",
     "output_type": "stream",
     "text": [
      "peak memory: 73.68 MiB, increment: 0.73 MiB\n"
     ]
    }
   ],
   "source": [
    "%load_ext memory_profiler\n",
    "%memit old_style_avg(sample)"
   ]
  },
  {
   "cell_type": "code",
   "execution_count": 5,
   "id": "9b56c36b-2a37-47fd-84dc-c67954ff8dc7",
   "metadata": {},
   "outputs": [],
   "source": [
    "def gen_avg(iterable):\n",
    "    total_sum = 0\n",
    "    total_elem = 0\n",
    "    for number in iterable:\n",
    "        total_sum += number\n",
    "        total_elem += 1\n",
    "        yield total_sum / total_elem"
   ]
  },
  {
   "cell_type": "code",
   "execution_count": 6,
   "id": "f6af6eae-6131-4b5d-9208-eaafcfdff842",
   "metadata": {},
   "outputs": [
    {
     "name": "stdout",
     "output_type": "stream",
     "text": [
      "263 ns ± 3.1 ns per loop (mean ± std. dev. of 7 runs, 1,000,000 loops each)\n"
     ]
    }
   ],
   "source": [
    "%timeit gen_avg(sample) # much much faster!"
   ]
  },
  {
   "cell_type": "code",
   "execution_count": 7,
   "id": "89e4a006-7e2b-4bea-948a-9cc582824621",
   "metadata": {},
   "outputs": [
    {
     "name": "stdout",
     "output_type": "stream",
     "text": [
      "peak memory: 73.50 MiB, increment: 0.00 MiB\n"
     ]
    }
   ],
   "source": [
    "%memit gen_avg(sample) # same memory "
   ]
  },
  {
   "cell_type": "code",
   "execution_count": 8,
   "id": "37a3eee2-b65a-41b7-86bd-0063bbc34e79",
   "metadata": {},
   "outputs": [],
   "source": [
    "import itertools"
   ]
  },
  {
   "cell_type": "code",
   "execution_count": 24,
   "id": "b9cc6213-8dab-4d71-96d3-975fe4ea0c15",
   "metadata": {},
   "outputs": [
    {
     "data": {
      "text/plain": [
       "\u001b[1;31mInit signature:\u001b[0m \u001b[0mitertools\u001b[0m\u001b[1;33m.\u001b[0m\u001b[0maccumulate\u001b[0m\u001b[1;33m(\u001b[0m\u001b[0miterable\u001b[0m\u001b[1;33m,\u001b[0m \u001b[0mfunc\u001b[0m\u001b[1;33m=\u001b[0m\u001b[1;32mNone\u001b[0m\u001b[1;33m,\u001b[0m \u001b[1;33m*\u001b[0m\u001b[1;33m,\u001b[0m \u001b[0minitial\u001b[0m\u001b[1;33m=\u001b[0m\u001b[1;32mNone\u001b[0m\u001b[1;33m)\u001b[0m\u001b[1;33m\u001b[0m\u001b[1;33m\u001b[0m\u001b[0m\n",
       "\u001b[1;31mDocstring:\u001b[0m      Return series of accumulated sums (or other binary function results).\n",
       "\u001b[1;31mType:\u001b[0m           type\n",
       "\u001b[1;31mSubclasses:\u001b[0m     \n"
      ]
     },
     "metadata": {},
     "output_type": "display_data"
    }
   ],
   "source": [
    "itertools.accumulate?"
   ]
  },
  {
   "cell_type": "code",
   "execution_count": 26,
   "id": "23bf82b5-32d0-4564-bd55-767e8ee0fcf0",
   "metadata": {},
   "outputs": [
    {
     "data": {
      "text/plain": [
       "\u001b[1;31mInit signature:\u001b[0m \u001b[0menumerate\u001b[0m\u001b[1;33m(\u001b[0m\u001b[0miterable\u001b[0m\u001b[1;33m,\u001b[0m \u001b[0mstart\u001b[0m\u001b[1;33m=\u001b[0m\u001b[1;36m0\u001b[0m\u001b[1;33m)\u001b[0m\u001b[1;33m\u001b[0m\u001b[1;33m\u001b[0m\u001b[0m\n",
       "\u001b[1;31mDocstring:\u001b[0m     \n",
       "Return an enumerate object.\n",
       "\n",
       "  iterable\n",
       "    an object supporting iteration\n",
       "\n",
       "The enumerate object yields pairs containing a count (from start, which\n",
       "defaults to zero) and a value yielded by the iterable argument.\n",
       "\n",
       "enumerate is useful for obtaining an indexed list:\n",
       "    (0, seq[0]), (1, seq[1]), (2, seq[2]), ...\n",
       "\u001b[1;31mType:\u001b[0m           type\n",
       "\u001b[1;31mSubclasses:\u001b[0m     \n"
      ]
     },
     "metadata": {},
     "output_type": "display_data"
    }
   ],
   "source": [
    "enumerate?"
   ]
  },
  {
   "cell_type": "code",
   "execution_count": 25,
   "id": "cbdf62fb-2d50-4b26-a3db-1af835f36d2e",
   "metadata": {},
   "outputs": [
    {
     "data": {
      "text/plain": [
       "\u001b[1;31mInit signature:\u001b[0m \u001b[0mitertools\u001b[0m\u001b[1;33m.\u001b[0m\u001b[0mstarmap\u001b[0m\u001b[1;33m(\u001b[0m\u001b[0mfunction\u001b[0m\u001b[1;33m,\u001b[0m \u001b[0miterable\u001b[0m\u001b[1;33m,\u001b[0m \u001b[1;33m/\u001b[0m\u001b[1;33m)\u001b[0m\u001b[1;33m\u001b[0m\u001b[1;33m\u001b[0m\u001b[0m\n",
       "\u001b[1;31mDocstring:\u001b[0m      Return an iterator whose values are returned from the function evaluated with an argument tuple taken from the given sequence.\n",
       "\u001b[1;31mType:\u001b[0m           type\n",
       "\u001b[1;31mSubclasses:\u001b[0m     \n"
      ]
     },
     "metadata": {},
     "output_type": "display_data"
    }
   ],
   "source": [
    "itertools.starmap?"
   ]
  },
  {
   "cell_type": "code",
   "execution_count": 9,
   "id": "8b02bfde-7738-409a-a159-e26deebf43e6",
   "metadata": {},
   "outputs": [],
   "source": [
    "def itertool_avg(iterable):\n",
    "    return itertools.starmap(lambda num_elem, sum_elem: sum_elem / num_elem, \n",
    "                             enumerate(itertools.accumulate(iterable), 1))"
   ]
  },
  {
   "cell_type": "code",
   "execution_count": 10,
   "id": "0c3f368c-0fb0-49ff-9dde-1e5c6cfd02e1",
   "metadata": {},
   "outputs": [
    {
     "name": "stdout",
     "output_type": "stream",
     "text": [
      "618 ns ± 6.27 ns per loop (mean ± std. dev. of 7 runs, 1,000,000 loops each)\n"
     ]
    }
   ],
   "source": [
    "%timeit itertool_avg(sample) # 3 times slower than the generator"
   ]
  },
  {
   "cell_type": "code",
   "execution_count": 11,
   "id": "0bd6e9e6-3e94-456c-b0e4-aa2c3a2e7fe0",
   "metadata": {},
   "outputs": [
    {
     "name": "stdout",
     "output_type": "stream",
     "text": [
      "peak memory: 73.55 MiB, increment: 0.00 MiB\n"
     ]
    }
   ],
   "source": [
    "%memit itertool_avg(sample) # same memory "
   ]
  },
  {
   "cell_type": "markdown",
   "id": "bd64b7f2-4ff4-47df-b992-f56818facd7e",
   "metadata": {},
   "source": [
    "Generators can be chained as pipeline to act deferred on a whole dataset  \n",
    "Itertools offers a lot of precooked generator factories  "
   ]
  },
  {
   "cell_type": "markdown",
   "id": "85cf0609-5d35-4795-81bc-56c3a256fb13",
   "metadata": {},
   "source": [
    "### Coroutines\n",
    "a yield expression yields every value sent to the coroutine and assign that value to the variable on the left  \n",
    "Good to use a decorator `@coroutine` to avoid colisions for example, forgetting to run the first next that makes a coroutine ready to receive values  \n",
    "\n",
    "In short: Coroutines are consumers of data"
   ]
  },
  {
   "cell_type": "code",
   "execution_count": 89,
   "id": "041a5c76-299b-4d76-8c83-b8ec7bc905fa",
   "metadata": {},
   "outputs": [],
   "source": [
    "def coroutine(func):\n",
    "    def start(*args, **kwargs):\n",
    "        cr = func(*args, **kwargs)\n",
    "        next(cr)\n",
    "        return cr\n",
    "    return start\n",
    "\n",
    "def my_coroutine(a):\n",
    "    print(f'Started with {a}')\n",
    "    b = yield a\n",
    "    print(f'Recieved {b} to continue! And yielded {a} as well, just because I can')\n",
    "    yield b"
   ]
  },
  {
   "cell_type": "code",
   "execution_count": 53,
   "id": "29193816-512c-4535-b607-9f53fb144bb4",
   "metadata": {},
   "outputs": [],
   "source": [
    "my_coro = my_coroutine(1)"
   ]
  },
  {
   "cell_type": "code",
   "execution_count": 54,
   "id": "c4eb29dd-b5a2-46f2-a1ab-0f55e67e5d6d",
   "metadata": {},
   "outputs": [
    {
     "name": "stdout",
     "output_type": "stream",
     "text": [
      "Started with 1\n"
     ]
    }
   ],
   "source": [
    "a = next(my_coro)"
   ]
  },
  {
   "cell_type": "code",
   "execution_count": 55,
   "id": "ce8d97b9-85c3-44ae-a5bc-03937a66e09d",
   "metadata": {},
   "outputs": [
    {
     "data": {
      "text/plain": [
       "1"
      ]
     },
     "execution_count": 55,
     "metadata": {},
     "output_type": "execute_result"
    }
   ],
   "source": [
    "a"
   ]
  },
  {
   "cell_type": "code",
   "execution_count": 56,
   "id": "16c3e885-7981-4d7b-8329-0e1c4b4088e6",
   "metadata": {},
   "outputs": [
    {
     "name": "stdout",
     "output_type": "stream",
     "text": [
      "Recieved 2 to continue! And yielded 1 as well, just because I can\n"
     ]
    }
   ],
   "source": [
    "b = my_coro.send(2)"
   ]
  },
  {
   "cell_type": "code",
   "execution_count": 57,
   "id": "5667f5b1-e2ce-4604-ab13-c28f8dde425e",
   "metadata": {},
   "outputs": [
    {
     "data": {
      "text/plain": [
       "(1, 2)"
      ]
     },
     "execution_count": 57,
     "metadata": {},
     "output_type": "execute_result"
    }
   ],
   "source": [
    "a,b"
   ]
  },
  {
   "cell_type": "code",
   "execution_count": 58,
   "id": "fe1c9a88-a17c-48e4-b1ae-b8a3c6e446ee",
   "metadata": {},
   "outputs": [
    {
     "ename": "StopIteration",
     "evalue": "",
     "output_type": "error",
     "traceback": [
      "\u001b[1;31m---------------------------------------------------------------------------\u001b[0m",
      "\u001b[1;31mStopIteration\u001b[0m                             Traceback (most recent call last)",
      "Input \u001b[1;32mIn [58]\u001b[0m, in \u001b[0;36m<cell line: 1>\u001b[1;34m()\u001b[0m\n\u001b[1;32m----> 1\u001b[0m \u001b[38;5;28;43mnext\u001b[39;49m\u001b[43m(\u001b[49m\u001b[43mmy_coro\u001b[49m\u001b[43m)\u001b[49m\n",
      "\u001b[1;31mStopIteration\u001b[0m: "
     ]
    }
   ],
   "source": [
    "next(my_coro)"
   ]
  },
  {
   "cell_type": "code",
   "execution_count": 104,
   "id": "a787d949-56ec-488d-9a4c-8af549852ed5",
   "metadata": {},
   "outputs": [],
   "source": [
    "@coroutine\n",
    "def coroutine_exception(number):\n",
    "    print('Coroutine has started')\n",
    "    while True:\n",
    "        try:\n",
    "            x = yield\n",
    "        except ValueError:\n",
    "            print('ValueError handled. Continuing...')\n",
    "        except GeneratorExit:\n",
    "            print('This is executed if i get closed, final breaths.. *dies*')\n",
    "            raise # must reraise the exception or caller will not see it\n",
    "        else:\n",
    "            print(f'Coroutine recieved:{x}')\n",
    "            number + x"
   ]
  },
  {
   "cell_type": "code",
   "execution_count": 105,
   "id": "25587abe-33f5-4842-9de3-f44f92362d76",
   "metadata": {},
   "outputs": [
    {
     "name": "stdout",
     "output_type": "stream",
     "text": [
      "Coroutine has started\n"
     ]
    }
   ],
   "source": [
    "mycoro = coroutine_exception(1)"
   ]
  },
  {
   "cell_type": "code",
   "execution_count": 106,
   "id": "d09519df-50cd-40ad-a43b-18bc35e2e8e5",
   "metadata": {},
   "outputs": [
    {
     "name": "stdout",
     "output_type": "stream",
     "text": [
      "Coroutine recieved:2\n"
     ]
    }
   ],
   "source": [
    "mycoro.send(2)"
   ]
  },
  {
   "cell_type": "code",
   "execution_count": 107,
   "id": "8cfeb0f0-43a1-43c5-91c8-b0fd46f9385b",
   "metadata": {},
   "outputs": [
    {
     "name": "stdout",
     "output_type": "stream",
     "text": [
      "Coroutine recieved:3\n"
     ]
    }
   ],
   "source": [
    "mycoro.send(3)"
   ]
  },
  {
   "cell_type": "code",
   "execution_count": 108,
   "id": "4f62607d-e0ed-47d6-bfeb-25d5a9630a18",
   "metadata": {},
   "outputs": [
    {
     "name": "stdout",
     "output_type": "stream",
     "text": [
      "This is executed if i get closed, final breaths.. *dies*\n"
     ]
    }
   ],
   "source": [
    "mycoro.close()"
   ]
  },
  {
   "cell_type": "code",
   "execution_count": 109,
   "id": "32ce0f2b-952f-4c08-8a57-30c026954981",
   "metadata": {},
   "outputs": [
    {
     "name": "stdout",
     "output_type": "stream",
     "text": [
      "Coroutine has started\n"
     ]
    }
   ],
   "source": [
    "mycoro = coroutine_exception(1)"
   ]
  },
  {
   "cell_type": "code",
   "execution_count": 110,
   "id": "7ffd58d3-b250-4e2a-88b1-e49044b064a1",
   "metadata": {},
   "outputs": [
    {
     "name": "stdout",
     "output_type": "stream",
     "text": [
      "ValueError handled. Continuing...\n"
     ]
    }
   ],
   "source": [
    "mycoro.throw(ValueError) # can only catch the Error itself, no instances of Error"
   ]
  },
  {
   "cell_type": "code",
   "execution_count": 112,
   "id": "ef794a2f-70a5-43b9-9aff-3cc814617d6a",
   "metadata": {},
   "outputs": [
    {
     "name": "stdout",
     "output_type": "stream",
     "text": [
      "Coroutine recieved:5\n"
     ]
    }
   ],
   "source": [
    "mycoro.send(5)"
   ]
  },
  {
   "cell_type": "code",
   "execution_count": 113,
   "id": "65e50ca3-151f-4255-b9f7-51d37aed64ca",
   "metadata": {},
   "outputs": [
    {
     "name": "stdout",
     "output_type": "stream",
     "text": [
      "Coroutine recieved:None\n"
     ]
    },
    {
     "ename": "TypeError",
     "evalue": "unsupported operand type(s) for +: 'int' and 'NoneType'",
     "output_type": "error",
     "traceback": [
      "\u001b[1;31m---------------------------------------------------------------------------\u001b[0m",
      "\u001b[1;31mTypeError\u001b[0m                                 Traceback (most recent call last)",
      "Input \u001b[1;32mIn [113]\u001b[0m, in \u001b[0;36m<cell line: 1>\u001b[1;34m()\u001b[0m\n\u001b[1;32m----> 1\u001b[0m \u001b[43mmycoro\u001b[49m\u001b[38;5;241;43m.\u001b[39;49m\u001b[43msend\u001b[49m\u001b[43m(\u001b[49m\u001b[38;5;28;43;01mNone\u001b[39;49;00m\u001b[43m)\u001b[49m\n",
      "Input \u001b[1;32mIn [104]\u001b[0m, in \u001b[0;36mcoroutine_exception\u001b[1;34m(number)\u001b[0m\n\u001b[0;32m     12\u001b[0m \u001b[38;5;28;01melse\u001b[39;00m:\n\u001b[0;32m     13\u001b[0m     \u001b[38;5;28mprint\u001b[39m(\u001b[38;5;124mf\u001b[39m\u001b[38;5;124m'\u001b[39m\u001b[38;5;124mCoroutine recieved:\u001b[39m\u001b[38;5;132;01m{\u001b[39;00mx\u001b[38;5;132;01m}\u001b[39;00m\u001b[38;5;124m'\u001b[39m)\n\u001b[1;32m---> 14\u001b[0m     \u001b[43mnumber\u001b[49m\u001b[43m \u001b[49m\u001b[38;5;241;43m+\u001b[39;49m\u001b[43m \u001b[49m\u001b[43mx\u001b[49m\n",
      "\u001b[1;31mTypeError\u001b[0m: unsupported operand type(s) for +: 'int' and 'NoneType'"
     ]
    }
   ],
   "source": [
    "mycoro.send(None) # did not catch TypeError so exception is raised and closes gen"
   ]
  },
  {
   "cell_type": "code",
   "execution_count": 115,
   "id": "27ce1036-8cbc-4aba-beb6-cf8d19fd9a63",
   "metadata": {},
   "outputs": [
    {
     "ename": "StopIteration",
     "evalue": "",
     "output_type": "error",
     "traceback": [
      "\u001b[1;31m---------------------------------------------------------------------------\u001b[0m",
      "\u001b[1;31mStopIteration\u001b[0m                             Traceback (most recent call last)",
      "Input \u001b[1;32mIn [115]\u001b[0m, in \u001b[0;36m<cell line: 1>\u001b[1;34m()\u001b[0m\n\u001b[1;32m----> 1\u001b[0m \u001b[38;5;28;43mnext\u001b[39;49m\u001b[43m(\u001b[49m\u001b[43mmycoro\u001b[49m\u001b[43m)\u001b[49m\n",
      "\u001b[1;31mStopIteration\u001b[0m: "
     ]
    }
   ],
   "source": [
    "next(mycoro)"
   ]
  },
  {
   "cell_type": "markdown",
   "id": "a7522662-0f5b-4767-9c9c-a26ffa3f31d8",
   "metadata": {},
   "source": [
    "A cool example that uses a bit of everything covered above"
   ]
  },
  {
   "cell_type": "code",
   "execution_count": 149,
   "id": "b947b3ad-aba7-40bd-82b0-1d384cca06e3",
   "metadata": {},
   "outputs": [
    {
     "name": "stdout",
     "output_type": "stream",
     "text": [
      "Coroutine has started\n",
      "Real average is 11.65\n",
      "I have been closed. Dying gracefully.. here's \n",
      "                  the final result Result(Count=24, Average=12.5)\n",
      "Final result: None\n"
     ]
    }
   ],
   "source": [
    "from collections import namedtuple\n",
    "import random\n",
    "from statistics import mean\n",
    "\n",
    "@coroutine\n",
    "def avg_with_result_and_execp():\n",
    "    print('Coroutine has started')\n",
    "    Result = namedtuple('Result', ['Count', 'Average'])\n",
    "    num_elem = 0\n",
    "    sum_up_to_now = 0\n",
    "    average = None\n",
    "    \n",
    "    while True:\n",
    "        try:\n",
    "            value = yield average\n",
    "        except ValueError:\n",
    "            print('Value error detected. Continuing...')\n",
    "        except GeneratorExit:\n",
    "            print(f'''I have been closed. Dying gracefully.. here's \n",
    "                  the final result {Result(num_elem, average)}''')\n",
    "            raise\n",
    "        else:\n",
    "            if value is None:\n",
    "                break\n",
    "            num_elem += 1\n",
    "            sum_up_to_now += value\n",
    "            average = sum_up_to_now / num_elem\n",
    "\n",
    "    return Result(num_elem, average)\n",
    "\n",
    "def main(size):\n",
    "    averager = avg_with_result_and_execp()\n",
    "    magic_values = [random.randint(0, 25) for _ in range(size)]\n",
    "    print(f'Real average is {mean(magic_values)}')\n",
    "    try:\n",
    "        for value in magic_values:\n",
    "            averager.send(value)\n",
    "            if value == 1:\n",
    "                averager.throw(ValueError)\n",
    "            if value == 3:\n",
    "                averager.close()\n",
    "        next(averager)\n",
    "    except StopIteration as e:\n",
    "        last_average = e.value\n",
    "        print(f'Final result: {last_average}')\n",
    "    except GeneratorExit:\n",
    "        pass\n",
    "\n",
    "if __name__ == '__main__':\n",
    "    main(40)"
   ]
  },
  {
   "cell_type": "markdown",
   "id": "a35f283a-0bea-470b-8f58-e63fdc24ccf9",
   "metadata": {},
   "source": [
    "The coroutine above runs for a 'size' number of times with random integers between 0 and 25 and if '1' appears, it throws and handles it as a ValueError. If '3' appears it closes the coroutine. If no exception is raised it ends the coroutine, catches the StopIteration exception and returns the final result from the exception value!\n",
    "\n",
    "Coroutines are capable of receiving and returning data!\n",
    "\n",
    "Run a few times and increase 'size' to cause the GeneratorExit, ValueError and StopIteration exceptions to see the different behaviours"
   ]
  },
  {
   "cell_type": "markdown",
   "id": "3fcefbc2-da2a-4a59-8840-0220a0453e1b",
   "metadata": {},
   "source": [
    "### Sub generators\n",
    "`Yield from` enables to delegate work to a sub generator via a pipe  \n",
    "The caller can yield, send or throw to the reference of the sub generator  \n",
    "The return statement in the `yield from` is magically handled and sent an expression\n",
    "\n",
    "Coroutines are like tasks, so it's possible to send tasks and receive the work back"
   ]
  },
  {
   "cell_type": "code",
   "execution_count": null,
   "id": "b0a45ab7-749d-47e3-951a-1307b8117000",
   "metadata": {},
   "outputs": [],
   "source": []
  }
 ],
 "metadata": {
  "kernelspec": {
   "display_name": "Python 3 (ipykernel)",
   "language": "python",
   "name": "python3"
  },
  "language_info": {
   "codemirror_mode": {
    "name": "ipython",
    "version": 3
   },
   "file_extension": ".py",
   "mimetype": "text/x-python",
   "name": "python",
   "nbconvert_exporter": "python",
   "pygments_lexer": "ipython3",
   "version": "3.9.7"
  }
 },
 "nbformat": 4,
 "nbformat_minor": 5
}
