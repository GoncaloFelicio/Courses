{
 "cells": [
  {
   "cell_type": "markdown",
   "id": "d63d187b-a896-42c8-ae5a-3ca1b2304c42",
   "metadata": {},
   "source": [
    "# Notes on Python\n",
    "## Examples for reference, tips, Best Practices\n",
    "\n",
    "Based on the Course: Core Python (Custom Attributes and Descriptors) at PluralSight\n",
    "\n",
    "Author: Gonçalo Felício  \n",
    "Date: 04/2022  \n",
    "Provided by: ISIWAY\n",
    "\n",
    "Something like a pocketbook to come to for quick references, examples, and tips of best practices, compiled with my own preferences  \n",
    "Loosely divided by subject, and with some degree, by the respective modules"
   ]
  },
  {
   "cell_type": "markdown",
   "id": "65d388a4-1a6a-4e56-9bd5-6e06a5caddea",
   "metadata": {},
   "source": [
    "Objects store attributes in an internal dictionary `__dict__`, that maps attribute names to attribute values  \n",
    "`__dict__` can be directly manipulated to create, retrieve, update and delete attributes. We can also access the dictionary via the `vars()` function    \n",
    "Any failure to retrieve an item by normal means causes the `__getattr__` to be invoked, if it has been defined  \n",
    "Assignment and deletion of attributes can be costumized by overriding `__setattr__` and `__delattr__`  \n",
    "Calls to `__hasattr__` can also invoke `__getattr__` which can lead to undesired infinite recursive loop  \n",
    "In general its better to use `__getattr__` but ocasionally, we may need to intercept all attributes access with `__getattribute__`  \n",
    "Classes have their own `__dict__` which stores method callables  \n",
    "`__slots__` are a way to make objects more memory efficient, in detriment of dynamism and flexibility  \n",
    "\n",
    "Tip: Prefer composition over Inheritance. This means that, sometimes, when handling related classes, it's better for a class to contain another, rather than inheriting from another, as this may lead to awkward and fragile implementations"
   ]
  },
  {
   "cell_type": "code",
   "execution_count": 60,
   "id": "a07b4a06-a091-4ead-ae5b-8c863d8b1bb8",
   "metadata": {},
   "outputs": [],
   "source": [
    "class Vector:\n",
    "    \n",
    "    def __init__(self, **components):\n",
    "        private_components = {f'_{k}': v for k, v in components.items()}\n",
    "        self.__dict__.update(private_components)\n",
    "        \n",
    "    def __getattr__(self, name):\n",
    "        private_name = f'_{name}'\n",
    "        try:\n",
    "            return self.__dict__[private_name]\n",
    "        except KeyError:\n",
    "            raise AttributeError(f'{self} object has no attribute {name!r}')\n",
    "    \n",
    "    def __setattr__(self, name, value):\n",
    "        raise AttributeError(f\"Can't set attributes in object {self!r}\")\n",
    "\n",
    "    def __delattr__(self, name):\n",
    "        raise AttributeError(f\"Can't delete attributes in object {self!r}\")\n",
    "        \n",
    "    def __repr__(self):\n",
    "        return '{}({})'.format(\n",
    "            type(self).__name__,\n",
    "            \", \".join('{k}={v}'.format(\n",
    "                        k=k[1:],\n",
    "                        v=v\n",
    "                        ) for k, v in vars(self).items() # the other way to access __dict__\n",
    "            )\n",
    "        )"
   ]
  },
  {
   "cell_type": "code",
   "execution_count": 61,
   "id": "ea9c87ee-8353-4d05-bc88-ac279a96c317",
   "metadata": {},
   "outputs": [],
   "source": [
    "v = Vector(x=1, y=3, z=5)"
   ]
  },
  {
   "cell_type": "code",
   "execution_count": 62,
   "id": "a2186854-16d0-447b-af61-aef0ff2cc6b0",
   "metadata": {},
   "outputs": [
    {
     "ename": "AttributeError",
     "evalue": "Vector(x=1, y=3, z=5) object has no attribute 't'",
     "output_type": "error",
     "traceback": [
      "\u001b[1;31m---------------------------------------------------------------------------\u001b[0m",
      "\u001b[1;31mKeyError\u001b[0m                                  Traceback (most recent call last)",
      "Input \u001b[1;32mIn [60]\u001b[0m, in \u001b[0;36mVector.__getattr__\u001b[1;34m(self, name)\u001b[0m\n\u001b[0;32m      9\u001b[0m \u001b[38;5;28;01mtry\u001b[39;00m:\n\u001b[1;32m---> 10\u001b[0m     \u001b[38;5;28;01mreturn\u001b[39;00m \u001b[38;5;28;43mself\u001b[39;49m\u001b[38;5;241;43m.\u001b[39;49m\u001b[38;5;18;43m__dict__\u001b[39;49m\u001b[43m[\u001b[49m\u001b[43mprivate_name\u001b[49m\u001b[43m]\u001b[49m\n\u001b[0;32m     11\u001b[0m \u001b[38;5;28;01mexcept\u001b[39;00m \u001b[38;5;167;01mKeyError\u001b[39;00m:\n",
      "\u001b[1;31mKeyError\u001b[0m: '_t'",
      "\nDuring handling of the above exception, another exception occurred:\n",
      "\u001b[1;31mAttributeError\u001b[0m                            Traceback (most recent call last)",
      "Input \u001b[1;32mIn [62]\u001b[0m, in \u001b[0;36m<cell line: 1>\u001b[1;34m()\u001b[0m\n\u001b[1;32m----> 1\u001b[0m \u001b[43mv\u001b[49m\u001b[38;5;241;43m.\u001b[39;49m\u001b[43mt\u001b[49m\n",
      "Input \u001b[1;32mIn [60]\u001b[0m, in \u001b[0;36mVector.__getattr__\u001b[1;34m(self, name)\u001b[0m\n\u001b[0;32m     10\u001b[0m     \u001b[38;5;28;01mreturn\u001b[39;00m \u001b[38;5;28mself\u001b[39m\u001b[38;5;241m.\u001b[39m\u001b[38;5;18m__dict__\u001b[39m[private_name]\n\u001b[0;32m     11\u001b[0m \u001b[38;5;28;01mexcept\u001b[39;00m \u001b[38;5;167;01mKeyError\u001b[39;00m:\n\u001b[1;32m---> 12\u001b[0m     \u001b[38;5;28;01mraise\u001b[39;00m \u001b[38;5;167;01mAttributeError\u001b[39;00m(\u001b[38;5;124mf\u001b[39m\u001b[38;5;124m'\u001b[39m\u001b[38;5;132;01m{\u001b[39;00m\u001b[38;5;28mself\u001b[39m\u001b[38;5;132;01m}\u001b[39;00m\u001b[38;5;124m object has no attribute \u001b[39m\u001b[38;5;132;01m{\u001b[39;00mname\u001b[38;5;132;01m!r}\u001b[39;00m\u001b[38;5;124m'\u001b[39m)\n",
      "\u001b[1;31mAttributeError\u001b[0m: Vector(x=1, y=3, z=5) object has no attribute 't'"
     ]
    }
   ],
   "source": [
    "v.t # attributes that don't exist raise appropriate error (delegating from __getattr__)"
   ]
  },
  {
   "cell_type": "code",
   "execution_count": 63,
   "id": "38230719-3d69-4654-b539-7a83e56f8a83",
   "metadata": {},
   "outputs": [
    {
     "data": {
      "text/plain": [
       "1"
      ]
     },
     "execution_count": 63,
     "metadata": {},
     "output_type": "execute_result"
    }
   ],
   "source": [
    "v.x # properly gets attribute value"
   ]
  },
  {
   "cell_type": "code",
   "execution_count": 64,
   "id": "9de30b3f-059e-4cf8-a4ce-f1fbaed79cd2",
   "metadata": {},
   "outputs": [
    {
     "data": {
      "text/plain": [
       "1"
      ]
     },
     "execution_count": 64,
     "metadata": {},
     "output_type": "execute_result"
    }
   ],
   "source": [
    "v._x # but in fact is a fake, as real attribute name is _x"
   ]
  },
  {
   "cell_type": "code",
   "execution_count": 65,
   "id": "e1103a3d-7779-495f-8295-59623270c555",
   "metadata": {},
   "outputs": [
    {
     "ename": "AttributeError",
     "evalue": "Can't set attributes in object Vector(x=1, y=3, z=5)",
     "output_type": "error",
     "traceback": [
      "\u001b[1;31m---------------------------------------------------------------------------\u001b[0m",
      "\u001b[1;31mAttributeError\u001b[0m                            Traceback (most recent call last)",
      "Input \u001b[1;32mIn [65]\u001b[0m, in \u001b[0;36m<cell line: 1>\u001b[1;34m()\u001b[0m\n\u001b[1;32m----> 1\u001b[0m v\u001b[38;5;241m.\u001b[39mx \u001b[38;5;241m=\u001b[39m \u001b[38;5;241m2\u001b[39m\n",
      "Input \u001b[1;32mIn [60]\u001b[0m, in \u001b[0;36mVector.__setattr__\u001b[1;34m(self, name, value)\u001b[0m\n\u001b[0;32m     14\u001b[0m \u001b[38;5;28;01mdef\u001b[39;00m \u001b[38;5;21m__setattr__\u001b[39m(\u001b[38;5;28mself\u001b[39m, name, value):\n\u001b[1;32m---> 15\u001b[0m     \u001b[38;5;28;01mraise\u001b[39;00m \u001b[38;5;167;01mAttributeError\u001b[39;00m(\u001b[38;5;124mf\u001b[39m\u001b[38;5;124m\"\u001b[39m\u001b[38;5;124mCan\u001b[39m\u001b[38;5;124m'\u001b[39m\u001b[38;5;124mt set attributes in object \u001b[39m\u001b[38;5;132;01m{\u001b[39;00m\u001b[38;5;28mself\u001b[39m\u001b[38;5;132;01m!r}\u001b[39;00m\u001b[38;5;124m\"\u001b[39m)\n",
      "\u001b[1;31mAttributeError\u001b[0m: Can't set attributes in object Vector(x=1, y=3, z=5)"
     ]
    }
   ],
   "source": [
    "v.x = 2 # can't set new values, its been implemented as immutable"
   ]
  },
  {
   "cell_type": "code",
   "execution_count": 66,
   "id": "7c23cdde-022b-4621-8108-4e95f67e635f",
   "metadata": {},
   "outputs": [
    {
     "ename": "AttributeError",
     "evalue": "Can't delete attributes in object Vector(x=1, y=3, z=5)",
     "output_type": "error",
     "traceback": [
      "\u001b[1;31m---------------------------------------------------------------------------\u001b[0m",
      "\u001b[1;31mAttributeError\u001b[0m                            Traceback (most recent call last)",
      "Input \u001b[1;32mIn [66]\u001b[0m, in \u001b[0;36m<cell line: 1>\u001b[1;34m()\u001b[0m\n\u001b[1;32m----> 1\u001b[0m \u001b[38;5;28;01mdel\u001b[39;00m v\u001b[38;5;241m.\u001b[39mx\n",
      "Input \u001b[1;32mIn [60]\u001b[0m, in \u001b[0;36mVector.__delattr__\u001b[1;34m(self, name)\u001b[0m\n\u001b[0;32m     17\u001b[0m \u001b[38;5;28;01mdef\u001b[39;00m \u001b[38;5;21m__delattr__\u001b[39m(\u001b[38;5;28mself\u001b[39m, name):\n\u001b[1;32m---> 18\u001b[0m     \u001b[38;5;28;01mraise\u001b[39;00m \u001b[38;5;167;01mAttributeError\u001b[39;00m(\u001b[38;5;124mf\u001b[39m\u001b[38;5;124m\"\u001b[39m\u001b[38;5;124mCan\u001b[39m\u001b[38;5;124m'\u001b[39m\u001b[38;5;124mt delete attributes in object \u001b[39m\u001b[38;5;132;01m{\u001b[39;00m\u001b[38;5;28mself\u001b[39m\u001b[38;5;132;01m!r}\u001b[39;00m\u001b[38;5;124m\"\u001b[39m)\n",
      "\u001b[1;31mAttributeError\u001b[0m: Can't delete attributes in object Vector(x=1, y=3, z=5)"
     ]
    }
   ],
   "source": [
    "del v.x # can't delete new values, its been implemented as immutable"
   ]
  },
  {
   "cell_type": "code",
   "execution_count": 67,
   "id": "7e8df86d-d116-47dc-afd6-211d7bd8c09c",
   "metadata": {},
   "outputs": [
    {
     "ename": "AttributeError",
     "evalue": "Can't delete attributes in object Vector(x=1, y=3, z=5)",
     "output_type": "error",
     "traceback": [
      "\u001b[1;31m---------------------------------------------------------------------------\u001b[0m",
      "\u001b[1;31mAttributeError\u001b[0m                            Traceback (most recent call last)",
      "Input \u001b[1;32mIn [67]\u001b[0m, in \u001b[0;36m<cell line: 1>\u001b[1;34m()\u001b[0m\n\u001b[1;32m----> 1\u001b[0m \u001b[38;5;28;43mdelattr\u001b[39;49m\u001b[43m(\u001b[49m\u001b[43mv\u001b[49m\u001b[43m,\u001b[49m\u001b[43m \u001b[49m\u001b[38;5;124;43m'\u001b[39;49m\u001b[38;5;124;43mx\u001b[39;49m\u001b[38;5;124;43m'\u001b[39;49m\u001b[43m)\u001b[49m\n",
      "Input \u001b[1;32mIn [60]\u001b[0m, in \u001b[0;36mVector.__delattr__\u001b[1;34m(self, name)\u001b[0m\n\u001b[0;32m     17\u001b[0m \u001b[38;5;28;01mdef\u001b[39;00m \u001b[38;5;21m__delattr__\u001b[39m(\u001b[38;5;28mself\u001b[39m, name):\n\u001b[1;32m---> 18\u001b[0m     \u001b[38;5;28;01mraise\u001b[39;00m \u001b[38;5;167;01mAttributeError\u001b[39;00m(\u001b[38;5;124mf\u001b[39m\u001b[38;5;124m\"\u001b[39m\u001b[38;5;124mCan\u001b[39m\u001b[38;5;124m'\u001b[39m\u001b[38;5;124mt delete attributes in object \u001b[39m\u001b[38;5;132;01m{\u001b[39;00m\u001b[38;5;28mself\u001b[39m\u001b[38;5;132;01m!r}\u001b[39;00m\u001b[38;5;124m\"\u001b[39m)\n",
      "\u001b[1;31mAttributeError\u001b[0m: Can't delete attributes in object Vector(x=1, y=3, z=5)"
     ]
    }
   ],
   "source": [
    "delattr(v, 'x')"
   ]
  },
  {
   "cell_type": "code",
   "execution_count": 68,
   "id": "50e8da4b-79f7-4c35-a085-36ba5df4978a",
   "metadata": {},
   "outputs": [
    {
     "data": {
      "text/plain": [
       "'Vector(x=1, y=3, z=5)'"
      ]
     },
     "execution_count": 68,
     "metadata": {},
     "output_type": "execute_result"
    }
   ],
   "source": [
    "repr(v)"
   ]
  },
  {
   "cell_type": "markdown",
   "id": "7abfe5bd-4d6c-4d29-ae94-e027ad089980",
   "metadata": {},
   "source": [
    "The `property` function is usually used as a decorator, but can also be called normally by passing *getter* and *setter* functions to `property`, returning a `descriptor`  \n",
    "The `descriptor` protocol comprises of `__get__`, `__set__` and `__delete__`  \n",
    "The `descriptor` objects are shared by all owning instances, this can be achieved by using a *WeakKeyDictionary*  \n",
    "The `descriptor` can also be retrieved by the owning class, instead via the instance, in this case the *instance* argument of `__get__` is set to *None*  \n",
    "Implement `__set_name__` to retrive the descriptors attribute name  "
   ]
  },
  {
   "cell_type": "code",
   "execution_count": 147,
   "id": "23f665bb-005f-4ad2-932d-b5d943b6d00a",
   "metadata": {
    "tags": []
   },
   "outputs": [],
   "source": [
    "from weakref import WeakKeyDictionary\n",
    "\n",
    "class Positive:\n",
    "    \"\"\"A data descriptor for positive check of numbers\"\"\"\n",
    "    \n",
    "    def __init__(self):\n",
    "        self._instance_data = WeakKeyDictionary()\n",
    "        \n",
    "    def __set_name__(self, owner, name):\n",
    "        self._name = name\n",
    "    \n",
    "    def __get__(self, instance, owner):\n",
    "        if instance is None: #check wether the descriptor is being retrived from the Class\n",
    "            return self\n",
    "        return self._instance_data[instance]\n",
    "    \n",
    "    def __set__(self, instance, value):\n",
    "        if value <=0:\n",
    "            raise ValueError(f'Value {value} is not positive.')\n",
    "        self._instance_data[instance] = value\n",
    "        \n",
    "    def __delete__(self, instance):\n",
    "        raise AttributeError(f\"Can't delete attributes.\")"
   ]
  },
  {
   "cell_type": "code",
   "execution_count": 148,
   "id": "b2cfbf70-2f9c-4bf0-97d5-3f48914a2b80",
   "metadata": {},
   "outputs": [],
   "source": [
    "class Planet:\n",
    "    def __init__(self, name, radius_meters, mass_kilograms):\n",
    "        self.name = name\n",
    "        self.radius_meters = radius_meters\n",
    "        self.mass_kilograms = mass_kilograms\n",
    "    \n",
    "    # using normal property to set attribute name\n",
    "    @property\n",
    "    def name(self):\n",
    "        return self._name\n",
    "\n",
    "    @name.setter\n",
    "    def name(self, value):\n",
    "        if not value:\n",
    "            raise ValueError('Cannot set empty name.')\n",
    "        self._name = value\n",
    "    \n",
    "    # using descriptor Positive to set and check the numeric attributes\n",
    "    radius_meters = Positive()\n",
    "    mass_kilograms = Positive()"
   ]
  },
  {
   "cell_type": "code",
   "execution_count": 149,
   "id": "aa3d7617-191e-4981-8077-f383282c4e1e",
   "metadata": {},
   "outputs": [
    {
     "data": {
      "text/plain": [
       "<__main__.Positive at 0x21418f43e20>"
      ]
     },
     "execution_count": 149,
     "metadata": {},
     "output_type": "execute_result"
    }
   ],
   "source": [
    "Planet.radius_meters # Positive is the descriptor object of the class attribute"
   ]
  },
  {
   "cell_type": "code",
   "execution_count": 150,
   "id": "8dac668c-ea2a-4073-9a87-6d19579f9139",
   "metadata": {},
   "outputs": [
    {
     "ename": "ValueError",
     "evalue": "Value -4 is not positive.",
     "output_type": "error",
     "traceback": [
      "\u001b[1;31m---------------------------------------------------------------------------\u001b[0m",
      "\u001b[1;31mValueError\u001b[0m                                Traceback (most recent call last)",
      "Input \u001b[1;32mIn [150]\u001b[0m, in \u001b[0;36m<cell line: 1>\u001b[1;34m()\u001b[0m\n\u001b[1;32m----> 1\u001b[0m pluto \u001b[38;5;241m=\u001b[39m \u001b[43mPlanet\u001b[49m\u001b[43m(\u001b[49m\u001b[43mname\u001b[49m\u001b[38;5;241;43m=\u001b[39;49m\u001b[38;5;124;43m'\u001b[39;49m\u001b[38;5;124;43mpluto\u001b[39;49m\u001b[38;5;124;43m'\u001b[39;49m\u001b[43m,\u001b[49m\u001b[43m \u001b[49m\u001b[43mradius_meters\u001b[49m\u001b[38;5;241;43m=\u001b[39;49m\u001b[38;5;241;43m123456\u001b[39;49m\u001b[43m,\u001b[49m\u001b[43m \u001b[49m\u001b[43mmass_kilograms\u001b[49m\u001b[38;5;241;43m=\u001b[39;49m\u001b[38;5;241;43m-\u001b[39;49m\u001b[38;5;241;43m4\u001b[39;49m\u001b[43m)\u001b[49m\n",
      "Input \u001b[1;32mIn [148]\u001b[0m, in \u001b[0;36mPlanet.__init__\u001b[1;34m(self, name, radius_meters, mass_kilograms)\u001b[0m\n\u001b[0;32m      3\u001b[0m \u001b[38;5;28mself\u001b[39m\u001b[38;5;241m.\u001b[39mname \u001b[38;5;241m=\u001b[39m name\n\u001b[0;32m      4\u001b[0m \u001b[38;5;28mself\u001b[39m\u001b[38;5;241m.\u001b[39mradius_meters \u001b[38;5;241m=\u001b[39m radius_meters\n\u001b[1;32m----> 5\u001b[0m \u001b[38;5;28mself\u001b[39m\u001b[38;5;241m.\u001b[39mmass_kilograms \u001b[38;5;241m=\u001b[39m mass_kilograms\n",
      "Input \u001b[1;32mIn [147]\u001b[0m, in \u001b[0;36mPositive.__set__\u001b[1;34m(self, instance, value)\u001b[0m\n\u001b[0;32m     17\u001b[0m \u001b[38;5;28;01mdef\u001b[39;00m \u001b[38;5;21m__set__\u001b[39m(\u001b[38;5;28mself\u001b[39m, instance, value):\n\u001b[0;32m     18\u001b[0m     \u001b[38;5;28;01mif\u001b[39;00m value \u001b[38;5;241m<\u001b[39m\u001b[38;5;241m=\u001b[39m\u001b[38;5;241m0\u001b[39m:\n\u001b[1;32m---> 19\u001b[0m         \u001b[38;5;28;01mraise\u001b[39;00m \u001b[38;5;167;01mValueError\u001b[39;00m(\u001b[38;5;124mf\u001b[39m\u001b[38;5;124m'\u001b[39m\u001b[38;5;124mValue \u001b[39m\u001b[38;5;132;01m{\u001b[39;00mvalue\u001b[38;5;132;01m}\u001b[39;00m\u001b[38;5;124m is not positive.\u001b[39m\u001b[38;5;124m'\u001b[39m)\n\u001b[0;32m     20\u001b[0m     \u001b[38;5;28mself\u001b[39m\u001b[38;5;241m.\u001b[39m_instance_data[instance] \u001b[38;5;241m=\u001b[39m value\n",
      "\u001b[1;31mValueError\u001b[0m: Value -4 is not positive."
     ]
    }
   ],
   "source": [
    "pluto = Planet(name='pluto', radius_meters=123456, mass_kilograms=-4)"
   ]
  },
  {
   "cell_type": "code",
   "execution_count": 164,
   "id": "2ca672f9-e019-46b3-b8c6-ea33860227e9",
   "metadata": {},
   "outputs": [],
   "source": [
    "pluto = Planet(name='pluto', radius_meters=123456, mass_kilograms=4)"
   ]
  },
  {
   "cell_type": "code",
   "execution_count": 165,
   "id": "59322d5f-a197-49cc-a0a1-cd0c3e4b1849",
   "metadata": {},
   "outputs": [
    {
     "data": {
      "text/plain": [
       "123456"
      ]
     },
     "execution_count": 165,
     "metadata": {},
     "output_type": "execute_result"
    }
   ],
   "source": [
    "pluto.radius_meters"
   ]
  },
  {
   "cell_type": "code",
   "execution_count": 166,
   "id": "7ae10ed7-69d4-4059-9ad1-763e9f81daaf",
   "metadata": {},
   "outputs": [
    {
     "data": {
      "text/plain": [
       "654321"
      ]
     },
     "execution_count": 166,
     "metadata": {},
     "output_type": "execute_result"
    }
   ],
   "source": [
    "pluto.radius_meters = 654321\n",
    "pluto.radius_meters"
   ]
  },
  {
   "cell_type": "code",
   "execution_count": 154,
   "id": "0c7fb759-3c63-47bf-b85b-a9d9112e04b2",
   "metadata": {},
   "outputs": [
    {
     "ename": "AttributeError",
     "evalue": "Can't delete attributes.",
     "output_type": "error",
     "traceback": [
      "\u001b[1;31m---------------------------------------------------------------------------\u001b[0m",
      "\u001b[1;31mAttributeError\u001b[0m                            Traceback (most recent call last)",
      "Input \u001b[1;32mIn [154]\u001b[0m, in \u001b[0;36m<cell line: 1>\u001b[1;34m()\u001b[0m\n\u001b[1;32m----> 1\u001b[0m \u001b[38;5;28;01mdel\u001b[39;00m pluto\u001b[38;5;241m.\u001b[39mmass_kilograms\n",
      "Input \u001b[1;32mIn [147]\u001b[0m, in \u001b[0;36mPositive.__delete__\u001b[1;34m(self, instance)\u001b[0m\n\u001b[0;32m     22\u001b[0m \u001b[38;5;28;01mdef\u001b[39;00m \u001b[38;5;21m__delete__\u001b[39m(\u001b[38;5;28mself\u001b[39m, instance):\n\u001b[1;32m---> 23\u001b[0m     \u001b[38;5;28;01mraise\u001b[39;00m \u001b[38;5;167;01mAttributeError\u001b[39;00m(\u001b[38;5;124mf\u001b[39m\u001b[38;5;124m\"\u001b[39m\u001b[38;5;124mCan\u001b[39m\u001b[38;5;124m'\u001b[39m\u001b[38;5;124mt delete attributes.\u001b[39m\u001b[38;5;124m\"\u001b[39m)\n",
      "\u001b[1;31mAttributeError\u001b[0m: Can't delete attributes."
     ]
    }
   ],
   "source": [
    "del pluto.mass_kilograms"
   ]
  },
  {
   "cell_type": "code",
   "execution_count": 167,
   "id": "2a00a952-8e7e-4f6b-9277-7c5f3e8c8fc4",
   "metadata": {},
   "outputs": [],
   "source": [
    "mercury = pluto = Planet(name='Mercury', radius_meters=78910, mass_kilograms=8)"
   ]
  },
  {
   "cell_type": "code",
   "execution_count": 168,
   "id": "1192ad4b-d6db-4261-9730-43f0932be6d7",
   "metadata": {},
   "outputs": [
    {
     "data": {
      "text/plain": [
       "78910"
      ]
     },
     "execution_count": 168,
     "metadata": {},
     "output_type": "execute_result"
    }
   ],
   "source": [
    "mercury.radius_meters"
   ]
  },
  {
   "cell_type": "code",
   "execution_count": 176,
   "id": "6b5adf6e-0530-4257-9bf1-ddf27c68a8e5",
   "metadata": {},
   "outputs": [
    {
     "name": "stdout",
     "output_type": "stream",
     "text": [
      "<WeakKeyDictionary at 0x21418f73100>\n",
      "{<__main__.Planet object at 0x0000021418FB3E80>: 4,\n",
      " <__main__.Planet object at 0x0000021418FCB3A0>: 8}\n"
     ]
    }
   ],
   "source": [
    "# with the weak ref dictionary, we see that the descriptor objects really are shared between instances\n",
    "pprint(Planet.mass_kilograms._instance_data) # this is possible because of the __set_name__ implementation\n",
    "pprint(dict(Planet.mass_kilograms._instance_data))"
   ]
  },
  {
   "cell_type": "code",
   "execution_count": 178,
   "id": "1a1460ec-0ce1-478f-a987-e8aa4b525844",
   "metadata": {},
   "outputs": [
    {
     "name": "stdout",
     "output_type": "stream",
     "text": [
      "mappingproxy({'__dict__': <attribute '__dict__' of 'Planet' objects>,\n",
      "              '__doc__': None,\n",
      "              '__init__': <function Planet.__init__ at 0x0000021418F7BF70>,\n",
      "              '__module__': '__main__',\n",
      "              '__weakref__': <attribute '__weakref__' of 'Planet' objects>,\n",
      "              'mass_kilograms': <__main__.Positive object at 0x0000021418F73070>,\n",
      "              'name': <property object at 0x0000021418F74770>,\n",
      "              'radius_meters': <__main__.Positive object at 0x0000021418F43E20>})\n"
     ]
    }
   ],
   "source": [
    "pprint(Planet.__dict__)"
   ]
  },
  {
   "cell_type": "markdown",
   "id": "28454913-7b51-4043-8bf4-133f147897e6",
   "metadata": {},
   "source": [
    "Data and non-Data descriptors have different lookup precedences  \n",
    "In Data descriptors, class attributes take precedence when an instance attribute with the same name exists  \n",
    "In non-Data descriptos the oposite occurs"
   ]
  },
  {
   "cell_type": "code",
   "execution_count": null,
   "id": "8f404288-c3c8-4ec7-8a22-411cc247f81d",
   "metadata": {},
   "outputs": [],
   "source": []
  }
 ],
 "metadata": {
  "kernelspec": {
   "display_name": "Python 3 (ipykernel)",
   "language": "python",
   "name": "python3"
  },
  "language_info": {
   "codemirror_mode": {
    "name": "ipython",
    "version": 3
   },
   "file_extension": ".py",
   "mimetype": "text/x-python",
   "name": "python",
   "nbconvert_exporter": "python",
   "pygments_lexer": "ipython3",
   "version": "3.9.12"
  }
 },
 "nbformat": 4,
 "nbformat_minor": 5
}
