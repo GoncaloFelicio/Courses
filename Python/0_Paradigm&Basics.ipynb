{
 "cells": [
  {
   "cell_type": "markdown",
   "id": "2f0967b8-cea2-45d7-b176-af3d1358b732",
   "metadata": {},
   "source": [
    "# Notes on Python\n",
    "## Examples for reference, tips, Best Practices\n",
    "\n",
    "Based on the Courses: Core Python ( Getting Started ) and Python for Data Analysts at Pluralsight (first 4 modules)\n",
    "\n",
    "Author: Gonçalo Felício  \n",
    "Date: 03/2022  \n",
    "Provided by: ISIWAY\n",
    "\n",
    "Something like a pocketbook to come to for quick references, examples, and tips of best practices, compiled with my own preferences.  \n",
    "Loosely divided by subject, and with some degree, by the respective modules.\n",
    "\n",
    "This notebook is quite large, use the Find tool to navigate between subjects."
   ]
  },
  {
   "cell_type": "code",
   "execution_count": 1,
   "id": "7465e960-48ce-42d3-b3c4-f22c7b7943a5",
   "metadata": {},
   "outputs": [
    {
     "name": "stdout",
     "output_type": "stream",
     "text": [
      "The Zen of Python, by Tim Peters\n",
      "\n",
      "Beautiful is better than ugly.\n",
      "Explicit is better than implicit.\n",
      "Simple is better than complex.\n",
      "Complex is better than complicated.\n",
      "Flat is better than nested.\n",
      "Sparse is better than dense.\n",
      "Readability counts.\n",
      "Special cases aren't special enough to break the rules.\n",
      "Although practicality beats purity.\n",
      "Errors should never pass silently.\n",
      "Unless explicitly silenced.\n",
      "In the face of ambiguity, refuse the temptation to guess.\n",
      "There should be one-- and preferably only one --obvious way to do it.\n",
      "Although that way may not be obvious at first unless you're Dutch.\n",
      "Now is better than never.\n",
      "Although never is often better than *right* now.\n",
      "If the implementation is hard to explain, it's a bad idea.\n",
      "If the implementation is easy to explain, it may be a good idea.\n",
      "Namespaces are one honking great idea -- let's do more of those!\n"
     ]
    }
   ],
   "source": [
    "import this"
   ]
  },
  {
   "cell_type": "markdown",
   "id": "dfdd2569-ddb8-4f25-b6e3-adf86b17f95b",
   "metadata": {},
   "source": [
    "---\n",
    "# Big Picture"
   ]
  },
  {
   "cell_type": "markdown",
   "id": "c80c6087-b3d6-4515-91a3-f16db94cece7",
   "metadata": {},
   "source": [
    "Python is\n",
    "\n",
    "- __General Purpose__. Ot can be used in many different areas of science and serve differente needs such as finance analysis, web dev, data science, app scripting, etc.\n",
    "- __Multi-paradigm__. It can use 3 differente programming paradigms: _Structured_, _Object-oriented_, and _Funtional_ Programming.\n",
    "- __Interpreted__. It is not required to compile the python code before running. This makes it a lot faster to develop and test code.\n",
    "- __Garbage-collected__. It cleans up unused objects in memory by itself, no need to allocate and keep track of memory while coding.\n",
    "- __Dinamically-typed__. It is able to reassign variables with different types of objects. This means we don't need to state the variable type beforehand.\n",
    "\n",
    "Drawbacks\n",
    "\n",
    "- Being interpreted means it is slower to run than compiled languages (although it is faster to test/develop)\n",
    "- Being dynamically-typed can lead to type errors if we are not careful about variable types"
   ]
  },
  {
   "cell_type": "markdown",
   "id": "cef06425-e736-4aeb-98bc-afe551e02128",
   "metadata": {},
   "source": [
    "---\n",
    "# Getting Started\n"
   ]
  },
  {
   "cell_type": "markdown",
   "id": "4103514e-1120-4de3-bd5f-7d57ee8b74ce",
   "metadata": {},
   "source": [
    "REPL stands for Run, Evaluate, Print, Loop.  \n",
    "We call it REPL when we are using the command line to run python expressions.  \n",
    "We know we are in the REPL when the command line shows '>>>' at the beginning of the line.  \n",
    "Run the REPL by typing: python ; in the command prompt \n",
    "Exit the REPL by typing Ctrl+Z (Windows), Ctrl+D(Linux)  \n",
    "Re-enter the REPL by typing: fg ; and Enter a few times  \n",
    "The ' _ ' symbol retains the result of the last evaluated expression. The underscore variable is also often used as a dummy variable name for unused values.\n",
    "\n",
    "Python uses __Significant Whitespace__. Each block of code is delimited by identation.\n",
    "- Preferably use 4 spaces, not tab\n",
    "- Don't mix spaces and tabs\n",
    "- Be consistent on consecutive line\n",
    "- Only deviate to improve readability\n",
    "\n",
    "#### Following the Zen of Python: Readability counts. Clarity matters, readability makes for valuable code.\n",
    "\n",
    "The `pprint` module supports pretty printing of large data structures."
   ]
  },
  {
   "cell_type": "markdown",
   "id": "bebdb9a5-dd3b-46ff-b01f-aa8b55a5f56a",
   "metadata": {},
   "source": [
    "We can directly run terminal commands from jupyter with the `!` prefix"
   ]
  },
  {
   "cell_type": "code",
   "execution_count": 3,
   "id": "0d05d400-4b41-4001-94b1-f4718130d2b0",
   "metadata": {},
   "outputs": [
    {
     "name": "stdout",
     "output_type": "stream",
     "text": [
      "Python 3.8.8\n"
     ]
    }
   ],
   "source": [
    "!python --version"
   ]
  },
  {
   "cell_type": "code",
   "execution_count": 6,
   "id": "2f356f52-32de-4d80-8860-0b0acefba9c6",
   "metadata": {},
   "outputs": [
    {
     "name": "stdout",
     "output_type": "stream",
     "text": [
      "C:\\Users\\Goncalo\\Documents\\Humanativa_ISIWAY\\Courses\\CorePython\n"
     ]
    }
   ],
   "source": [
    "!cd"
   ]
  },
  {
   "cell_type": "code",
   "execution_count": 1,
   "id": "2c1cc6b4-86db-4660-84e5-8fd7671116b6",
   "metadata": {},
   "outputs": [
    {
     "name": "stdout",
     "output_type": "stream",
     "text": [
      "Selected Jupyter core packages...\n",
      "IPython          : 8.1.1\n",
      "ipykernel        : 6.9.1\n",
      "ipywidgets       : not installed\n",
      "jupyter_client   : 6.1.12\n",
      "jupyter_core     : 4.9.2\n",
      "jupyter_server   : 1.13.5\n",
      "jupyterlab       : 3.2.9\n",
      "nbclient         : 0.5.11\n",
      "nbconvert        : 6.1.0\n",
      "nbformat         : 5.1.3\n",
      "notebook         : 6.4.8\n",
      "qtconsole        : 5.2.2\n",
      "traitlets        : 5.1.1\n"
     ]
    }
   ],
   "source": [
    "!jupyter --version"
   ]
  },
  {
   "cell_type": "code",
   "execution_count": 7,
   "id": "ce486064-2de1-4eba-9cb7-5bc246db2ca6",
   "metadata": {},
   "outputs": [],
   "source": [
    "# add other useful commands"
   ]
  },
  {
   "cell_type": "markdown",
   "id": "281b5991-617b-4724-a42f-1ba2bf455c1c",
   "metadata": {},
   "source": [
    "#### Magic Commands "
   ]
  },
  {
   "cell_type": "markdown",
   "id": "25b61cf0-5a8c-4394-a334-339e830d4e08",
   "metadata": {},
   "source": [
    "Magic commands are special commands that jupyter makes available over python commands.  \n",
    "They are prefixed by a `%` (its not required with Automagic ON, but its better to always use it)."
   ]
  },
  {
   "cell_type": "code",
   "execution_count": 9,
   "id": "f39aacc9-1ddb-4cec-8192-209c207f2300",
   "metadata": {},
   "outputs": [
    {
     "data": {
      "application/json": {
       "cell": {
        "!": "OSMagics",
        "HTML": "Other",
        "SVG": "Other",
        "bash": "Other",
        "capture": "ExecutionMagics",
        "cmd": "Other",
        "debug": "ExecutionMagics",
        "file": "Other",
        "html": "DisplayMagics",
        "javascript": "DisplayMagics",
        "js": "DisplayMagics",
        "latex": "DisplayMagics",
        "markdown": "DisplayMagics",
        "perl": "Other",
        "prun": "ExecutionMagics",
        "pypy": "Other",
        "python": "Other",
        "python2": "Other",
        "python3": "Other",
        "ruby": "Other",
        "script": "ScriptMagics",
        "sh": "Other",
        "svg": "DisplayMagics",
        "sx": "OSMagics",
        "system": "OSMagics",
        "time": "ExecutionMagics",
        "timeit": "ExecutionMagics",
        "writefile": "OSMagics"
       },
       "line": {
        "alias": "OSMagics",
        "alias_magic": "BasicMagics",
        "autoawait": "AsyncMagics",
        "autocall": "AutoMagics",
        "automagic": "AutoMagics",
        "autosave": "KernelMagics",
        "bookmark": "OSMagics",
        "cd": "OSMagics",
        "clear": "KernelMagics",
        "cls": "KernelMagics",
        "colors": "BasicMagics",
        "conda": "PackagingMagics",
        "config": "ConfigMagics",
        "connect_info": "KernelMagics",
        "copy": "Other",
        "ddir": "Other",
        "debug": "ExecutionMagics",
        "dhist": "OSMagics",
        "dirs": "OSMagics",
        "doctest_mode": "BasicMagics",
        "echo": "Other",
        "ed": "Other",
        "edit": "KernelMagics",
        "env": "OSMagics",
        "gui": "BasicMagics",
        "hist": "Other",
        "history": "HistoryMagics",
        "killbgscripts": "ScriptMagics",
        "ldir": "Other",
        "less": "KernelMagics",
        "load": "CodeMagics",
        "load_ext": "ExtensionMagics",
        "loadpy": "CodeMagics",
        "logoff": "LoggingMagics",
        "logon": "LoggingMagics",
        "logstart": "LoggingMagics",
        "logstate": "LoggingMagics",
        "logstop": "LoggingMagics",
        "ls": "Other",
        "lsmagic": "BasicMagics",
        "macro": "ExecutionMagics",
        "magic": "BasicMagics",
        "matplotlib": "PylabMagics",
        "mkdir": "Other",
        "more": "KernelMagics",
        "notebook": "BasicMagics",
        "page": "BasicMagics",
        "pastebin": "CodeMagics",
        "pdb": "ExecutionMagics",
        "pdef": "NamespaceMagics",
        "pdoc": "NamespaceMagics",
        "pfile": "NamespaceMagics",
        "pinfo": "NamespaceMagics",
        "pinfo2": "NamespaceMagics",
        "pip": "PackagingMagics",
        "popd": "OSMagics",
        "pprint": "BasicMagics",
        "precision": "BasicMagics",
        "prun": "ExecutionMagics",
        "psearch": "NamespaceMagics",
        "psource": "NamespaceMagics",
        "pushd": "OSMagics",
        "pwd": "OSMagics",
        "pycat": "OSMagics",
        "pylab": "PylabMagics",
        "qtconsole": "KernelMagics",
        "quickref": "BasicMagics",
        "recall": "HistoryMagics",
        "rehashx": "OSMagics",
        "reload_ext": "ExtensionMagics",
        "ren": "Other",
        "rep": "Other",
        "rerun": "HistoryMagics",
        "reset": "NamespaceMagics",
        "reset_selective": "NamespaceMagics",
        "rmdir": "Other",
        "run": "ExecutionMagics",
        "save": "CodeMagics",
        "sc": "OSMagics",
        "set_env": "OSMagics",
        "store": "StoreMagics",
        "sx": "OSMagics",
        "system": "OSMagics",
        "tb": "ExecutionMagics",
        "time": "ExecutionMagics",
        "timeit": "ExecutionMagics",
        "unalias": "OSMagics",
        "unload_ext": "ExtensionMagics",
        "who": "NamespaceMagics",
        "who_ls": "NamespaceMagics",
        "whos": "NamespaceMagics",
        "xdel": "NamespaceMagics",
        "xmode": "BasicMagics"
       }
      },
      "text/plain": [
       "Available line magics:\n",
       "%alias  %alias_magic  %autoawait  %autocall  %automagic  %autosave  %bookmark  %cd  %clear  %cls  %colors  %conda  %config  %connect_info  %copy  %ddir  %debug  %dhist  %dirs  %doctest_mode  %echo  %ed  %edit  %env  %gui  %hist  %history  %killbgscripts  %ldir  %less  %load  %load_ext  %loadpy  %logoff  %logon  %logstart  %logstate  %logstop  %ls  %lsmagic  %macro  %magic  %matplotlib  %mkdir  %more  %notebook  %page  %pastebin  %pdb  %pdef  %pdoc  %pfile  %pinfo  %pinfo2  %pip  %popd  %pprint  %precision  %prun  %psearch  %psource  %pushd  %pwd  %pycat  %pylab  %qtconsole  %quickref  %recall  %rehashx  %reload_ext  %ren  %rep  %rerun  %reset  %reset_selective  %rmdir  %run  %save  %sc  %set_env  %store  %sx  %system  %tb  %time  %timeit  %unalias  %unload_ext  %who  %who_ls  %whos  %xdel  %xmode\n",
       "\n",
       "Available cell magics:\n",
       "%%!  %%HTML  %%SVG  %%bash  %%capture  %%cmd  %%debug  %%file  %%html  %%javascript  %%js  %%latex  %%markdown  %%perl  %%prun  %%pypy  %%python  %%python2  %%python3  %%ruby  %%script  %%sh  %%svg  %%sx  %%system  %%time  %%timeit  %%writefile\n",
       "\n",
       "Automagic is ON, % prefix IS NOT needed for line magics."
      ]
     },
     "execution_count": 9,
     "metadata": {},
     "output_type": "execute_result"
    }
   ],
   "source": [
    "%lsmagic # interact to see the commands available"
   ]
  },
  {
   "cell_type": "code",
   "execution_count": 29,
   "id": "795b994c-bce6-40df-96e0-2a5af823626c",
   "metadata": {},
   "outputs": [
    {
     "data": {
      "text/plain": [
       "'C:\\\\Users\\\\Goncalo\\\\Documents\\\\Humanativa_ISIWAY\\\\Courses\\\\CorePython'"
      ]
     },
     "execution_count": 29,
     "metadata": {},
     "output_type": "execute_result"
    }
   ],
   "source": [
    "%pwd "
   ]
  },
  {
   "cell_type": "code",
   "execution_count": 16,
   "id": "09ca4e5b-c8be-4024-971d-067eabde9a42",
   "metadata": {},
   "outputs": [
    {
     "name": "stdout",
     "output_type": "stream",
     "text": [
      " Il volume nell'unità C non ha etichetta.\n",
      " Numero di serie del volume: B2D5-68C2\n",
      "\n",
      " Directory di C:\\Users\\Goncalo\\Documents\\Humanativa_ISIWAY\\Courses\\CorePython\n",
      "\n",
      "17/03/2022  17:26    <DIR>          .\n",
      "17/03/2022  17:26    <DIR>          ..\n",
      "16/03/2022  16:46    <DIR>          .ipynb_checkpoints\n",
      "17/03/2022  17:26           140,273 BigPicture&GettingStarted.ipynb\n",
      "16/03/2022  16:47               604 OrganizingLargePrograms.ipynb\n",
      "16/03/2022  16:13             5,147 recaman.dat\n",
      "16/03/2022  15:35                79 wasteland.txt\n",
      "               4 File        146,103 byte\n",
      "               3 Directory  466,346,639,360 byte disponibili\n"
     ]
    }
   ],
   "source": [
    "# list of items in current directory, attention, if the cell only has the magic command\n",
    "# it doesn't require %, but if there are comments or other code, it requires the %\n",
    "%ls"
   ]
  },
  {
   "cell_type": "code",
   "execution_count": 36,
   "id": "3f39a387-87ff-4e10-8d4d-335c25cc99df",
   "metadata": {},
   "outputs": [],
   "source": [
    "# create a directory - a folder\n",
    "%mkdir some_directory\n",
    "# remove a directory\n",
    "%rmdir some_directory"
   ]
  },
  {
   "cell_type": "code",
   "execution_count": 31,
   "id": "78c0324b-b752-4af1-9bcf-2289c75f9ec6",
   "metadata": {},
   "outputs": [
    {
     "data": {
      "text/plain": [
       "\u001b[0mWhat\u001b[0m \u001b[0mare\u001b[0m \u001b[0mthe\u001b[0m \u001b[0mroots\u001b[0m \u001b[0mthat\u001b[0m \u001b[0mclutch\u001b[0m\u001b[1;33m,\u001b[0m \u001b[0mwhat\u001b[0m \u001b[0mbranches\u001b[0m \u001b[0mgrow\u001b[0m\u001b[1;33m\n",
       "\u001b[0m\u001b[0mOut\u001b[0m \u001b[0mof\u001b[0m \u001b[0mthis\u001b[0m \u001b[0mstony\u001b[0m \u001b[0mrubbish\u001b[0m\u001b[0;31m?\u001b[0m\u001b[1;33m\u001b[0m\u001b[1;33m\u001b[0m\u001b[0m\n"
      ]
     },
     "metadata": {},
     "output_type": "display_data"
    }
   ],
   "source": [
    "# reads and prints the contents of a file\n",
    "%pycat wasteland.txt"
   ]
  },
  {
   "cell_type": "code",
   "execution_count": null,
   "id": "f49a5d7e-3890-44f0-aae9-fef51c823f89",
   "metadata": {},
   "outputs": [],
   "source": [
    "# counts the time for operation: CPU time is the actual time for the command to run\n",
    "# Wall time is the user perceived time\n",
    "%time"
   ]
  },
  {
   "cell_type": "markdown",
   "id": "169e0bfa-596f-4844-abc1-cefa8db70351",
   "metadata": {},
   "source": [
    "---\n",
    "### Importing library modules \n",
    "\n",
    "`import module` imports the entire module\n",
    "\n",
    "`from module import name` imports selected elements from a module\n",
    "\n",
    "`from module import name as name2` changes the imported element's name reference\n",
    "\n",
    "Usually it is better to import only used elements and to rename them to increse readability"
   ]
  },
  {
   "cell_type": "code",
   "execution_count": 1,
   "id": "baece46b-d852-4ff9-8cfc-890d27087018",
   "metadata": {},
   "outputs": [],
   "source": [
    "from pprint import pprint as pp"
   ]
  },
  {
   "cell_type": "code",
   "execution_count": 1,
   "id": "d540d391-92d0-46fe-a3aa-008c3243c983",
   "metadata": {},
   "outputs": [],
   "source": [
    "# makes the plots of matplotlib inline with the jupyter cells\n",
    "%matplotlib inline"
   ]
  },
  {
   "cell_type": "code",
   "execution_count": 1,
   "id": "92647092-9f69-4424-9e23-306b8c1e9966",
   "metadata": {},
   "outputs": [
    {
     "name": "stdout",
     "output_type": "stream",
     "text": [
      "Wall time: 0 ns\n"
     ]
    },
    {
     "data": {
      "text/plain": [
       "<matplotlib.collections.PathCollection at 0x24e7c36c2b0>"
      ]
     },
     "execution_count": 1,
     "metadata": {},
     "output_type": "execute_result"
    },
    {
     "data": {
      "image/png": "[encoded data removed]",
      "text/plain": [
       "<Figure size 1080x576 with 1 Axes>"
      ]
     },
     "metadata": {
      "needs_background": "light"
     },
     "output_type": "display_data"
    }
   ],
   "source": [
    "import matplotlib.pyplot as plt\n",
    "import numpy as np\n",
    "\n",
    "# Create a simple figure with a scatter plot from random values.\n",
    "\n",
    "%time\n",
    "N = 1000\n",
    "x = np.random.rand(N)\n",
    "y = np.random.rand(N)\n",
    "colors = np.random.rand(N)\n",
    "area = (1000 * np.random.rand(N)**2)\n",
    "\n",
    "plt.figure(figsize=(15, 8))\n",
    "plt.scatter(x, y, s=area, c=colors, alpha=0.5)"
   ]
  },
  {
   "cell_type": "markdown",
   "id": "fca0ae4f-8770-443c-98b8-ef9be5b13f29",
   "metadata": {},
   "source": [
    "---\n",
    "### Strings\n",
    "\n",
    "Strings are a sequence of Unicode code points and are immutable.  \n",
    "We can use:"
   ]
  },
  {
   "cell_type": "code",
   "execution_count": 5,
   "id": "7f10c00e-948a-4b48-80a9-ab154b346f64",
   "metadata": {},
   "outputs": [
    {
     "data": {
      "text/plain": [
       "'This is a string'"
      ]
     },
     "execution_count": 5,
     "metadata": {},
     "output_type": "execute_result"
    }
   ],
   "source": [
    "'This is a string'"
   ]
  },
  {
   "cell_type": "markdown",
   "id": "3630a9da-bcc7-40ee-89f7-1da23c4843ad",
   "metadata": {},
   "source": [
    "The use of single quote and double quote allow the use of the other's quotation inside a string."
   ]
  },
  {
   "cell_type": "code",
   "execution_count": 8,
   "id": "b84141fb-aedd-40c5-8684-98719154072e",
   "metadata": {},
   "outputs": [
    {
     "data": {
      "text/plain": [
       "\"This is a string. It's great!\""
      ]
     },
     "execution_count": 8,
     "metadata": {},
     "output_type": "execute_result"
    }
   ],
   "source": [
    "\"This is a string. It's great!\""
   ]
  },
  {
   "cell_type": "markdown",
   "id": "b5650a04-838a-4622-b55e-c2d74fc8a9c1",
   "metadata": {},
   "source": [
    "The triple quotes allows us to write several lines in one single string, to improve readability.  "
   ]
  },
  {
   "cell_type": "code",
   "execution_count": 14,
   "id": "82bd658b-92b7-4feb-afcd-41d5e9ab464c",
   "metadata": {},
   "outputs": [
    {
     "name": "stdout",
     "output_type": "stream",
     "text": [
      "This is a string \n",
      "with multiple \n",
      "lines \n"
     ]
    }
   ],
   "source": [
    "print (\"\"\"This is a string \n",
    "with multiple \n",
    "lines \"\"\")\n"
   ]
  },
  {
   "cell_type": "markdown",
   "id": "b02bf958-c709-4457-8648-86d4e10c7411",
   "metadata": {},
   "source": [
    "#### Following the Zen of Python: Practicality beats purity. Beautiful text strings. Rendered in literal form. Simple elegance"
   ]
  },
  {
   "cell_type": "markdown",
   "id": "95432b9b-4eb2-4b01-981c-e1dc7aaa9271",
   "metadata": {},
   "source": [
    "Adjacent string literals are implicitly concatenated"
   ]
  },
  {
   "cell_type": "code",
   "execution_count": 226,
   "id": "a45686b9-87b3-4e5e-927d-2ae3ef554ba6",
   "metadata": {},
   "outputs": [
    {
     "data": {
      "text/plain": [
       "'this stringconcatenates with this string'"
      ]
     },
     "execution_count": 226,
     "metadata": {},
     "output_type": "execute_result"
    }
   ],
   "source": [
    "'this string' 'concatenates with this string'"
   ]
  },
  {
   "cell_type": "markdown",
   "id": "91b09617-1761-4f1c-80e9-958a89728ee6",
   "metadata": {},
   "source": [
    "Can also use + operator"
   ]
  },
  {
   "cell_type": "code",
   "execution_count": 237,
   "id": "49298331-7dfd-46bd-a035-ac9e7fea7073",
   "metadata": {},
   "outputs": [
    {
     "data": {
      "text/plain": [
       "'this stringconcatenates with this string'"
      ]
     },
     "execution_count": 237,
     "metadata": {},
     "output_type": "execute_result"
    }
   ],
   "source": [
    "'this string' + 'concatenates with this string'"
   ]
  },
  {
   "cell_type": "markdown",
   "id": "945fb286-4afa-4c66-9d3c-4daa97a32309",
   "metadata": {},
   "source": [
    "But the best way to concatenate strigs it through `''.join` method. The ` '' ` is the separator to use, and the argument is a list of strings. "
   ]
  },
  {
   "cell_type": "code",
   "execution_count": 248,
   "id": "958810df-f1b1-4356-ad71-352fa849e710",
   "metadata": {},
   "outputs": [
    {
     "data": {
      "text/plain": [
       "'this string concatenates with this string'"
      ]
     },
     "execution_count": 248,
     "metadata": {},
     "output_type": "execute_result"
    }
   ],
   "source": [
    "concat = ' '.join(['this string','concatenates with this string'])\n",
    "concat"
   ]
  },
  {
   "cell_type": "markdown",
   "id": "7980aa13-f979-4fca-ada5-85c6d9c754f9",
   "metadata": {},
   "source": [
    "To separate the string we can use the str.partition method and the same separator used before. This returns a tuple with 3 values for both strings and the separator.  \n",
    "Notice that the partition method takes the first instance of separator and splits the string. This leads to different strings than originally."
   ]
  },
  {
   "cell_type": "code",
   "execution_count": 250,
   "id": "ba6dbdc1-ed52-4355-ac01-285b64b59308",
   "metadata": {},
   "outputs": [
    {
     "data": {
      "text/plain": [
       "('this', ' ', 'string concatenates with this string')"
      ]
     },
     "execution_count": 250,
     "metadata": {},
     "output_type": "execute_result"
    }
   ],
   "source": [
    "string1, _, string2 = concat.partition(' ')\n",
    "string1, _, string2"
   ]
  },
  {
   "cell_type": "markdown",
   "id": "2d7e1097-c6dd-441d-bd90-7dcb13dacd32",
   "metadata": {},
   "source": [
    "String `.format` method is a method to replace placeholders `{}` in a string, with values. This can include positional values inside a sequence, and even module function values."
   ]
  },
  {
   "cell_type": "code",
   "execution_count": 253,
   "id": "13345222-9686-40a3-b77a-a295bfdbdb45",
   "metadata": {},
   "outputs": [
    {
     "data": {
      "text/plain": [
       "'Math constants: pi=3.142, e =2.718'"
      ]
     },
     "execution_count": 253,
     "metadata": {},
     "output_type": "execute_result"
    }
   ],
   "source": [
    "import math as m\n",
    "\"Math constants: pi={:.3f}, e ={:.3f}\".format(m.pi,m.e) # displays math constants values with 3 decimal places"
   ]
  },
  {
   "cell_type": "markdown",
   "id": "ad5f71f6-a66e-4aec-991a-591010f6de19",
   "metadata": {},
   "source": [
    "Another alternative is to use the F-string syntax. This allows us to embed expressions inside strings."
   ]
  },
  {
   "cell_type": "code",
   "execution_count": 255,
   "id": "87fbc552-1b49-4bee-bad6-236e9821cc4b",
   "metadata": {},
   "outputs": [
    {
     "data": {
      "text/plain": [
       "'Math constants: pi = 3.142, e = 2.718'"
      ]
     },
     "execution_count": 255,
     "metadata": {},
     "output_type": "execute_result"
    }
   ],
   "source": [
    "f'Math constants: pi = {m.pi:.3f}, e = {m.e:.3f}'"
   ]
  },
  {
   "cell_type": "markdown",
   "id": "dcd34240-1105-4cab-b6da-38a4fbd39fe3",
   "metadata": {},
   "source": [
    "Python supports Universal newlines. This means we can always use `\\n` to make new lines, and python converts it to the platform specific syntax when necessary."
   ]
  },
  {
   "cell_type": "markdown",
   "id": "9a2c781a-12f3-49dd-ab00-ee0e0dcba1cf",
   "metadata": {},
   "source": [
    "#### Escape sequences.  \n",
    "Python use the `\\` as an escape sequence to allow conflicting symbols inside strings. This includes the backslash itself."
   ]
  },
  {
   "cell_type": "code",
   "execution_count": 16,
   "id": "14fd8513-f27d-44a8-8321-72eda2d917ec",
   "metadata": {},
   "outputs": [
    {
     "data": {
      "text/plain": [
       "'This is a \" inside a string'"
      ]
     },
     "execution_count": 16,
     "metadata": {},
     "output_type": "execute_result"
    }
   ],
   "source": [
    "\"This is a \\\" inside a string\""
   ]
  },
  {
   "cell_type": "code",
   "execution_count": 17,
   "id": "7d33b95a-a6a8-46a1-9dc7-d2e43731fb68",
   "metadata": {},
   "outputs": [
    {
     "name": "stdout",
     "output_type": "stream",
     "text": [
      "This is a \\ inside a string\n"
     ]
    }
   ],
   "source": [
    "print ('This is a \\\\ inside a string')"
   ]
  },
  {
   "cell_type": "markdown",
   "id": "a457717b-b75c-45d0-96b9-ba996dfc1ba2",
   "metadata": {},
   "source": [
    "#### Raw Strings \n",
    "are strings with a `r` prefix that ignores all escape sequences. Useful when writing filepaths"
   ]
  },
  {
   "cell_type": "code",
   "execution_count": 18,
   "id": "7e8529c0-fdd1-4947-a403-37a7bbc8fd3b",
   "metadata": {},
   "outputs": [
    {
     "data": {
      "text/plain": [
       "'Documents/Humanativa_ISIWAY/Courses/CorePython/BigPicture&GettingStarted.ipynb'"
      ]
     },
     "execution_count": 18,
     "metadata": {},
     "output_type": "execute_result"
    }
   ],
   "source": [
    "path = r'Documents/Humanativa_ISIWAY/Courses/CorePython/BigPicture&GettingStarted.ipynb'\n",
    "path"
   ]
  },
  {
   "cell_type": "markdown",
   "id": "b3798e06-a015-4cc8-93d4-d58747f0d7aa",
   "metadata": {},
   "source": [
    "The `str` constructor converts other variable types to strings."
   ]
  },
  {
   "cell_type": "code",
   "execution_count": 24,
   "id": "a1ce6b97-b18c-4467-b880-c7d3697b3933",
   "metadata": {},
   "outputs": [
    {
     "data": {
      "text/plain": [
       "int"
      ]
     },
     "execution_count": 24,
     "metadata": {},
     "output_type": "execute_result"
    }
   ],
   "source": [
    "type (1)"
   ]
  },
  {
   "cell_type": "code",
   "execution_count": 25,
   "id": "410006ec-751d-4973-a67a-fbc2c223c07a",
   "metadata": {},
   "outputs": [
    {
     "data": {
      "text/plain": [
       "str"
      ]
     },
     "execution_count": 25,
     "metadata": {},
     "output_type": "execute_result"
    }
   ],
   "source": [
    "type(str(1))"
   ]
  },
  {
   "cell_type": "markdown",
   "id": "66b7c5e2-07a8-40e9-a940-17e8cd58eae1",
   "metadata": {},
   "source": [
    "We can access individual characters by indexing with `[]`"
   ]
  },
  {
   "cell_type": "code",
   "execution_count": 5,
   "id": "cdb61405-4783-44ef-888a-d07200269c24",
   "metadata": {},
   "outputs": [
    {
     "name": "stdout",
     "output_type": "stream",
     "text": [
      "G.F.\n"
     ]
    }
   ],
   "source": [
    "name = 'Gonçalo Felício'\n",
    "print (name[0]+'.'+name[8]+'.')"
   ]
  },
  {
   "cell_type": "markdown",
   "id": "919c9e1d-8105-4531-97ed-30958d84e74a",
   "metadata": {},
   "source": [
    "Multiplying a string by an integer returns the same string many times. This is called the repetition operation."
   ]
  },
  {
   "cell_type": "code",
   "execution_count": 177,
   "id": "72571ed4-2bce-4d65-911f-75a629d20159",
   "metadata": {},
   "outputs": [
    {
     "data": {
      "text/plain": [
       "'Gonçalo Felício Gonçalo Felício Gonçalo Felício Gonçalo Felício '"
      ]
     },
     "execution_count": 177,
     "metadata": {},
     "output_type": "execute_result"
    }
   ],
   "source": [
    "(name + ' ') * 4"
   ]
  },
  {
   "cell_type": "code",
   "execution_count": 16,
   "id": "4b41ec08-ecc2-4445-8b2f-2e6784bd1cdd",
   "metadata": {},
   "outputs": [
    {
     "data": {
      "text/plain": [
       "'thisisastriptest'"
      ]
     },
     "execution_count": 16,
     "metadata": {},
     "output_type": "execute_result"
    }
   ],
   "source": [
    "string4strip = ' this is a strip test '\n",
    "strippedString = ''.join(string4strip.split())\n",
    "strippedString"
   ]
  },
  {
   "cell_type": "code",
   "execution_count": 32,
   "id": "c3d3b099-1bc9-45bd-aaec-789379c98be2",
   "metadata": {},
   "outputs": [
    {
     "data": {
      "text/plain": [
       "'thIs Is  chAng tst'"
      ]
     },
     "execution_count": 32,
     "metadata": {},
     "output_type": "execute_result"
    }
   ],
   "source": [
    "# This dictionary won't work with capitalized vowels\n",
    "vowelsdict = {'a':'', 'e':'', 'i':'','o':'','u':''}\n",
    "\n",
    "string4changechar = 'thIs Is a chAnge test'\n",
    "lowerCaseString = string4changechar.lower()\n",
    "string4changechar.translate(string4changechar.maketrans(vowelsdict))"
   ]
  },
  {
   "cell_type": "markdown",
   "id": "99935284-8f53-47f9-ad78-7602d22ad29e",
   "metadata": {},
   "source": [
    "---\n",
    "### Bytes"
   ]
  },
  {
   "cell_type": "markdown",
   "id": "39c61f5c-b993-427d-9440-3db0841ebd62",
   "metadata": {},
   "source": [
    "Bytes are very simmilar to strings but contain sequences of bytes. They are identified by the prefix `b`.  \n",
    "The byte type is useful because files and network resources are transmited as bytes streams."
   ]
  },
  {
   "cell_type": "code",
   "execution_count": 45,
   "id": "1e92ae73-5341-4e36-8b8d-495edbe387e0",
   "metadata": {},
   "outputs": [
    {
     "name": "stdout",
     "output_type": "stream",
     "text": [
      "b'this is a line'\n"
     ]
    },
    {
     "data": {
      "text/plain": [
       "bytes"
      ]
     },
     "execution_count": 45,
     "metadata": {},
     "output_type": "execute_result"
    }
   ],
   "source": [
    "line = b'this is a line'\n",
    "print(line)\n",
    "type(line)"
   ]
  },
  {
   "cell_type": "code",
   "execution_count": 37,
   "id": "ebc948d8-3b22-4354-b896-21ba35c40399",
   "metadata": {},
   "outputs": [
    {
     "data": {
      "text/plain": [
       "116"
      ]
     },
     "execution_count": 37,
     "metadata": {},
     "output_type": "execute_result"
    }
   ],
   "source": [
    "line[0]"
   ]
  },
  {
   "cell_type": "markdown",
   "id": "bf5e1c08-3fa9-4f59-aa3e-b5f10af55b58",
   "metadata": {},
   "source": [
    "Conversion between strings and bytes is done with an Encoder/Decoder"
   ]
  },
  {
   "cell_type": "code",
   "execution_count": 50,
   "id": "d34dc5e2-7119-4b6d-b0f6-969312e5b4e3",
   "metadata": {},
   "outputs": [
    {
     "data": {
      "text/plain": [
       "'this is a line'"
      ]
     },
     "execution_count": 50,
     "metadata": {},
     "output_type": "execute_result"
    }
   ],
   "source": [
    "# line is of type byte and converted to type string\n",
    "str_line = line.decode('utf8')\n",
    "str_line"
   ]
  },
  {
   "cell_type": "code",
   "execution_count": 51,
   "id": "a1354cab-a1ea-48c0-aa0d-2d399204110a",
   "metadata": {},
   "outputs": [
    {
     "data": {
      "text/plain": [
       "b'this is a line'"
      ]
     },
     "execution_count": 51,
     "metadata": {},
     "output_type": "execute_result"
    }
   ],
   "source": [
    "##line is of type string and converted back to type byte\n",
    "byte_line = str_line.encode('utf8')\n",
    "byte_line"
   ]
  },
  {
   "cell_type": "markdown",
   "id": "06e9384e-3009-4876-9afd-7ad81dbaa3a2",
   "metadata": {},
   "source": [
    "---\n",
    "### Lists\n",
    "\n",
    "Lists are mutable sequences, unlike strings and bytes.  \n",
    "They are separated by square brackets `[]` and items are separated by commas `,`.  \n",
    "We can access elements with `[]` and also replace elemets by assigning to an index.  "
   ]
  },
  {
   "cell_type": "code",
   "execution_count": 77,
   "id": "51bebbf5-091f-432a-91a3-6c8b5950db04",
   "metadata": {},
   "outputs": [
    {
     "data": {
      "text/plain": [
       "'String is immutable'"
      ]
     },
     "execution_count": 77,
     "metadata": {},
     "output_type": "execute_result"
    }
   ],
   "source": [
    "string = 'String is immutable'\n",
    "string"
   ]
  },
  {
   "cell_type": "code",
   "execution_count": 78,
   "id": "2bd5b4ce-477f-4ca0-9f6c-bc0981ff2b2d",
   "metadata": {},
   "outputs": [
    {
     "data": {
      "text/plain": [
       "'S'"
      ]
     },
     "execution_count": 78,
     "metadata": {},
     "output_type": "execute_result"
    }
   ],
   "source": [
    "string[0]"
   ]
  },
  {
   "cell_type": "code",
   "execution_count": 79,
   "id": "393b0587-8d1a-4216-9645-d645ad5710c5",
   "metadata": {},
   "outputs": [
    {
     "ename": "TypeError",
     "evalue": "'str' object does not support item assignment",
     "output_type": "error",
     "traceback": [
      "\u001b[1;31m---------------------------------------------------------------------------\u001b[0m",
      "\u001b[1;31mTypeError\u001b[0m                                 Traceback (most recent call last)",
      "Input \u001b[1;32mIn [79]\u001b[0m, in \u001b[0;36m<cell line: 1>\u001b[1;34m()\u001b[0m\n\u001b[1;32m----> 1\u001b[0m string[\u001b[38;5;241m0\u001b[39m] \u001b[38;5;241m=\u001b[39m \u001b[38;5;124m'\u001b[39m\u001b[38;5;124mCan\u001b[39m\u001b[38;5;130;01m\\'\u001b[39;00m\u001b[38;5;124mt change it\u001b[39m\u001b[38;5;124m'\u001b[39m\n",
      "\u001b[1;31mTypeError\u001b[0m: 'str' object does not support item assignment"
     ]
    }
   ],
   "source": [
    "string[0] = 'Can\\'t change it'"
   ]
  },
  {
   "cell_type": "code",
   "execution_count": 80,
   "id": "d75f9801-9b62-48b1-ad98-26652337b39d",
   "metadata": {},
   "outputs": [
    {
     "data": {
      "text/plain": [
       "['lists are mutable']"
      ]
     },
     "execution_count": 80,
     "metadata": {},
     "output_type": "execute_result"
    }
   ],
   "source": [
    "_list = ['lists are mutable']\n",
    "_list"
   ]
  },
  {
   "cell_type": "code",
   "execution_count": 81,
   "id": "aef299ab-1a6e-479a-a52e-171b9c3eef39",
   "metadata": {},
   "outputs": [
    {
     "data": {
      "text/plain": [
       "['Can change it']"
      ]
     },
     "execution_count": 81,
     "metadata": {},
     "output_type": "execute_result"
    }
   ],
   "source": [
    "_list[0] = 'Can change it'\n",
    "_list"
   ]
  },
  {
   "cell_type": "markdown",
   "id": "e732817b-eda3-4bf9-985b-d11160c995e6",
   "metadata": {},
   "source": [
    "Lists can be grown by appending to it, and we can use the `list()` constructor to create lists from other sequences."
   ]
  },
  {
   "cell_type": "code",
   "execution_count": 82,
   "id": "dd22c2aa-7ca8-481f-bbdf-0c78e3410e90",
   "metadata": {},
   "outputs": [
    {
     "data": {
      "text/plain": [
       "['Can change it', 'added a new element']"
      ]
     },
     "execution_count": 82,
     "metadata": {},
     "output_type": "execute_result"
    }
   ],
   "source": [
    "_list.append('added a new element')\n",
    "_list"
   ]
  },
  {
   "cell_type": "code",
   "execution_count": 149,
   "id": "3bfac777-8a3e-4a82-a421-dcdf2fd21a02",
   "metadata": {},
   "outputs": [
    {
     "data": {
      "text/plain": [
       "['A', ' ', 's', 'h', 'o', 'r', 't', ' ', 's', 't', 'r', 'i', 'n', 'g']"
      ]
     },
     "execution_count": 149,
     "metadata": {},
     "output_type": "execute_result"
    }
   ],
   "source": [
    "list('A short string')"
   ]
  },
  {
   "cell_type": "markdown",
   "id": "b7beb843-ed27-4eae-976e-2f737e240166",
   "metadata": {},
   "source": [
    "We can use a `,` after the last element which is an important maintainability feature, and add lines if the brackets are open, for better readability."
   ]
  },
  {
   "cell_type": "code",
   "execution_count": 2,
   "id": "6fbc6887-6978-4183-be35-3269942ef981",
   "metadata": {},
   "outputs": [
    {
     "data": {
      "text/plain": [
       "[1111111111111, 22222222222222, 33333333333333, 44444444444444, 55555555555555]"
      ]
     },
     "execution_count": 2,
     "metadata": {},
     "output_type": "execute_result"
    }
   ],
   "source": [
    "list_of_numbers = [1111111111111,\n",
    "    22222222222222,\n",
    "    33333333333333,\n",
    "    44444444444444,\n",
    "    55555555555555,]\n",
    "list_of_numbers"
   ]
  },
  {
   "cell_type": "markdown",
   "id": "5f960271-2759-4ee5-abaf-3123c019d671",
   "metadata": {},
   "source": [
    "We can index a list with negative values, to start at the end."
   ]
  },
  {
   "cell_type": "code",
   "execution_count": 3,
   "id": "84a463be-638d-4407-9bd1-49dcf200b457",
   "metadata": {},
   "outputs": [
    {
     "data": {
      "text/plain": [
       "55555555555555"
      ]
     },
     "execution_count": 3,
     "metadata": {},
     "output_type": "execute_result"
    }
   ],
   "source": [
    "list_of_numbers[-1]"
   ]
  },
  {
   "cell_type": "markdown",
   "id": "c0a2df1f-8b35-4d0a-8ff8-fe3bcdeef138",
   "metadata": {},
   "source": [
    "Slicing copies part or all of the list. We can use this to fully copy a list.  \n",
    "We can also look for elements with the `.index()` and `.count()` methods."
   ]
  },
  {
   "cell_type": "code",
   "execution_count": 4,
   "id": "93ffed22-1668-4634-8032-7d988325b3ae",
   "metadata": {},
   "outputs": [
    {
     "data": {
      "text/plain": [
       "[1111111111111, 22222222222222]"
      ]
     },
     "execution_count": 4,
     "metadata": {},
     "output_type": "execute_result"
    }
   ],
   "source": [
    "list_of_numbers[:2]"
   ]
  },
  {
   "cell_type": "code",
   "execution_count": 6,
   "id": "ee74144d-9dfc-4497-a97c-8df826f22bf4",
   "metadata": {},
   "outputs": [
    {
     "data": {
      "text/plain": [
       "[33333333333333, 44444444444444, 55555555555555]"
      ]
     },
     "execution_count": 6,
     "metadata": {},
     "output_type": "execute_result"
    }
   ],
   "source": [
    "list_of_numbers[2:]"
   ]
  },
  {
   "cell_type": "code",
   "execution_count": 19,
   "id": "8af0ec29-0dad-4586-851f-42e04b530eba",
   "metadata": {},
   "outputs": [
    {
     "data": {
      "text/plain": [
       "[1111111111111, 22222222222222, 33333333333333, 44444444444444, 55555555555555]"
      ]
     },
     "execution_count": 19,
     "metadata": {},
     "output_type": "execute_result"
    }
   ],
   "source": [
    "list_of_numbers2 = list_of_numbers[:]\n",
    "list_of_numbers2"
   ]
  },
  {
   "cell_type": "code",
   "execution_count": 18,
   "id": "39cc5837-5768-44c2-99c5-3c22818b1c36",
   "metadata": {},
   "outputs": [
    {
     "data": {
      "text/plain": [
       "0"
      ]
     },
     "execution_count": 18,
     "metadata": {},
     "output_type": "execute_result"
    }
   ],
   "source": [
    "list_of_numbers2.index(1111111111111) # returns the first index found with the value specified"
   ]
  },
  {
   "cell_type": "code",
   "execution_count": 17,
   "id": "94945a57-8805-4664-91bd-fc2a0b4c1715",
   "metadata": {},
   "outputs": [
    {
     "data": {
      "text/plain": [
       "1"
      ]
     },
     "execution_count": 17,
     "metadata": {},
     "output_type": "execute_result"
    }
   ],
   "source": [
    "list_of_numbers2.count(1111111111111) # returns the number of occurrences of the value specified"
   ]
  },
  {
   "cell_type": "code",
   "execution_count": 20,
   "id": "26d471c8-e410-44cd-82b8-2f5283226665",
   "metadata": {},
   "outputs": [
    {
     "data": {
      "text/plain": [
       "[1111111111111, 33333333333333, 44444444444444, 55555555555555]"
      ]
     },
     "execution_count": 20,
     "metadata": {},
     "output_type": "execute_result"
    }
   ],
   "source": [
    "del list_of_numbers2[1] # del can remove items by index and .remove() method removes items by value\n",
    "list_of_numbers2"
   ]
  },
  {
   "cell_type": "markdown",
   "id": "5d472717-5a2b-48be-9701-2637e5fb346a",
   "metadata": {},
   "source": [
    "We can sort or reverse the order of the items inside a list wiht the methods below.  \n",
    "We can also use the funtions `sorted()` and `reversed()` to do the same to any iterable."
   ]
  },
  {
   "cell_type": "code",
   "execution_count": 24,
   "id": "5caa3f21-9a90-46dd-87b3-53e139c475e0",
   "metadata": {},
   "outputs": [
    {
     "name": "stdout",
     "output_type": "stream",
     "text": [
      "[55555555555555, 44444444444444, 33333333333333, 1111111111111]\n",
      "[1111111111111, 33333333333333, 44444444444444, 55555555555555]\n"
     ]
    }
   ],
   "source": [
    "list_of_numbers2.reverse()\n",
    "print(list_of_numbers2)\n",
    "list_of_numbers2.sort()\n",
    "print(list_of_numbers2)"
   ]
  },
  {
   "cell_type": "markdown",
   "id": "1931b061-f848-4ebc-a9ff-1732b2cdf137",
   "metadata": {},
   "source": [
    "List copies are shallow, they only copy the reference  to the object, not the object itself."
   ]
  },
  {
   "cell_type": "code",
   "execution_count": 34,
   "id": "4b79d082-9353-4c28-98b6-4f55e3efabd5",
   "metadata": {},
   "outputs": [
    {
     "data": {
      "text/plain": [
       "False"
      ]
     },
     "execution_count": 34,
     "metadata": {},
     "output_type": "execute_result"
    }
   ],
   "source": [
    "a = [[1,2],[3,4,5]]\n",
    "b = a[:]\n",
    "a is b"
   ]
  },
  {
   "cell_type": "code",
   "execution_count": 35,
   "id": "21f38e6c-47af-4c22-b28c-7f729a096c54",
   "metadata": {},
   "outputs": [
    {
     "data": {
      "text/plain": [
       "True"
      ]
     },
     "execution_count": 35,
     "metadata": {},
     "output_type": "execute_result"
    }
   ],
   "source": [
    "a == b"
   ]
  },
  {
   "cell_type": "code",
   "execution_count": 36,
   "id": "8b14a493-08ce-40b6-9f85-9a2e1eb3c67f",
   "metadata": {},
   "outputs": [
    {
     "data": {
      "text/plain": [
       "[8, 9]"
      ]
     },
     "execution_count": 36,
     "metadata": {},
     "output_type": "execute_result"
    }
   ],
   "source": [
    "a[0] = [8,9]\n",
    "a[0]"
   ]
  },
  {
   "cell_type": "code",
   "execution_count": 37,
   "id": "bf5fec04-54f2-43e4-9640-847d699f7bee",
   "metadata": {},
   "outputs": [
    {
     "data": {
      "text/plain": [
       "[1, 2]"
      ]
     },
     "execution_count": 37,
     "metadata": {},
     "output_type": "execute_result"
    }
   ],
   "source": [
    "b[0]"
   ]
  },
  {
   "cell_type": "code",
   "execution_count": 38,
   "id": "df753f97-a1ff-4e4f-8aad-3ebae9ff49c0",
   "metadata": {},
   "outputs": [
    {
     "data": {
      "text/plain": [
       "[3, 4, 5, 6]"
      ]
     },
     "execution_count": 38,
     "metadata": {},
     "output_type": "execute_result"
    }
   ],
   "source": [
    "a[1].append(6)\n",
    "a[1]"
   ]
  },
  {
   "cell_type": "code",
   "execution_count": 39,
   "id": "407a2f29-b1ae-4783-b2bb-504ec8edc68e",
   "metadata": {},
   "outputs": [
    {
     "data": {
      "text/plain": [
       "[3, 4, 5, 6]"
      ]
     },
     "execution_count": 39,
     "metadata": {},
     "output_type": "execute_result"
    }
   ],
   "source": [
    "b[1]"
   ]
  },
  {
   "cell_type": "markdown",
   "id": "3dc7789a-9f50-46ff-ba5c-51739a7f1e92",
   "metadata": {},
   "source": [
    "---\n",
    "### Dictionaries\n",
    "\n",
    "Dictionaries map from keys to values.  \n",
    "Literal dictionaries are delimited `{}`, key-value pairs are separated by commas `,` and keys are separated from values by colons `:`.  \n",
    "Entries in the dictionary are kept by insertion order. But no order should be assumed when iterating over dictionary keys.  \n",
    "Keys must be immutable, such as strings or tuples, values may not be.  \n",
    "Methods like update, index, count, also work on dictionaries."
   ]
  },
  {
   "cell_type": "code",
   "execution_count": 41,
   "id": "a3187e98-17e8-4934-a3e8-cb87126f7657",
   "metadata": {},
   "outputs": [
    {
     "data": {
      "text/plain": [
       "2"
      ]
     },
     "execution_count": 41,
     "metadata": {},
     "output_type": "execute_result"
    }
   ],
   "source": [
    "d = {'a' : 1, 'b': 2, 'c': 3}\n",
    "d['b']"
   ]
  },
  {
   "cell_type": "code",
   "execution_count": 42,
   "id": "dfd24d64-f300-491f-8b83-2078b7fd7d20",
   "metadata": {},
   "outputs": [
    {
     "data": {
      "text/plain": [
       "{'a': 1, 'b': 2, 'c': 3, 'd': 4}"
      ]
     },
     "execution_count": 42,
     "metadata": {},
     "output_type": "execute_result"
    }
   ],
   "source": [
    "d['d'] = 4\n",
    "d"
   ]
  },
  {
   "cell_type": "markdown",
   "id": "088271a6-8a96-4eac-93ac-01842e013049",
   "metadata": {},
   "source": [
    "Iteration and membership in dictionaries are done over keys, not values. We can view inside the dictionary with  \n",
    "`dict.keys()`, `dict.values()`, and `dict.items()`"
   ]
  },
  {
   "cell_type": "code",
   "execution_count": 43,
   "id": "b2faa1e3-a7cb-4431-bcf9-deaa8ae5d7b5",
   "metadata": {},
   "outputs": [
    {
     "name": "stdout",
     "output_type": "stream",
     "text": [
      "a\n",
      "b\n",
      "c\n",
      "d\n"
     ]
    }
   ],
   "source": [
    "for i in d:\n",
    "    print(i)"
   ]
  },
  {
   "cell_type": "code",
   "execution_count": 45,
   "id": "91cbd3e7-07ce-44bb-a86f-a2cee4823916",
   "metadata": {},
   "outputs": [
    {
     "data": {
      "text/plain": [
       "(dict_keys(['a', 'b', 'c', 'd']),\n",
       " dict_values([1, 2, 3, 4]),\n",
       " dict_items([('a', 1), ('b', 2), ('c', 3), ('d', 4)]))"
      ]
     },
     "execution_count": 45,
     "metadata": {},
     "output_type": "execute_result"
    }
   ],
   "source": [
    "d.keys(), d.values(), d.items()"
   ]
  },
  {
   "cell_type": "markdown",
   "id": "098f2e09-86a6-45a6-968f-2e741a50f9ba",
   "metadata": {},
   "source": [
    "The `.update()` method extends a dictionary with another."
   ]
  },
  {
   "cell_type": "code",
   "execution_count": 46,
   "id": "6e801614-5086-4c72-a650-1fccfb56f513",
   "metadata": {},
   "outputs": [
    {
     "data": {
      "text/plain": [
       "{'a': 1, 'b': 2, 'c': 3, 'd': 4, 'e': 5, 'f': 6, 'g': 7}"
      ]
     },
     "execution_count": 46,
     "metadata": {},
     "output_type": "execute_result"
    }
   ],
   "source": [
    "d2 = { 'e': 5, 'f': 6, 'g': 7 }\n",
    "d.update(d2)\n",
    "d"
   ]
  },
  {
   "cell_type": "code",
   "execution_count": 54,
   "id": "1fa3b2b7-0a8d-4126-8a7d-555f4cd3836e",
   "metadata": {},
   "outputs": [
    {
     "name": "stdout",
     "output_type": "stream",
     "text": [
      "{'a': 1,\n",
      " 'b': 2,\n",
      " 'c': 3,\n",
      " 'd': 4,\n",
      " 'e': 5,\n",
      " 'eeeeeeeeeeeeee': 555555555555555,\n",
      " 'f': 6,\n",
      " 'fffffffffffffff': 666666666666666666,\n",
      " 'g': 7,\n",
      " 'ggggggggggggggg': 77777777777777777}\n"
     ]
    }
   ],
   "source": [
    "# Use pprint when colections are large and hard to see in simple print form\n",
    "from pprint import pprint as pp\n",
    "\n",
    "\n",
    "d3 = { 'eeeeeeeeeeeeee': 555555555555555, 'fffffffffffffff': 666666666666666666, 'ggggggggggggggg': 77777777777777777 }\n",
    "\n",
    "large_dict = d.update(d3)\n",
    "pp(d)"
   ]
  },
  {
   "cell_type": "markdown",
   "id": "412ae5f0-483d-42e4-8c9d-58f4f3fc3aba",
   "metadata": {},
   "source": [
    "Dictionary testing:"
   ]
  },
  {
   "cell_type": "code",
   "execution_count": 121,
   "id": "da87f45f-d527-428d-8d8f-2451019dad9e",
   "metadata": {},
   "outputs": [],
   "source": [
    "dictionary_of_lists = {'list1': ['Gonçalo Felicio'],\n",
    "                       'list2': ['Andrea M'],\n",
    "                      'list3' : ['Matteo']}"
   ]
  },
  {
   "cell_type": "code",
   "execution_count": 122,
   "id": "35cff1e3-e122-48bd-9973-8504135bb89c",
   "metadata": {},
   "outputs": [],
   "source": [
    "def nuovo_studente (nome, cognome, corso_scelto):\n",
    "    \n",
    "    if corso_scelto not in dictionary_of_lists:\n",
    "        dictionary_of_lists[corso_scelto] = [f\"{nome} {cognome}\"]\n",
    "    else:\n",
    "        dictionary_of_lists[corso_scelto].extend([f\"{nome} {cognome}\"])\n",
    "    return dictionary_of_lists"
   ]
  },
  {
   "cell_type": "code",
   "execution_count": 123,
   "id": "764a048a-1abe-4679-9059-3b372583641b",
   "metadata": {},
   "outputs": [
    {
     "data": {
      "text/plain": [
       "{'list1': ['Gonçalo Felicio', 'Vicenzo Viti'],\n",
       " 'list2': ['Andrea M'],\n",
       " 'list3': ['Matteo']}"
      ]
     },
     "execution_count": 123,
     "metadata": {},
     "output_type": "execute_result"
    }
   ],
   "source": [
    "nuovo_studente('Vicenzo','Viti', 'list1')"
   ]
  },
  {
   "cell_type": "code",
   "execution_count": 124,
   "id": "e36cbbcf-73b5-441e-a8d1-8a1372024614",
   "metadata": {},
   "outputs": [
    {
     "data": {
      "text/plain": [
       "{'list1': ['Gonçalo Felicio', 'Vicenzo Viti'],\n",
       " 'list2': ['Andrea M'],\n",
       " 'list3': ['Matteo'],\n",
       " 'list4': ['Roberto M']}"
      ]
     },
     "execution_count": 124,
     "metadata": {},
     "output_type": "execute_result"
    }
   ],
   "source": [
    "nuovo_studente('Roberto','M', 'list4')"
   ]
  },
  {
   "cell_type": "markdown",
   "id": "2c24fac7-acbd-43e5-bf05-c3aed70daedd",
   "metadata": {},
   "source": [
    "---\n",
    "### Sets\n",
    "\n",
    "Sets are unordered collections of unique elements. Delimited by `{}` and separated by commas.  \n",
    "Sets support powerful set-algebra operations and predicates."
   ]
  },
  {
   "cell_type": "code",
   "execution_count": 65,
   "id": "481e3524-313f-4a24-ac3b-c5d36de5f49e",
   "metadata": {},
   "outputs": [
    {
     "data": {
      "text/plain": [
       "{1, 2, 4, 6, 8, 9996}"
      ]
     },
     "execution_count": 65,
     "metadata": {},
     "output_type": "execute_result"
    }
   ],
   "source": [
    "# sets can remove duplites from a series of objects.\n",
    "t = [1, 2, 4, 6, 8, 8, 9996]\n",
    "t_set = set(t)\n",
    "t_set"
   ]
  },
  {
   "cell_type": "markdown",
   "id": "984677e4-4891-49a6-926c-b88d3124af08",
   "metadata": {},
   "source": [
    "To add elements use the `.add()` method. To remove use the `.discard()` method. Both methods only work with one element at a time."
   ]
  },
  {
   "cell_type": "code",
   "execution_count": 66,
   "id": "49a637c3-688c-4e7a-9e9e-94363edb94b6",
   "metadata": {},
   "outputs": [
    {
     "data": {
      "text/plain": [
       "{1, 2, 4, 6, 8, 123, 9996}"
      ]
     },
     "execution_count": 66,
     "metadata": {},
     "output_type": "execute_result"
    }
   ],
   "source": [
    "t_set.add(123)\n",
    "t_set"
   ]
  },
  {
   "cell_type": "code",
   "execution_count": 67,
   "id": "e17de8a1-bd1a-4018-8250-38f347ccfbdc",
   "metadata": {},
   "outputs": [
    {
     "data": {
      "text/plain": [
       "{2, 4, 6, 8, 123, 9996}"
      ]
     },
     "execution_count": 67,
     "metadata": {},
     "output_type": "execute_result"
    }
   ],
   "source": [
    "t_set.discard(1)\n",
    "t_set"
   ]
  },
  {
   "cell_type": "markdown",
   "id": "e4a55229-6a45-45bc-90e0-7b35458e35bf",
   "metadata": {},
   "source": [
    "Example to see the set Unions, Differences and Intersection "
   ]
  },
  {
   "cell_type": "code",
   "execution_count": 68,
   "id": "0b9bbb0f-8b5c-4664-8447-0025717a7545",
   "metadata": {},
   "outputs": [],
   "source": [
    "blue_eyes= { 'olivia', 'harry', 'lily', 'jack', 'amelia'}\n",
    "blond_hair= { 'mia', 'harry', 'joshua', 'jack', 'amelia'}\n",
    "o_blood= { 'mia', 'joshua', 'lily', 'olivia'}\n",
    "a_blood= { 'amelia', 'jack'}"
   ]
  },
  {
   "cell_type": "code",
   "execution_count": 74,
   "id": "05eb13f1-ff7f-4751-bca5-4c7c2649d552",
   "metadata": {},
   "outputs": [
    {
     "data": {
      "text/plain": [
       "{'amelia', 'harry', 'jack', 'joshua', 'lily', 'mia', 'olivia'}"
      ]
     },
     "execution_count": 74,
     "metadata": {},
     "output_type": "execute_result"
    }
   ],
   "source": [
    "blue_eyes.union(blond_hair) # have blue eyes or blond hair"
   ]
  },
  {
   "cell_type": "code",
   "execution_count": 75,
   "id": "96ede355-84e8-490f-98f1-f79b55f09bfc",
   "metadata": {},
   "outputs": [
    {
     "data": {
      "text/plain": [
       "{'amelia', 'harry', 'jack'}"
      ]
     },
     "execution_count": 75,
     "metadata": {},
     "output_type": "execute_result"
    }
   ],
   "source": [
    "blue_eyes.intersection(blond_hair) # have blue eyes and blond hair"
   ]
  },
  {
   "cell_type": "code",
   "execution_count": 76,
   "id": "f2c1696b-c9ba-45dc-a63b-117728ec0224",
   "metadata": {},
   "outputs": [
    {
     "data": {
      "text/plain": [
       "{'lily', 'olivia'}"
      ]
     },
     "execution_count": 76,
     "metadata": {},
     "output_type": "execute_result"
    }
   ],
   "source": [
    "blue_eyes.difference(blond_hair) # have blue eyes and not blond hair"
   ]
  },
  {
   "cell_type": "code",
   "execution_count": 77,
   "id": "12a34437-7160-46eb-9dc5-f1910a85a9e8",
   "metadata": {},
   "outputs": [
    {
     "data": {
      "text/plain": [
       "False"
      ]
     },
     "execution_count": 77,
     "metadata": {},
     "output_type": "execute_result"
    }
   ],
   "source": [
    "blue_eyes.difference(blond_hair) == blond_hair.difference(blue_eyes) # set difference is not commutative, unlike union or intersection"
   ]
  },
  {
   "cell_type": "code",
   "execution_count": 78,
   "id": "eb5a0933-bfc1-4e47-81b9-5b36d8f71ab7",
   "metadata": {
    "collapsed": true,
    "jupyter": {
     "outputs_hidden": true
    },
    "tags": []
   },
   "outputs": [
    {
     "data": {
      "text/plain": [
       "{'joshua', 'lily', 'mia', 'olivia'}"
      ]
     },
     "execution_count": 78,
     "metadata": {},
     "output_type": "execute_result"
    }
   ],
   "source": [
    "blond_hair.symmetric_difference(blue_eyes) # guess this one"
   ]
  },
  {
   "cell_type": "code",
   "execution_count": 84,
   "id": "80740817-d59c-4a7a-8ac3-7baa09ec57eb",
   "metadata": {
    "collapsed": true,
    "jupyter": {
     "outputs_hidden": true
    },
    "tags": []
   },
   "outputs": [
    {
     "data": {
      "text/plain": [
       "True"
      ]
     },
     "execution_count": 84,
     "metadata": {},
     "output_type": "execute_result"
    }
   ],
   "source": [
    "a_blood.issubset(blue_eyes) # guess this one"
   ]
  },
  {
   "cell_type": "code",
   "execution_count": 85,
   "id": "46ef3e87-09eb-4bc7-9ffe-9104dc0a8cec",
   "metadata": {
    "collapsed": true,
    "jupyter": {
     "outputs_hidden": true
    },
    "tags": []
   },
   "outputs": [
    {
     "data": {
      "text/plain": [
       "(False, True)"
      ]
     },
     "execution_count": 85,
     "metadata": {},
     "output_type": "execute_result"
    }
   ],
   "source": [
    "a_blood.issuperset(o_blood), blue_eyes.issuperset(a_blood) # guess this one"
   ]
  },
  {
   "cell_type": "code",
   "execution_count": 86,
   "id": "1b2e365a-b7ce-40da-b974-3e9b675d6ff9",
   "metadata": {
    "collapsed": true,
    "jupyter": {
     "outputs_hidden": true
    },
    "tags": []
   },
   "outputs": [
    {
     "data": {
      "text/plain": [
       "True"
      ]
     },
     "execution_count": 86,
     "metadata": {},
     "output_type": "execute_result"
    }
   ],
   "source": [
    "a_blood.isdisjoint(o_blood) # guess this one"
   ]
  },
  {
   "cell_type": "markdown",
   "id": "0055d2ea-3c2a-4bbe-a797-3a0bf37256a8",
   "metadata": {},
   "source": [
    "---\n",
    "### For-loops\n",
    "\n",
    "For-loops bind an item to an iterable one at each loop iteration, one at a time. This allows us to go through a sequence and perform operations on each items seperately."
   ]
  },
  {
   "cell_type": "code",
   "execution_count": 197,
   "id": "0296bffb-bcd8-48f6-badd-6b3ef43680f3",
   "metadata": {
    "tags": []
   },
   "outputs": [
    {
     "name": "stdout",
     "output_type": "stream",
     "text": [
      "Key \"a\" has value of \"1\".\n",
      "Key \"b\" has value of \"2\".\n",
      "Key \"c\" has value of \"3\".\n"
     ]
    }
   ],
   "source": [
    "for key in d:\n",
    "    value = d.get(key)\n",
    "    print('Key \"{}\" has value of \"{}\".'.format(key, value))"
   ]
  },
  {
   "cell_type": "markdown",
   "id": "c83cb757-db59-419c-a3ed-cddf0b9c0cfa",
   "metadata": {},
   "source": [
    "---\n",
    "### While-loops\n",
    "The expression in while loops is implicitly  converted to a bool type, ex.:"
   ]
  },
  {
   "cell_type": "markdown",
   "id": "f2977812-e7fe-49f3-a147-9e566976263e",
   "metadata": {},
   "source": [
    "The while-loop converts the variable c to a bool, and `bool(0) == False`, therefore the loop stops when c = 0.  \n",
    "If we are stuck in an infinite loop, we can exit the loop by pressing Ctrl+C in the REPL or the stop icon in jupyter notebook.  \n",
    "We can also break out of a loop with a `break` statement. This statement exits the inner-most loop and continues execution in the first statement following the loop.  \n",
    "We can request the user to input values with the `input()` function."
   ]
  },
  {
   "cell_type": "code",
   "execution_count": 3,
   "id": "df713d3a-419e-46e9-abae-7c9997951c83",
   "metadata": {
    "tags": []
   },
   "outputs": [
    {
     "name": "stdout",
     "output_type": "stream",
     "text": [
      "5\n",
      "4\n",
      "3\n",
      "2\n",
      "1\n"
     ]
    }
   ],
   "source": [
    "c = 5\n",
    "while c:\n",
    "    print(c)\n",
    "    c -= 1 # you can also use +=, *=, and /= to consecutively add, multiply or divide"
   ]
  },
  {
   "cell_type": "markdown",
   "id": "260463f6-a911-40f3-9a81-17179c877e5b",
   "metadata": {},
   "source": [
    "---\n",
    "## Modularity\n",
    "\n",
    "Python code is placed in .py files called modules. Modules can be executed by passing them as a first argument in python. They can also be imported into the REPL.  \n",
    "All top level-statements are executed when a module is imported, in order, and is only executed once, on first import.\n",
    "\n",
    "Fuctions are defined using the `def` keyword, followed by name and then the argument list in parenthesis. We can extract objects from funtions with the `return` keyword.  \n",
    "Using `return` without an argument returns `None` as does the implicit return (not writing anything).  \n",
    "\n",
    "We can determine if a module is being imported or executed through the value of the dunder `__name__` variable. If it is equal to the string `__main__` then it is being executed.  \n",
    "We can use the condition ` if __name__ == '__main__' ` to make a module both importable and executable.\n",
    "\n",
    "Command line arguments can be accessed using the argv atribute of the sys module `sys.argv` as a list of strings. The first true argument is the `[1]` argument since the `[0]` is the script file name."
   ]
  },
  {
   "cell_type": "code",
   "execution_count": 171,
   "id": "eea46523-ccea-41e5-b2f8-02a93ec4f963",
   "metadata": {},
   "outputs": [
    {
     "name": "stdout",
     "output_type": "stream",
     "text": [
      "-f\n"
     ]
    }
   ],
   "source": [
    "# Non executable example\n",
    "import sys\n",
    "\n",
    "\n",
    "def main(arg):\n",
    "    print(arg)\n",
    "    return\n",
    "\n",
    "\n",
    "if __name__ == '__main__':\n",
    "    main(sys.argv[1])\n",
    "\n",
    "\n",
    "# would continue here"
   ]
  },
  {
   "cell_type": "markdown",
   "id": "7e327bf0-093c-40b1-bba2-055c13cd15d4",
   "metadata": {},
   "source": [
    "This structure checks whether the module is being imported or executed with the if condition, and, if it is being executed, runs the actual code.  \n",
    "This way the module won't run unduly funtions when importing and we can also take arguments from the command line directly"
   ]
  },
  {
   "cell_type": "markdown",
   "id": "697261b5-7230-426f-b52a-88dc8c517d3d",
   "metadata": {},
   "source": [
    "#### Following the Zen of Python: Sparse is better than dense. Two between functions. Is the number of lines recommended."
   ]
  },
  {
   "cell_type": "markdown",
   "id": "c372d368-90c2-4b7c-9c9d-4d6bc572fcc4",
   "metadata": {},
   "source": [
    "Functions can have docstrings which help the user understand and use the function. It can be accessed with the help() function. They are written with triple \"\" for readability.  \n",
    "Modules can also have docstrings and calling help() on a module returns the module's docstring and the funtions' docstrings inside the module."
   ]
  },
  {
   "cell_type": "code",
   "execution_count": 161,
   "id": "8065c63a-c8dd-4e6f-a207-c939ae6626b9",
   "metadata": {},
   "outputs": [],
   "source": [
    "def docstring_example():\n",
    "    \"\"\"A function to demonstrate the use of docstrings.\n",
    "    \n",
    "    Args:\n",
    "        No arguments needed.\n",
    "        \n",
    "    Returns: \n",
    "        An instruction to access the docstring.\"\"\"\n",
    "    \n",
    "    return print(\"To access the function's docstring, type: help(docstring_example)\")"
   ]
  },
  {
   "cell_type": "code",
   "execution_count": 163,
   "id": "93191ef7-6f46-418c-ad69-a9685d7e0800",
   "metadata": {},
   "outputs": [
    {
     "name": "stdout",
     "output_type": "stream",
     "text": [
      "To access the function's docstring, type: help(docstring_example)\n"
     ]
    }
   ],
   "source": [
    "docstring_example()"
   ]
  },
  {
   "cell_type": "code",
   "execution_count": 162,
   "id": "4c2e0e1e-27b7-4e7c-8753-abe55ea541ea",
   "metadata": {},
   "outputs": [
    {
     "name": "stdout",
     "output_type": "stream",
     "text": [
      "Help on function docstring_example in module __main__:\n",
      "\n",
      "docstring_example()\n",
      "    A function to demonstrate the use of docstrings.\n",
      "    \n",
      "    Args:\n",
      "        No arguments needed.\n",
      "        \n",
      "    Returns: \n",
      "        An instruction to access the docstring.\n",
      "\n"
     ]
    }
   ],
   "source": [
    "help(docstring_example)"
   ]
  },
  {
   "cell_type": "markdown",
   "id": "e03fa72c-a78f-4aed-8106-419ee5444abd",
   "metadata": {},
   "source": [
    "---\n",
    "## Objects and Types\n",
    "\n",
    "It's better to think of python with objects and named references to those objects, instead of variables and values.  \n",
    "Assignment attaches a named reference to a box (the object).  \n",
    "Assigning one name to another makes them both point to the same object.  \n",
    "The python garbage collector will delete objects with no named references by itself.  \n",
    "The `is` operator evaluates wether two names point to the same object.  \n",
    "We can test for equivalence using the `==` operator. Attention that these two operators are not the same thing.  "
   ]
  },
  {
   "cell_type": "code",
   "execution_count": 191,
   "id": "65ba912f-08ae-4e89-bd07-470101bcfe55",
   "metadata": {},
   "outputs": [
    {
     "data": {
      "text/plain": [
       "True"
      ]
     },
     "execution_count": 191,
     "metadata": {},
     "output_type": "execute_result"
    }
   ],
   "source": [
    "p = [1,2,3,]\n",
    "q = [1,2,3]\n",
    "p == q"
   ]
  },
  {
   "cell_type": "code",
   "execution_count": 192,
   "id": "4fac7578-f17a-4435-b4b6-684a1595129c",
   "metadata": {},
   "outputs": [
    {
     "data": {
      "text/plain": [
       "False"
      ]
     },
     "execution_count": 192,
     "metadata": {},
     "output_type": "execute_result"
    }
   ],
   "source": [
    "p is q"
   ]
  },
  {
   "cell_type": "markdown",
   "id": "74eb3e22-59ed-4852-aaea-51ddddac138a",
   "metadata": {},
   "source": [
    "The `is` operator returns False because the identity of p and q are different as they were assigned individually, so they point to different objects, that contain the same values."
   ]
  },
  {
   "cell_type": "markdown",
   "id": "1ea9fb4c-f4e5-41ef-9834-8eabcd633353",
   "metadata": {},
   "source": [
    "Function arguments are passed by object reference, so if the objects are mutable, functions can modify their arguments.  \n",
    "Rebinding function arguments through assignment, the original object reference is lost. If we want to change a mutable argument we should replace its content, instead of the whole object.  \n",
    "Funtion arguments can be specified with defaults. These arguments are evaluated only once, when the def statement is executed. Always use IMMUTABLE objects for default arguments."
   ]
  },
  {
   "cell_type": "code",
   "execution_count": 178,
   "id": "41177836-82e9-4338-8090-8f02ca70e982",
   "metadata": {},
   "outputs": [],
   "source": [
    "f = [1, 2, 3, 4,]"
   ]
  },
  {
   "cell_type": "code",
   "execution_count": 184,
   "id": "f6a6899a-9c45-4555-bab8-62fd0e0bfaf5",
   "metadata": {},
   "outputs": [],
   "source": [
    "# this function is wrongly named as it does not replace the argument, it reassigns it, creating a new object and overriding the previous pointer.\n",
    "def replace(g):\n",
    "    g = [5, 6, 7, 8,]\n",
    "    print('g =', g)"
   ]
  },
  {
   "cell_type": "code",
   "execution_count": 182,
   "id": "ba3a310a-7f03-4cf6-ac2e-f57531286340",
   "metadata": {},
   "outputs": [
    {
     "name": "stdout",
     "output_type": "stream",
     "text": [
      "g = [5, 6, 7, 8]\n"
     ]
    }
   ],
   "source": [
    "replace(f) # g is different but"
   ]
  },
  {
   "cell_type": "code",
   "execution_count": 183,
   "id": "bf113074-6395-408f-bda4-28f8b71d630b",
   "metadata": {},
   "outputs": [
    {
     "data": {
      "text/plain": [
       "[1, 2, 3, 4]"
      ]
     },
     "execution_count": 183,
     "metadata": {},
     "output_type": "execute_result"
    }
   ],
   "source": [
    "f # f retains its values as expected"
   ]
  },
  {
   "cell_type": "code",
   "execution_count": 187,
   "id": "e4bdb8ae-d8ec-452a-834a-32c1e7d16961",
   "metadata": {},
   "outputs": [],
   "source": [
    "def replace_right(g):\n",
    "    g[0:] = [5, 6, 7, 8,]\n",
    "    print('g =', g)"
   ]
  },
  {
   "cell_type": "code",
   "execution_count": 188,
   "id": "1a1de345-2e4e-4836-ae61-55deec982039",
   "metadata": {},
   "outputs": [
    {
     "name": "stdout",
     "output_type": "stream",
     "text": [
      "g = [5, 6, 7, 8]\n"
     ]
    }
   ],
   "source": [
    "replace_right(f)"
   ]
  },
  {
   "cell_type": "code",
   "execution_count": 190,
   "id": "4385e56d-91f7-40e6-a3ab-e465cbccf7ca",
   "metadata": {},
   "outputs": [
    {
     "data": {
      "text/plain": [
       "[5, 6, 7, 8]"
      ]
     },
     "execution_count": 190,
     "metadata": {},
     "output_type": "execute_result"
    }
   ],
   "source": [
    "f # f has been changed by the function, by replacing its contents"
   ]
  },
  {
   "cell_type": "markdown",
   "id": "2f026d40-c5ba-4c86-ab82-7d21ca3ff96a",
   "metadata": {},
   "source": [
    "#### LEGB"
   ]
  },
  {
   "cell_type": "markdown",
   "id": "44e7ee42-dc01-4843-9442-4fde270ed688",
   "metadata": {},
   "source": [
    "Python names are looked up using the LEGB rule: Local, Enclosing, Global, Built-in.  \n",
    "We can access global references and reassign them in the local scope with the `global` keyword.  \n",
    "`dir()` returns a list of the attributes of an object.  `__name__` gives the name of a module or function. `__doc__` gives the docstring."
   ]
  },
  {
   "cell_type": "code",
   "execution_count": 193,
   "id": "fd54c2d6-7143-45aa-90ea-061c6e0e49ff",
   "metadata": {
    "collapsed": true,
    "jupyter": {
     "outputs_hidden": true
    },
    "tags": []
   },
   "outputs": [
    {
     "data": {
      "text/plain": [
       "['__add__',\n",
       " '__class__',\n",
       " '__contains__',\n",
       " '__delattr__',\n",
       " '__dir__',\n",
       " '__doc__',\n",
       " '__eq__',\n",
       " '__format__',\n",
       " '__ge__',\n",
       " '__getattribute__',\n",
       " '__getitem__',\n",
       " '__getnewargs__',\n",
       " '__gt__',\n",
       " '__hash__',\n",
       " '__init__',\n",
       " '__init_subclass__',\n",
       " '__iter__',\n",
       " '__le__',\n",
       " '__len__',\n",
       " '__lt__',\n",
       " '__mod__',\n",
       " '__mul__',\n",
       " '__ne__',\n",
       " '__new__',\n",
       " '__reduce__',\n",
       " '__reduce_ex__',\n",
       " '__repr__',\n",
       " '__rmod__',\n",
       " '__rmul__',\n",
       " '__setattr__',\n",
       " '__sizeof__',\n",
       " '__str__',\n",
       " '__subclasshook__',\n",
       " 'capitalize',\n",
       " 'casefold',\n",
       " 'center',\n",
       " 'count',\n",
       " 'encode',\n",
       " 'endswith',\n",
       " 'expandtabs',\n",
       " 'find',\n",
       " 'format',\n",
       " 'format_map',\n",
       " 'index',\n",
       " 'isalnum',\n",
       " 'isalpha',\n",
       " 'isascii',\n",
       " 'isdecimal',\n",
       " 'isdigit',\n",
       " 'isidentifier',\n",
       " 'islower',\n",
       " 'isnumeric',\n",
       " 'isprintable',\n",
       " 'isspace',\n",
       " 'istitle',\n",
       " 'isupper',\n",
       " 'join',\n",
       " 'ljust',\n",
       " 'lower',\n",
       " 'lstrip',\n",
       " 'maketrans',\n",
       " 'partition',\n",
       " 'replace',\n",
       " 'rfind',\n",
       " 'rindex',\n",
       " 'rjust',\n",
       " 'rpartition',\n",
       " 'rsplit',\n",
       " 'rstrip',\n",
       " 'split',\n",
       " 'splitlines',\n",
       " 'startswith',\n",
       " 'strip',\n",
       " 'swapcase',\n",
       " 'title',\n",
       " 'translate',\n",
       " 'upper',\n",
       " 'zfill']"
      ]
     },
     "execution_count": 193,
     "metadata": {},
     "output_type": "execute_result"
    }
   ],
   "source": [
    "dir(str)"
   ]
  },
  {
   "cell_type": "code",
   "execution_count": 194,
   "id": "2ac39ae2-fb04-4333-a9d1-3bf1769917f6",
   "metadata": {},
   "outputs": [
    {
     "data": {
      "text/plain": [
       "'str'"
      ]
     },
     "execution_count": 194,
     "metadata": {},
     "output_type": "execute_result"
    }
   ],
   "source": [
    "str.__name__"
   ]
  },
  {
   "cell_type": "code",
   "execution_count": 195,
   "id": "01110559-1335-422b-89b7-5905ee723bee",
   "metadata": {},
   "outputs": [
    {
     "data": {
      "text/plain": [
       "\"str(object='') -> str\\nstr(bytes_or_buffer[, encoding[, errors]]) -> str\\n\\nCreate a new string object from the given object. If encoding or\\nerrors is specified, then the object must expose a data buffer\\nthat will be decoded using the given encoding and error handler.\\nOtherwise, returns the result of object.__str__() (if defined)\\nor repr(object).\\nencoding defaults to sys.getdefaultencoding().\\nerrors defaults to 'strict'.\""
      ]
     },
     "execution_count": 195,
     "metadata": {},
     "output_type": "execute_result"
    }
   ],
   "source": [
    "str.__doc__"
   ]
  },
  {
   "cell_type": "markdown",
   "id": "67dcdd36-8cab-439f-a597-f374ee1d1279",
   "metadata": {},
   "source": [
    "#### Following the Zen of Python: Special cases aren't special enough to break the rules. We follow patterns. Not to kill complexity. But to master it."
   ]
  },
  {
   "cell_type": "markdown",
   "id": "c5a6fc2f-93ca-48b4-8bd0-3bac24951f53",
   "metadata": {},
   "source": [
    "#### Everything in python is an object."
   ]
  },
  {
   "cell_type": "markdown",
   "id": "fe37df87-a8a6-419c-a06a-0714329e2f32",
   "metadata": {},
   "source": [
    "---\n",
    "## Collections\n",
    "\n",
    "When dealing with '1' based colections it's better to simply waste the first entry.\n",
    "\n",
    "Tuples are immutable sequences. They are optionally delimeted by `()` and are separeted by `,`.  \n",
    "Single element tuples require a trailing comma."
   ]
  },
  {
   "cell_type": "code",
   "execution_count": 200,
   "id": "a25e5037-8d4b-4d41-876a-989d655c834b",
   "metadata": {},
   "outputs": [
    {
     "data": {
      "text/plain": [
       "(1, 2, 3)"
      ]
     },
     "execution_count": 200,
     "metadata": {},
     "output_type": "execute_result"
    }
   ],
   "source": [
    "a = (1,2,3)\n",
    "a"
   ]
  },
  {
   "cell_type": "code",
   "execution_count": 204,
   "id": "9d3661d5-a1f8-42a8-8cb4-0d7d6d95d8e3",
   "metadata": {},
   "outputs": [
    {
     "ename": "TypeError",
     "evalue": "'tuple' object does not support item assignment",
     "output_type": "error",
     "traceback": [
      "\u001b[1;31m---------------------------------------------------------------------------\u001b[0m",
      "\u001b[1;31mTypeError\u001b[0m                                 Traceback (most recent call last)",
      "Input \u001b[1;32mIn [204]\u001b[0m, in \u001b[0;36m<cell line: 1>\u001b[1;34m()\u001b[0m\n\u001b[1;32m----> 1\u001b[0m a[\u001b[38;5;241m1\u001b[39m] \u001b[38;5;241m=\u001b[39m \u001b[38;5;241m2\u001b[39m\n",
      "\u001b[1;31mTypeError\u001b[0m: 'tuple' object does not support item assignment"
     ]
    }
   ],
   "source": [
    "a[1] = 2"
   ]
  },
  {
   "cell_type": "code",
   "execution_count": 208,
   "id": "157de232-21dd-44e1-891a-387e27e34a23",
   "metadata": {},
   "outputs": [
    {
     "data": {
      "text/plain": [
       "tuple"
      ]
     },
     "execution_count": 208,
     "metadata": {},
     "output_type": "execute_result"
    }
   ],
   "source": [
    "b = (4,)\n",
    "type(b)"
   ]
  },
  {
   "cell_type": "markdown",
   "id": "3d45c2bd-2d91-4747-8384-8d1e3f39b4c7",
   "metadata": {},
   "source": [
    "Tuple unpacking is useful for multiple return values and for swapping"
   ]
  },
  {
   "cell_type": "code",
   "execution_count": 222,
   "id": "4aaf2e3a-b00c-4987-8089-24734db7c810",
   "metadata": {},
   "outputs": [
    {
     "data": {
      "text/plain": [
       "(1, 2)"
      ]
     },
     "execution_count": 222,
     "metadata": {},
     "output_type": "execute_result"
    }
   ],
   "source": [
    "a, b = 1, 2\n",
    "a,b"
   ]
  },
  {
   "cell_type": "code",
   "execution_count": 223,
   "id": "39653a6c-1056-414c-8ae5-e56b64800d00",
   "metadata": {},
   "outputs": [
    {
     "data": {
      "text/plain": [
       "(2, 1)"
      ]
     },
     "execution_count": 223,
     "metadata": {},
     "output_type": "execute_result"
    }
   ],
   "source": [
    "a, b = b, a\n",
    "a, b"
   ]
  },
  {
   "cell_type": "markdown",
   "id": "745c20b3-6f6b-4462-b84a-2a7849c9cd0f",
   "metadata": {},
   "source": [
    "`range` Objects are arithmetic progressions of integers. It can be called with 1, 2, or 3 arguments: start, stop and step."
   ]
  },
  {
   "cell_type": "code",
   "execution_count": 264,
   "id": "ea8a13d7-b8ad-42b2-8a20-59d1fe676218",
   "metadata": {},
   "outputs": [
    {
     "data": {
      "text/plain": [
       "range(0, 1)"
      ]
     },
     "execution_count": 264,
     "metadata": {},
     "output_type": "execute_result"
    }
   ],
   "source": [
    "range(1) # stop"
   ]
  },
  {
   "cell_type": "code",
   "execution_count": 265,
   "id": "8acfa3b6-9a94-4911-89c2-9dca86aa8807",
   "metadata": {},
   "outputs": [
    {
     "name": "stdout",
     "output_type": "stream",
     "text": [
      "1\n",
      "2\n",
      "3\n",
      "4\n"
     ]
    }
   ],
   "source": [
    "for i in range(1,5): # start and stop\n",
    "    print(i)"
   ]
  },
  {
   "cell_type": "code",
   "execution_count": 266,
   "id": "bb4c9db7-17db-4654-bb06-10ff24cd6e8f",
   "metadata": {},
   "outputs": [
    {
     "name": "stdout",
     "output_type": "stream",
     "text": [
      "0\n",
      "2\n",
      "4\n",
      "6\n",
      "8\n"
     ]
    }
   ],
   "source": [
    "r = range(0,10,2) # start, stop and step\n",
    "for i in r:\n",
    "    print(i)"
   ]
  },
  {
   "cell_type": "markdown",
   "id": "e74163cd-efd0-4758-bc1e-94a101f5c942",
   "metadata": {},
   "source": [
    "`enumerate` is a good function to make loop counters as it returns a tuple with the index and corresponding value, in a collection."
   ]
  },
  {
   "cell_type": "markdown",
   "id": "90a6e20c-9c9f-46e5-aa64-b9ec5dcd9efb",
   "metadata": {},
   "source": [
    "---\n",
    "## Exceptions\n",
    "\n",
    "Exceptions are essential in python, to properly handle errors.  \n",
    "They are present all the time and give valuable information in why a error has occurred and how to correct it.  \n",
    "Raising an exception interrupts program flow.  \n",
    "\n",
    "Exception handles are defined using the `try ...... except` construct.  \n",
    "Try-blocks define the context in which exceptions can be detected.  \n",
    "Corresponding Except-blocks define the handlers for the exception detected.  \n",
    "Exception blocks can capture the exception object, which is often of the standard type: `ValueError`, `KeyError` or `IndexError`.  \n",
    "Errors called _Programmer errors_, which include `SyntaxError` and `IndentationError`, should not be handled by the code.  \n",
    "Generally don't catch `TypeError` either, which defeats the porpuse of the dynamic typing of python.\n",
    "\n",
    "Exceptions can be signaled with the `raise` keyword which accepts a single exception object.  \n",
    "`raise` without any argument re-raises the exception object being handled in the current block.  \n",
    "\n",
    "We use the `try....finally` construct for cleaning up actions, since exceptions interrupt the program flow, this can be necessary.\n",
    "\n",
    "Platform-specific actions can be implemented catching the ImportError and providing alternative implementations\n",
    "\n",
    "Other tips:  \n",
    "`!r` inside f-strings or .format force the repr representation of objects  \n",
    "Return codes are too easily ignored"
   ]
  },
  {
   "cell_type": "code",
   "execution_count": 91,
   "id": "f1318cdb-d5bb-4c6f-bbec-6271a3038fa8",
   "metadata": {},
   "outputs": [],
   "source": [
    "import sys\n",
    "\n",
    "DIGIT_MAP = {\n",
    "    'zero' : '0',\n",
    "    'one' : '1',\n",
    "    'two' : '2',\n",
    "    'three' : '3',\n",
    "    'four' : '4',\n",
    "    'five' : '5',\n",
    "    'six' : '6',\n",
    "}\n",
    "\n",
    "def convert(s):\n",
    "    \"\"\"\"Convert a string to an integer\"\"\"\n",
    "    # return -1 when an exception is caught\n",
    "    try:\n",
    "        number = ''\n",
    "        for token in s:\n",
    "            number += DIGIT_MAP[token]\n",
    "            x = int(number)\n",
    "        print(f\"The conversion succeeded! x = {x}\")\n",
    "        return\n",
    "    \n",
    "    except(KeyError, TypeError) as e:\n",
    "        # KeyError is caught when the string is not convertible to integer\n",
    "        # TypeError is when the object is not iterable and can't loop over it\n",
    "        \n",
    "        print(f\"Convertion error: {e!r}\", file=sys.stderr)# sys.stderr is the standard error string from python \n",
    "        return -1"
   ]
  },
  {
   "cell_type": "code",
   "execution_count": 92,
   "id": "6e67776a-a42b-446e-abff-786463454ce4",
   "metadata": {},
   "outputs": [
    {
     "name": "stdout",
     "output_type": "stream",
     "text": [
      "The conversion succeeded! x = 34\n"
     ]
    }
   ],
   "source": [
    "convert('three four'.split())"
   ]
  },
  {
   "cell_type": "code",
   "execution_count": 94,
   "id": "a83902ec-23e1-4694-a3bb-eebfc019fa6e",
   "metadata": {},
   "outputs": [
    {
     "name": "stderr",
     "output_type": "stream",
     "text": [
      "Convertion error: KeyError('nine')\n"
     ]
    },
    {
     "data": {
      "text/plain": [
       "-1"
      ]
     },
     "execution_count": 94,
     "metadata": {},
     "output_type": "execute_result"
    }
   ],
   "source": [
    "convert('nine'.split())"
   ]
  },
  {
   "cell_type": "code",
   "execution_count": 95,
   "id": "2cc0029c-25ab-4086-8e96-3b7ebbc2b2ce",
   "metadata": {},
   "outputs": [
    {
     "name": "stderr",
     "output_type": "stream",
     "text": [
      "Convertion error: TypeError(\"'int' object is not iterable\")\n"
     ]
    },
    {
     "data": {
      "text/plain": [
       "-1"
      ]
     },
     "execution_count": 95,
     "metadata": {},
     "output_type": "execute_result"
    }
   ],
   "source": [
    "convert(1234)"
   ]
  },
  {
   "cell_type": "markdown",
   "id": "2f532342-0cb3-49a3-bf6c-7d4ee56ea72f",
   "metadata": {},
   "source": [
    "Exceptions can never be ignored, although they are easy to miss, to the caller of functions. Checks are always required.  \n",
    "A way to catch exceptions always is to forget about the error code (-1) and simply raise the exception error code being handled."
   ]
  },
  {
   "cell_type": "code",
   "execution_count": 96,
   "id": "b44f6c48-0aa3-42f8-a357-1debdac92c4b",
   "metadata": {},
   "outputs": [],
   "source": [
    "def convert(s):\n",
    "    \"\"\"\"Convert a string to an integer\"\"\"\n",
    "    # return -1 when an exception is caught\n",
    "    try:\n",
    "        number = ''\n",
    "        for token in s:\n",
    "            number += DIGIT_MAP[token]\n",
    "            x = int(number)\n",
    "        print(f\"The conversion succeeded! x = {x}\")\n",
    "        return\n",
    "    \n",
    "    except(KeyError, TypeError) as e:\n",
    "        # KeyError is caught when the string is not convertible to integer\n",
    "        # TypeError is when the object is not iterable and can't loop over it\n",
    "        \n",
    "        print(f\"Convertion error: {e!r}\", file=sys.stderr)# sys.stderr is the standard error string from python \n",
    "        raise"
   ]
  },
  {
   "cell_type": "code",
   "execution_count": 98,
   "id": "70a3e6bb-ae4e-441b-8702-7377ba562cfd",
   "metadata": {},
   "outputs": [
    {
     "name": "stdout",
     "output_type": "stream",
     "text": [
      "The conversion succeeded! x = 14\n"
     ]
    }
   ],
   "source": [
    "convert('one four'.split())"
   ]
  },
  {
   "cell_type": "code",
   "execution_count": 99,
   "id": "d2cd108a-e457-4fb7-868c-1e242b66446a",
   "metadata": {},
   "outputs": [
    {
     "name": "stderr",
     "output_type": "stream",
     "text": [
      "Convertion error: KeyError('nine')\n"
     ]
    },
    {
     "ename": "KeyError",
     "evalue": "'nine'",
     "output_type": "error",
     "traceback": [
      "\u001b[1;31m---------------------------------------------------------------------------\u001b[0m",
      "\u001b[1;31mKeyError\u001b[0m                                  Traceback (most recent call last)",
      "Input \u001b[1;32mIn [99]\u001b[0m, in \u001b[0;36m<cell line: 1>\u001b[1;34m()\u001b[0m\n\u001b[1;32m----> 1\u001b[0m \u001b[43mconvert\u001b[49m\u001b[43m(\u001b[49m\u001b[38;5;124;43m'\u001b[39;49m\u001b[38;5;124;43mnine\u001b[39;49m\u001b[38;5;124;43m'\u001b[39;49m\u001b[38;5;241;43m.\u001b[39;49m\u001b[43msplit\u001b[49m\u001b[43m(\u001b[49m\u001b[43m)\u001b[49m\u001b[43m)\u001b[49m\n",
      "Input \u001b[1;32mIn [96]\u001b[0m, in \u001b[0;36mconvert\u001b[1;34m(s)\u001b[0m\n\u001b[0;32m      5\u001b[0m number \u001b[38;5;241m=\u001b[39m \u001b[38;5;124m'\u001b[39m\u001b[38;5;124m'\u001b[39m\n\u001b[0;32m      6\u001b[0m \u001b[38;5;28;01mfor\u001b[39;00m token \u001b[38;5;129;01min\u001b[39;00m s:\n\u001b[1;32m----> 7\u001b[0m     number \u001b[38;5;241m+\u001b[39m\u001b[38;5;241m=\u001b[39m \u001b[43mDIGIT_MAP\u001b[49m\u001b[43m[\u001b[49m\u001b[43mtoken\u001b[49m\u001b[43m]\u001b[49m\n\u001b[0;32m      8\u001b[0m     x \u001b[38;5;241m=\u001b[39m \u001b[38;5;28mint\u001b[39m(number)\n\u001b[0;32m      9\u001b[0m \u001b[38;5;28mprint\u001b[39m(\u001b[38;5;124mf\u001b[39m\u001b[38;5;124m\"\u001b[39m\u001b[38;5;124mThe conversion succeeded! x = \u001b[39m\u001b[38;5;132;01m{\u001b[39;00mx\u001b[38;5;132;01m}\u001b[39;00m\u001b[38;5;124m\"\u001b[39m)\n",
      "\u001b[1;31mKeyError\u001b[0m: 'nine'"
     ]
    }
   ],
   "source": [
    "convert('nine'.split())"
   ]
  },
  {
   "cell_type": "code",
   "execution_count": 100,
   "id": "3a843292-bb6e-4951-b9f4-79182120b457",
   "metadata": {},
   "outputs": [
    {
     "name": "stderr",
     "output_type": "stream",
     "text": [
      "Convertion error: TypeError(\"'int' object is not iterable\")\n"
     ]
    },
    {
     "ename": "TypeError",
     "evalue": "'int' object is not iterable",
     "output_type": "error",
     "traceback": [
      "\u001b[1;31m---------------------------------------------------------------------------\u001b[0m",
      "\u001b[1;31mTypeError\u001b[0m                                 Traceback (most recent call last)",
      "Input \u001b[1;32mIn [100]\u001b[0m, in \u001b[0;36m<cell line: 1>\u001b[1;34m()\u001b[0m\n\u001b[1;32m----> 1\u001b[0m \u001b[43mconvert\u001b[49m\u001b[43m(\u001b[49m\u001b[38;5;241;43m1234\u001b[39;49m\u001b[43m)\u001b[49m\n",
      "Input \u001b[1;32mIn [96]\u001b[0m, in \u001b[0;36mconvert\u001b[1;34m(s)\u001b[0m\n\u001b[0;32m      4\u001b[0m \u001b[38;5;28;01mtry\u001b[39;00m:\n\u001b[0;32m      5\u001b[0m     number \u001b[38;5;241m=\u001b[39m \u001b[38;5;124m'\u001b[39m\u001b[38;5;124m'\u001b[39m\n\u001b[1;32m----> 6\u001b[0m     \u001b[38;5;28;01mfor\u001b[39;00m token \u001b[38;5;129;01min\u001b[39;00m s:\n\u001b[0;32m      7\u001b[0m         number \u001b[38;5;241m+\u001b[39m\u001b[38;5;241m=\u001b[39m DIGIT_MAP[token]\n\u001b[0;32m      8\u001b[0m         x \u001b[38;5;241m=\u001b[39m \u001b[38;5;28mint\u001b[39m(number)\n",
      "\u001b[1;31mTypeError\u001b[0m: 'int' object is not iterable"
     ]
    }
   ],
   "source": [
    "convert(1234)"
   ]
  },
  {
   "cell_type": "markdown",
   "id": "84ef454f-34c9-430c-9e3c-3e74042ce9cc",
   "metadata": {},
   "source": [
    "#### It's Easier to Ask for Forgiveness than for Permission\n",
    "\n",
    "Here we don't ask if the directory exists, we open it and then handle the consequences accordingly."
   ]
  },
  {
   "cell_type": "code",
   "execution_count": 116,
   "id": "d92677d4-3242-4a32-ba9d-1e3f23262971",
   "metadata": {},
   "outputs": [
    {
     "name": "stdout",
     "output_type": "stream",
     "text": [
      "Error: [Errno 2] No such file or directory: 'Documents/Humanativa_ISIWAY/Courses/CorePython/BigPicture&GetttttingSttttarted.ipynb'\n",
      "\n",
      "We can still do stuff after an exception is raised!\n"
     ]
    },
    {
     "ename": "FileNotFoundError",
     "evalue": "[Errno 2] No such file or directory: 'Documents/Humanativa_ISIWAY/Courses/CorePython/BigPicture&GetttttingSttttarted.ipynb'",
     "output_type": "error",
     "traceback": [
      "\u001b[1;31m---------------------------------------------------------------------------\u001b[0m",
      "\u001b[1;31mFileNotFoundError\u001b[0m                         Traceback (most recent call last)",
      "Input \u001b[1;32mIn [116]\u001b[0m, in \u001b[0;36m<cell line: 5>\u001b[1;34m()\u001b[0m\n\u001b[0;32m      3\u001b[0m p \u001b[38;5;241m=\u001b[39m \u001b[38;5;124m'\u001b[39m\u001b[38;5;124mDocuments/Humanativa_ISIWAY/Courses/CorePython/BigPicture&GetttttingSttttarted.ipynb\u001b[39m\u001b[38;5;124m'\u001b[39m\n\u001b[0;32m      5\u001b[0m \u001b[38;5;28;01mtry\u001b[39;00m:\n\u001b[1;32m----> 6\u001b[0m     \u001b[38;5;28;43mopen\u001b[39;49m\u001b[43m(\u001b[49m\u001b[43mp\u001b[49m\u001b[43m)\u001b[49m\n\u001b[0;32m      7\u001b[0m \u001b[38;5;28;01mexcept\u001b[39;00m \u001b[38;5;167;01mFileNotFoundError\u001b[39;00m \u001b[38;5;28;01mas\u001b[39;00m e:\n\u001b[0;32m      8\u001b[0m     \u001b[38;5;28mprint\u001b[39m(\u001b[38;5;124mf\u001b[39m\u001b[38;5;124m'\u001b[39m\u001b[38;5;124mError: \u001b[39m\u001b[38;5;132;01m{\u001b[39;00me\u001b[38;5;132;01m}\u001b[39;00m\u001b[38;5;130;01m\\n\u001b[39;00m\u001b[38;5;124m'\u001b[39m)\n",
      "\u001b[1;31mFileNotFoundError\u001b[0m: [Errno 2] No such file or directory: 'Documents/Humanativa_ISIWAY/Courses/CorePython/BigPicture&GetttttingSttttarted.ipynb'"
     ]
    }
   ],
   "source": [
    "import os\n",
    "\n",
    "p = 'Documents/Humanativa_ISIWAY/Courses/CorePython/BigPicture&GetttttingSttttarted.ipynb'\n",
    "\n",
    "try:\n",
    "    open(p)\n",
    "except FileNotFoundError as e:\n",
    "    print(f'Error: {e}\\n')\n",
    "    raise\n",
    "finally:\n",
    "    print('We can still do stuff after an exception is raised!')"
   ]
  },
  {
   "cell_type": "markdown",
   "id": "6b8b0acc-4a68-44c2-af94-2514a7a87201",
   "metadata": {},
   "source": [
    "#### Following the Zen of Python: Errors should never pass silently. Unless explicitly silenced. \n",
    "Errors are like bells.  If we make them silent.  They are of no use"
   ]
  },
  {
   "cell_type": "markdown",
   "id": "e9ac69c1-417f-43fb-baff-6482eb013f2d",
   "metadata": {},
   "source": [
    "---\n",
    "## Iteration and Iterables \n",
    "\n",
    "Comprehensions are a concise syntax to describe lists, sets and dictionaries.  \n",
    "Comprehensions operate on an iterable object and apply an optional predicate filter and an expression, both in terms of the current item.  \n",
    "Comprehensions can be arbitrarily complex, however they should be used to increase readability and be self-explanatory, not to confuse programmers more.  \n",
    "Comprehensions can be nested within eachother, however this may lead to confusing/hard to understand code.  \n",
    "Complex comprehensions can be spread over multiple lines to aid readability.  "
   ]
  },
  {
   "cell_type": "code",
   "execution_count": 3,
   "id": "de308212-0c37-4686-9ed1-6228df37b45b",
   "metadata": {},
   "outputs": [
    {
     "data": {
      "text/plain": [
       "[1, 1, 1, 1, 2, 3, 3, 4, 5, 6, 7, 8, 9, 10, 11, 13, 14, 15, 16, 18]"
      ]
     },
     "execution_count": 3,
     "metadata": {},
     "output_type": "execute_result"
    }
   ],
   "source": [
    "from math import factorial\n",
    "l = [len(str(factorial(x))) for x in range(20)] # a list comprehension\n",
    "l"
   ]
  },
  {
   "cell_type": "code",
   "execution_count": 4,
   "id": "d522f992-0611-46fc-b6e8-688131761e0b",
   "metadata": {},
   "outputs": [
    {
     "data": {
      "text/plain": [
       "{1, 2, 3, 4, 5, 6, 7, 8, 9, 10, 11, 13, 14, 15, 16, 18}"
      ]
     },
     "execution_count": 4,
     "metadata": {},
     "output_type": "execute_result"
    }
   ],
   "source": [
    "s = {len(str(factorial(x))) for x in range(20)} # a set comprehension\n",
    "s"
   ]
  },
  {
   "cell_type": "code",
   "execution_count": 7,
   "id": "04b14d02-9b2b-44b9-a525-eaaa80fd2026",
   "metadata": {},
   "outputs": [
    {
     "name": "stdout",
     "output_type": "stream",
     "text": [
      "{'Brasília': 'Brasil', 'Lisbon': 'Portugal', 'London': 'UK', 'Rome': 'Italy'}\n"
     ]
    }
   ],
   "source": [
    "country_to_capital = { 'UK' : 'London',\n",
    "                     'Brasil' : 'Brasília',\n",
    "                     'Portugal': 'Lisbon',\n",
    "                     'Italy' : 'Rome' }\n",
    "capital_to_country = {capital : country for country, capital in country_to_capital.items()} # a dictionary comprehension, in this case we take both key and values to reverse the dictionary\n",
    "\n",
    "from pprint import pprint as pp\n",
    "pp(capital_to_country)"
   ]
  },
  {
   "cell_type": "markdown",
   "id": "edfcf276-e699-4c96-87c7-2c89fcae29fd",
   "metadata": {},
   "source": [
    "Iterable objects are all objects in which we can iterate over, item by item.  \n",
    "We can retrieve an iterator object from an iterable object by using the `iter()` function.  \n",
    "Iterators produce items one by one and we can access the next item on the sequence with the `next()` function.  \n",
    "Iterators raise a `StopIteration` exception when the sequence is exhausted, when we reach the last item.  "
   ]
  },
  {
   "cell_type": "code",
   "execution_count": 8,
   "id": "2642ebb9-c394-46fe-b03c-dc8a547b71e1",
   "metadata": {},
   "outputs": [
    {
     "data": {
      "text/plain": [
       "'Spring'"
      ]
     },
     "execution_count": 8,
     "metadata": {},
     "output_type": "execute_result"
    }
   ],
   "source": [
    "sequence = ['Spring', 'Summer', 'Autumn', 'Winter']\n",
    "iterator = iter(sequence)\n",
    "next(iterator)"
   ]
  },
  {
   "cell_type": "code",
   "execution_count": 9,
   "id": "ccc3d773-ee76-4fa3-a48f-72ae8d6f306e",
   "metadata": {},
   "outputs": [
    {
     "data": {
      "text/plain": [
       "'Summer'"
      ]
     },
     "execution_count": 9,
     "metadata": {},
     "output_type": "execute_result"
    }
   ],
   "source": [
    "next(iterator)"
   ]
  },
  {
   "cell_type": "code",
   "execution_count": 10,
   "id": "124a3eaa-453a-47e3-a39b-4fb273b698c7",
   "metadata": {},
   "outputs": [
    {
     "data": {
      "text/plain": [
       "'Autumn'"
      ]
     },
     "execution_count": 10,
     "metadata": {},
     "output_type": "execute_result"
    }
   ],
   "source": [
    "next(iterator)"
   ]
  },
  {
   "cell_type": "code",
   "execution_count": 11,
   "id": "42e48ab8-0111-4494-aa42-e4434e7674d6",
   "metadata": {},
   "outputs": [
    {
     "data": {
      "text/plain": [
       "'Winter'"
      ]
     },
     "execution_count": 11,
     "metadata": {},
     "output_type": "execute_result"
    }
   ],
   "source": [
    "next(iterator)"
   ]
  },
  {
   "cell_type": "code",
   "execution_count": 12,
   "id": "02158d74-e818-4edb-9fec-3f97190a8ca3",
   "metadata": {},
   "outputs": [
    {
     "ename": "StopIteration",
     "evalue": "",
     "output_type": "error",
     "traceback": [
      "\u001b[1;31m---------------------------------------------------------------------------\u001b[0m",
      "\u001b[1;31mStopIteration\u001b[0m                             Traceback (most recent call last)",
      "\u001b[1;32m<ipython-input-12-4ce711c44abc>\u001b[0m in \u001b[0;36m<module>\u001b[1;34m\u001b[0m\n\u001b[1;32m----> 1\u001b[1;33m \u001b[0mnext\u001b[0m\u001b[1;33m(\u001b[0m\u001b[0miterator\u001b[0m\u001b[1;33m)\u001b[0m\u001b[1;33m\u001b[0m\u001b[1;33m\u001b[0m\u001b[0m\n\u001b[0m",
      "\u001b[1;31mStopIteration\u001b[0m: "
     ]
    }
   ],
   "source": [
    "next(iterator)"
   ]
  },
  {
   "cell_type": "markdown",
   "id": "817cdedd-bf23-465a-98f5-ccb387bd64c4",
   "metadata": {},
   "source": [
    "Generator functions allow us to describe sequences in an imperative way. This is a realyy powerful feature of python!  \n",
    "They must contain at least one `yield` keyword.  \n",
    "Generators are iterators, we can apply the `next()` function and the generator resumes action up until the next `yield`.  \n",
    "Each call to a generator function creates a new generator object.  \n",
    "Generators can maintain explicit state in local variables between iterations.  \n",
    "Generators are lazy (only compute when actually called) and so, can operate on infinite sequences.  "
   ]
  },
  {
   "cell_type": "markdown",
   "id": "2a4397e2-0aac-4933-855c-878a9fbac9a8",
   "metadata": {},
   "source": [
    "Next example includes the carachteristics mentioned above.  \n",
    "Using generator fucntions the items list could be infinite, without a problem, since only the first 4 distinct items are actually evaluated.  \n",
    "Also, we see how the state of variables such as `seen` and `counter` is maintained between iterations of the generators."
   ]
  },
  {
   "cell_type": "code",
   "execution_count": 29,
   "id": "4e6eefc4-3dbd-48dc-8da5-fe28e930011e",
   "metadata": {},
   "outputs": [],
   "source": [
    "def take(count, iterable): # this function takes a number and a sequence. \n",
    "    \"\"\"A generator function to yield the first 'count' number of items in an iterable sequence\n",
    "    \n",
    "    Args: An integer that determines the number of items to yield.\n",
    "          An iterable sequence to iterate over.\n",
    "    \n",
    "    Returns: The item yielded at each iteration until we reach the count defined\"\"\"\n",
    "    counter = 0\n",
    "    for item in iterable:\n",
    "        if counter == count: # It yields items in the sequence as long as counter is less than the number we give\n",
    "            return # end the process when we reach the number of items we requested\n",
    "        counter += 1\n",
    "        yield item\n",
    "\n",
    "\n",
    "def distinct(iterable):\n",
    "    \"\"\"A generator function to check if an item in a sequence alredy has been seen\n",
    "    \n",
    "    Args: an iterable sequence\n",
    "    \n",
    "    Yields: The new item seen\"\"\"    \n",
    "    seen = set()\n",
    "    for item in iterable:\n",
    "        if item in seen:\n",
    "            continue # a keyword to end current iteration here and immediately begin the next one. In this case is used to ignore already seen items.\n",
    "        yield item\n",
    "        seen.add(item)\n",
    "        print(seen)\n",
    "        \n",
    "\n",
    "def run_pipeline():\n",
    "    \"\"\"a function that defines a sequence of items and a count value and runs the take() and distinct() generators\n",
    "    printing the first 4 items in the items list.\n",
    "    \n",
    "    Args: None\n",
    "    \n",
    "    Returns: Prints the item yielded\"\"\"\n",
    "    items = [1, 1, 2, 3, 3, 4, 4, 4, 5, 5, 6, 7, 8, 9]\n",
    "    count = 4\n",
    "    for item in take(count, distinct(items)):\n",
    "        print(item)"
   ]
  },
  {
   "cell_type": "code",
   "execution_count": 22,
   "id": "278815fb-be5e-44b3-a67b-390c6597dc8c",
   "metadata": {},
   "outputs": [
    {
     "name": "stdout",
     "output_type": "stream",
     "text": [
      "1\n",
      "2\n",
      "3\n",
      "4\n"
     ]
    }
   ],
   "source": [
    "run_pipeline()"
   ]
  },
  {
   "cell_type": "markdown",
   "id": "bbe64cb4-87c5-4313-b56d-17f32a5f39b9",
   "metadata": {},
   "source": [
    "This code worked, but debugging generators is quite hard. often we force evaluation of all the items to actually see what the code is evaluating, during development.  \n",
    "The change would be to force evaluation with the list() construct:"
   ]
  },
  {
   "cell_type": "code",
   "execution_count": 34,
   "id": "a576666e-a210-4ce2-bb08-a17f14a66917",
   "metadata": {},
   "outputs": [],
   "source": [
    "def run_pipeline2():\n",
    "    \"\"\"a function that defines a sequence of items and a count value and runs the take() and distinct() generators\n",
    "    printing the first 4 items in the items list.\n",
    "    \n",
    "    Args: None\n",
    "    \n",
    "    Returns: Prints the item yielded\"\"\"\n",
    "    items = [1, 1, 2, 3, 3, 4, 4, 4, 5, 5, 6, 7, 8, 9]\n",
    "    count = 4\n",
    "    for item in take(count, list(distinct(items))):\n",
    "        print(item)"
   ]
  },
  {
   "cell_type": "code",
   "execution_count": 35,
   "id": "b98dd8cb-deb5-443d-8024-d71fb19b3ce8",
   "metadata": {},
   "outputs": [
    {
     "name": "stdout",
     "output_type": "stream",
     "text": [
      "{1}\n",
      "{1, 2}\n",
      "{1, 2, 3}\n",
      "{1, 2, 3, 4}\n",
      "{1, 2, 3, 4, 5}\n",
      "{1, 2, 3, 4, 5, 6}\n",
      "{1, 2, 3, 4, 5, 6, 7}\n",
      "{1, 2, 3, 4, 5, 6, 7, 8}\n",
      "{1, 2, 3, 4, 5, 6, 7, 8, 9}\n",
      "1\n",
      "2\n",
      "3\n",
      "4\n"
     ]
    }
   ],
   "source": [
    "run_pipeline2()"
   ]
  },
  {
   "cell_type": "markdown",
   "id": "b6ce92ba-2ed6-4d43-b5e1-65c96ffe88ec",
   "metadata": {},
   "source": [
    "Generator expressions are a type of comprehensions that create generators in a more concise and clear way.  \n",
    "Python includes many built-in tools to work with iterables including `sum()`, `any()` and `zip()` as well as the `itertools` module."
   ]
  },
  {
   "cell_type": "code",
   "execution_count": 39,
   "id": "614d507e-efa1-4bea-a647-51ab6d57a1ab",
   "metadata": {},
   "outputs": [
    {
     "data": {
      "text/plain": [
       "<generator object <genexpr> at 0x0000023A3D7599E0>"
      ]
     },
     "execution_count": 39,
     "metadata": {},
     "output_type": "execute_result"
    }
   ],
   "source": [
    "million_squares = (x*x for x in range(1, 1000001))\n",
    "million_squares # This is a huge variable, but it is not computed, it is of type generator object."
   ]
  },
  {
   "cell_type": "code",
   "execution_count": 40,
   "id": "3a9b0600-d31b-4002-af70-e80f7963b351",
   "metadata": {},
   "outputs": [
    {
     "data": {
      "text/plain": [
       "[999982000081,\n",
       " 999984000064,\n",
       " 999986000049,\n",
       " 999988000036,\n",
       " 999990000025,\n",
       " 999992000016,\n",
       " 999994000009,\n",
       " 999996000004,\n",
       " 999998000001,\n",
       " 1000000000000]"
      ]
     },
     "execution_count": 40,
     "metadata": {},
     "output_type": "execute_result"
    }
   ],
   "source": [
    "list(million_squares)[-10:] # forcing the evalution with list()"
   ]
  },
  {
   "cell_type": "code",
   "execution_count": 45,
   "id": "ffa0c4e1-b53d-4701-a7e4-a99ac653e62a",
   "metadata": {},
   "outputs": [
    {
     "data": {
      "text/plain": [
       "333333833333500000"
      ]
     },
     "execution_count": 45,
     "metadata": {},
     "output_type": "execute_result"
    }
   ],
   "source": [
    "# with a list comprehension this would consude 400 Mb, with generator expression, insignificant memory\n",
    "sum(x*x for x in range(1, 1000001))"
   ]
  },
  {
   "cell_type": "code",
   "execution_count": 47,
   "id": "3e0bb231-8af1-43db-ab4b-a06cc9a054b1",
   "metadata": {},
   "outputs": [
    {
     "data": {
      "text/plain": [
       "True"
      ]
     },
     "execution_count": 47,
     "metadata": {},
     "output_type": "execute_result"
    }
   ],
   "source": [
    "any([0, 0, 1]) # determines if any single element is true"
   ]
  },
  {
   "cell_type": "code",
   "execution_count": 48,
   "id": "e53297ff-82dc-45f8-befa-04618dfbf81e",
   "metadata": {},
   "outputs": [
    {
     "data": {
      "text/plain": [
       "False"
      ]
     },
     "execution_count": 48,
     "metadata": {},
     "output_type": "execute_result"
    }
   ],
   "source": [
    "all([1, 2, 10230, 0]) # determines is any singel element is false"
   ]
  },
  {
   "cell_type": "code",
   "execution_count": 50,
   "id": "31c0b248-4068-4ce0-88f4-3e9872daa7d1",
   "metadata": {},
   "outputs": [],
   "source": [
    "def lucas():\n",
    "    yield 2\n",
    "    a = 2\n",
    "    b = 1\n",
    "    while True:\n",
    "        yield b\n",
    "        a, b = b, a+b"
   ]
  },
  {
   "cell_type": "code",
   "execution_count": 2,
   "id": "3435d8d9-fbea-404b-99e0-5ce71b13e856",
   "metadata": {},
   "outputs": [
    {
     "data": {
      "text/plain": [
       "['__doc__',\n",
       " '__loader__',\n",
       " '__name__',\n",
       " '__package__',\n",
       " '__spec__',\n",
       " '_grouper',\n",
       " '_tee',\n",
       " '_tee_dataobject',\n",
       " 'accumulate',\n",
       " 'chain',\n",
       " 'combinations',\n",
       " 'combinations_with_replacement',\n",
       " 'compress',\n",
       " 'count',\n",
       " 'cycle',\n",
       " 'dropwhile',\n",
       " 'filterfalse',\n",
       " 'groupby',\n",
       " 'islice',\n",
       " 'permutations',\n",
       " 'product',\n",
       " 'repeat',\n",
       " 'starmap',\n",
       " 'takewhile',\n",
       " 'tee',\n",
       " 'zip_longest']"
      ]
     },
     "execution_count": 2,
     "metadata": {},
     "output_type": "execute_result"
    }
   ],
   "source": [
    "import itertools\n",
    "dir(itertools)"
   ]
  },
  {
   "cell_type": "markdown",
   "id": "114b8bca-f6e5-491a-a92c-3c9384ff8a40",
   "metadata": {},
   "source": [
    "---\n",
    "## Classes\n",
    "\n",
    "Use classes when other, simpler techniques, fall short.  \n",
    "Classes define the structure and behaviour of an object. They are determined when an object is created and are fixed for the life/time of the object.  \n",
    "To do this, classes define the object's initial state, attributes and methods.\n",
    "Classes are essential for object-oriented programming in python.  \n",
    "Define a class with the `class` keyword followed by the class name in CamelCase.  \n",
    "\n",
    "An instance of a class is created when a class is caled, just like a function.  \n",
    "Instance methods are functions defined inside a class that must accept the `self` argument, and allow these functions to be called by the instance name reference with the `instance_name.method()` syntax.\n",
    "Here the instance_name is passed as the the `self` argument in the class method.\n",
    "\n",
    "Classes may have a `__init__()` method that can be used to configure the class when initializing new instances. This method is called by the class() contructor when present.  \n",
    "Arguments passed to the constructor are forwarded to the initializer.  \n",
    "Instance attributes are created simply by assigning to them. Attributes and methods that are implementation details are, by convention, prefixed with a `_`.  \n",
    "Access to these implementation details is useful during development for debugging.  \n",
    "Class invariants should be established in the initializer `__init__()`.  \n",
    "Even within an object, method calls must be preceded with the `self` keyword.\n",
    "\n",
    "Class inheritance is primarily useful for sharing implementation, and all methods are inherited, including special methods like the `__init__()`\n"
   ]
  },
  {
   "cell_type": "code",
   "execution_count": 5,
   "id": "16c9e721-0640-44da-9e8e-b3a4abffbd8f",
   "metadata": {},
   "outputs": [],
   "source": [
    "class MyClass:\n",
    "    b = 'class attr'\n",
    "\n",
    "    def __init__(self):\n",
    "        self.a = 'instance attr'\n",
    "        print(self.a)\n",
    "        print(MyClass.b)\n",
    "        print(self.b) # the class attribute b can be acessed via self. but cannot be assigned with self.\n",
    "        print(MyClass.a)\n"
   ]
  },
  {
   "cell_type": "markdown",
   "id": "8d6f8de3-8a4a-49db-a7df-cfc03e93385c",
   "metadata": {},
   "source": [
    "#### Following the Zen of Python: Complex is better than complicated \n",
    "Many moving parts. Combined in a clever box. Are now one good tool."
   ]
  },
  {
   "cell_type": "markdown",
   "id": "fe7bcd70-b3a5-4bb1-bd9b-6e504f23f39e",
   "metadata": {},
   "source": [
    "Tell! Don't Ask"
   ]
  },
  {
   "cell_type": "markdown",
   "id": "fef8eb27-9afe-490f-85b9-499336cd14ba",
   "metadata": {},
   "source": [
    "---\n",
    "## File and Resource Management\n",
    "\n",
    "Files are opened with `open()`, which accepts a file mode to determine how to interact with the file. It can define `read`, `write`, `append` behaviour, and wether the file must be treated as text data or binary data.  \n",
    "For text-mode files, an encoding can be specified. For example, `utf8`. Text-mode treats file data as strings and does the universal newline translation and encoding for us.  \n",
    "Binary mode works with the `bytes` type objects with no universal newline or encoding necessary.  \n",
    "\n",
    "Files should always be closed after use.  \n",
    "Files have many line-reading methods to assist us, and are also iterators, which yield new line on each iteration.  \n",
    "Files are context managers and the `with` statement can be used to perform clean up operations.  \n",
    "Context-managers are not restricted to file-like objects.\n"
   ]
  },
  {
   "cell_type": "code",
   "execution_count": 125,
   "id": "6511fb74-bbad-4579-95bd-f326de56fe05",
   "metadata": {},
   "outputs": [
    {
     "data": {
      "text/plain": [
       "'utf-8'"
      ]
     },
     "execution_count": 125,
     "metadata": {},
     "output_type": "execute_result"
    }
   ],
   "source": [
    "import sys\n",
    "sys.getdefaultencoding() # this is the default encoding on this system, but it may be different for other systems, whi which we may want to exchange files"
   ]
  },
  {
   "cell_type": "markdown",
   "id": "13cda9a4-9245-4a3b-85c0-4f34cd970d9c",
   "metadata": {},
   "source": [
    "File modes are identified by 'r', 'w', or 'a', for read, write and append. Followed by the 'b' or 't', binary or text mode."
   ]
  },
  {
   "cell_type": "code",
   "execution_count": 126,
   "id": "5b67376a-2e6d-4d43-9c94-3d0509a99530",
   "metadata": {},
   "outputs": [],
   "source": [
    "f = open('wasteland.txt', mode = 'wt', encoding='utf8') # encoding is not necessary to specify"
   ]
  },
  {
   "cell_type": "code",
   "execution_count": 127,
   "id": "7f2cdb57-4d54-4f9a-923e-054d864d908f",
   "metadata": {},
   "outputs": [
    {
     "data": {
      "text/plain": [
       "32"
      ]
     },
     "execution_count": 127,
     "metadata": {},
     "output_type": "execute_result"
    }
   ],
   "source": [
    "f.write('What are the roots that clutch, ') # returns number of characters written."
   ]
  },
  {
   "cell_type": "code",
   "execution_count": 128,
   "id": "6b39bf47-8ae1-4d6e-87e5-fe30f332e9ed",
   "metadata": {},
   "outputs": [
    {
     "data": {
      "text/plain": [
       "19"
      ]
     },
     "execution_count": 128,
     "metadata": {},
     "output_type": "execute_result"
    }
   ],
   "source": [
    "f.write('what branches grow\\n')"
   ]
  },
  {
   "cell_type": "code",
   "execution_count": 129,
   "id": "468479fe-cc00-407d-a744-2ef6fe26350c",
   "metadata": {},
   "outputs": [
    {
     "data": {
      "text/plain": [
       "27"
      ]
     },
     "execution_count": 129,
     "metadata": {},
     "output_type": "execute_result"
    }
   ],
   "source": [
    "f.write('Out of this stony rubbish? ')"
   ]
  },
  {
   "cell_type": "code",
   "execution_count": 130,
   "id": "76dd9b4d-9c33-47c2-907c-21b5fcaf3f2b",
   "metadata": {},
   "outputs": [],
   "source": [
    "f.close() # always close a file to make it available to other people"
   ]
  },
  {
   "cell_type": "code",
   "execution_count": 132,
   "id": "4e683357-c093-498f-9390-8cfde4611a98",
   "metadata": {},
   "outputs": [],
   "source": [
    "g = open('wasteland.txt', mode = 'rt')"
   ]
  },
  {
   "cell_type": "code",
   "execution_count": 133,
   "id": "6540e2d9-6e5c-45e5-bfc2-5f49a65a9cb1",
   "metadata": {},
   "outputs": [
    {
     "data": {
      "text/plain": [
       "'What are the roots that clutch, what branches grow\\nOut of this stony rubbish? '"
      ]
     },
     "execution_count": 133,
     "metadata": {},
     "output_type": "execute_result"
    }
   ],
   "source": [
    "g.read() # no argument reads the full file"
   ]
  },
  {
   "cell_type": "code",
   "execution_count": 135,
   "id": "6c27d2d1-ed1f-4b4e-af0f-ab3bf69795e5",
   "metadata": {},
   "outputs": [
    {
     "data": {
      "text/plain": [
       "''"
      ]
     },
     "execution_count": 135,
     "metadata": {},
     "output_type": "execute_result"
    }
   ],
   "source": [
    "g.read() # new read gives an empty string as the pointer is at the end of file"
   ]
  },
  {
   "cell_type": "code",
   "execution_count": 136,
   "id": "cce60e79-d807-4b5f-b0cf-a6e96ef65559",
   "metadata": {},
   "outputs": [
    {
     "data": {
      "text/plain": [
       "0"
      ]
     },
     "execution_count": 136,
     "metadata": {},
     "output_type": "execute_result"
    }
   ],
   "source": [
    "g.seek(0) # returns the pointer of the file to the begining"
   ]
  },
  {
   "cell_type": "code",
   "execution_count": 137,
   "id": "91fede43-c088-45d1-96c6-fbf6d783fbb3",
   "metadata": {},
   "outputs": [],
   "source": [
    "g.close()"
   ]
  },
  {
   "cell_type": "code",
   "execution_count": 142,
   "id": "8f43e848-8584-4e69-a636-9354742014f3",
   "metadata": {},
   "outputs": [],
   "source": [
    "import sys\n",
    "from itertools import count, islice\n",
    "\n",
    "def sequence():\n",
    "    \"\"\"Generate Recaman's seq\"\"\"\n",
    "    seen = set()\n",
    "    a = 0\n",
    "    for n in count(1):\n",
    "        yield a\n",
    "        seen.add(a)\n",
    "        c = a - n\n",
    "        if c < 0 or c in seen:\n",
    "            c = a + n\n",
    "        a = c\n",
    "\n",
    "\n",
    "def write_sequence(filename, num):\n",
    "    f = open(filename, mode='wt', encoding='utf8')\n",
    "    f.writelines(f\"{r}\\n\"\n",
    "                for r in islice(sequence(), num + 1))\n",
    "    f.close()"
   ]
  },
  {
   "cell_type": "code",
   "execution_count": 150,
   "id": "6707e170-5143-4bba-ad7c-40ad93d1c32c",
   "metadata": {},
   "outputs": [],
   "source": [
    "write_sequence('recaman.dat', 1000)"
   ]
  },
  {
   "cell_type": "code",
   "execution_count": 144,
   "id": "1e187a12-d538-44c3-9958-cbb6771a5e77",
   "metadata": {},
   "outputs": [],
   "source": [
    "def read_series(filename):\n",
    "    f = open(filename, mode='rt')\n",
    "    series = []\n",
    "    for line in f:\n",
    "        a = int(line.strip())\n",
    "        series.append(a)\n",
    "    f.close()\n",
    "    return series"
   ]
  },
  {
   "cell_type": "code",
   "execution_count": 151,
   "id": "a05b8702-d571-48de-b3c7-1f9557c9127e",
   "metadata": {
    "collapsed": true,
    "jupyter": {
     "outputs_hidden": true
    },
    "tags": []
   },
   "outputs": [
    {
     "data": {
      "text/plain": [
       "[0,\n",
       " 1,\n",
       " 3,\n",
       " 6,\n",
       " 2,\n",
       " 7,\n",
       " 13,\n",
       " 20,\n",
       " 12,\n",
       " 21,\n",
       " 11,\n",
       " 22,\n",
       " 10,\n",
       " 23,\n",
       " 9,\n",
       " 24,\n",
       " 8,\n",
       " 25,\n",
       " 43,\n",
       " 62,\n",
       " 42,\n",
       " 63,\n",
       " 41,\n",
       " 18,\n",
       " 42,\n",
       " 17,\n",
       " 43,\n",
       " 16,\n",
       " 44,\n",
       " 15,\n",
       " 45,\n",
       " 14,\n",
       " 46,\n",
       " 79,\n",
       " 113,\n",
       " 78,\n",
       " 114,\n",
       " 77,\n",
       " 39,\n",
       " 78,\n",
       " 38,\n",
       " 79,\n",
       " 37,\n",
       " 80,\n",
       " 36,\n",
       " 81,\n",
       " 35,\n",
       " 82,\n",
       " 34,\n",
       " 83,\n",
       " 33,\n",
       " 84,\n",
       " 32,\n",
       " 85,\n",
       " 31,\n",
       " 86,\n",
       " 30,\n",
       " 87,\n",
       " 29,\n",
       " 88,\n",
       " 28,\n",
       " 89,\n",
       " 27,\n",
       " 90,\n",
       " 26,\n",
       " 91,\n",
       " 157,\n",
       " 224,\n",
       " 156,\n",
       " 225,\n",
       " 155,\n",
       " 226,\n",
       " 154,\n",
       " 227,\n",
       " 153,\n",
       " 228,\n",
       " 152,\n",
       " 75,\n",
       " 153,\n",
       " 74,\n",
       " 154,\n",
       " 73,\n",
       " 155,\n",
       " 72,\n",
       " 156,\n",
       " 71,\n",
       " 157,\n",
       " 70,\n",
       " 158,\n",
       " 69,\n",
       " 159,\n",
       " 68,\n",
       " 160,\n",
       " 67,\n",
       " 161,\n",
       " 66,\n",
       " 162,\n",
       " 65,\n",
       " 163,\n",
       " 64,\n",
       " 164,\n",
       " 265,\n",
       " 367,\n",
       " 264,\n",
       " 368,\n",
       " 263,\n",
       " 369,\n",
       " 262,\n",
       " 370,\n",
       " 261,\n",
       " 151,\n",
       " 40,\n",
       " 152,\n",
       " 265,\n",
       " 379,\n",
       " 494,\n",
       " 378,\n",
       " 495,\n",
       " 377,\n",
       " 258,\n",
       " 138,\n",
       " 259,\n",
       " 137,\n",
       " 260,\n",
       " 136,\n",
       " 261,\n",
       " 135,\n",
       " 262,\n",
       " 134,\n",
       " 5,\n",
       " 135,\n",
       " 4,\n",
       " 136,\n",
       " 269,\n",
       " 403,\n",
       " 268,\n",
       " 132,\n",
       " 269,\n",
       " 131,\n",
       " 270,\n",
       " 130,\n",
       " 271,\n",
       " 129,\n",
       " 272,\n",
       " 128,\n",
       " 273,\n",
       " 127,\n",
       " 274,\n",
       " 126,\n",
       " 275,\n",
       " 125,\n",
       " 276,\n",
       " 124,\n",
       " 277,\n",
       " 123,\n",
       " 278,\n",
       " 122,\n",
       " 279,\n",
       " 121,\n",
       " 280,\n",
       " 120,\n",
       " 281,\n",
       " 119,\n",
       " 282,\n",
       " 118,\n",
       " 283,\n",
       " 117,\n",
       " 284,\n",
       " 116,\n",
       " 285,\n",
       " 115,\n",
       " 286,\n",
       " 458,\n",
       " 631,\n",
       " 457,\n",
       " 632,\n",
       " 456,\n",
       " 633,\n",
       " 455,\n",
       " 634,\n",
       " 454,\n",
       " 635,\n",
       " 453,\n",
       " 636,\n",
       " 452,\n",
       " 267,\n",
       " 453,\n",
       " 266,\n",
       " 454,\n",
       " 643,\n",
       " 833,\n",
       " 642,\n",
       " 450,\n",
       " 257,\n",
       " 451,\n",
       " 256,\n",
       " 60,\n",
       " 257,\n",
       " 59,\n",
       " 258,\n",
       " 58,\n",
       " 259,\n",
       " 57,\n",
       " 260,\n",
       " 56,\n",
       " 261,\n",
       " 55,\n",
       " 262,\n",
       " 54,\n",
       " 263,\n",
       " 53,\n",
       " 264,\n",
       " 52,\n",
       " 265,\n",
       " 51,\n",
       " 266,\n",
       " 50,\n",
       " 267,\n",
       " 49,\n",
       " 268,\n",
       " 48,\n",
       " 269,\n",
       " 47,\n",
       " 270,\n",
       " 494,\n",
       " 719,\n",
       " 493,\n",
       " 720,\n",
       " 492,\n",
       " 721,\n",
       " 491,\n",
       " 722,\n",
       " 490,\n",
       " 723,\n",
       " 489,\n",
       " 254,\n",
       " 490,\n",
       " 253,\n",
       " 491,\n",
       " 252,\n",
       " 492,\n",
       " 251,\n",
       " 493,\n",
       " 250,\n",
       " 494,\n",
       " 249,\n",
       " 495,\n",
       " 248,\n",
       " 496,\n",
       " 247,\n",
       " 497,\n",
       " 246,\n",
       " 498,\n",
       " 245,\n",
       " 499,\n",
       " 244,\n",
       " 500,\n",
       " 243,\n",
       " 501,\n",
       " 242,\n",
       " 502,\n",
       " 241,\n",
       " 503,\n",
       " 240,\n",
       " 504,\n",
       " 239,\n",
       " 505,\n",
       " 238,\n",
       " 506,\n",
       " 237,\n",
       " 507,\n",
       " 236,\n",
       " 508,\n",
       " 235,\n",
       " 509,\n",
       " 234,\n",
       " 510,\n",
       " 233,\n",
       " 511,\n",
       " 232,\n",
       " 512,\n",
       " 231,\n",
       " 513,\n",
       " 230,\n",
       " 514,\n",
       " 229,\n",
       " 515,\n",
       " 802,\n",
       " 1090,\n",
       " 801,\n",
       " 1091,\n",
       " 800,\n",
       " 1092,\n",
       " 799,\n",
       " 1093,\n",
       " 798,\n",
       " 1094,\n",
       " 797,\n",
       " 1095,\n",
       " 796,\n",
       " 1096,\n",
       " 795,\n",
       " 1097,\n",
       " 794,\n",
       " 1098,\n",
       " 793,\n",
       " 487,\n",
       " 180,\n",
       " 488,\n",
       " 179,\n",
       " 489,\n",
       " 178,\n",
       " 490,\n",
       " 177,\n",
       " 491,\n",
       " 176,\n",
       " 492,\n",
       " 175,\n",
       " 493,\n",
       " 174,\n",
       " 494,\n",
       " 173,\n",
       " 495,\n",
       " 172,\n",
       " 496,\n",
       " 171,\n",
       " 497,\n",
       " 170,\n",
       " 498,\n",
       " 169,\n",
       " 499,\n",
       " 168,\n",
       " 500,\n",
       " 167,\n",
       " 501,\n",
       " 166,\n",
       " 502,\n",
       " 165,\n",
       " 503,\n",
       " 842,\n",
       " 1182,\n",
       " 841,\n",
       " 1183,\n",
       " 840,\n",
       " 1184,\n",
       " 839,\n",
       " 1185,\n",
       " 838,\n",
       " 1186,\n",
       " 837,\n",
       " 1187,\n",
       " 836,\n",
       " 484,\n",
       " 837,\n",
       " 483,\n",
       " 838,\n",
       " 482,\n",
       " 839,\n",
       " 481,\n",
       " 840,\n",
       " 480,\n",
       " 841,\n",
       " 479,\n",
       " 842,\n",
       " 478,\n",
       " 843,\n",
       " 477,\n",
       " 110,\n",
       " 478,\n",
       " 109,\n",
       " 479,\n",
       " 108,\n",
       " 480,\n",
       " 107,\n",
       " 481,\n",
       " 106,\n",
       " 482,\n",
       " 105,\n",
       " 483,\n",
       " 104,\n",
       " 484,\n",
       " 103,\n",
       " 485,\n",
       " 102,\n",
       " 486,\n",
       " 101,\n",
       " 487,\n",
       " 100,\n",
       " 488,\n",
       " 99,\n",
       " 489,\n",
       " 98,\n",
       " 490,\n",
       " 97,\n",
       " 491,\n",
       " 96,\n",
       " 492,\n",
       " 95,\n",
       " 493,\n",
       " 94,\n",
       " 494,\n",
       " 93,\n",
       " 495,\n",
       " 92,\n",
       " 496,\n",
       " 901,\n",
       " 1307,\n",
       " 900,\n",
       " 1308,\n",
       " 899,\n",
       " 1309,\n",
       " 898,\n",
       " 1310,\n",
       " 897,\n",
       " 1311,\n",
       " 896,\n",
       " 1312,\n",
       " 895,\n",
       " 1313,\n",
       " 894,\n",
       " 474,\n",
       " 895,\n",
       " 473,\n",
       " 896,\n",
       " 472,\n",
       " 897,\n",
       " 471,\n",
       " 898,\n",
       " 470,\n",
       " 899,\n",
       " 469,\n",
       " 900,\n",
       " 468,\n",
       " 901,\n",
       " 467,\n",
       " 902,\n",
       " 466,\n",
       " 903,\n",
       " 465,\n",
       " 904,\n",
       " 464,\n",
       " 905,\n",
       " 463,\n",
       " 906,\n",
       " 462,\n",
       " 907,\n",
       " 461,\n",
       " 908,\n",
       " 460,\n",
       " 909,\n",
       " 459,\n",
       " 910,\n",
       " 1362,\n",
       " 1815,\n",
       " 1361,\n",
       " 1816,\n",
       " 1360,\n",
       " 1817,\n",
       " 1359,\n",
       " 1818,\n",
       " 1358,\n",
       " 1819,\n",
       " 1357,\n",
       " 1820,\n",
       " 1356,\n",
       " 891,\n",
       " 425,\n",
       " 892,\n",
       " 424,\n",
       " 893,\n",
       " 423,\n",
       " 894,\n",
       " 422,\n",
       " 895,\n",
       " 421,\n",
       " 896,\n",
       " 420,\n",
       " 897,\n",
       " 419,\n",
       " 898,\n",
       " 418,\n",
       " 899,\n",
       " 417,\n",
       " 900,\n",
       " 416,\n",
       " 901,\n",
       " 415,\n",
       " 902,\n",
       " 414,\n",
       " 903,\n",
       " 413,\n",
       " 904,\n",
       " 412,\n",
       " 905,\n",
       " 411,\n",
       " 906,\n",
       " 410,\n",
       " 907,\n",
       " 409,\n",
       " 908,\n",
       " 408,\n",
       " 909,\n",
       " 407,\n",
       " 910,\n",
       " 406,\n",
       " 911,\n",
       " 405,\n",
       " 912,\n",
       " 404,\n",
       " 913,\n",
       " 1423,\n",
       " 1934,\n",
       " 1422,\n",
       " 1935,\n",
       " 1421,\n",
       " 1936,\n",
       " 1420,\n",
       " 1937,\n",
       " 1419,\n",
       " 1938,\n",
       " 1418,\n",
       " 1939,\n",
       " 1417,\n",
       " 1940,\n",
       " 1416,\n",
       " 1941,\n",
       " 1415,\n",
       " 888,\n",
       " 360,\n",
       " 889,\n",
       " 359,\n",
       " 890,\n",
       " 358,\n",
       " 891,\n",
       " 357,\n",
       " 892,\n",
       " 356,\n",
       " 893,\n",
       " 355,\n",
       " 894,\n",
       " 354,\n",
       " 895,\n",
       " 353,\n",
       " 896,\n",
       " 352,\n",
       " 897,\n",
       " 351,\n",
       " 898,\n",
       " 350,\n",
       " 899,\n",
       " 349,\n",
       " 900,\n",
       " 348,\n",
       " 901,\n",
       " 347,\n",
       " 902,\n",
       " 346,\n",
       " 903,\n",
       " 345,\n",
       " 904,\n",
       " 344,\n",
       " 905,\n",
       " 343,\n",
       " 906,\n",
       " 342,\n",
       " 907,\n",
       " 341,\n",
       " 908,\n",
       " 340,\n",
       " 909,\n",
       " 339,\n",
       " 910,\n",
       " 338,\n",
       " 911,\n",
       " 337,\n",
       " 912,\n",
       " 336,\n",
       " 913,\n",
       " 335,\n",
       " 914,\n",
       " 334,\n",
       " 915,\n",
       " 333,\n",
       " 916,\n",
       " 332,\n",
       " 917,\n",
       " 331,\n",
       " 918,\n",
       " 330,\n",
       " 919,\n",
       " 329,\n",
       " 920,\n",
       " 328,\n",
       " 921,\n",
       " 327,\n",
       " 922,\n",
       " 326,\n",
       " 923,\n",
       " 325,\n",
       " 924,\n",
       " 324,\n",
       " 925,\n",
       " 323,\n",
       " 926,\n",
       " 322,\n",
       " 927,\n",
       " 321,\n",
       " 928,\n",
       " 320,\n",
       " 929,\n",
       " 319,\n",
       " 930,\n",
       " 318,\n",
       " 931,\n",
       " 317,\n",
       " 932,\n",
       " 316,\n",
       " 933,\n",
       " 315,\n",
       " 934,\n",
       " 314,\n",
       " 935,\n",
       " 313,\n",
       " 936,\n",
       " 312,\n",
       " 937,\n",
       " 311,\n",
       " 938,\n",
       " 310,\n",
       " 939,\n",
       " 309,\n",
       " 940,\n",
       " 308,\n",
       " 941,\n",
       " 307,\n",
       " 942,\n",
       " 306,\n",
       " 943,\n",
       " 305,\n",
       " 944,\n",
       " 304,\n",
       " 945,\n",
       " 303,\n",
       " 946,\n",
       " 302,\n",
       " 947,\n",
       " 301,\n",
       " 948,\n",
       " 300,\n",
       " 949,\n",
       " 299,\n",
       " 950,\n",
       " 298,\n",
       " 951,\n",
       " 297,\n",
       " 952,\n",
       " 296,\n",
       " 953,\n",
       " 295,\n",
       " 954,\n",
       " 294,\n",
       " 955,\n",
       " 293,\n",
       " 956,\n",
       " 292,\n",
       " 957,\n",
       " 291,\n",
       " 958,\n",
       " 290,\n",
       " 959,\n",
       " 289,\n",
       " 960,\n",
       " 288,\n",
       " 961,\n",
       " 287,\n",
       " 962,\n",
       " 1638,\n",
       " 2315,\n",
       " 1637,\n",
       " 2316,\n",
       " 1636,\n",
       " 2317,\n",
       " 1635,\n",
       " 2318,\n",
       " 1634,\n",
       " 2319,\n",
       " 1633,\n",
       " 2320,\n",
       " 1632,\n",
       " 2321,\n",
       " 1631,\n",
       " 2322,\n",
       " 1630,\n",
       " 2323,\n",
       " 1629,\n",
       " 2324,\n",
       " 1628,\n",
       " 2325,\n",
       " 1627,\n",
       " 2326,\n",
       " 1626,\n",
       " 2327,\n",
       " 1625,\n",
       " 2328,\n",
       " 1624,\n",
       " 2329,\n",
       " 1623,\n",
       " 2330,\n",
       " 1622,\n",
       " 2331,\n",
       " 1621,\n",
       " 2332,\n",
       " 1620,\n",
       " 2333,\n",
       " 1619,\n",
       " 2334,\n",
       " 1618,\n",
       " 2335,\n",
       " 1617,\n",
       " 2336,\n",
       " 1616,\n",
       " 2337,\n",
       " 1615,\n",
       " 2338,\n",
       " 1614,\n",
       " 2339,\n",
       " 1613,\n",
       " 886,\n",
       " 1614,\n",
       " 885,\n",
       " 1615,\n",
       " 884,\n",
       " 1616,\n",
       " 883,\n",
       " 149,\n",
       " 884,\n",
       " 148,\n",
       " 885,\n",
       " 147,\n",
       " 886,\n",
       " 146,\n",
       " 887,\n",
       " 145,\n",
       " 888,\n",
       " 144,\n",
       " 889,\n",
       " 143,\n",
       " 890,\n",
       " 142,\n",
       " 891,\n",
       " 141,\n",
       " 892,\n",
       " 140,\n",
       " 893,\n",
       " 139,\n",
       " 894,\n",
       " 1650,\n",
       " 2407,\n",
       " 1649,\n",
       " 2408,\n",
       " 1648,\n",
       " 2409,\n",
       " 1647,\n",
       " 2410,\n",
       " 1646,\n",
       " 881,\n",
       " 1647,\n",
       " 880,\n",
       " 112,\n",
       " 881,\n",
       " 111,\n",
       " 882,\n",
       " 1654,\n",
       " 2427,\n",
       " 1653,\n",
       " 878,\n",
       " 1654,\n",
       " 877,\n",
       " 1655,\n",
       " 876,\n",
       " 1656,\n",
       " 875,\n",
       " 1657,\n",
       " 874,\n",
       " 1658,\n",
       " 873,\n",
       " 1659,\n",
       " 872,\n",
       " 1660,\n",
       " 871,\n",
       " 1661,\n",
       " 870,\n",
       " 1662,\n",
       " 869,\n",
       " 1663,\n",
       " 868,\n",
       " 1664,\n",
       " 867,\n",
       " 1665,\n",
       " 866,\n",
       " 1666,\n",
       " 865,\n",
       " 1667,\n",
       " 864,\n",
       " 1668,\n",
       " 863,\n",
       " 1669,\n",
       " 862,\n",
       " 1670,\n",
       " 861,\n",
       " 1671,\n",
       " 860,\n",
       " 1672,\n",
       " 859,\n",
       " 1673,\n",
       " 858,\n",
       " 1674,\n",
       " 857,\n",
       " 1675,\n",
       " 856,\n",
       " 1676,\n",
       " 855,\n",
       " 1677,\n",
       " 854,\n",
       " 1678,\n",
       " 853,\n",
       " 1679,\n",
       " 852,\n",
       " 1680,\n",
       " 851,\n",
       " 1681,\n",
       " 850,\n",
       " 1682,\n",
       " 849,\n",
       " 1683,\n",
       " 848,\n",
       " 1684,\n",
       " 847,\n",
       " 1685,\n",
       " 846,\n",
       " 1686,\n",
       " 845,\n",
       " 1687,\n",
       " 844,\n",
       " 1688,\n",
       " 2533,\n",
       " 3379,\n",
       " 2532,\n",
       " 3380,\n",
       " 2531,\n",
       " 3381,\n",
       " 2530,\n",
       " 3382,\n",
       " 2529,\n",
       " 3383,\n",
       " 2528,\n",
       " 3384,\n",
       " 2527,\n",
       " 3385,\n",
       " 2526,\n",
       " 3386,\n",
       " 2525,\n",
       " 3387,\n",
       " 2524,\n",
       " 3388,\n",
       " 2523,\n",
       " 3389,\n",
       " 2522,\n",
       " 3390,\n",
       " 2521,\n",
       " 1651,\n",
       " 780,\n",
       " 1652,\n",
       " 779,\n",
       " 1653,\n",
       " 778,\n",
       " 1654,\n",
       " 777,\n",
       " 1655,\n",
       " 776,\n",
       " 1656,\n",
       " 775,\n",
       " 1657,\n",
       " 774,\n",
       " 1658,\n",
       " 773,\n",
       " 1659,\n",
       " 772,\n",
       " 1660,\n",
       " 771,\n",
       " 1661,\n",
       " 770,\n",
       " 1662,\n",
       " 769,\n",
       " 1663,\n",
       " 768,\n",
       " 1664,\n",
       " 767,\n",
       " 1665,\n",
       " 766,\n",
       " 1666,\n",
       " 765,\n",
       " 1667,\n",
       " 764,\n",
       " 1668,\n",
       " 763,\n",
       " 1669,\n",
       " 762,\n",
       " 1670,\n",
       " 761,\n",
       " 1671,\n",
       " 760,\n",
       " 1672,\n",
       " 759,\n",
       " 1673,\n",
       " 758,\n",
       " 1674,\n",
       " 757,\n",
       " 1675,\n",
       " 756,\n",
       " 1676,\n",
       " 755,\n",
       " 1677,\n",
       " 754,\n",
       " 1678,\n",
       " 753,\n",
       " 1679,\n",
       " 752,\n",
       " 1680,\n",
       " 751,\n",
       " 1681,\n",
       " 750,\n",
       " 1682,\n",
       " 749,\n",
       " 1683,\n",
       " 748,\n",
       " 1684,\n",
       " 747,\n",
       " 1685,\n",
       " 746,\n",
       " 1686,\n",
       " 745,\n",
       " 1687,\n",
       " 744,\n",
       " 1688,\n",
       " 743,\n",
       " 1689,\n",
       " 742,\n",
       " 1690,\n",
       " 741,\n",
       " 1691,\n",
       " 740,\n",
       " 1692,\n",
       " 739,\n",
       " 1693,\n",
       " 738,\n",
       " 1694,\n",
       " 737,\n",
       " 1695,\n",
       " 736,\n",
       " 1696,\n",
       " 735,\n",
       " 1697,\n",
       " 734,\n",
       " 1698,\n",
       " 733,\n",
       " 1699,\n",
       " 732,\n",
       " 1700,\n",
       " 731,\n",
       " 1701,\n",
       " 730,\n",
       " 1702,\n",
       " 729,\n",
       " 1703,\n",
       " 728,\n",
       " 1704,\n",
       " 727,\n",
       " 1705,\n",
       " 726,\n",
       " 1706,\n",
       " 725,\n",
       " 1707,\n",
       " 724,\n",
       " 1708,\n",
       " 2693,\n",
       " 3679,\n",
       " 2692,\n",
       " 3680,\n",
       " 2691,\n",
       " 3681,\n",
       " 2690,\n",
       " 3682,\n",
       " 2689,\n",
       " 3683,\n",
       " 2688,\n",
       " 3684,\n",
       " 2687,\n",
       " 3685,\n",
       " 2686,\n",
       " ...]"
      ]
     },
     "execution_count": 151,
     "metadata": {},
     "output_type": "execute_result"
    }
   ],
   "source": [
    "read_series('recaman.dat')"
   ]
  },
  {
   "cell_type": "markdown",
   "id": "f7fb11fc-6b21-4d23-9ba7-2e2f425d73d6",
   "metadata": {},
   "source": [
    "Now, we apply the `with` block to improve on the code, as well as add comprehensions to reduce the number of lines.  \n",
    "The `with` automatically closes the file for us."
   ]
  },
  {
   "cell_type": "code",
   "execution_count": 148,
   "id": "6e0e1a12-f9a8-40b0-a86f-c8987743558d",
   "metadata": {},
   "outputs": [],
   "source": [
    "def read_series(filename):\n",
    "    with open(filename, mode='rt') as f:\n",
    "        return [int(line.strip()) for line in f]"
   ]
  },
  {
   "cell_type": "code",
   "execution_count": 149,
   "id": "e35e1ea2-8863-458a-8acc-12c93997e81e",
   "metadata": {},
   "outputs": [],
   "source": [
    "def write_sequence(filename, num):\n",
    "    with open(filename, mode='wt') as f:\n",
    "        f.writelines(f\"{r}\\n\"\n",
    "                     for r in islice(sequence(), num + 1))"
   ]
  },
  {
   "cell_type": "markdown",
   "id": "e2534678-bee3-458f-ba04-81538588dbb1",
   "metadata": {},
   "source": [
    "These two perform the same as the previous functions but in a much cleaner way"
   ]
  },
  {
   "cell_type": "markdown",
   "id": "1868613d-7a18-41a4-9d22-a7e0421e7ae1",
   "metadata": {},
   "source": [
    "### Raiding the refrigerator!\n",
    "\n",
    "this example shows how context managers can be used on other objets aside from file like objects, such as a class"
   ]
  },
  {
   "cell_type": "code",
   "execution_count": 169,
   "id": "0b81167d-72ab-4227-9558-0bf9663e4042",
   "metadata": {},
   "outputs": [],
   "source": [
    "class RefrigeratorRaider:\n",
    "    \"\"\"Raid a refrigerator, careful with the pizza!!!\"\"\"\n",
    "    \n",
    "    \n",
    "    def open(self):\n",
    "        print(\"Open the fridge door.\")\n",
    "\n",
    "\n",
    "    def take(self, food):\n",
    "        print(f\"Finding {food}...\")\n",
    "        if food == \"pizza\":\n",
    "            raise RuntimeError (\"Health Warning!! Pizza is bad for you.\")\n",
    "        print(f\"{food.capitalize()} aquired!\")\n",
    "\n",
    "\n",
    "    def close(self):\n",
    "        print(\"Close fridge door.\")\n",
    "\n",
    "        \n",
    "        \n",
    "def raid(food):\n",
    "    r = RefrigeratorRaider()\n",
    "    r.open()\n",
    "    r.take(food)\n",
    "    r.close()"
   ]
  },
  {
   "cell_type": "code",
   "execution_count": 164,
   "id": "ce0d5a35-e5f3-4d2d-a848-1955cb70e871",
   "metadata": {},
   "outputs": [
    {
     "name": "stdout",
     "output_type": "stream",
     "text": [
      "Open the fridge door.\n",
      "Finding orange...\n",
      "Orange aquired!\n",
      "Close fridge door.\n"
     ]
    }
   ],
   "source": [
    "raid('orange')"
   ]
  },
  {
   "cell_type": "code",
   "execution_count": 166,
   "id": "9b41ccce-3fe7-4ef9-8e55-716e07456e51",
   "metadata": {},
   "outputs": [
    {
     "name": "stdout",
     "output_type": "stream",
     "text": [
      "Open the fridge door.\n",
      "Finding bacon...\n",
      "Bacon aquired!\n",
      "Close fridge door.\n"
     ]
    }
   ],
   "source": [
    "raid('bacon')"
   ]
  },
  {
   "cell_type": "code",
   "execution_count": 170,
   "id": "a42f74f5-35bc-4402-beed-3110b6854634",
   "metadata": {},
   "outputs": [
    {
     "name": "stdout",
     "output_type": "stream",
     "text": [
      "Open the fridge door.\n",
      "Finding pizza...\n"
     ]
    },
    {
     "ename": "RuntimeError",
     "evalue": "Health Warning!! Pizza is bad for you.",
     "output_type": "error",
     "traceback": [
      "\u001b[1;31m---------------------------------------------------------------------------\u001b[0m",
      "\u001b[1;31mRuntimeError\u001b[0m                              Traceback (most recent call last)",
      "\u001b[1;32m<ipython-input-170-a5dee4da8654>\u001b[0m in \u001b[0;36m<module>\u001b[1;34m\u001b[0m\n\u001b[1;32m----> 1\u001b[1;33m \u001b[0mraid\u001b[0m\u001b[1;33m(\u001b[0m\u001b[1;34m'pizza'\u001b[0m\u001b[1;33m)\u001b[0m\u001b[1;33m\u001b[0m\u001b[1;33m\u001b[0m\u001b[0m\n\u001b[0m",
      "\u001b[1;32m<ipython-input-169-d00c0c5402dd>\u001b[0m in \u001b[0;36mraid\u001b[1;34m(food)\u001b[0m\n\u001b[0;32m     22\u001b[0m     \u001b[0mr\u001b[0m \u001b[1;33m=\u001b[0m \u001b[0mRefrigeratorRaider\u001b[0m\u001b[1;33m(\u001b[0m\u001b[1;33m)\u001b[0m\u001b[1;33m\u001b[0m\u001b[1;33m\u001b[0m\u001b[0m\n\u001b[0;32m     23\u001b[0m     \u001b[0mr\u001b[0m\u001b[1;33m.\u001b[0m\u001b[0mopen\u001b[0m\u001b[1;33m(\u001b[0m\u001b[1;33m)\u001b[0m\u001b[1;33m\u001b[0m\u001b[1;33m\u001b[0m\u001b[0m\n\u001b[1;32m---> 24\u001b[1;33m     \u001b[0mr\u001b[0m\u001b[1;33m.\u001b[0m\u001b[0mtake\u001b[0m\u001b[1;33m(\u001b[0m\u001b[0mfood\u001b[0m\u001b[1;33m)\u001b[0m\u001b[1;33m\u001b[0m\u001b[1;33m\u001b[0m\u001b[0m\n\u001b[0m\u001b[0;32m     25\u001b[0m     \u001b[0mr\u001b[0m\u001b[1;33m.\u001b[0m\u001b[0mclose\u001b[0m\u001b[1;33m(\u001b[0m\u001b[1;33m)\u001b[0m\u001b[1;33m\u001b[0m\u001b[1;33m\u001b[0m\u001b[0m\n",
      "\u001b[1;32m<ipython-input-169-d00c0c5402dd>\u001b[0m in \u001b[0;36mtake\u001b[1;34m(self, food)\u001b[0m\n\u001b[0;32m     10\u001b[0m         \u001b[0mprint\u001b[0m\u001b[1;33m(\u001b[0m\u001b[1;34mf\"Finding {food}...\"\u001b[0m\u001b[1;33m)\u001b[0m\u001b[1;33m\u001b[0m\u001b[1;33m\u001b[0m\u001b[0m\n\u001b[0;32m     11\u001b[0m         \u001b[1;32mif\u001b[0m \u001b[0mfood\u001b[0m \u001b[1;33m==\u001b[0m \u001b[1;34m\"pizza\"\u001b[0m\u001b[1;33m:\u001b[0m\u001b[1;33m\u001b[0m\u001b[1;33m\u001b[0m\u001b[0m\n\u001b[1;32m---> 12\u001b[1;33m             \u001b[1;32mraise\u001b[0m \u001b[0mRuntimeError\u001b[0m \u001b[1;33m(\u001b[0m\u001b[1;34m\"Health Warning!! Pizza is bad for you.\"\u001b[0m\u001b[1;33m)\u001b[0m\u001b[1;33m\u001b[0m\u001b[1;33m\u001b[0m\u001b[0m\n\u001b[0m\u001b[0;32m     13\u001b[0m         \u001b[0mprint\u001b[0m\u001b[1;33m(\u001b[0m\u001b[1;34mf\"{food.capitalize()} aquired!\"\u001b[0m\u001b[1;33m)\u001b[0m\u001b[1;33m\u001b[0m\u001b[1;33m\u001b[0m\u001b[0m\n\u001b[0;32m     14\u001b[0m \u001b[1;33m\u001b[0m\u001b[0m\n",
      "\u001b[1;31mRuntimeError\u001b[0m: Health Warning!! Pizza is bad for you."
     ]
    }
   ],
   "source": [
    "raid('pizza')"
   ]
  },
  {
   "cell_type": "markdown",
   "id": "40777948-243d-4322-91aa-7f94688fa8bd",
   "metadata": {},
   "source": [
    "Notice how the raising of an exception prevented the function from closing the fridge door, this can't be!"
   ]
  },
  {
   "cell_type": "code",
   "execution_count": 177,
   "id": "034b1f94-2d9c-4da8-b7a2-e02b7dbf3778",
   "metadata": {},
   "outputs": [],
   "source": [
    "from contextlib import closing\n",
    "\n",
    "def improvedRaid(food):\n",
    "    with closing(RefrigeratorRaider()) as r:\n",
    "        r.open()\n",
    "        r.take(food)\n",
    "        # r.close(), don't need to call close anymore, as the context manager does it for us"
   ]
  },
  {
   "cell_type": "code",
   "execution_count": 178,
   "id": "59f6c01b-c8be-4669-8519-d0b60cae32d6",
   "metadata": {},
   "outputs": [
    {
     "name": "stdout",
     "output_type": "stream",
     "text": [
      "Open the fridge door.\n",
      "Finding orange...\n",
      "Orange aquired!\n",
      "Close fridge door.\n"
     ]
    }
   ],
   "source": [
    "improvedRaid('orange')"
   ]
  },
  {
   "cell_type": "code",
   "execution_count": 179,
   "id": "0f27789e-bba7-48f0-b168-4ccc0f250688",
   "metadata": {},
   "outputs": [
    {
     "name": "stdout",
     "output_type": "stream",
     "text": [
      "Open the fridge door.\n",
      "Finding bacon...\n",
      "Bacon aquired!\n",
      "Close fridge door.\n"
     ]
    }
   ],
   "source": [
    "improvedRaid('bacon')"
   ]
  },
  {
   "cell_type": "code",
   "execution_count": 180,
   "id": "d3ed333a-6b03-4c43-83ae-06d6f36cc6ea",
   "metadata": {},
   "outputs": [
    {
     "name": "stdout",
     "output_type": "stream",
     "text": [
      "Open the fridge door.\n",
      "Finding pizza...\n",
      "Close fridge door.\n"
     ]
    },
    {
     "ename": "RuntimeError",
     "evalue": "Health Warning!! Pizza is bad for you.",
     "output_type": "error",
     "traceback": [
      "\u001b[1;31m---------------------------------------------------------------------------\u001b[0m",
      "\u001b[1;31mRuntimeError\u001b[0m                              Traceback (most recent call last)",
      "\u001b[1;32m<ipython-input-180-22ec3bd0438f>\u001b[0m in \u001b[0;36m<module>\u001b[1;34m\u001b[0m\n\u001b[1;32m----> 1\u001b[1;33m \u001b[0mimprovedRaid\u001b[0m\u001b[1;33m(\u001b[0m\u001b[1;34m'pizza'\u001b[0m\u001b[1;33m)\u001b[0m\u001b[1;33m\u001b[0m\u001b[1;33m\u001b[0m\u001b[0m\n\u001b[0m",
      "\u001b[1;32m<ipython-input-177-401bdcb66c82>\u001b[0m in \u001b[0;36mimprovedRaid\u001b[1;34m(food)\u001b[0m\n\u001b[0;32m      4\u001b[0m     \u001b[1;32mwith\u001b[0m \u001b[0mclosing\u001b[0m\u001b[1;33m(\u001b[0m\u001b[0mRefrigeratorRaider\u001b[0m\u001b[1;33m(\u001b[0m\u001b[1;33m)\u001b[0m\u001b[1;33m)\u001b[0m \u001b[1;32mas\u001b[0m \u001b[0mr\u001b[0m\u001b[1;33m:\u001b[0m\u001b[1;33m\u001b[0m\u001b[1;33m\u001b[0m\u001b[0m\n\u001b[0;32m      5\u001b[0m         \u001b[0mr\u001b[0m\u001b[1;33m.\u001b[0m\u001b[0mopen\u001b[0m\u001b[1;33m(\u001b[0m\u001b[1;33m)\u001b[0m\u001b[1;33m\u001b[0m\u001b[1;33m\u001b[0m\u001b[0m\n\u001b[1;32m----> 6\u001b[1;33m         \u001b[0mr\u001b[0m\u001b[1;33m.\u001b[0m\u001b[0mtake\u001b[0m\u001b[1;33m(\u001b[0m\u001b[0mfood\u001b[0m\u001b[1;33m)\u001b[0m\u001b[1;33m\u001b[0m\u001b[1;33m\u001b[0m\u001b[0m\n\u001b[0m\u001b[0;32m      7\u001b[0m         \u001b[1;31m# r.close(), don't need to call close anymore, as the context manager does it for us\u001b[0m\u001b[1;33m\u001b[0m\u001b[1;33m\u001b[0m\u001b[1;33m\u001b[0m\u001b[0m\n",
      "\u001b[1;32m<ipython-input-169-d00c0c5402dd>\u001b[0m in \u001b[0;36mtake\u001b[1;34m(self, food)\u001b[0m\n\u001b[0;32m     10\u001b[0m         \u001b[0mprint\u001b[0m\u001b[1;33m(\u001b[0m\u001b[1;34mf\"Finding {food}...\"\u001b[0m\u001b[1;33m)\u001b[0m\u001b[1;33m\u001b[0m\u001b[1;33m\u001b[0m\u001b[0m\n\u001b[0;32m     11\u001b[0m         \u001b[1;32mif\u001b[0m \u001b[0mfood\u001b[0m \u001b[1;33m==\u001b[0m \u001b[1;34m\"pizza\"\u001b[0m\u001b[1;33m:\u001b[0m\u001b[1;33m\u001b[0m\u001b[1;33m\u001b[0m\u001b[0m\n\u001b[1;32m---> 12\u001b[1;33m             \u001b[1;32mraise\u001b[0m \u001b[0mRuntimeError\u001b[0m \u001b[1;33m(\u001b[0m\u001b[1;34m\"Health Warning!! Pizza is bad for you.\"\u001b[0m\u001b[1;33m)\u001b[0m\u001b[1;33m\u001b[0m\u001b[1;33m\u001b[0m\u001b[0m\n\u001b[0m\u001b[0;32m     13\u001b[0m         \u001b[0mprint\u001b[0m\u001b[1;33m(\u001b[0m\u001b[1;34mf\"{food.capitalize()} aquired!\"\u001b[0m\u001b[1;33m)\u001b[0m\u001b[1;33m\u001b[0m\u001b[1;33m\u001b[0m\u001b[0m\n\u001b[0;32m     14\u001b[0m \u001b[1;33m\u001b[0m\u001b[0m\n",
      "\u001b[1;31mRuntimeError\u001b[0m: Health Warning!! Pizza is bad for you."
     ]
    }
   ],
   "source": [
    "improvedRaid('pizza')"
   ]
  },
  {
   "cell_type": "markdown",
   "id": "959f69a6-541e-4275-ba76-ed791cd8ca58",
   "metadata": {},
   "source": [
    "Now the `.close()` method is caled, and even though this is not a file like object, it works!"
   ]
  }
 ],
 "metadata": {
  "kernelspec": {
   "display_name": "Python 3 (ipykernel)",
   "language": "python",
   "name": "python3"
  },
  "language_info": {
   "codemirror_mode": {
    "name": "ipython",
    "version": 3
   },
   "file_extension": ".py",
   "mimetype": "text/x-python",
   "name": "python",
   "nbconvert_exporter": "python",
   "pygments_lexer": "ipython3",
   "version": "3.10.5"
  }
 },
 "nbformat": 4,
 "nbformat_minor": 5
}
